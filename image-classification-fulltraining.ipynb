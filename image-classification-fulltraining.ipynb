{
 "cells": [
  {
   "cell_type": "markdown",
   "metadata": {},
   "source": [
    "# End-to-End Multiclass Image Classification Example\n",
    "\n",
    "1. [Introduction](#Introduction)\n",
    "2. [Prerequisites and Preprocessing](#Prequisites-and-Preprocessing)\n",
    "  1. [Permissions and environment variables](#Permissions-and-environment-variables)\n",
    "3. [Training the ResNet model](#Training-the-ResNet-model)\n",
    "4. [Set up hosting for the model](#Set-up-hosting-for-the-model)\n",
    "  1. [Import model into hosting](#Import-model-into-hosting)\n",
    "  2. [Create endpoint configuration](#Create-endpoint-configuration)\n",
    "  3. [Create endpoint](#Create-endpoint)\n",
    "5. [Validate the model for use](#Validate-the-model-for-use)\n"
   ]
  },
  {
   "cell_type": "markdown",
   "metadata": {},
   "source": [
    "## Introduction\n",
    "\n",
    "Welcome to our end-to-end example of distributed image classification algorithm. In this demo, we will use the Amazon sagemaker image classification algorithm to train on the [caltech-256 dataset](http://www.vision.caltech.edu/Image_Datasets/Caltech256/). \n",
    "\n",
    "To get started, we need to set up the environment with a few prerequisite steps, for permissions, configurations, and so on."
   ]
  },
  {
   "cell_type": "markdown",
   "metadata": {},
   "source": [
    "## Prequisites and Preprocessing\n",
    "\n",
    "### Permissions and environment variables\n",
    "\n",
    "Here we set up the linkage and authentication to AWS services. There are three parts to this:\n",
    "\n",
    "* The roles used to give learning and hosting access to your data. This will automatically be obtained from the role used to start the notebook\n",
    "* The S3 bucket that you want to use for training and model data\n",
    "* The Amazon sagemaker image classification docker image which need not be changed"
   ]
  },
  {
   "cell_type": "code",
   "execution_count": 1,
   "metadata": {},
   "outputs": [
    {
     "name": "stdout",
     "output_type": "stream",
     "text": [
      "CPU times: user 578 ms, sys: 106 ms, total: 684 ms\n",
      "Wall time: 737 ms\n"
     ]
    }
   ],
   "source": [
    "%%time\n",
    "import boto3\n",
    "import re\n",
    "from sagemaker import get_execution_role\n",
    "\n",
    "role = get_execution_role()\n",
    "\n",
    "bucket='kevinshs-img-dataset' # customize to your bucket\n",
    "containers = {'ap-northeast-1': '501404015308.dkr.ecr.ap-northeast-1.amazonaws.com/image-classification:latest',\n",
    "              'us-west-2': '433757028032.dkr.ecr.us-west-2.amazonaws.com/image-classification:latest',\n",
    "              'us-east-1': '811284229777.dkr.ecr.us-east-1.amazonaws.com/image-classification:latest',\n",
    "              'us-east-2': '825641698319.dkr.ecr.us-east-2.amazonaws.com/image-classification:latest',\n",
    "              'eu-west-1': '685385470294.dkr.ecr.eu-west-1.amazonaws.com/image-classification:latest'}\n",
    "training_image = containers[boto3.Session().region_name]"
   ]
  },
  {
   "cell_type": "markdown",
   "metadata": {},
   "source": [
    "### Data preparation\n",
    "Download the data and transfer to S3 for use in training."
   ]
  },
  {
   "cell_type": "code",
   "execution_count": 2,
   "metadata": {},
   "outputs": [],
   "source": [
    "import os \n",
    "import urllib.request\n",
    "import boto3\n",
    "\n",
    "def download(url):\n",
    "    filename = url.split(\"/\")[-1]\n",
    "    if not os.path.exists(filename):\n",
    "        urllib.request.urlretrieve(url, filename)\n",
    "\n",
    "        \n",
    "def upload_to_s3(channel, file):\n",
    "    s3 = boto3.resource('s3')\n",
    "    data = open(file, \"rb\")\n",
    "    key = channel + '/' + file\n",
    "    s3.Bucket(bucket).put_object(Key=key, Body=data)\n",
    "\n",
    "\n",
    "# caltech-256\n",
    "#download('http://data.mxnet.io/data/caltech-256/caltech-256-60-train.rec')\n",
    "upload_to_s3('train', 'caltech-256-60-train.rec')\n",
    "#download('http://data.mxnet.io/data/caltech-256/caltech-256-60-val.rec')\n",
    "upload_to_s3('validation', 'caltech-256-60-val.rec')"
   ]
  },
  {
   "cell_type": "markdown",
   "metadata": {},
   "source": [
    "## Training the ResNet model\n",
    "\n",
    "In this demo, we are using [Caltech-256](http://www.vision.caltech.edu/Image_Datasets/Caltech256/) dataset, which contains 30608 images of 256 objects. For the training and validation data, we follow the splitting scheme in this MXNet [example](https://github.com/apache/incubator-mxnet/blob/master/example/image-classification/data/caltech256.sh). In particular, it randomly selects 60 images per class for training, and uses the remaining data for validation. The algorithm takes `RecordIO` file as input. The user can also provide the image files as input, which will be converted into `RecordIO` format using MXNet's [im2rec](https://mxnet.incubator.apache.org/how_to/recordio.html?highlight=im2rec) tool. It takes around 50 seconds to convert the entire Caltech-256 dataset (~1.2GB) on a p2.xlarge instance. However, for this demo, we will use record io format. \n",
    "\n",
    "Once we have the data available in the correct format for training, the next step is to actually train the model using the data. After setting training parameters, we kick off training, and poll for status until training is completed.\n",
    "\n",
    "## Training parameters\n",
    "There are two kinds of parameters that need to be set for training. The first one are the parameters for the training job. These include:\n",
    "\n",
    "* **Input specification**: These are the training and validation channels that specify the path where training data is present. These are specified in the \"InputDataConfig\" section. The main parameters that need to be set is the \"ContentType\" which can be set to \"rec\" or \"lst\" based on the input data format and the S3Uri which specifies the bucket and the folder where the data is present. \n",
    "* **Output specification**: This is specified in the \"OutputDataConfig\" section. We just need to specify the path where the output can be stored after training\n",
    "* **Resource config**: This section specifies the type of instance on which to run the training and the number of hosts used for training. If \"InstanceCount\" is more than 1, then training can be run in a distributed manner. \n",
    "\n",
    "Apart from the above set of parameters, there are hyperparameters that are specific to the algorithm. These are:\n",
    "\n",
    "* **num_layers**: The number of layers (depth) for the network. We use 18 in this samples but other values such as 34, 50, ,101, 152 can be used. \n",
    "* **num_training_samples**: This is the total number of training samples. It is set to 15420 for caltech dataset with the current split\n",
    "* **num_classes**: This is the number of output classes for the new dataset. Imagenet was trained with 1000 output classes but the number of output classes can be changed for fine-tuning. For caltech, we use 257 because it has 256 object categories + 1 clutter class\n",
    "* **epochs**: Number of training epochs\n",
    "* **learning_rate**: Learning rate for training\n",
    "* **mini_batch_size**: The number of training samples used for each mini batch. In distributed training, the number of training samples used per batch will be N * mini_batch_size where N is the number of hosts on which training is run"
   ]
  },
  {
   "cell_type": "code",
   "execution_count": 3,
   "metadata": {},
   "outputs": [],
   "source": [
    "# The algorithm supports multiple network depth (number of layers). They are 18, 34, 50, 101, 152 and 200\n",
    "# For this training, we will use 18 layers\n",
    "num_layers = \"18\" \n",
    "# we need to specify the input image shape for the training data\n",
    "#image_shape = \"3,224,224\"\n",
    "image_shape = \"3,288,288\"\n",
    "# we also need to specify the number of training samples in the training set\n",
    "# for caltech it is 15420\n",
    "num_training_samples = \"929\"\n",
    "# specify the number of output classes\n",
    "num_classes = \"2\"\n",
    "# batch size for training\n",
    "mini_batch_size =  \"64\"\n",
    "# number of epochs\n",
    "epochs = \"30\"\n",
    "# learning rate\n",
    "learning_rate = \"0.01\""
   ]
  },
  {
   "cell_type": "markdown",
   "metadata": {},
   "source": [
    "# Training\n",
    "Run the training using Amazon sagemaker CreateTrainingJob API"
   ]
  },
  {
   "cell_type": "code",
   "execution_count": 6,
   "metadata": {
    "scrolled": true
   },
   "outputs": [
    {
     "name": "stdout",
     "output_type": "stream",
     "text": [
      "Training job name: DEMO-imageclassification-2021-07-22-03-53-36\n",
      "\n",
      "Input Data Location: {'S3DataType': 'S3Prefix', 'S3Uri': 's3://kevinshs-img-dataset/train/', 'S3DataDistributionType': 'FullyReplicated'}\n",
      "CPU times: user 6.59 ms, sys: 4 µs, total: 6.6 ms\n",
      "Wall time: 13.5 ms\n"
     ]
    }
   ],
   "source": [
    "%%time\n",
    "import time\n",
    "import boto3\n",
    "from time import gmtime, strftime\n",
    "\n",
    "\n",
    "s3 = boto3.client('s3')\n",
    "# create unique job name \n",
    "job_name_prefix = 'DEMO-imageclassification'\n",
    "timestamp = time.strftime('-%Y-%m-%d-%H-%M-%S', time.gmtime())\n",
    "job_name = job_name_prefix + timestamp\n",
    "training_params = \\\n",
    "{\n",
    "    # specify the training docker image\n",
    "    \"AlgorithmSpecification\": {\n",
    "        \"TrainingImage\": training_image,\n",
    "        \"TrainingInputMode\": \"File\"\n",
    "    },\n",
    "    \"RoleArn\": role,\n",
    "    \"OutputDataConfig\": {\n",
    "        \"S3OutputPath\": 's3://{}/{}/output'.format(bucket, job_name_prefix)\n",
    "    },\n",
    "    \"ResourceConfig\": {\n",
    "        \"InstanceCount\": 1,\n",
    "        \"InstanceType\": \"ml.p2.xlarge\",\n",
    "        \"VolumeSizeInGB\": 50\n",
    "    },\n",
    "    \"TrainingJobName\": job_name,\n",
    "    \"HyperParameters\": {\n",
    "        \"image_shape\": image_shape,\n",
    "        \"num_layers\": str(num_layers),\n",
    "        \"num_training_samples\": str(num_training_samples),\n",
    "        \"num_classes\": str(num_classes),\n",
    "        \"mini_batch_size\": str(mini_batch_size),\n",
    "        \"epochs\": str(epochs),\n",
    "        \"use_pretrained_model\": str(1),\n",
    "        \"learning_rate\": str(learning_rate)\n",
    "    },\n",
    "    \"StoppingCondition\": {\n",
    "        \"MaxRuntimeInSeconds\": 360000\n",
    "    },\n",
    "#Training data should be inside a subdirectory called \"train\"\n",
    "#Validation data should be inside a subdirectory called \"validation\"\n",
    "#The algorithm currently only supports fullyreplicated model (where data is copied onto each machine)\n",
    "    \"InputDataConfig\": [\n",
    "        {\n",
    "            \"ChannelName\": \"train\",\n",
    "            \"DataSource\": {\n",
    "                \"S3DataSource\": {\n",
    "                    \"S3DataType\": \"S3Prefix\",\n",
    "                    \"S3Uri\": 's3://{}/train/'.format(bucket),\n",
    "                    \"S3DataDistributionType\": \"FullyReplicated\"\n",
    "                }\n",
    "            },\n",
    "            \"ContentType\": \"application/x-recordio\",\n",
    "            \"CompressionType\": \"None\"\n",
    "        },\n",
    "        {\n",
    "            \"ChannelName\": \"validation\",\n",
    "            \"DataSource\": {\n",
    "                \"S3DataSource\": {\n",
    "                    \"S3DataType\": \"S3Prefix\",\n",
    "                    \"S3Uri\": 's3://{}/validation/'.format(bucket),\n",
    "                    \"S3DataDistributionType\": \"FullyReplicated\"\n",
    "                }\n",
    "            },\n",
    "            \"ContentType\": \"application/x-recordio\",\n",
    "            \"CompressionType\": \"None\"\n",
    "        }\n",
    "    ]\n",
    "}\n",
    "print('Training job name: {}'.format(job_name))\n",
    "print('\\nInput Data Location: {}'.format(training_params['InputDataConfig'][0]['DataSource']['S3DataSource']))"
   ]
  },
  {
   "cell_type": "code",
   "execution_count": 7,
   "metadata": {},
   "outputs": [
    {
     "name": "stdout",
     "output_type": "stream",
     "text": [
      "Training job current status: InProgress\n",
      "Training job ended with status: Completed\n"
     ]
    }
   ],
   "source": [
    "# create the Amazon SageMaker training job\n",
    "sagemaker = boto3.client(service_name='sagemaker')\n",
    "sagemaker.create_training_job(**training_params)\n",
    "\n",
    "# confirm that the training job has started\n",
    "status = sagemaker.describe_training_job(TrainingJobName=job_name)['TrainingJobStatus']\n",
    "print('Training job current status: {}'.format(status))\n",
    "\n",
    "try:\n",
    "    # wait for the job to finish and report the ending status\n",
    "    sagemaker.get_waiter('training_job_completed_or_stopped').wait(TrainingJobName=job_name)\n",
    "    training_info = sagemaker.describe_training_job(TrainingJobName=job_name)\n",
    "    status = training_info['TrainingJobStatus']\n",
    "    print(\"Training job ended with status: \" + status)\n",
    "except:\n",
    "    print('Training failed to start')\n",
    "     # if exception is raised, that means it has failed\n",
    "    message = sagemaker.describe_training_job(TrainingJobName=job_name)['FailureReason']\n",
    "    print('Training failed with the following error: {}'.format(message))"
   ]
  },
  {
   "cell_type": "code",
   "execution_count": 8,
   "metadata": {},
   "outputs": [
    {
     "name": "stdout",
     "output_type": "stream",
     "text": [
      "Training job ended with status: Completed\n"
     ]
    }
   ],
   "source": [
    "training_info = sagemaker.describe_training_job(TrainingJobName=job_name)\n",
    "status = training_info['TrainingJobStatus']\n",
    "print(\"Training job ended with status: \" + status)"
   ]
  },
  {
   "cell_type": "markdown",
   "metadata": {},
   "source": [
    "If you see the message,\n",
    "\n",
    "> `Training job ended with status: Completed`\n",
    "\n",
    "then that means training successfully completed and the output model was stored in the output path specified by `training_params['OutputDataConfig']`.\n",
    "\n",
    "You can also view information about and the status of a training job using the AWS SageMaker console. Just click on the \"Jobs\" tab."
   ]
  },
  {
   "cell_type": "markdown",
   "metadata": {},
   "source": [
    "# Inference\n",
    "\n",
    "***\n",
    "\n",
    "A trained model does nothing on its own. We now want to use the model to perform inference. For this example, that means predicting the topic mixture representing a given document.\n",
    "\n",
    "This section involves several steps,\n",
    "\n",
    "1. [Create Model](#CreateModel) - Create model for the training output\n",
    "1. [Create Endpoint Configuration](#CreateEndpointConfiguration) - Create a configuration defining an endpoint.\n",
    "1. [Create Endpoint](#CreateEndpoint) - Use the configuration to create an inference endpoint.\n",
    "1. [Perform Inference](#Perform Inference) - Perform inference on some input data using the endpoint."
   ]
  },
  {
   "cell_type": "markdown",
   "metadata": {},
   "source": [
    "## Create Model\n",
    "\n",
    "We now create a SageMaker Model from the training output. Using the model we can create an Endpoint Configuration."
   ]
  },
  {
   "cell_type": "code",
   "execution_count": 10,
   "metadata": {},
   "outputs": [
    {
     "name": "stdout",
     "output_type": "stream",
     "text": [
      "DEMO-full-image-classification-model\n",
      "s3://kevinshs-img-dataset/DEMO-imageclassification/output/DEMO-imageclassification-2021-07-22-03-53-36/output/model.tar.gz\n",
      "arn:aws:sagemaker:ap-northeast-1:423148768983:model/demo-full-image-classification-model\n",
      "CPU times: user 69.9 ms, sys: 13.5 ms, total: 83.4 ms\n",
      "Wall time: 567 ms\n"
     ]
    }
   ],
   "source": [
    "%%time\n",
    "import boto3\n",
    "from time import gmtime, strftime\n",
    "sage = boto3.Session().client(service_name='sagemaker') \n",
    "\n",
    "model_name=\"DEMO-full-image-classification-model\"\n",
    "print(model_name)\n",
    "info = sage.describe_training_job(TrainingJobName=job_name)\n",
    "model_data = info['ModelArtifacts']['S3ModelArtifacts']\n",
    "print(model_data)\n",
    "\n",
    "containers = {'ap-northeast-1': '501404015308.dkr.ecr.ap-northeast-1.amazonaws.com/image-classification:latest',\n",
    "              'us-west-2': '433757028032.dkr.ecr.us-west-2.amazonaws.com/image-classification:latest',\n",
    "              'us-east-1': '811284229777.dkr.ecr.us-east-1.amazonaws.com/image-classification:latest',\n",
    "              'us-east-2': '825641698319.dkr.ecr.us-east-2.amazonaws.com/image-classification:latest',\n",
    "              'eu-west-1': '685385470294.dkr.ecr.eu-west-1.amazonaws.com/image-classification:latest'}\n",
    "hosting_image = containers[boto3.Session().region_name]\n",
    "primary_container = {\n",
    "    'Image': hosting_image,\n",
    "    'ModelDataUrl': model_data,\n",
    "}\n",
    "\n",
    "create_model_response = sage.create_model(\n",
    "    ModelName = model_name,\n",
    "    ExecutionRoleArn = role,\n",
    "    PrimaryContainer = primary_container)\n",
    "\n",
    "print(create_model_response['ModelArn'])"
   ]
  },
  {
   "cell_type": "markdown",
   "metadata": {},
   "source": [
    "### Create Endpoint Configuration\n",
    "At launch, we will support configuring REST endpoints in hosting with multiple models, e.g. for A/B testing purposes. In order to support this, customers create an endpoint configuration, that describes the distribution of traffic across the models, whether split, shadowed, or sampled in some way.\n",
    "\n",
    "In addition, the endpoint configuration describes the instance type required for model deployment, and at launch will describe the autoscaling configuration."
   ]
  },
  {
   "cell_type": "code",
   "execution_count": 32,
   "metadata": {},
   "outputs": [
    {
     "name": "stdout",
     "output_type": "stream",
     "text": [
      "Endpoint configuration name: DEMO-imageclassification-epc--2021-07-22-05-04-09\n",
      "Endpoint configuration arn:  arn:aws:sagemaker:ap-northeast-1:423148768983:endpoint-config/demo-imageclassification-epc--2021-07-22-05-04-09\n"
     ]
    }
   ],
   "source": [
    "from time import gmtime, strftime\n",
    "\n",
    "timestamp = time.strftime('-%Y-%m-%d-%H-%M-%S', time.gmtime())\n",
    "endpoint_config_name = job_name_prefix + '-epc-' + timestamp\n",
    "endpoint_config_response = sage.create_endpoint_config(\n",
    "    EndpointConfigName = endpoint_config_name,\n",
    "    ProductionVariants=[{\n",
    "        'InstanceType':'ml.m4.xlarge',\n",
    "        'InitialInstanceCount':1,\n",
    "        'ModelName':model_name,\n",
    "        'VariantName':'AllTraffic'}])\n",
    "\n",
    "print('Endpoint configuration name: {}'.format(endpoint_config_name))\n",
    "print('Endpoint configuration arn:  {}'.format(endpoint_config_response['EndpointConfigArn']))"
   ]
  },
  {
   "cell_type": "markdown",
   "metadata": {},
   "source": [
    "### Create Endpoint\n",
    "Lastly, the customer creates the endpoint that serves up the model, through specifying the name and configuration defined above. The end result is an endpoint that can be validated and incorporated into production applications. This takes 9-11 minutes to complete."
   ]
  },
  {
   "cell_type": "code",
   "execution_count": 33,
   "metadata": {},
   "outputs": [
    {
     "name": "stdout",
     "output_type": "stream",
     "text": [
      "Endpoint name: DEMO-imageclassification-ep--2021-07-22-05-04-11\n",
      "EndpointArn = arn:aws:sagemaker:ap-northeast-1:423148768983:endpoint/demo-imageclassification-ep--2021-07-22-05-04-11\n",
      "CPU times: user 22.7 ms, sys: 474 µs, total: 23.2 ms\n",
      "Wall time: 250 ms\n"
     ]
    }
   ],
   "source": [
    "%%time\n",
    "import time\n",
    "\n",
    "timestamp = time.strftime('-%Y-%m-%d-%H-%M-%S', time.gmtime())\n",
    "endpoint_name = job_name_prefix + '-ep-' + timestamp\n",
    "print('Endpoint name: {}'.format(endpoint_name))\n",
    "\n",
    "endpoint_params = {\n",
    "    'EndpointName': endpoint_name,\n",
    "    'EndpointConfigName': endpoint_config_name,\n",
    "}\n",
    "endpoint_response = sagemaker.create_endpoint(**endpoint_params)\n",
    "print('EndpointArn = {}'.format(endpoint_response['EndpointArn']))"
   ]
  },
  {
   "cell_type": "markdown",
   "metadata": {},
   "source": [
    "Finally, now the endpoint can be created. It may take sometime to create the endpoint..."
   ]
  },
  {
   "cell_type": "code",
   "execution_count": 34,
   "metadata": {},
   "outputs": [
    {
     "name": "stdout",
     "output_type": "stream",
     "text": [
      "EndpointStatus = Creating\n",
      "Endpoint creation ended with EndpointStatus = InService\n"
     ]
    }
   ],
   "source": [
    "# get the status of the endpoint\n",
    "response = sagemaker.describe_endpoint(EndpointName=endpoint_name)\n",
    "status = response['EndpointStatus']\n",
    "print('EndpointStatus = {}'.format(status))\n",
    "\n",
    "\n",
    "# wait until the status has changed\n",
    "sagemaker.get_waiter('endpoint_in_service').wait(EndpointName=endpoint_name)\n",
    "\n",
    "\n",
    "# print the status of the endpoint\n",
    "endpoint_response = sagemaker.describe_endpoint(EndpointName=endpoint_name)\n",
    "status = endpoint_response['EndpointStatus']\n",
    "print('Endpoint creation ended with EndpointStatus = {}'.format(status))\n",
    "\n",
    "if status != 'InService':\n",
    "    raise Exception('Endpoint creation failed.')"
   ]
  },
  {
   "cell_type": "markdown",
   "metadata": {},
   "source": [
    "If you see the message,\n",
    "\n",
    "> `Endpoint creation ended with EndpointStatus = InService`\n",
    "\n",
    "then congratulations! You now have a functioning inference endpoint. You can confirm the endpoint configuration and status by navigating to the \"Endpoints\" tab in the AWS SageMaker console.\n",
    "\n",
    "We will finally create a runtime object from which we can invoke the endpoint."
   ]
  },
  {
   "cell_type": "markdown",
   "metadata": {},
   "source": [
    "## Perform Inference\n",
    "Finally, the customer can now validate the model for use. They can obtain the endpoint from the client library using the result from previous operations, and generate classifications from the trained model using that endpoint.\n"
   ]
  },
  {
   "cell_type": "code",
   "execution_count": 92,
   "metadata": {},
   "outputs": [],
   "source": [
    "import boto3\n",
    "from IPython.core.display import HTML\n",
    "\n",
    "#cat_jpg, dog_jpg, ImageNetLabels = \"cat.jpg\", \"dog.jpg\", \"ImageNetLabels.txt\"\n",
    "\n",
    "#HTML('<table><tr><td> <img src=\"cat.jpg\" alt=\"cat\" style=\"height: 250px;\"/> <figcaption>cat.jpg</figcaption>'\n",
    "#     '</td><td> <img src=\"dog.jpg\" alt=\"dog\" style=\"height: 250px;\"/> <figcaption>dog.jpg</figcaption>'\n",
    "#     '</td></tr></table>')\n",
    "\n",
    "import glob\n",
    "\n",
    "images = {}\n",
    "for f in glob.glob(\"./testimg/normal/*.jpg\"):\n",
    "    with open(f, 'rb') as file: images[f] = file.read()\n",
    "\n",
    "with open(\"./testimg/ProductLabels.txt\", 'r') as file: class_id_to_label = file.read().splitlines()"
   ]
  },
  {
   "cell_type": "markdown",
   "metadata": {},
   "source": [
    "### Download test image"
   ]
  },
  {
   "cell_type": "code",
   "execution_count": null,
   "metadata": {},
   "outputs": [],
   "source": []
  },
  {
   "cell_type": "markdown",
   "metadata": {},
   "source": [
    "### Evaluation\n",
    "\n",
    "Evaluate the image through the network for inteference. The network outputs class probabilities and typically, one selects the class with the maximum probability as the final class output.\n",
    "\n",
    "**Note:** The output class detected by the network may not be accurate in this example. To limit the time taken and cost of training, we have trained the model only for a couple of epochs. If the network is trained for more epochs (say 20), then the output class will be more accurate."
   ]
  },
  {
   "cell_type": "code",
   "execution_count": 93,
   "metadata": {},
   "outputs": [
    {
     "name": "stdout",
     "output_type": "stream",
     "text": [
      "[0.004708698485046625, 0.9952913522720337]\n"
     ]
    },
    {
     "data": {
      "text/html": [
       "<figcaption>./testimg/normal/20201109-101947_08YNa_1.jpg : Normal</figcaption>"
      ],
      "text/plain": [
       "<IPython.core.display.HTML object>"
      ]
     },
     "metadata": {},
     "output_type": "display_data"
    },
    {
     "name": "stdout",
     "output_type": "stream",
     "text": [
      "[3.246530468459241e-05, 0.9999675750732422]\n"
     ]
    },
    {
     "data": {
      "text/html": [
       "<figcaption>./testimg/normal/20201109-101910_26YYa_0.jpg : Normal</figcaption>"
      ],
      "text/plain": [
       "<IPython.core.display.HTML object>"
      ]
     },
     "metadata": {},
     "output_type": "display_data"
    },
    {
     "name": "stdout",
     "output_type": "stream",
     "text": [
      "[0.007073905784636736, 0.9929261207580566]\n"
     ]
    },
    {
     "data": {
      "text/html": [
       "<figcaption>./testimg/normal/20201109-101731_10YNa_1.jpg : Normal</figcaption>"
      ],
      "text/plain": [
       "<IPython.core.display.HTML object>"
      ]
     },
     "metadata": {},
     "output_type": "display_data"
    },
    {
     "name": "stdout",
     "output_type": "stream",
     "text": [
      "[0.0006918440922163427, 0.9993081092834473]\n"
     ]
    },
    {
     "data": {
      "text/html": [
       "<figcaption>./testimg/normal/20201109-101821_01YNa_1.jpg : Normal</figcaption>"
      ],
      "text/plain": [
       "<IPython.core.display.HTML object>"
      ]
     },
     "metadata": {},
     "output_type": "display_data"
    },
    {
     "name": "stdout",
     "output_type": "stream",
     "text": [
      "[9.431788930669427e-05, 0.9999057054519653]\n"
     ]
    },
    {
     "data": {
      "text/html": [
       "<figcaption>./testimg/normal/20201109-101757_19YNa_0.jpg : Normal</figcaption>"
      ],
      "text/plain": [
       "<IPython.core.display.HTML object>"
      ]
     },
     "metadata": {},
     "output_type": "display_data"
    },
    {
     "name": "stdout",
     "output_type": "stream",
     "text": [
      "[2.4455162929371e-05, 0.9999755620956421]\n"
     ]
    },
    {
     "data": {
      "text/html": [
       "<figcaption>./testimg/normal/20201109-101731_16YYa_0.jpg : Normal</figcaption>"
      ],
      "text/plain": [
       "<IPython.core.display.HTML object>"
      ]
     },
     "metadata": {},
     "output_type": "display_data"
    },
    {
     "name": "stdout",
     "output_type": "stream",
     "text": [
      "[0.00017979470430873334, 0.9998202919960022]\n"
     ]
    },
    {
     "data": {
      "text/html": [
       "<figcaption>./testimg/normal/20201109-101910_20YNa_1.jpg : Normal</figcaption>"
      ],
      "text/plain": [
       "<IPython.core.display.HTML object>"
      ]
     },
     "metadata": {},
     "output_type": "display_data"
    },
    {
     "name": "stdout",
     "output_type": "stream",
     "text": [
      "[1.8288743319772038e-07, 0.9999997615814209]\n"
     ]
    },
    {
     "data": {
      "text/html": [
       "<figcaption>./testimg/normal/20201109-101602_23YNa_0.jpg : Normal</figcaption>"
      ],
      "text/plain": [
       "<IPython.core.display.HTML object>"
      ]
     },
     "metadata": {},
     "output_type": "display_data"
    },
    {
     "name": "stdout",
     "output_type": "stream",
     "text": [
      "[4.229744081385434e-05, 0.9999576807022095]\n"
     ]
    },
    {
     "data": {
      "text/html": [
       "<figcaption>./testimg/normal/20201109-101630_18YYa_0.jpg : Normal</figcaption>"
      ],
      "text/plain": [
       "<IPython.core.display.HTML object>"
      ]
     },
     "metadata": {},
     "output_type": "display_data"
    },
    {
     "name": "stdout",
     "output_type": "stream",
     "text": [
      "[3.0381634132936597e-05, 0.9999696016311646]\n"
     ]
    },
    {
     "data": {
      "text/html": [
       "<figcaption>./testimg/normal/20201109-101845_01YYa_0.jpg : Normal</figcaption>"
      ],
      "text/plain": [
       "<IPython.core.display.HTML object>"
      ]
     },
     "metadata": {},
     "output_type": "display_data"
    },
    {
     "name": "stdout",
     "output_type": "stream",
     "text": [
      "[0.008887426927685738, 0.9911125302314758]\n"
     ]
    },
    {
     "data": {
      "text/html": [
       "<figcaption>./testimg/normal/20201109-101910_12YNa_0.jpg : Normal</figcaption>"
      ],
      "text/plain": [
       "<IPython.core.display.HTML object>"
      ]
     },
     "metadata": {},
     "output_type": "display_data"
    },
    {
     "name": "stdout",
     "output_type": "stream",
     "text": [
      "[1.58940765686566e-05, 0.9999841451644897]\n"
     ]
    },
    {
     "data": {
      "text/html": [
       "<figcaption>./testimg/normal/20201109-101857_09YNa_0.jpg : Normal</figcaption>"
      ],
      "text/plain": [
       "<IPython.core.display.HTML object>"
      ]
     },
     "metadata": {},
     "output_type": "display_data"
    },
    {
     "name": "stdout",
     "output_type": "stream",
     "text": [
      "[0.00015182484639808536, 0.9998481273651123]\n"
     ]
    },
    {
     "data": {
      "text/html": [
       "<figcaption>./testimg/normal/20201109-101642_05YYa_1.jpg : Normal</figcaption>"
      ],
      "text/plain": [
       "<IPython.core.display.HTML object>"
      ]
     },
     "metadata": {},
     "output_type": "display_data"
    },
    {
     "name": "stdout",
     "output_type": "stream",
     "text": [
      "[0.0014969876501709223, 0.9985030889511108]\n"
     ]
    },
    {
     "data": {
      "text/html": [
       "<figcaption>./testimg/normal/20201109-101616_04YYa_1.jpg : Normal</figcaption>"
      ],
      "text/plain": [
       "<IPython.core.display.HTML object>"
      ]
     },
     "metadata": {},
     "output_type": "display_data"
    },
    {
     "name": "stdout",
     "output_type": "stream",
     "text": [
      "[0.04980885982513428, 0.9501911997795105]\n"
     ]
    },
    {
     "data": {
      "text/html": [
       "<figcaption>./testimg/normal/20201109-101821_15YYa_1.jpg : Normal</figcaption>"
      ],
      "text/plain": [
       "<IPython.core.display.HTML object>"
      ]
     },
     "metadata": {},
     "output_type": "display_data"
    },
    {
     "name": "stdout",
     "output_type": "stream",
     "text": [
      "[0.0006362603162415326, 0.9993637204170227]\n"
     ]
    },
    {
     "data": {
      "text/html": [
       "<figcaption>./testimg/normal/20201109-101731_24YYa_1.jpg : Normal</figcaption>"
      ],
      "text/plain": [
       "<IPython.core.display.HTML object>"
      ]
     },
     "metadata": {},
     "output_type": "display_data"
    },
    {
     "name": "stdout",
     "output_type": "stream",
     "text": [
      "[0.00016712206706870347, 0.9998328685760498]\n"
     ]
    },
    {
     "data": {
      "text/html": [
       "<figcaption>./testimg/normal/20201109-101923_13YYa_0.jpg : Normal</figcaption>"
      ],
      "text/plain": [
       "<IPython.core.display.HTML object>"
      ]
     },
     "metadata": {},
     "output_type": "display_data"
    },
    {
     "name": "stdout",
     "output_type": "stream",
     "text": [
      "[0.0014636004343628883, 0.9985363483428955]\n"
     ]
    },
    {
     "data": {
      "text/html": [
       "<figcaption>./testimg/normal/20201109-101602_09YYa_1.jpg : Normal</figcaption>"
      ],
      "text/plain": [
       "<IPython.core.display.HTML object>"
      ]
     },
     "metadata": {},
     "output_type": "display_data"
    },
    {
     "name": "stdout",
     "output_type": "stream",
     "text": [
      "[0.002060957020148635, 0.9979390501976013]\n"
     ]
    },
    {
     "data": {
      "text/html": [
       "<figcaption>./testimg/normal/20201109-101833_22YYa_0.jpg : Normal</figcaption>"
      ],
      "text/plain": [
       "<IPython.core.display.HTML object>"
      ]
     },
     "metadata": {},
     "output_type": "display_data"
    },
    {
     "name": "stdout",
     "output_type": "stream",
     "text": [
      "[0.005192830692976713, 0.9948071837425232]\n"
     ]
    },
    {
     "data": {
      "text/html": [
       "<figcaption>./testimg/normal/20201109-101630_08YYa_1.jpg : Normal</figcaption>"
      ],
      "text/plain": [
       "<IPython.core.display.HTML object>"
      ]
     },
     "metadata": {},
     "output_type": "display_data"
    },
    {
     "name": "stdout",
     "output_type": "stream",
     "text": [
      "[0.004084477666765451, 0.9959154725074768]\n"
     ]
    },
    {
     "data": {
      "text/html": [
       "<figcaption>./testimg/normal/20201109-101821_25YYa_0.jpg : Normal</figcaption>"
      ],
      "text/plain": [
       "<IPython.core.display.HTML object>"
      ]
     },
     "metadata": {},
     "output_type": "display_data"
    },
    {
     "name": "stdout",
     "output_type": "stream",
     "text": [
      "[0.027129661291837692, 0.972870409488678]\n"
     ]
    },
    {
     "data": {
      "text/html": [
       "<figcaption>./testimg/normal/20201109-101716_12YYa_1.jpg : Normal</figcaption>"
      ],
      "text/plain": [
       "<IPython.core.display.HTML object>"
      ]
     },
     "metadata": {},
     "output_type": "display_data"
    },
    {
     "name": "stdout",
     "output_type": "stream",
     "text": [
      "[0.0009678357164375484, 0.9990321397781372]\n"
     ]
    },
    {
     "data": {
      "text/html": [
       "<figcaption>./testimg/normal/20201109-101655_10YYa_1.jpg : Normal</figcaption>"
      ],
      "text/plain": [
       "<IPython.core.display.HTML object>"
      ]
     },
     "metadata": {},
     "output_type": "display_data"
    },
    {
     "name": "stdout",
     "output_type": "stream",
     "text": [
      "[0.008283955976366997, 0.9917160868644714]\n"
     ]
    },
    {
     "data": {
      "text/html": [
       "<figcaption>./testimg/normal/20201109-101833_12YYa_1.jpg : Normal</figcaption>"
      ],
      "text/plain": [
       "<IPython.core.display.HTML object>"
      ]
     },
     "metadata": {},
     "output_type": "display_data"
    },
    {
     "name": "stdout",
     "output_type": "stream",
     "text": [
      "[0.0005519583355635405, 0.9994480013847351]\n"
     ]
    },
    {
     "data": {
      "text/html": [
       "<figcaption>./testimg/normal/20201109-101923_03YYa_1.jpg : Normal</figcaption>"
      ],
      "text/plain": [
       "<IPython.core.display.HTML object>"
      ]
     },
     "metadata": {},
     "output_type": "display_data"
    },
    {
     "name": "stdout",
     "output_type": "stream",
     "text": [
      "[3.159295010846108e-05, 0.999968409538269]\n"
     ]
    },
    {
     "data": {
      "text/html": [
       "<figcaption>./testimg/normal/20201109-101716_04YYa_0.jpg : Normal</figcaption>"
      ],
      "text/plain": [
       "<IPython.core.display.HTML object>"
      ]
     },
     "metadata": {},
     "output_type": "display_data"
    },
    {
     "name": "stdout",
     "output_type": "stream",
     "text": [
      "[0.001643968978896737, 0.99835604429245]\n"
     ]
    },
    {
     "data": {
      "text/html": [
       "<figcaption>./testimg/normal/20201109-101935_10YYa_0.jpg : Normal</figcaption>"
      ],
      "text/plain": [
       "<IPython.core.display.HTML object>"
      ]
     },
     "metadata": {},
     "output_type": "display_data"
    },
    {
     "name": "stdout",
     "output_type": "stream",
     "text": [
      "[1.582216464157682e-05, 0.9999841451644897]\n"
     ]
    },
    {
     "data": {
      "text/html": [
       "<figcaption>./testimg/normal/20201109-101821_11YNa_0.jpg : Normal</figcaption>"
      ],
      "text/plain": [
       "<IPython.core.display.HTML object>"
      ]
     },
     "metadata": {},
     "output_type": "display_data"
    },
    {
     "name": "stdout",
     "output_type": "stream",
     "text": [
      "[0.00033842679113149643, 0.9996615648269653]\n"
     ]
    },
    {
     "data": {
      "text/html": [
       "<figcaption>./testimg/normal/20201109-101602_05YNa_0.jpg : Normal</figcaption>"
      ],
      "text/plain": [
       "<IPython.core.display.HTML object>"
      ]
     },
     "metadata": {},
     "output_type": "display_data"
    },
    {
     "name": "stdout",
     "output_type": "stream",
     "text": [
      "[0.2409614473581314, 0.7590385675430298]\n"
     ]
    },
    {
     "data": {
      "text/html": [
       "<figcaption>./testimg/normal/20201109-101910_02YNa_1.jpg : Normal</figcaption>"
      ],
      "text/plain": [
       "<IPython.core.display.HTML object>"
      ]
     },
     "metadata": {},
     "output_type": "display_data"
    },
    {
     "name": "stdout",
     "output_type": "stream",
     "text": [
      "[0.000362434919225052, 0.9996376037597656]\n"
     ]
    },
    {
     "data": {
      "text/html": [
       "<figcaption>./testimg/normal/20201109-101808_11YYa_0.jpg : Normal</figcaption>"
      ],
      "text/plain": [
       "<IPython.core.display.HTML object>"
      ]
     },
     "metadata": {},
     "output_type": "display_data"
    },
    {
     "name": "stdout",
     "output_type": "stream",
     "text": [
      "[0.005954104475677013, 0.9940458536148071]\n"
     ]
    },
    {
     "data": {
      "text/html": [
       "<figcaption>./testimg/normal/20201109-101642_23YYa_1.jpg : Normal</figcaption>"
      ],
      "text/plain": [
       "<IPython.core.display.HTML object>"
      ]
     },
     "metadata": {},
     "output_type": "display_data"
    },
    {
     "name": "stdout",
     "output_type": "stream",
     "text": [
      "[0.004152616020292044, 0.9958474040031433]\n"
     ]
    },
    {
     "data": {
      "text/html": [
       "<figcaption>./testimg/normal/20201109-101910_08YYa_0.jpg : Normal</figcaption>"
      ],
      "text/plain": [
       "<IPython.core.display.HTML object>"
      ]
     },
     "metadata": {},
     "output_type": "display_data"
    },
    {
     "name": "stdout",
     "output_type": "stream",
     "text": [
      "[0.014697914943099022, 0.9853020906448364]\n"
     ]
    },
    {
     "data": {
      "text/html": [
       "<figcaption>./testimg/normal/20201109-101602_27YYa_1.jpg : Normal</figcaption>"
      ],
      "text/plain": [
       "<IPython.core.display.HTML object>"
      ]
     },
     "metadata": {},
     "output_type": "display_data"
    },
    {
     "name": "stdout",
     "output_type": "stream",
     "text": [
      "[0.13452602922916412, 0.8654739260673523]\n"
     ]
    },
    {
     "data": {
      "text/html": [
       "<figcaption>./testimg/normal/20201109-101535_22YYa_1.jpg : Normal</figcaption>"
      ],
      "text/plain": [
       "<IPython.core.display.HTML object>"
      ]
     },
     "metadata": {},
     "output_type": "display_data"
    },
    {
     "name": "stdout",
     "output_type": "stream",
     "text": [
      "[0.02295071817934513, 0.9770492911338806]\n"
     ]
    },
    {
     "data": {
      "text/html": [
       "<figcaption>./testimg/normal/20201109-101655_02YYa_0.jpg : Normal</figcaption>"
      ],
      "text/plain": [
       "<IPython.core.display.HTML object>"
      ]
     },
     "metadata": {},
     "output_type": "display_data"
    },
    {
     "name": "stdout",
     "output_type": "stream",
     "text": [
      "[5.911287644266849e-06, 0.9999940395355225]\n"
     ]
    },
    {
     "data": {
      "text/html": [
       "<figcaption>./testimg/normal/20201109-101821_16YYa_0.jpg : Normal</figcaption>"
      ],
      "text/plain": [
       "<IPython.core.display.HTML object>"
      ]
     },
     "metadata": {},
     "output_type": "display_data"
    },
    {
     "name": "stdout",
     "output_type": "stream",
     "text": [
      "[0.0001474299351684749, 0.9998525381088257]\n"
     ]
    },
    {
     "data": {
      "text/html": [
       "<figcaption>./testimg/normal/20201109-101535_05YYa_0.jpg : Normal</figcaption>"
      ],
      "text/plain": [
       "<IPython.core.display.HTML object>"
      ]
     },
     "metadata": {},
     "output_type": "display_data"
    },
    {
     "name": "stdout",
     "output_type": "stream",
     "text": [
      "[0.0001530222943983972, 0.9998469352722168]\n"
     ]
    },
    {
     "data": {
      "text/html": [
       "<figcaption>./testimg/normal/20201109-101731_25YYa_0.jpg : Normal</figcaption>"
      ],
      "text/plain": [
       "<IPython.core.display.HTML object>"
      ]
     },
     "metadata": {},
     "output_type": "display_data"
    },
    {
     "name": "stdout",
     "output_type": "stream",
     "text": [
      "[0.0024822354316711426, 0.9975178241729736]\n"
     ]
    },
    {
     "data": {
      "text/html": [
       "<figcaption>./testimg/normal/20201109-101716_03YYa_1.jpg : Normal</figcaption>"
      ],
      "text/plain": [
       "<IPython.core.display.HTML object>"
      ]
     },
     "metadata": {},
     "output_type": "display_data"
    },
    {
     "name": "stdout",
     "output_type": "stream",
     "text": [
      "[0.0019556074403226376, 0.9980443716049194]\n"
     ]
    },
    {
     "data": {
      "text/html": [
       "<figcaption>./testimg/normal/20201109-101616_05YYa_0.jpg : Normal</figcaption>"
      ],
      "text/plain": [
       "<IPython.core.display.HTML object>"
      ]
     },
     "metadata": {},
     "output_type": "display_data"
    },
    {
     "name": "stdout",
     "output_type": "stream",
     "text": [
      "[0.0005243321065790951, 0.9994756579399109]\n"
     ]
    },
    {
     "data": {
      "text/html": [
       "<figcaption>./testimg/normal/20201109-101642_06YYa_0.jpg : Normal</figcaption>"
      ],
      "text/plain": [
       "<IPython.core.display.HTML object>"
      ]
     },
     "metadata": {},
     "output_type": "display_data"
    },
    {
     "name": "stdout",
     "output_type": "stream",
     "text": [
      "[3.0485129173030145e-05, 0.999969482421875]\n"
     ]
    },
    {
     "data": {
      "text/html": [
       "<figcaption>./testimg/normal/20201109-101821_10YNa_1.jpg : Normal</figcaption>"
      ],
      "text/plain": [
       "<IPython.core.display.HTML object>"
      ]
     },
     "metadata": {},
     "output_type": "display_data"
    },
    {
     "name": "stdout",
     "output_type": "stream",
     "text": [
      "[0.0019016314763575792, 0.9980984330177307]\n"
     ]
    },
    {
     "data": {
      "text/html": [
       "<figcaption>./testimg/normal/20201109-101808_10YYa_1.jpg : Normal</figcaption>"
      ],
      "text/plain": [
       "<IPython.core.display.HTML object>"
      ]
     },
     "metadata": {},
     "output_type": "display_data"
    },
    {
     "name": "stdout",
     "output_type": "stream",
     "text": [
      "[0.00011288636596873403, 0.9998871088027954]\n"
     ]
    },
    {
     "data": {
      "text/html": [
       "<figcaption>./testimg/normal/20201109-101630_27YYa_0.jpg : Normal</figcaption>"
      ],
      "text/plain": [
       "<IPython.core.display.HTML object>"
      ]
     },
     "metadata": {},
     "output_type": "display_data"
    },
    {
     "name": "stdout",
     "output_type": "stream",
     "text": [
      "[0.044009022414684296, 0.9559910297393799]\n"
     ]
    },
    {
     "data": {
      "text/html": [
       "<figcaption>./testimg/normal/20201109-101655_01YYa_1.jpg : Normal</figcaption>"
      ],
      "text/plain": [
       "<IPython.core.display.HTML object>"
      ]
     },
     "metadata": {},
     "output_type": "display_data"
    },
    {
     "name": "stdout",
     "output_type": "stream",
     "text": [
      "[0.00017648848006501794, 0.9998235106468201]\n"
     ]
    },
    {
     "data": {
      "text/html": [
       "<figcaption>./testimg/normal/20201109-101630_21YNa_1.jpg : Normal</figcaption>"
      ],
      "text/plain": [
       "<IPython.core.display.HTML object>"
      ]
     },
     "metadata": {},
     "output_type": "display_data"
    },
    {
     "name": "stdout",
     "output_type": "stream",
     "text": [
      "[0.00012984820932615548, 0.9998701810836792]\n"
     ]
    },
    {
     "data": {
      "text/html": [
       "<figcaption>./testimg/normal/20201109-101910_07YYa_1.jpg : Normal</figcaption>"
      ],
      "text/plain": [
       "<IPython.core.display.HTML object>"
      ]
     },
     "metadata": {},
     "output_type": "display_data"
    },
    {
     "name": "stdout",
     "output_type": "stream",
     "text": [
      "[1.2897959095425904e-05, 0.9999871253967285]\n"
     ]
    },
    {
     "data": {
      "text/html": [
       "<figcaption>./testimg/normal/20201109-101731_11YNa_0.jpg : Normal</figcaption>"
      ],
      "text/plain": [
       "<IPython.core.display.HTML object>"
      ]
     },
     "metadata": {},
     "output_type": "display_data"
    },
    {
     "name": "stdout",
     "output_type": "stream",
     "text": [
      "[3.838923657895066e-05, 0.9999616146087646]\n"
     ]
    },
    {
     "data": {
      "text/html": [
       "<figcaption>./testimg/normal/20201109-101821_02YNa_0.jpg : Normal</figcaption>"
      ],
      "text/plain": [
       "<IPython.core.display.HTML object>"
      ]
     },
     "metadata": {},
     "output_type": "display_data"
    },
    {
     "name": "stdout",
     "output_type": "stream",
     "text": [
      "[0.0001205716616823338, 0.9998793601989746]\n"
     ]
    },
    {
     "data": {
      "text/html": [
       "<figcaption>./testimg/normal/20201109-101935_01YYa_0.jpg : Normal</figcaption>"
      ],
      "text/plain": [
       "<IPython.core.display.HTML object>"
      ]
     },
     "metadata": {},
     "output_type": "display_data"
    },
    {
     "name": "stdout",
     "output_type": "stream",
     "text": [
      "[0.000508398748934269, 0.9994915723800659]\n"
     ]
    },
    {
     "data": {
      "text/html": [
       "<figcaption>./testimg/normal/20201109-101845_10YYa_0.jpg : Normal</figcaption>"
      ],
      "text/plain": [
       "<IPython.core.display.HTML object>"
      ]
     },
     "metadata": {},
     "output_type": "display_data"
    },
    {
     "name": "stdout",
     "output_type": "stream",
     "text": [
      "[0.06463904678821564, 0.9353609681129456]\n"
     ]
    },
    {
     "data": {
      "text/html": [
       "<figcaption>./testimg/normal/20201109-101706_04YYa_1.jpg : Normal</figcaption>"
      ],
      "text/plain": [
       "<IPython.core.display.HTML object>"
      ]
     },
     "metadata": {},
     "output_type": "display_data"
    },
    {
     "name": "stdout",
     "output_type": "stream",
     "text": [
      "[0.0025555146858096123, 0.9974445104598999]\n"
     ]
    },
    {
     "data": {
      "text/html": [
       "<figcaption>./testimg/normal/20201109-101642_24YYa_0.jpg : Normal</figcaption>"
      ],
      "text/plain": [
       "<IPython.core.display.HTML object>"
      ]
     },
     "metadata": {},
     "output_type": "display_data"
    },
    {
     "name": "stdout",
     "output_type": "stream",
     "text": [
      "[0.00034953540307469666, 0.9996504783630371]\n"
     ]
    },
    {
     "data": {
      "text/html": [
       "<figcaption>./testimg/normal/20201109-101910_03YNa_0.jpg : Normal</figcaption>"
      ],
      "text/plain": [
       "<IPython.core.display.HTML object>"
      ]
     },
     "metadata": {},
     "output_type": "display_data"
    },
    {
     "name": "stdout",
     "output_type": "stream",
     "text": [
      "[9.116405635722913e-06, 0.9999909400939941]\n"
     ]
    },
    {
     "data": {
      "text/html": [
       "<figcaption>./testimg/normal/20201109-101602_22YNa_1.jpg : Normal</figcaption>"
      ],
      "text/plain": [
       "<IPython.core.display.HTML object>"
      ]
     },
     "metadata": {},
     "output_type": "display_data"
    },
    {
     "name": "stdout",
     "output_type": "stream",
     "text": [
      "[2.2272037313086912e-05, 0.999977707862854]\n"
     ]
    },
    {
     "data": {
      "text/html": [
       "<figcaption>./testimg/normal/20201109-101616_23YYa_0.jpg : Normal</figcaption>"
      ],
      "text/plain": [
       "<IPython.core.display.HTML object>"
      ]
     },
     "metadata": {},
     "output_type": "display_data"
    },
    {
     "name": "stdout",
     "output_type": "stream",
     "text": [
      "[0.00015113299014046788, 0.9998488426208496]\n"
     ]
    },
    {
     "data": {
      "text/html": [
       "<figcaption>./testimg/normal/20201109-101630_17YYa_1.jpg : Normal</figcaption>"
      ],
      "text/plain": [
       "<IPython.core.display.HTML object>"
      ]
     },
     "metadata": {},
     "output_type": "display_data"
    },
    {
     "name": "stdout",
     "output_type": "stream",
     "text": [
      "[0.0003348715545143932, 0.9996651411056519]\n"
     ]
    },
    {
     "data": {
      "text/html": [
       "<figcaption>./testimg/normal/20201109-101731_15YYa_1.jpg : Normal</figcaption>"
      ],
      "text/plain": [
       "<IPython.core.display.HTML object>"
      ]
     },
     "metadata": {},
     "output_type": "display_data"
    },
    {
     "name": "stdout",
     "output_type": "stream",
     "text": [
      "[0.00011797745537478477, 0.9998819828033447]\n"
     ]
    },
    {
     "data": {
      "text/html": [
       "<figcaption>./testimg/normal/20201109-101757_18YNa_1.jpg : Normal</figcaption>"
      ],
      "text/plain": [
       "<IPython.core.display.HTML object>"
      ]
     },
     "metadata": {},
     "output_type": "display_data"
    },
    {
     "name": "stdout",
     "output_type": "stream",
     "text": [
      "[0.018137650564312935, 0.9818623661994934]\n"
     ]
    },
    {
     "data": {
      "text/html": [
       "<figcaption>./testimg/normal/20201109-101743_22YYa_0.jpg : Normal</figcaption>"
      ],
      "text/plain": [
       "<IPython.core.display.HTML object>"
      ]
     },
     "metadata": {},
     "output_type": "display_data"
    },
    {
     "name": "stdout",
     "output_type": "stream",
     "text": [
      "[0.004426589701324701, 0.9955734014511108]\n"
     ]
    },
    {
     "data": {
      "text/html": [
       "<figcaption>./testimg/normal/20201109-101923_04YYa_0.jpg : Normal</figcaption>"
      ],
      "text/plain": [
       "<IPython.core.display.HTML object>"
      ]
     },
     "metadata": {},
     "output_type": "display_data"
    },
    {
     "name": "stdout",
     "output_type": "stream",
     "text": [
      "[3.429987555136904e-05, 0.9999656677246094]\n"
     ]
    },
    {
     "data": {
      "text/html": [
       "<figcaption>./testimg/normal/20201109-101833_13YYa_0.jpg : Normal</figcaption>"
      ],
      "text/plain": [
       "<IPython.core.display.HTML object>"
      ]
     },
     "metadata": {},
     "output_type": "display_data"
    },
    {
     "name": "stdout",
     "output_type": "stream",
     "text": [
      "[0.00014473992632701993, 0.9998552799224854]\n"
     ]
    },
    {
     "data": {
      "text/html": [
       "<figcaption>./testimg/normal/20201109-101910_25YYa_1.jpg : Normal</figcaption>"
      ],
      "text/plain": [
       "<IPython.core.display.HTML object>"
      ]
     },
     "metadata": {},
     "output_type": "display_data"
    },
    {
     "name": "stdout",
     "output_type": "stream",
     "text": [
      "[2.003013651119545e-05, 0.9999799728393555]\n"
     ]
    },
    {
     "data": {
      "text/html": [
       "<figcaption>./testimg/normal/20201109-101602_14YNa_0.jpg : Normal</figcaption>"
      ],
      "text/plain": [
       "<IPython.core.display.HTML object>"
      ]
     },
     "metadata": {},
     "output_type": "display_data"
    },
    {
     "name": "stdout",
     "output_type": "stream",
     "text": [
      "[2.1192829080973752e-05, 0.99997878074646]\n"
     ]
    },
    {
     "data": {
      "text/html": [
       "<figcaption>./testimg/normal/20201109-101630_09YYa_0.jpg : Normal</figcaption>"
      ],
      "text/plain": [
       "<IPython.core.display.HTML object>"
      ]
     },
     "metadata": {},
     "output_type": "display_data"
    },
    {
     "name": "stdout",
     "output_type": "stream",
     "text": [
      "[6.185800884850323e-05, 0.9999381303787231]\n"
     ]
    },
    {
     "data": {
      "text/html": [
       "<figcaption>./testimg/normal/20201109-101821_20YNa_0.jpg : Normal</figcaption>"
      ],
      "text/plain": [
       "<IPython.core.display.HTML object>"
      ]
     },
     "metadata": {},
     "output_type": "display_data"
    },
    {
     "name": "stdout",
     "output_type": "stream",
     "text": [
      "[0.02763393521308899, 0.9723660945892334]\n"
     ]
    },
    {
     "data": {
      "text/html": [
       "<figcaption>./testimg/normal/20201109-101833_21YYa_1.jpg : Normal</figcaption>"
      ],
      "text/plain": [
       "<IPython.core.display.HTML object>"
      ]
     },
     "metadata": {},
     "output_type": "display_data"
    },
    {
     "name": "stdout",
     "output_type": "stream",
     "text": [
      "[1.2618942264452926e-06, 0.9999986886978149]\n"
     ]
    },
    {
     "data": {
      "text/html": [
       "<figcaption>./testimg/normal/20201109-101655_11YYa_0.jpg : Normal</figcaption>"
      ],
      "text/plain": [
       "<IPython.core.display.HTML object>"
      ]
     },
     "metadata": {},
     "output_type": "display_data"
    },
    {
     "name": "stdout",
     "output_type": "stream",
     "text": [
      "[0.0007911333232186735, 0.9992088675498962]\n"
     ]
    },
    {
     "data": {
      "text/html": [
       "<figcaption>./testimg/normal/20201109-101857_08YNa_1.jpg : Normal</figcaption>"
      ],
      "text/plain": [
       "<IPython.core.display.HTML object>"
      ]
     },
     "metadata": {},
     "output_type": "display_data"
    },
    {
     "name": "stdout",
     "output_type": "stream",
     "text": [
      "[0.006468832027167082, 0.9935311675071716]\n"
     ]
    },
    {
     "data": {
      "text/html": [
       "<figcaption>./testimg/normal/20201109-101706_22YYa_1.jpg : Normal</figcaption>"
      ],
      "text/plain": [
       "<IPython.core.display.HTML object>"
      ]
     },
     "metadata": {},
     "output_type": "display_data"
    },
    {
     "name": "stdout",
     "output_type": "stream",
     "text": [
      "[0.00195466005243361, 0.9980453252792358]\n"
     ]
    },
    {
     "data": {
      "text/html": [
       "<figcaption>./testimg/normal/20201109-101808_09YYa_1.jpg : Normal</figcaption>"
      ],
      "text/plain": [
       "<IPython.core.display.HTML object>"
      ]
     },
     "metadata": {},
     "output_type": "display_data"
    },
    {
     "name": "stdout",
     "output_type": "stream",
     "text": [
      "[0.9466645121574402, 0.0533355176448822]\n"
     ]
    },
    {
     "data": {
      "text/html": [
       "<figcaption>./testimg/normal/20201109-101716_24YNa_1.jpg : Anomaly</figcaption>"
      ],
      "text/plain": [
       "<IPython.core.display.HTML object>"
      ]
     },
     "metadata": {},
     "output_type": "display_data"
    },
    {
     "name": "stdout",
     "output_type": "stream",
     "text": [
      "[0.000224842136958614, 0.9997751116752625]\n"
     ]
    },
    {
     "data": {
      "text/html": [
       "<figcaption>./testimg/normal/20201109-101616_26YNa_0.jpg : Normal</figcaption>"
      ],
      "text/plain": [
       "<IPython.core.display.HTML object>"
      ]
     },
     "metadata": {},
     "output_type": "display_data"
    },
    {
     "name": "stdout",
     "output_type": "stream",
     "text": [
      "[0.002418534830212593, 0.9975814819335938]\n"
     ]
    },
    {
     "data": {
      "text/html": [
       "<figcaption>./testimg/normal/20201109-101923_29YYa_1.jpg : Normal</figcaption>"
      ],
      "text/plain": [
       "<IPython.core.display.HTML object>"
      ]
     },
     "metadata": {},
     "output_type": "display_data"
    },
    {
     "name": "stdout",
     "output_type": "stream",
     "text": [
      "[0.004807322286069393, 0.9951926469802856]\n"
     ]
    },
    {
     "data": {
      "text/html": [
       "<figcaption>./testimg/normal/20201109-101743_25YNa_0.jpg : Normal</figcaption>"
      ],
      "text/plain": [
       "<IPython.core.display.HTML object>"
      ]
     },
     "metadata": {},
     "output_type": "display_data"
    },
    {
     "name": "stdout",
     "output_type": "stream",
     "text": [
      "[8.240210445364937e-05, 0.9999176263809204]\n"
     ]
    },
    {
     "data": {
      "text/html": [
       "<figcaption>./testimg/normal/20201109-101821_09YNa_1.jpg : Normal</figcaption>"
      ],
      "text/plain": [
       "<IPython.core.display.HTML object>"
      ]
     },
     "metadata": {},
     "output_type": "display_data"
    },
    {
     "name": "stdout",
     "output_type": "stream",
     "text": [
      "[0.00013242202112451196, 0.9998675584793091]\n"
     ]
    },
    {
     "data": {
      "text/html": [
       "<figcaption>./testimg/normal/20201109-101655_28YYa_0.jpg : Normal</figcaption>"
      ],
      "text/plain": [
       "<IPython.core.display.HTML object>"
      ]
     },
     "metadata": {},
     "output_type": "display_data"
    },
    {
     "name": "stdout",
     "output_type": "stream",
     "text": [
      "[0.00016541901277378201, 0.9998345375061035]\n"
     ]
    },
    {
     "data": {
      "text/html": [
       "<figcaption>./testimg/normal/20201109-101857_24YYa_0.jpg : Normal</figcaption>"
      ],
      "text/plain": [
       "<IPython.core.display.HTML object>"
      ]
     },
     "metadata": {},
     "output_type": "display_data"
    },
    {
     "name": "stdout",
     "output_type": "stream",
     "text": [
      "[0.00030281514045782387, 0.999697208404541]\n"
     ]
    },
    {
     "data": {
      "text/html": [
       "<figcaption>./testimg/normal/20201109-101602_02YYa_0.jpg : Normal</figcaption>"
      ],
      "text/plain": [
       "<IPython.core.display.HTML object>"
      ]
     },
     "metadata": {},
     "output_type": "display_data"
    },
    {
     "name": "stdout",
     "output_type": "stream",
     "text": [
      "[0.0003509076195769012, 0.9996490478515625]\n"
     ]
    },
    {
     "data": {
      "text/html": [
       "<figcaption>./testimg/normal/20201109-101845_17YYa_1.jpg : Normal</figcaption>"
      ],
      "text/plain": [
       "<IPython.core.display.HTML object>"
      ]
     },
     "metadata": {},
     "output_type": "display_data"
    },
    {
     "name": "stdout",
     "output_type": "stream",
     "text": [
      "[0.044663138687610626, 0.9553369283676147]\n"
     ]
    },
    {
     "data": {
      "text/html": [
       "<figcaption>./testimg/normal/20201109-101935_08YYa_1.jpg : Normal</figcaption>"
      ],
      "text/plain": [
       "<IPython.core.display.HTML object>"
      ]
     },
     "metadata": {},
     "output_type": "display_data"
    },
    {
     "name": "stdout",
     "output_type": "stream",
     "text": [
      "[4.297415216569789e-06, 0.9999957084655762]\n"
     ]
    },
    {
     "data": {
      "text/html": [
       "<figcaption>./testimg/normal/20201109-101757_20YNa_0.jpg : Normal</figcaption>"
      ],
      "text/plain": [
       "<IPython.core.display.HTML object>"
      ]
     },
     "metadata": {},
     "output_type": "display_data"
    },
    {
     "name": "stdout",
     "output_type": "stream",
     "text": [
      "[0.004039951600134373, 0.9959600567817688]\n"
     ]
    },
    {
     "data": {
      "text/html": [
       "<figcaption>./testimg/normal/20201109-101947_23YYa_1.jpg : Normal</figcaption>"
      ],
      "text/plain": [
       "<IPython.core.display.HTML object>"
      ]
     },
     "metadata": {},
     "output_type": "display_data"
    },
    {
     "name": "stdout",
     "output_type": "stream",
     "text": [
      "[0.00033586606150493026, 0.9996641874313354]\n"
     ]
    },
    {
     "data": {
      "text/html": [
       "<figcaption>./testimg/normal/20201109-101602_10YYa_1.jpg : Normal</figcaption>"
      ],
      "text/plain": [
       "<IPython.core.display.HTML object>"
      ]
     },
     "metadata": {},
     "output_type": "display_data"
    },
    {
     "name": "stdout",
     "output_type": "stream",
     "text": [
      "[3.231962182326242e-05, 0.9999676942825317]\n"
     ]
    },
    {
     "data": {
      "text/html": [
       "<figcaption>./testimg/normal/20201109-101935_22YNa_0.jpg : Normal</figcaption>"
      ],
      "text/plain": [
       "<IPython.core.display.HTML object>"
      ]
     },
     "metadata": {},
     "output_type": "display_data"
    },
    {
     "name": "stdout",
     "output_type": "stream",
     "text": [
      "[0.00016327777120750397, 0.9998366832733154]\n"
     ]
    },
    {
     "data": {
      "text/html": [
       "<figcaption>./testimg/normal/20201109-101845_09YYa_0.jpg : Normal</figcaption>"
      ],
      "text/plain": [
       "<IPython.core.display.HTML object>"
      ]
     },
     "metadata": {},
     "output_type": "display_data"
    },
    {
     "name": "stdout",
     "output_type": "stream",
     "text": [
      "[0.0010033504804596305, 0.9989966750144958]\n"
     ]
    },
    {
     "data": {
      "text/html": [
       "<figcaption>./testimg/normal/20201109-101757_06YYa_1.jpg : Normal</figcaption>"
      ],
      "text/plain": [
       "<IPython.core.display.HTML object>"
      ]
     },
     "metadata": {},
     "output_type": "display_data"
    },
    {
     "name": "stdout",
     "output_type": "stream",
     "text": [
      "[0.0013622540282085538, 0.9986377358436584]\n"
     ]
    },
    {
     "data": {
      "text/html": [
       "<figcaption>./testimg/normal/20201109-101857_14YYa_1.jpg : Normal</figcaption>"
      ],
      "text/plain": [
       "<IPython.core.display.HTML object>"
      ]
     },
     "metadata": {},
     "output_type": "display_data"
    },
    {
     "name": "stdout",
     "output_type": "stream",
     "text": [
      "[0.0006530383252538741, 0.999346911907196]\n"
     ]
    },
    {
     "data": {
      "text/html": [
       "<figcaption>./testimg/normal/20201109-101833_06YNa_1.jpg : Normal</figcaption>"
      ],
      "text/plain": [
       "<IPython.core.display.HTML object>"
      ]
     },
     "metadata": {},
     "output_type": "display_data"
    },
    {
     "name": "stdout",
     "output_type": "stream",
     "text": [
      "[3.0805240385234356e-06, 0.9999969005584717]\n"
     ]
    },
    {
     "data": {
      "text/html": [
       "<figcaption>./testimg/normal/20201109-101757_16YYa_0.jpg : Normal</figcaption>"
      ],
      "text/plain": [
       "<IPython.core.display.HTML object>"
      ]
     },
     "metadata": {},
     "output_type": "display_data"
    },
    {
     "name": "stdout",
     "output_type": "stream",
     "text": [
      "[0.0005173012614250183, 0.9994826316833496]\n"
     ]
    },
    {
     "data": {
      "text/html": [
       "<figcaption>./testimg/normal/20201109-101535_16YNa_1.jpg : Normal</figcaption>"
      ],
      "text/plain": [
       "<IPython.core.display.HTML object>"
      ]
     },
     "metadata": {},
     "output_type": "display_data"
    },
    {
     "name": "stdout",
     "output_type": "stream",
     "text": [
      "[7.04147678334266e-05, 0.9999295473098755]\n"
     ]
    },
    {
     "data": {
      "text/html": [
       "<figcaption>./testimg/normal/20201109-101923_25YNa_0.jpg : Normal</figcaption>"
      ],
      "text/plain": [
       "<IPython.core.display.HTML object>"
      ]
     },
     "metadata": {},
     "output_type": "display_data"
    },
    {
     "name": "stdout",
     "output_type": "stream",
     "text": [
      "[0.019785916432738304, 0.9802140593528748]\n"
     ]
    },
    {
     "data": {
      "text/html": [
       "<figcaption>./testimg/normal/20201109-101935_26YYa_1.jpg : Normal</figcaption>"
      ],
      "text/plain": [
       "<IPython.core.display.HTML object>"
      ]
     },
     "metadata": {},
     "output_type": "display_data"
    },
    {
     "name": "stdout",
     "output_type": "stream",
     "text": [
      "[5.692842751159333e-05, 0.9999430179595947]\n"
     ]
    },
    {
     "data": {
      "text/html": [
       "<figcaption>./testimg/normal/20201109-101642_17YNa_1.jpg : Normal</figcaption>"
      ],
      "text/plain": [
       "<IPython.core.display.HTML object>"
      ]
     },
     "metadata": {},
     "output_type": "display_data"
    },
    {
     "name": "stdout",
     "output_type": "stream",
     "text": [
      "[2.6073537810589187e-05, 0.9999738931655884]\n"
     ]
    },
    {
     "data": {
      "text/html": [
       "<figcaption>./testimg/normal/20201109-101808_05YNa_0.jpg : Normal</figcaption>"
      ],
      "text/plain": [
       "<IPython.core.display.HTML object>"
      ]
     },
     "metadata": {},
     "output_type": "display_data"
    },
    {
     "name": "stdout",
     "output_type": "stream",
     "text": [
      "[8.394791802857071e-05, 0.9999160766601562]\n"
     ]
    },
    {
     "data": {
      "text/html": [
       "<figcaption>./testimg/normal/20201109-101743_07YNa_0.jpg : Normal</figcaption>"
      ],
      "text/plain": [
       "<IPython.core.display.HTML object>"
      ]
     },
     "metadata": {},
     "output_type": "display_data"
    },
    {
     "name": "stdout",
     "output_type": "stream",
     "text": [
      "[0.00011098138202214614, 0.9998890161514282]\n"
     ]
    },
    {
     "data": {
      "text/html": [
       "<figcaption>./testimg/normal/20201109-101857_06YYa_0.jpg : Normal</figcaption>"
      ],
      "text/plain": [
       "<IPython.core.display.HTML object>"
      ]
     },
     "metadata": {},
     "output_type": "display_data"
    },
    {
     "name": "stdout",
     "output_type": "stream",
     "text": [
      "[0.006504112388938665, 0.9934958219528198]\n"
     ]
    },
    {
     "data": {
      "text/html": [
       "<figcaption>./testimg/normal/20201109-101743_29YYa_1.jpg : Normal</figcaption>"
      ],
      "text/plain": [
       "<IPython.core.display.HTML object>"
      ]
     },
     "metadata": {},
     "output_type": "display_data"
    },
    {
     "name": "stdout",
     "output_type": "stream",
     "text": [
      "[5.3638748795492575e-05, 0.9999463558197021]\n"
     ]
    },
    {
     "data": {
      "text/html": [
       "<figcaption>./testimg/normal/20201109-101845_27YYa_0.jpg : Normal</figcaption>"
      ],
      "text/plain": [
       "<IPython.core.display.HTML object>"
      ]
     },
     "metadata": {},
     "output_type": "display_data"
    },
    {
     "name": "stdout",
     "output_type": "stream",
     "text": [
      "[0.00014396276674233377, 0.9998559951782227]\n"
     ]
    },
    {
     "data": {
      "text/html": [
       "<figcaption>./testimg/normal/20201109-101616_08YNa_0.jpg : Normal</figcaption>"
      ],
      "text/plain": [
       "<IPython.core.display.HTML object>"
      ]
     },
     "metadata": {},
     "output_type": "display_data"
    },
    {
     "name": "stdout",
     "output_type": "stream",
     "text": [
      "[1.68322071658622e-06, 0.9999983310699463]\n"
     ]
    },
    {
     "data": {
      "text/html": [
       "<figcaption>./testimg/normal/20201109-101935_18YYa_0.jpg : Normal</figcaption>"
      ],
      "text/plain": [
       "<IPython.core.display.HTML object>"
      ]
     },
     "metadata": {},
     "output_type": "display_data"
    },
    {
     "name": "stdout",
     "output_type": "stream",
     "text": [
      "[0.00019358604913577437, 0.9998064637184143]\n"
     ]
    },
    {
     "data": {
      "text/html": [
       "<figcaption>./testimg/normal/20201109-101821_19YNa_0.jpg : Normal</figcaption>"
      ],
      "text/plain": [
       "<IPython.core.display.HTML object>"
      ]
     },
     "metadata": {},
     "output_type": "display_data"
    },
    {
     "name": "stdout",
     "output_type": "stream",
     "text": [
      "[2.2330898445943603e-06, 0.9999977350234985]\n"
     ]
    },
    {
     "data": {
      "text/html": [
       "<figcaption>./testimg/normal/20201109-101535_08YNa_0.jpg : Normal</figcaption>"
      ],
      "text/plain": [
       "<IPython.core.display.HTML object>"
      ]
     },
     "metadata": {},
     "output_type": "display_data"
    },
    {
     "name": "stdout",
     "output_type": "stream",
     "text": [
      "[1.322075604548445e-05, 0.9999867677688599]\n"
     ]
    },
    {
     "data": {
      "text/html": [
       "<figcaption>./testimg/normal/20201109-101630_01YYa_0.jpg : Normal</figcaption>"
      ],
      "text/plain": [
       "<IPython.core.display.HTML object>"
      ]
     },
     "metadata": {},
     "output_type": "display_data"
    },
    {
     "name": "stdout",
     "output_type": "stream",
     "text": [
      "[0.0020198298152536154, 0.9979801774024963]\n"
     ]
    },
    {
     "data": {
      "text/html": [
       "<figcaption>./testimg/normal/20201109-101757_07YYa_0.jpg : Normal</figcaption>"
      ],
      "text/plain": [
       "<IPython.core.display.HTML object>"
      ]
     },
     "metadata": {},
     "output_type": "display_data"
    },
    {
     "name": "stdout",
     "output_type": "stream",
     "text": [
      "[0.00022407919459510595, 0.9997759461402893]\n"
     ]
    },
    {
     "data": {
      "text/html": [
       "<figcaption>./testimg/normal/20201109-101743_06YNa_1.jpg : Normal</figcaption>"
      ],
      "text/plain": [
       "<IPython.core.display.HTML object>"
      ]
     },
     "metadata": {},
     "output_type": "display_data"
    },
    {
     "name": "stdout",
     "output_type": "stream",
     "text": [
      "[0.0039046413730829954, 0.9960953593254089]\n"
     ]
    },
    {
     "data": {
      "text/html": [
       "<figcaption>./testimg/normal/20201109-101655_09YYa_1.jpg : Normal</figcaption>"
      ],
      "text/plain": [
       "<IPython.core.display.HTML object>"
      ]
     },
     "metadata": {},
     "output_type": "display_data"
    },
    {
     "name": "stdout",
     "output_type": "stream",
     "text": [
      "[2.100492019962985e-05, 0.9999790191650391]\n"
     ]
    },
    {
     "data": {
      "text/html": [
       "<figcaption>./testimg/normal/20201109-101935_17YYa_1.jpg : Normal</figcaption>"
      ],
      "text/plain": [
       "<IPython.core.display.HTML object>"
      ]
     },
     "metadata": {},
     "output_type": "display_data"
    },
    {
     "name": "stdout",
     "output_type": "stream",
     "text": [
      "[0.023123612627387047, 0.9768763184547424]\n"
     ]
    },
    {
     "data": {
      "text/html": [
       "<figcaption>./testimg/normal/20201109-101845_26YYa_1.jpg : Normal</figcaption>"
      ],
      "text/plain": [
       "<IPython.core.display.HTML object>"
      ]
     },
     "metadata": {},
     "output_type": "display_data"
    },
    {
     "name": "stdout",
     "output_type": "stream",
     "text": [
      "[5.875609986105701e-06, 0.999994158744812]\n"
     ]
    },
    {
     "data": {
      "text/html": [
       "<figcaption>./testimg/normal/20201109-101602_11YYa_0.jpg : Normal</figcaption>"
      ],
      "text/plain": [
       "<IPython.core.display.HTML object>"
      ]
     },
     "metadata": {},
     "output_type": "display_data"
    },
    {
     "name": "stdout",
     "output_type": "stream",
     "text": [
      "[4.8035075451480225e-05, 0.999951958656311]\n"
     ]
    },
    {
     "data": {
      "text/html": [
       "<figcaption>./testimg/normal/20201109-101947_24YYa_0.jpg : Normal</figcaption>"
      ],
      "text/plain": [
       "<IPython.core.display.HTML object>"
      ]
     },
     "metadata": {},
     "output_type": "display_data"
    },
    {
     "name": "stdout",
     "output_type": "stream",
     "text": [
      "[0.00015485784388147295, 0.9998451471328735]\n"
     ]
    },
    {
     "data": {
      "text/html": [
       "<figcaption>./testimg/normal/20201109-101821_18YNa_1.jpg : Normal</figcaption>"
      ],
      "text/plain": [
       "<IPython.core.display.HTML object>"
      ]
     },
     "metadata": {},
     "output_type": "display_data"
    },
    {
     "name": "stdout",
     "output_type": "stream",
     "text": [
      "[0.010236931964755058, 0.9897630214691162]\n"
     ]
    },
    {
     "data": {
      "text/html": [
       "<figcaption>./testimg/normal/20201109-101923_24YNa_1.jpg : Normal</figcaption>"
      ],
      "text/plain": [
       "<IPython.core.display.HTML object>"
      ]
     },
     "metadata": {},
     "output_type": "display_data"
    },
    {
     "name": "stdout",
     "output_type": "stream",
     "text": [
      "[5.4066120355855674e-05, 0.999945878982544]\n"
     ]
    },
    {
     "data": {
      "text/html": [
       "<figcaption>./testimg/normal/20201109-101808_04YNa_1.jpg : Normal</figcaption>"
      ],
      "text/plain": [
       "<IPython.core.display.HTML object>"
      ]
     },
     "metadata": {},
     "output_type": "display_data"
    },
    {
     "name": "stdout",
     "output_type": "stream",
     "text": [
      "[8.456280193058774e-05, 0.9999154806137085]\n"
     ]
    },
    {
     "data": {
      "text/html": [
       "<figcaption>./testimg/normal/20201109-101947_10YNa_0.jpg : Normal</figcaption>"
      ],
      "text/plain": [
       "<IPython.core.display.HTML object>"
      ]
     },
     "metadata": {},
     "output_type": "display_data"
    },
    {
     "name": "stdout",
     "output_type": "stream",
     "text": [
      "[0.0003363305004313588, 0.9996637105941772]\n"
     ]
    },
    {
     "data": {
      "text/html": [
       "<figcaption>./testimg/normal/20201109-101757_15YYa_1.jpg : Normal</figcaption>"
      ],
      "text/plain": [
       "<IPython.core.display.HTML object>"
      ]
     },
     "metadata": {},
     "output_type": "display_data"
    },
    {
     "name": "stdout",
     "output_type": "stream",
     "text": [
      "[3.316811125841923e-05, 0.9999668598175049]\n"
     ]
    },
    {
     "data": {
      "text/html": [
       "<figcaption>./testimg/normal/20201109-101845_18YYa_0.jpg : Normal</figcaption>"
      ],
      "text/plain": [
       "<IPython.core.display.HTML object>"
      ]
     },
     "metadata": {},
     "output_type": "display_data"
    },
    {
     "name": "stdout",
     "output_type": "stream",
     "text": [
      "[6.329996540443972e-05, 0.9999366998672485]\n"
     ]
    },
    {
     "data": {
      "text/html": [
       "<figcaption>./testimg/normal/20201109-101910_29YNa_0.jpg : Normal</figcaption>"
      ],
      "text/plain": [
       "<IPython.core.display.HTML object>"
      ]
     },
     "metadata": {},
     "output_type": "display_data"
    },
    {
     "name": "stdout",
     "output_type": "stream",
     "text": [
      "[0.0005541850696317852, 0.9994458556175232]\n"
     ]
    },
    {
     "data": {
      "text/html": [
       "<figcaption>./testimg/normal/20201109-101935_09YYa_0.jpg : Normal</figcaption>"
      ],
      "text/plain": [
       "<IPython.core.display.HTML object>"
      ]
     },
     "metadata": {},
     "output_type": "display_data"
    },
    {
     "name": "stdout",
     "output_type": "stream",
     "text": [
      "[7.299848334696435e-07, 0.9999992847442627]\n"
     ]
    },
    {
     "data": {
      "text/html": [
       "<figcaption>./testimg/normal/20201109-101757_25YYa_0.jpg : Normal</figcaption>"
      ],
      "text/plain": [
       "<IPython.core.display.HTML object>"
      ]
     },
     "metadata": {},
     "output_type": "display_data"
    },
    {
     "name": "stdout",
     "output_type": "stream",
     "text": [
      "[0.013184848241508007, 0.9868152141571045]\n"
     ]
    },
    {
     "data": {
      "text/html": [
       "<figcaption>./testimg/normal/20201109-101743_24YNa_1.jpg : Normal</figcaption>"
      ],
      "text/plain": [
       "<IPython.core.display.HTML object>"
      ]
     },
     "metadata": {},
     "output_type": "display_data"
    },
    {
     "name": "stdout",
     "output_type": "stream",
     "text": [
      "[0.0032261041924357414, 0.996773898601532]\n"
     ]
    },
    {
     "data": {
      "text/html": [
       "<figcaption>./testimg/normal/20201109-101857_23YYa_1.jpg : Normal</figcaption>"
      ],
      "text/plain": [
       "<IPython.core.display.HTML object>"
      ]
     },
     "metadata": {},
     "output_type": "display_data"
    },
    {
     "name": "stdout",
     "output_type": "stream",
     "text": [
      "[0.009759274311363697, 0.9902406930923462]\n"
     ]
    },
    {
     "data": {
      "text/html": [
       "<figcaption>./testimg/normal/20201109-101947_14YYa_1.jpg : Normal</figcaption>"
      ],
      "text/plain": [
       "<IPython.core.display.HTML object>"
      ]
     },
     "metadata": {},
     "output_type": "display_data"
    },
    {
     "name": "stdout",
     "output_type": "stream",
     "text": [
      "[0.023810727521777153, 0.9761892557144165]\n"
     ]
    },
    {
     "data": {
      "text/html": [
       "<figcaption>./testimg/normal/20201109-101808_14YNa_0.jpg : Normal</figcaption>"
      ],
      "text/plain": [
       "<IPython.core.display.HTML object>"
      ]
     },
     "metadata": {},
     "output_type": "display_data"
    },
    {
     "name": "stdout",
     "output_type": "stream",
     "text": [
      "[0.03388549014925957, 0.9661145210266113]\n"
     ]
    },
    {
     "data": {
      "text/html": [
       "<figcaption>./testimg/normal/20201109-101616_25YNa_1.jpg : Normal</figcaption>"
      ],
      "text/plain": [
       "<IPython.core.display.HTML object>"
      ]
     },
     "metadata": {},
     "output_type": "display_data"
    },
    {
     "name": "stdout",
     "output_type": "stream",
     "text": [
      "[0.0016521330690011382, 0.9983478784561157]\n"
     ]
    },
    {
     "data": {
      "text/html": [
       "<figcaption>./testimg/normal/20201109-101706_16YNa_1.jpg : Normal</figcaption>"
      ],
      "text/plain": [
       "<IPython.core.display.HTML object>"
      ]
     },
     "metadata": {},
     "output_type": "display_data"
    },
    {
     "name": "stdout",
     "output_type": "stream",
     "text": [
      "[0.024281924590468407, 0.9757180213928223]\n"
     ]
    },
    {
     "data": {
      "text/html": [
       "<figcaption>./testimg/normal/20201109-101535_25YNa_1.jpg : Normal</figcaption>"
      ],
      "text/plain": [
       "<IPython.core.display.HTML object>"
      ]
     },
     "metadata": {},
     "output_type": "display_data"
    },
    {
     "name": "stdout",
     "output_type": "stream",
     "text": [
      "[8.025201168493368e-06, 0.9999920129776001]\n"
     ]
    },
    {
     "data": {
      "text/html": [
       "<figcaption>./testimg/normal/20201109-101857_15YYa_0.jpg : Normal</figcaption>"
      ],
      "text/plain": [
       "<IPython.core.display.HTML object>"
      ]
     },
     "metadata": {},
     "output_type": "display_data"
    },
    {
     "name": "stdout",
     "output_type": "stream",
     "text": [
      "[1.8921899027191103e-05, 0.9999810457229614]\n"
     ]
    },
    {
     "data": {
      "text/html": [
       "<figcaption>./testimg/normal/20201109-101947_06YYa_0.jpg : Normal</figcaption>"
      ],
      "text/plain": [
       "<IPython.core.display.HTML object>"
      ]
     },
     "metadata": {},
     "output_type": "display_data"
    },
    {
     "name": "stdout",
     "output_type": "stream",
     "text": [
      "[0.0002461633994244039, 0.9997538924217224]\n"
     ]
    },
    {
     "data": {
      "text/html": [
       "<figcaption>./testimg/normal/20201109-101910_19YNa_1.jpg : Normal</figcaption>"
      ],
      "text/plain": [
       "<IPython.core.display.HTML object>"
      ]
     },
     "metadata": {},
     "output_type": "display_data"
    },
    {
     "name": "stdout",
     "output_type": "stream",
     "text": [
      "[0.0010553624015301466, 0.9989446997642517]\n"
     ]
    },
    {
     "data": {
      "text/html": [
       "<figcaption>./testimg/normal/20201109-101845_08YYa_1.jpg : Normal</figcaption>"
      ],
      "text/plain": [
       "<IPython.core.display.HTML object>"
      ]
     },
     "metadata": {},
     "output_type": "display_data"
    },
    {
     "name": "stdout",
     "output_type": "stream",
     "text": [
      "[4.082012310391292e-05, 0.9999592304229736]\n"
     ]
    },
    {
     "data": {
      "text/html": [
       "<figcaption>./testimg/normal/20201109-101731_09YNa_1.jpg : Normal</figcaption>"
      ],
      "text/plain": [
       "<IPython.core.display.HTML object>"
      ]
     },
     "metadata": {},
     "output_type": "display_data"
    },
    {
     "name": "stdout",
     "output_type": "stream",
     "text": [
      "[0.00012049063661834225, 0.9998794794082642]\n"
     ]
    },
    {
     "data": {
      "text/html": [
       "<figcaption>./testimg/normal/20201109-101833_07YNa_0.jpg : Normal</figcaption>"
      ],
      "text/plain": [
       "<IPython.core.display.HTML object>"
      ]
     },
     "metadata": {},
     "output_type": "display_data"
    },
    {
     "name": "stdout",
     "output_type": "stream",
     "text": [
      "[1.52650482050376e-05, 0.9999847412109375]\n"
     ]
    },
    {
     "data": {
      "text/html": [
       "<figcaption>./testimg/normal/20201109-101630_10YYa_0.jpg : Normal</figcaption>"
      ],
      "text/plain": [
       "<IPython.core.display.HTML object>"
      ]
     },
     "metadata": {},
     "output_type": "display_data"
    },
    {
     "name": "stdout",
     "output_type": "stream",
     "text": [
      "[0.0005620854208245873, 0.9994378685951233]\n"
     ]
    },
    {
     "data": {
      "text/html": [
       "<figcaption>./testimg/normal/20201109-101935_21YNa_1.jpg : Normal</figcaption>"
      ],
      "text/plain": [
       "<IPython.core.display.HTML object>"
      ]
     },
     "metadata": {},
     "output_type": "display_data"
    },
    {
     "name": "stdout",
     "output_type": "stream",
     "text": [
      "[2.2064266886445694e-05, 0.9999779462814331]\n"
     ]
    },
    {
     "data": {
      "text/html": [
       "<figcaption>./testimg/normal/20201109-101535_17YNa_0.jpg : Normal</figcaption>"
      ],
      "text/plain": [
       "<IPython.core.display.HTML object>"
      ]
     },
     "metadata": {},
     "output_type": "display_data"
    },
    {
     "name": "stdout",
     "output_type": "stream",
     "text": [
      "[0.00019180294475518167, 0.9998082518577576]\n"
     ]
    },
    {
     "data": {
      "text/html": [
       "<figcaption>./testimg/normal/20201109-101642_18YNa_0.jpg : Normal</figcaption>"
      ],
      "text/plain": [
       "<IPython.core.display.HTML object>"
      ]
     },
     "metadata": {},
     "output_type": "display_data"
    },
    {
     "name": "stdout",
     "output_type": "stream",
     "text": [
      "[0.0002543709706515074, 0.9997456669807434]\n"
     ]
    },
    {
     "data": {
      "text/html": [
       "<figcaption>./testimg/normal/20201109-101833_29YYa_1.jpg : Normal</figcaption>"
      ],
      "text/plain": [
       "<IPython.core.display.HTML object>"
      ]
     },
     "metadata": {},
     "output_type": "display_data"
    },
    {
     "name": "stdout",
     "output_type": "stream",
     "text": [
      "[0.004805730190128088, 0.9951942563056946]\n"
     ]
    },
    {
     "data": {
      "text/html": [
       "<figcaption>./testimg/normal/20201109-101935_27YYa_0.jpg : Normal</figcaption>"
      ],
      "text/plain": [
       "<IPython.core.display.HTML object>"
      ]
     },
     "metadata": {},
     "output_type": "display_data"
    },
    {
     "name": "stdout",
     "output_type": "stream",
     "text": [
      "[3.25172391058004e-06, 0.9999967813491821]\n"
     ]
    },
    {
     "data": {
      "text/html": [
       "<figcaption>./testimg/normal/20201109-101616_17YNa_0.jpg : Normal</figcaption>"
      ],
      "text/plain": [
       "<IPython.core.display.HTML object>"
      ]
     },
     "metadata": {},
     "output_type": "display_data"
    },
    {
     "name": "stdout",
     "output_type": "stream",
     "text": [
      "[0.0005666069337166846, 0.9994333386421204]\n"
     ]
    },
    {
     "data": {
      "text/html": [
       "<figcaption>./testimg/normal/20201109-101833_26YYa_0.jpg : Normal</figcaption>"
      ],
      "text/plain": [
       "<IPython.core.display.HTML object>"
      ]
     },
     "metadata": {},
     "output_type": "display_data"
    },
    {
     "name": "stdout",
     "output_type": "stream",
     "text": [
      "[0.00010296397522324696, 0.9998970031738281]\n"
     ]
    },
    {
     "data": {
      "text/html": [
       "<figcaption>./testimg/normal/20201109-101923_17YYa_0.jpg : Normal</figcaption>"
      ],
      "text/plain": [
       "<IPython.core.display.HTML object>"
      ]
     },
     "metadata": {},
     "output_type": "display_data"
    },
    {
     "name": "stdout",
     "output_type": "stream",
     "text": [
      "[0.0009598109172657132, 0.9990401864051819]\n"
     ]
    },
    {
     "data": {
      "text/html": [
       "<figcaption>./testimg/normal/20201109-101642_09YYa_1.jpg : Normal</figcaption>"
      ],
      "text/plain": [
       "<IPython.core.display.HTML object>"
      ]
     },
     "metadata": {},
     "output_type": "display_data"
    },
    {
     "name": "stdout",
     "output_type": "stream",
     "text": [
      "[7.691772225371096e-06, 0.9999922513961792]\n"
     ]
    },
    {
     "data": {
      "text/html": [
       "<figcaption>./testimg/normal/20201109-101845_05YYa_0.jpg : Normal</figcaption>"
      ],
      "text/plain": [
       "<IPython.core.display.HTML object>"
      ]
     },
     "metadata": {},
     "output_type": "display_data"
    },
    {
     "name": "stdout",
     "output_type": "stream",
     "text": [
      "[2.1255635147099383e-05, 0.99997878074646]\n"
     ]
    },
    {
     "data": {
      "text/html": [
       "<figcaption>./testimg/normal/20201109-101706_27YYa_0.jpg : Normal</figcaption>"
      ],
      "text/plain": [
       "<IPython.core.display.HTML object>"
      ]
     },
     "metadata": {},
     "output_type": "display_data"
    },
    {
     "name": "stdout",
     "output_type": "stream",
     "text": [
      "[8.185627848433796e-06, 0.999991774559021]\n"
     ]
    },
    {
     "data": {
      "text/html": [
       "<figcaption>./testimg/normal/20201109-101910_16YNa_0.jpg : Normal</figcaption>"
      ],
      "text/plain": [
       "<IPython.core.display.HTML object>"
      ]
     },
     "metadata": {},
     "output_type": "display_data"
    },
    {
     "name": "stdout",
     "output_type": "stream",
     "text": [
      "[6.788211976527236e-06, 0.9999932050704956]\n"
     ]
    },
    {
     "data": {
      "text/html": [
       "<figcaption>./testimg/normal/20201109-101731_06YNa_0.jpg : Normal</figcaption>"
      ],
      "text/plain": [
       "<IPython.core.display.HTML object>"
      ]
     },
     "metadata": {},
     "output_type": "display_data"
    },
    {
     "name": "stdout",
     "output_type": "stream",
     "text": [
      "[0.0011717003071680665, 0.9988283514976501]\n"
     ]
    },
    {
     "data": {
      "text/html": [
       "<figcaption>./testimg/normal/20201109-101757_02YYa_1.jpg : Normal</figcaption>"
      ],
      "text/plain": [
       "<IPython.core.display.HTML object>"
      ]
     },
     "metadata": {},
     "output_type": "display_data"
    },
    {
     "name": "stdout",
     "output_type": "stream",
     "text": [
      "[0.0003006318293046206, 0.9996993541717529]\n"
     ]
    },
    {
     "data": {
      "text/html": [
       "<figcaption>./testimg/normal/20201109-101821_05YNa_1.jpg : Normal</figcaption>"
      ],
      "text/plain": [
       "<IPython.core.display.HTML object>"
      ]
     },
     "metadata": {},
     "output_type": "display_data"
    },
    {
     "name": "stdout",
     "output_type": "stream",
     "text": [
      "[0.001379443216137588, 0.9986205101013184]\n"
     ]
    },
    {
     "data": {
      "text/html": [
       "<figcaption>./testimg/normal/20201109-101655_24YYa_0.jpg : Normal</figcaption>"
      ],
      "text/plain": [
       "<IPython.core.display.HTML object>"
      ]
     },
     "metadata": {},
     "output_type": "display_data"
    },
    {
     "name": "stdout",
     "output_type": "stream",
     "text": [
      "[0.0010480927303433418, 0.9989519119262695]\n"
     ]
    },
    {
     "data": {
      "text/html": [
       "<figcaption>./testimg/normal/20201109-101743_21YNa_0.jpg : Normal</figcaption>"
      ],
      "text/plain": [
       "<IPython.core.display.HTML object>"
      ]
     },
     "metadata": {},
     "output_type": "display_data"
    },
    {
     "name": "stdout",
     "output_type": "stream",
     "text": [
      "[0.013347944244742393, 0.986652135848999]\n"
     ]
    },
    {
     "data": {
      "text/html": [
       "<figcaption>./testimg/normal/20201109-101845_13YYa_1.jpg : Normal</figcaption>"
      ],
      "text/plain": [
       "<IPython.core.display.HTML object>"
      ]
     },
     "metadata": {},
     "output_type": "display_data"
    },
    {
     "name": "stdout",
     "output_type": "stream",
     "text": [
      "[0.0009605619125068188, 0.999039351940155]\n"
     ]
    },
    {
     "data": {
      "text/html": [
       "<figcaption>./testimg/normal/20201109-101935_04YYa_1.jpg : Normal</figcaption>"
      ],
      "text/plain": [
       "<IPython.core.display.HTML object>"
      ]
     },
     "metadata": {},
     "output_type": "display_data"
    },
    {
     "name": "stdout",
     "output_type": "stream",
     "text": [
      "[3.955471584049519e-06, 0.9999960660934448]\n"
     ]
    },
    {
     "data": {
      "text/html": [
       "<figcaption>./testimg/normal/20201109-101716_26YYa_0.jpg : Normal</figcaption>"
      ],
      "text/plain": [
       "<IPython.core.display.HTML object>"
      ]
     },
     "metadata": {},
     "output_type": "display_data"
    },
    {
     "name": "stdout",
     "output_type": "stream",
     "text": [
      "[1.8710289850787376e-06, 0.9999980926513672]\n"
     ]
    },
    {
     "data": {
      "text/html": [
       "<figcaption>./testimg/normal/20201109-101706_13YNa_0.jpg : Normal</figcaption>"
      ],
      "text/plain": [
       "<IPython.core.display.HTML object>"
      ]
     },
     "metadata": {},
     "output_type": "display_data"
    },
    {
     "name": "stdout",
     "output_type": "stream",
     "text": [
      "[0.0001484461681684479, 0.9998515844345093]\n"
     ]
    },
    {
     "data": {
      "text/html": [
       "<figcaption>./testimg/normal/20201109-101616_22YNa_0.jpg : Normal</figcaption>"
      ],
      "text/plain": [
       "<IPython.core.display.HTML object>"
      ]
     },
     "metadata": {},
     "output_type": "display_data"
    },
    {
     "name": "stdout",
     "output_type": "stream",
     "text": [
      "[0.00015113616245798767, 0.9998488426208496]\n"
     ]
    },
    {
     "data": {
      "text/html": [
       "<figcaption>./testimg/normal/20201109-101716_20YNa_1.jpg : Normal</figcaption>"
      ],
      "text/plain": [
       "<IPython.core.display.HTML object>"
      ]
     },
     "metadata": {},
     "output_type": "display_data"
    },
    {
     "name": "stdout",
     "output_type": "stream",
     "text": [
      "[1.79501403181348e-05, 0.9999819993972778]\n"
     ]
    },
    {
     "data": {
      "text/html": [
       "<figcaption>./testimg/normal/20201109-101743_03YNa_0.jpg : Normal</figcaption>"
      ],
      "text/plain": [
       "<IPython.core.display.HTML object>"
      ]
     },
     "metadata": {},
     "output_type": "display_data"
    },
    {
     "name": "stdout",
     "output_type": "stream",
     "text": [
      "[8.60125965118641e-06, 0.9999914169311523]\n"
     ]
    },
    {
     "data": {
      "text/html": [
       "<figcaption>./testimg/normal/20201109-101655_06YYa_0.jpg : Normal</figcaption>"
      ],
      "text/plain": [
       "<IPython.core.display.HTML object>"
      ]
     },
     "metadata": {},
     "output_type": "display_data"
    },
    {
     "name": "stdout",
     "output_type": "stream",
     "text": [
      "[4.5677359594265e-05, 0.999954342842102]\n"
     ]
    },
    {
     "data": {
      "text/html": [
       "<figcaption>./testimg/normal/20201109-101535_26YYa_1.jpg : Normal</figcaption>"
      ],
      "text/plain": [
       "<IPython.core.display.HTML object>"
      ]
     },
     "metadata": {},
     "output_type": "display_data"
    },
    {
     "name": "stdout",
     "output_type": "stream",
     "text": [
      "[5.8072440879186615e-05, 0.9999419450759888]\n"
     ]
    },
    {
     "data": {
      "text/html": [
       "<figcaption>./testimg/normal/20201109-101630_26YNa_0.jpg : Normal</figcaption>"
      ],
      "text/plain": [
       "<IPython.core.display.HTML object>"
      ]
     },
     "metadata": {},
     "output_type": "display_data"
    },
    {
     "name": "stdout",
     "output_type": "stream",
     "text": [
      "[0.0004338469007052481, 0.9995661377906799]\n"
     ]
    },
    {
     "data": {
      "text/html": [
       "<figcaption>./testimg/normal/20201109-101642_27YYa_1.jpg : Normal</figcaption>"
      ],
      "text/plain": [
       "<IPython.core.display.HTML object>"
      ]
     },
     "metadata": {},
     "output_type": "display_data"
    },
    {
     "name": "stdout",
     "output_type": "stream",
     "text": [
      "[6.754012247256469e-07, 0.9999992847442627]\n"
     ]
    },
    {
     "data": {
      "text/html": [
       "<figcaption>./testimg/normal/20201109-101857_02YYa_0.jpg : Normal</figcaption>"
      ],
      "text/plain": [
       "<IPython.core.display.HTML object>"
      ]
     },
     "metadata": {},
     "output_type": "display_data"
    },
    {
     "name": "stdout",
     "output_type": "stream",
     "text": [
      "[1.2477682503231335e-05, 0.9999874830245972]\n"
     ]
    },
    {
     "data": {
      "text/html": [
       "<figcaption>./testimg/normal/20201109-101935_14YYa_0.jpg : Normal</figcaption>"
      ],
      "text/plain": [
       "<IPython.core.display.HTML object>"
      ]
     },
     "metadata": {},
     "output_type": "display_data"
    },
    {
     "name": "stdout",
     "output_type": "stream",
     "text": [
      "[0.00085201405454427, 0.9991480112075806]\n"
     ]
    },
    {
     "data": {
      "text/html": [
       "<figcaption>./testimg/normal/20201109-101833_16YYa_1.jpg : Normal</figcaption>"
      ],
      "text/plain": [
       "<IPython.core.display.HTML object>"
      ]
     },
     "metadata": {},
     "output_type": "display_data"
    },
    {
     "name": "stdout",
     "output_type": "stream",
     "text": [
      "[0.010615902952849865, 0.989384114742279]\n"
     ]
    },
    {
     "data": {
      "text/html": [
       "<figcaption>./testimg/normal/20201109-101923_07YYa_1.jpg : Normal</figcaption>"
      ],
      "text/plain": [
       "<IPython.core.display.HTML object>"
      ]
     },
     "metadata": {},
     "output_type": "display_data"
    },
    {
     "name": "stdout",
     "output_type": "stream",
     "text": [
      "[0.0008916859515011311, 0.9991082549095154]\n"
     ]
    },
    {
     "data": {
      "text/html": [
       "<figcaption>./testimg/normal/20201109-101716_08YYa_0.jpg : Normal</figcaption>"
      ],
      "text/plain": [
       "<IPython.core.display.HTML object>"
      ]
     },
     "metadata": {},
     "output_type": "display_data"
    },
    {
     "name": "stdout",
     "output_type": "stream",
     "text": [
      "[1.1039153832825832e-05, 0.9999889135360718]\n"
     ]
    },
    {
     "data": {
      "text/html": [
       "<figcaption>./testimg/normal/20201109-101602_17YNa_1.jpg : Normal</figcaption>"
      ],
      "text/plain": [
       "<IPython.core.display.HTML object>"
      ]
     },
     "metadata": {},
     "output_type": "display_data"
    },
    {
     "name": "stdout",
     "output_type": "stream",
     "text": [
      "[0.0008585953619331121, 0.9991413354873657]\n"
     ]
    },
    {
     "data": {
      "text/html": [
       "<figcaption>./testimg/normal/20201109-101821_23YNa_1.jpg : Normal</figcaption>"
      ],
      "text/plain": [
       "<IPython.core.display.HTML object>"
      ]
     },
     "metadata": {},
     "output_type": "display_data"
    },
    {
     "name": "stdout",
     "output_type": "stream",
     "text": [
      "[0.0001853384601417929, 0.9998146891593933]\n"
     ]
    },
    {
     "data": {
      "text/html": [
       "<figcaption>./testimg/normal/20201109-101535_12YNa_1.jpg : Normal</figcaption>"
      ],
      "text/plain": [
       "<IPython.core.display.HTML object>"
      ]
     },
     "metadata": {},
     "output_type": "display_data"
    },
    {
     "name": "stdout",
     "output_type": "stream",
     "text": [
      "[0.007376582361757755, 0.9926234483718872]\n"
     ]
    },
    {
     "data": {
      "text/html": [
       "<figcaption>./testimg/normal/20201109-101716_16YYa_1.jpg : Normal</figcaption>"
      ],
      "text/plain": [
       "<IPython.core.display.HTML object>"
      ]
     },
     "metadata": {},
     "output_type": "display_data"
    },
    {
     "name": "stdout",
     "output_type": "stream",
     "text": [
      "[0.0002597660350147635, 0.9997401833534241]\n"
     ]
    },
    {
     "data": {
      "text/html": [
       "<figcaption>./testimg/normal/20201109-101808_01YNa_0.jpg : Normal</figcaption>"
      ],
      "text/plain": [
       "<IPython.core.display.HTML object>"
      ]
     },
     "metadata": {},
     "output_type": "display_data"
    },
    {
     "name": "stdout",
     "output_type": "stream",
     "text": [
      "[0.0007722953450866044, 0.99922776222229]\n"
     ]
    },
    {
     "data": {
      "text/html": [
       "<figcaption>./testimg/normal/20201109-101642_13YNa_1.jpg : Normal</figcaption>"
      ],
      "text/plain": [
       "<IPython.core.display.HTML object>"
      ]
     },
     "metadata": {},
     "output_type": "display_data"
    },
    {
     "name": "stdout",
     "output_type": "stream",
     "text": [
      "[1.3634283277497161e-05, 0.9999864101409912]\n"
     ]
    },
    {
     "data": {
      "text/html": [
       "<figcaption>./testimg/normal/20201109-101821_29YYa_0.jpg : Normal</figcaption>"
      ],
      "text/plain": [
       "<IPython.core.display.HTML object>"
      ]
     },
     "metadata": {},
     "output_type": "display_data"
    },
    {
     "name": "stdout",
     "output_type": "stream",
     "text": [
      "[0.00016285796300508082, 0.9998371601104736]\n"
     ]
    },
    {
     "data": {
      "text/html": [
       "<figcaption>./testimg/normal/20201109-101743_11YNa_1.jpg : Normal</figcaption>"
      ],
      "text/plain": [
       "<IPython.core.display.HTML object>"
      ]
     },
     "metadata": {},
     "output_type": "display_data"
    },
    {
     "name": "stdout",
     "output_type": "stream",
     "text": [
      "[0.00020503408450167626, 0.9997950196266174]\n"
     ]
    },
    {
     "data": {
      "text/html": [
       "<figcaption>./testimg/normal/20201109-101757_12YYa_0.jpg : Normal</figcaption>"
      ],
      "text/plain": [
       "<IPython.core.display.HTML object>"
      ]
     },
     "metadata": {},
     "output_type": "display_data"
    },
    {
     "name": "stdout",
     "output_type": "stream",
     "text": [
      "[0.4223037362098694, 0.5776962637901306]\n"
     ]
    },
    {
     "data": {
      "text/html": [
       "<figcaption>./testimg/normal/20201109-101808_23YYa_1.jpg : Normal</figcaption>"
      ],
      "text/plain": [
       "<IPython.core.display.HTML object>"
      ]
     },
     "metadata": {},
     "output_type": "display_data"
    },
    {
     "name": "stdout",
     "output_type": "stream",
     "text": [
      "[0.0012953960103914142, 0.9987045526504517]\n"
     ]
    },
    {
     "data": {
      "text/html": [
       "<figcaption>./testimg/normal/20201109-101743_17YYa_0.jpg : Normal</figcaption>"
      ],
      "text/plain": [
       "<IPython.core.display.HTML object>"
      ]
     },
     "metadata": {},
     "output_type": "display_data"
    },
    {
     "name": "stdout",
     "output_type": "stream",
     "text": [
      "[0.0011014300398528576, 0.9988985061645508]\n"
     ]
    },
    {
     "data": {
      "text/html": [
       "<figcaption>./testimg/normal/20201109-101947_01YYa_1.jpg : Normal</figcaption>"
      ],
      "text/plain": [
       "<IPython.core.display.HTML object>"
      ]
     },
     "metadata": {},
     "output_type": "display_data"
    },
    {
     "name": "stdout",
     "output_type": "stream",
     "text": [
      "[9.755945211509243e-05, 0.9999024868011475]\n"
     ]
    },
    {
     "data": {
      "text/html": [
       "<figcaption>./testimg/normal/20201109-101857_10YYa_1.jpg : Normal</figcaption>"
      ],
      "text/plain": [
       "<IPython.core.display.HTML object>"
      ]
     },
     "metadata": {},
     "output_type": "display_data"
    },
    {
     "name": "stdout",
     "output_type": "stream",
     "text": [
      "[0.005414105020463467, 0.9945858716964722]\n"
     ]
    },
    {
     "data": {
      "text/html": [
       "<figcaption>./testimg/normal/20201109-101706_08YYa_1.jpg : Normal</figcaption>"
      ],
      "text/plain": [
       "<IPython.core.display.HTML object>"
      ]
     },
     "metadata": {},
     "output_type": "display_data"
    },
    {
     "name": "stdout",
     "output_type": "stream",
     "text": [
      "[4.999256270821206e-05, 0.9999500513076782]\n"
     ]
    },
    {
     "data": {
      "text/html": [
       "<figcaption>./testimg/normal/20201109-101716_21YNa_0.jpg : Normal</figcaption>"
      ],
      "text/plain": [
       "<IPython.core.display.HTML object>"
      ]
     },
     "metadata": {},
     "output_type": "display_data"
    },
    {
     "name": "stdout",
     "output_type": "stream",
     "text": [
      "[0.02784024178981781, 0.972159743309021]\n"
     ]
    },
    {
     "data": {
      "text/html": [
       "<figcaption>./testimg/normal/20201109-101821_28YYa_1.jpg : Normal</figcaption>"
      ],
      "text/plain": [
       "<IPython.core.display.HTML object>"
      ]
     },
     "metadata": {},
     "output_type": "display_data"
    },
    {
     "name": "stdout",
     "output_type": "stream",
     "text": [
      "[0.004599117208272219, 0.9954009652137756]\n"
     ]
    },
    {
     "data": {
      "text/html": [
       "<figcaption>./testimg/normal/20201109-101757_11YYa_1.jpg : Normal</figcaption>"
      ],
      "text/plain": [
       "<IPython.core.display.HTML object>"
      ]
     },
     "metadata": {},
     "output_type": "display_data"
    },
    {
     "name": "stdout",
     "output_type": "stream",
     "text": [
      "[4.250367965141777e-06, 0.9999957084655762]\n"
     ]
    },
    {
     "data": {
      "text/html": [
       "<figcaption>./testimg/normal/20201109-101821_06YNa_0.jpg : Normal</figcaption>"
      ],
      "text/plain": [
       "<IPython.core.display.HTML object>"
      ]
     },
     "metadata": {},
     "output_type": "display_data"
    },
    {
     "name": "stdout",
     "output_type": "stream",
     "text": [
      "[0.0030328365974128246, 0.9969671368598938]\n"
     ]
    },
    {
     "data": {
      "text/html": [
       "<figcaption>./testimg/normal/20201109-101743_16YYa_1.jpg : Normal</figcaption>"
      ],
      "text/plain": [
       "<IPython.core.display.HTML object>"
      ]
     },
     "metadata": {},
     "output_type": "display_data"
    },
    {
     "name": "stdout",
     "output_type": "stream",
     "text": [
      "[0.0001360018359264359, 0.9998639822006226]\n"
     ]
    },
    {
     "data": {
      "text/html": [
       "<figcaption>./testimg/normal/20201109-101935_05YYa_0.jpg : Normal</figcaption>"
      ],
      "text/plain": [
       "<IPython.core.display.HTML object>"
      ]
     },
     "metadata": {},
     "output_type": "display_data"
    },
    {
     "name": "stdout",
     "output_type": "stream",
     "text": [
      "[0.00023650535149499774, 0.999763548374176]\n"
     ]
    },
    {
     "data": {
      "text/html": [
       "<figcaption>./testimg/normal/20201109-101845_14YYa_0.jpg : Normal</figcaption>"
      ],
      "text/plain": [
       "<IPython.core.display.HTML object>"
      ]
     },
     "metadata": {},
     "output_type": "display_data"
    },
    {
     "name": "stdout",
     "output_type": "stream",
     "text": [
      "[7.568929868284613e-05, 0.9999243021011353]\n"
     ]
    },
    {
     "data": {
      "text/html": [
       "<figcaption>./testimg/normal/20201109-101642_04YNa_1.jpg : Normal</figcaption>"
      ],
      "text/plain": [
       "<IPython.core.display.HTML object>"
      ]
     },
     "metadata": {},
     "output_type": "display_data"
    },
    {
     "name": "stdout",
     "output_type": "stream",
     "text": [
      "[0.00010356997518101707, 0.9998964071273804]\n"
     ]
    },
    {
     "data": {
      "text/html": [
       "<figcaption>./testimg/normal/20201109-101947_20YYa_0.jpg : Normal</figcaption>"
      ],
      "text/plain": [
       "<IPython.core.display.HTML object>"
      ]
     },
     "metadata": {},
     "output_type": "display_data"
    },
    {
     "name": "stdout",
     "output_type": "stream",
     "text": [
      "[0.0005887872539460659, 0.9994112253189087]\n"
     ]
    },
    {
     "data": {
      "text/html": [
       "<figcaption>./testimg/normal/20201109-101845_22YYa_1.jpg : Normal</figcaption>"
      ],
      "text/plain": [
       "<IPython.core.display.HTML object>"
      ]
     },
     "metadata": {},
     "output_type": "display_data"
    },
    {
     "name": "stdout",
     "output_type": "stream",
     "text": [
      "[3.2149320759344846e-05, 0.9999678134918213]\n"
     ]
    },
    {
     "data": {
      "text/html": [
       "<figcaption>./testimg/normal/20201109-101731_29YYa_0.jpg : Normal</figcaption>"
      ],
      "text/plain": [
       "<IPython.core.display.HTML object>"
      ]
     },
     "metadata": {},
     "output_type": "display_data"
    },
    {
     "name": "stdout",
     "output_type": "stream",
     "text": [
      "[0.009862872771918774, 0.9901371002197266]\n"
     ]
    },
    {
     "data": {
      "text/html": [
       "<figcaption>./testimg/normal/20201109-101935_13YYa_1.jpg : Normal</figcaption>"
      ],
      "text/plain": [
       "<IPython.core.display.HTML object>"
      ]
     },
     "metadata": {},
     "output_type": "display_data"
    },
    {
     "name": "stdout",
     "output_type": "stream",
     "text": [
      "[0.044805578887462616, 0.9551944136619568]\n"
     ]
    },
    {
     "data": {
      "text/html": [
       "<figcaption>./testimg/normal/20201109-101535_03YNa_1.jpg : Normal</figcaption>"
      ],
      "text/plain": [
       "<IPython.core.display.HTML object>"
      ]
     },
     "metadata": {},
     "output_type": "display_data"
    },
    {
     "name": "stdout",
     "output_type": "stream",
     "text": [
      "[0.0012097037397325039, 0.9987903237342834]\n"
     ]
    },
    {
     "data": {
      "text/html": [
       "<figcaption>./testimg/normal/20201109-101923_12YNa_0.jpg : Normal</figcaption>"
      ],
      "text/plain": [
       "<IPython.core.display.HTML object>"
      ]
     },
     "metadata": {},
     "output_type": "display_data"
    },
    {
     "name": "stdout",
     "output_type": "stream",
     "text": [
      "[0.0011197413550689816, 0.9988802075386047]\n"
     ]
    },
    {
     "data": {
      "text/html": [
       "<figcaption>./testimg/normal/20201109-101602_08YNa_1.jpg : Normal</figcaption>"
      ],
      "text/plain": [
       "<IPython.core.display.HTML object>"
      ]
     },
     "metadata": {},
     "output_type": "display_data"
    },
    {
     "name": "stdout",
     "output_type": "stream",
     "text": [
      "[0.0009712281753309071, 0.9990288019180298]\n"
     ]
    },
    {
     "data": {
      "text/html": [
       "<figcaption>./testimg/normal/20201109-101757_03YYa_0.jpg : Normal</figcaption>"
      ],
      "text/plain": [
       "<IPython.core.display.HTML object>"
      ]
     },
     "metadata": {},
     "output_type": "display_data"
    },
    {
     "name": "stdout",
     "output_type": "stream",
     "text": [
      "[0.13871683180332184, 0.8612831830978394]\n"
     ]
    },
    {
     "data": {
      "text/html": [
       "<figcaption>./testimg/normal/20201109-101655_05YYa_1.jpg : Normal</figcaption>"
      ],
      "text/plain": [
       "<IPython.core.display.HTML object>"
      ]
     },
     "metadata": {},
     "output_type": "display_data"
    },
    {
     "name": "stdout",
     "output_type": "stream",
     "text": [
      "[0.007339480798691511, 0.9926605224609375]\n"
     ]
    },
    {
     "data": {
      "text/html": [
       "<figcaption>./testimg/normal/20201109-101630_25YNa_1.jpg : Normal</figcaption>"
      ],
      "text/plain": [
       "<IPython.core.display.HTML object>"
      ]
     },
     "metadata": {},
     "output_type": "display_data"
    },
    {
     "name": "stdout",
     "output_type": "stream",
     "text": [
      "[0.0016406055074185133, 0.9983593821525574]\n"
     ]
    },
    {
     "data": {
      "text/html": [
       "<figcaption>./testimg/normal/20201109-101910_15YNa_1.jpg : Normal</figcaption>"
      ],
      "text/plain": [
       "<IPython.core.display.HTML object>"
      ]
     },
     "metadata": {},
     "output_type": "display_data"
    },
    {
     "name": "stdout",
     "output_type": "stream",
     "text": [
      "[0.0008677073055878282, 0.9991323351860046]\n"
     ]
    },
    {
     "data": {
      "text/html": [
       "<figcaption>./testimg/normal/20201109-101845_04YYa_1.jpg : Normal</figcaption>"
      ],
      "text/plain": [
       "<IPython.core.display.HTML object>"
      ]
     },
     "metadata": {},
     "output_type": "display_data"
    },
    {
     "name": "stdout",
     "output_type": "stream",
     "text": [
      "[4.3434451072243974e-05, 0.9999566078186035]\n"
     ]
    },
    {
     "data": {
      "text/html": [
       "<figcaption>./testimg/normal/20201109-101706_26YYa_1.jpg : Normal</figcaption>"
      ],
      "text/plain": [
       "<IPython.core.display.HTML object>"
      ]
     },
     "metadata": {},
     "output_type": "display_data"
    },
    {
     "name": "stdout",
     "output_type": "stream",
     "text": [
      "[0.00024999360903166234, 0.9997499585151672]\n"
     ]
    },
    {
     "data": {
      "text/html": [
       "<figcaption>./testimg/normal/20201109-101808_24YYa_0.jpg : Normal</figcaption>"
      ],
      "text/plain": [
       "<IPython.core.display.HTML object>"
      ]
     },
     "metadata": {},
     "output_type": "display_data"
    },
    {
     "name": "stdout",
     "output_type": "stream",
     "text": [
      "[3.646768527687527e-05, 0.9999635219573975]\n"
     ]
    },
    {
     "data": {
      "text/html": [
       "<figcaption>./testimg/normal/20201109-101947_02YYa_0.jpg : Normal</figcaption>"
      ],
      "text/plain": [
       "<IPython.core.display.HTML object>"
      ]
     },
     "metadata": {},
     "output_type": "display_data"
    },
    {
     "name": "stdout",
     "output_type": "stream",
     "text": [
      "[0.00034354045055806637, 0.9996564388275146]\n"
     ]
    },
    {
     "data": {
      "text/html": [
       "<figcaption>./testimg/normal/20201109-101743_12YNa_0.jpg : Normal</figcaption>"
      ],
      "text/plain": [
       "<IPython.core.display.HTML object>"
      ]
     },
     "metadata": {},
     "output_type": "display_data"
    },
    {
     "name": "stdout",
     "output_type": "stream",
     "text": [
      "[6.343907443806529e-05, 0.999936580657959]\n"
     ]
    },
    {
     "data": {
      "text/html": [
       "<figcaption>./testimg/normal/20201109-101833_03YNa_0.jpg : Normal</figcaption>"
      ],
      "text/plain": [
       "<IPython.core.display.HTML object>"
      ]
     },
     "metadata": {},
     "output_type": "display_data"
    },
    {
     "name": "stdout",
     "output_type": "stream",
     "text": [
      "[5.668141238857061e-05, 0.9999432563781738]\n"
     ]
    },
    {
     "data": {
      "text/html": [
       "<figcaption>./testimg/normal/20201109-101535_13YNa_0.jpg : Normal</figcaption>"
      ],
      "text/plain": [
       "<IPython.core.display.HTML object>"
      ]
     },
     "metadata": {},
     "output_type": "display_data"
    },
    {
     "name": "stdout",
     "output_type": "stream",
     "text": [
      "[1.507860633864766e-05, 0.9999849796295166]\n"
     ]
    },
    {
     "data": {
      "text/html": [
       "<figcaption>./testimg/normal/20201109-101602_18YNa_0.jpg : Normal</figcaption>"
      ],
      "text/plain": [
       "<IPython.core.display.HTML object>"
      ]
     },
     "metadata": {},
     "output_type": "display_data"
    },
    {
     "name": "stdout",
     "output_type": "stream",
     "text": [
      "[9.37200675252825e-05, 0.9999063014984131]\n"
     ]
    },
    {
     "data": {
      "text/html": [
       "<figcaption>./testimg/normal/20201109-101616_13YNa_0.jpg : Normal</figcaption>"
      ],
      "text/plain": [
       "<IPython.core.display.HTML object>"
      ]
     },
     "metadata": {},
     "output_type": "display_data"
    },
    {
     "name": "stdout",
     "output_type": "stream",
     "text": [
      "[0.000505484058521688, 0.9994945526123047]\n"
     ]
    },
    {
     "data": {
      "text/html": [
       "<figcaption>./testimg/normal/20201109-101642_14YNa_0.jpg : Normal</figcaption>"
      ],
      "text/plain": [
       "<IPython.core.display.HTML object>"
      ]
     },
     "metadata": {},
     "output_type": "display_data"
    },
    {
     "name": "stdout",
     "output_type": "stream",
     "text": [
      "[0.00011842424282804132, 0.9998815059661865]\n"
     ]
    },
    {
     "data": {
      "text/html": [
       "<figcaption>./testimg/normal/20201109-101716_17YYa_0.jpg : Normal</figcaption>"
      ],
      "text/plain": [
       "<IPython.core.display.HTML object>"
      ]
     },
     "metadata": {},
     "output_type": "display_data"
    },
    {
     "name": "stdout",
     "output_type": "stream",
     "text": [
      "[0.00041396377491764724, 0.9995860457420349]\n"
     ]
    },
    {
     "data": {
      "text/html": [
       "<figcaption>./testimg/normal/20201109-101923_16YYa_1.jpg : Normal</figcaption>"
      ],
      "text/plain": [
       "<IPython.core.display.HTML object>"
      ]
     },
     "metadata": {},
     "output_type": "display_data"
    },
    {
     "name": "stdout",
     "output_type": "stream",
     "text": [
      "[0.0007503068190999329, 0.9992496371269226]\n"
     ]
    },
    {
     "data": {
      "text/html": [
       "<figcaption>./testimg/normal/20201109-101535_27YYa_0.jpg : Normal</figcaption>"
      ],
      "text/plain": [
       "<IPython.core.display.HTML object>"
      ]
     },
     "metadata": {},
     "output_type": "display_data"
    },
    {
     "name": "stdout",
     "output_type": "stream",
     "text": [
      "[0.00016846953076310456, 0.9998315572738647]\n"
     ]
    },
    {
     "data": {
      "text/html": [
       "<figcaption>./testimg/normal/20201109-101706_12YNa_1.jpg : Normal</figcaption>"
      ],
      "text/plain": [
       "<IPython.core.display.HTML object>"
      ]
     },
     "metadata": {},
     "output_type": "display_data"
    },
    {
     "name": "stdout",
     "output_type": "stream",
     "text": [
      "[0.0009457920677959919, 0.9990542531013489]\n"
     ]
    },
    {
     "data": {
      "text/html": [
       "<figcaption>./testimg/normal/20201109-101706_18YYa_0.jpg : Normal</figcaption>"
      ],
      "text/plain": [
       "<IPython.core.display.HTML object>"
      ]
     },
     "metadata": {},
     "output_type": "display_data"
    },
    {
     "name": "stdout",
     "output_type": "stream",
     "text": [
      "[0.000946065119933337, 0.9990538954734802]\n"
     ]
    },
    {
     "data": {
      "text/html": [
       "<figcaption>./testimg/normal/20201109-101642_28YYa_0.jpg : Normal</figcaption>"
      ],
      "text/plain": [
       "<IPython.core.display.HTML object>"
      ]
     },
     "metadata": {},
     "output_type": "display_data"
    },
    {
     "name": "stdout",
     "output_type": "stream",
     "text": [
      "[2.3331967895501293e-05, 0.999976634979248]\n"
     ]
    },
    {
     "data": {
      "text/html": [
       "<figcaption>./testimg/normal/20201109-101833_17YYa_0.jpg : Normal</figcaption>"
      ],
      "text/plain": [
       "<IPython.core.display.HTML object>"
      ]
     },
     "metadata": {},
     "output_type": "display_data"
    },
    {
     "name": "stdout",
     "output_type": "stream",
     "text": [
      "[0.000531201483681798, 0.9994688630104065]\n"
     ]
    },
    {
     "data": {
      "text/html": [
       "<figcaption>./testimg/normal/20201109-101743_26YYa_0.jpg : Normal</figcaption>"
      ],
      "text/plain": [
       "<IPython.core.display.HTML object>"
      ]
     },
     "metadata": {},
     "output_type": "display_data"
    },
    {
     "name": "stdout",
     "output_type": "stream",
     "text": [
      "[0.0008105247979983687, 0.9991894364356995]\n"
     ]
    },
    {
     "data": {
      "text/html": [
       "<figcaption>./testimg/normal/20201109-101923_08YYa_0.jpg : Normal</figcaption>"
      ],
      "text/plain": [
       "<IPython.core.display.HTML object>"
      ]
     },
     "metadata": {},
     "output_type": "display_data"
    },
    {
     "name": "stdout",
     "output_type": "stream",
     "text": [
      "[0.0016396497376263142, 0.9983603358268738]\n"
     ]
    },
    {
     "data": {
      "text/html": [
       "<figcaption>./testimg/normal/20201109-101731_19YYa_1.jpg : Normal</figcaption>"
      ],
      "text/plain": [
       "<IPython.core.display.HTML object>"
      ]
     },
     "metadata": {},
     "output_type": "display_data"
    },
    {
     "name": "stdout",
     "output_type": "stream",
     "text": [
      "[0.11606226116418839, 0.8839377164840698]\n"
     ]
    },
    {
     "data": {
      "text/html": [
       "<figcaption>./testimg/normal/20201109-101655_23YYa_1.jpg : Normal</figcaption>"
      ],
      "text/plain": [
       "<IPython.core.display.HTML object>"
      ]
     },
     "metadata": {},
     "output_type": "display_data"
    },
    {
     "name": "stdout",
     "output_type": "stream",
     "text": [
      "[0.0034204244147986174, 0.9965795874595642]\n"
     ]
    },
    {
     "data": {
      "text/html": [
       "<figcaption>./testimg/normal/20201109-101743_20YNa_1.jpg : Normal</figcaption>"
      ],
      "text/plain": [
       "<IPython.core.display.HTML object>"
      ]
     },
     "metadata": {},
     "output_type": "display_data"
    },
    {
     "name": "stdout",
     "output_type": "stream",
     "text": [
      "[8.523929864168167e-05, 0.9999147653579712]\n"
     ]
    },
    {
     "data": {
      "text/html": [
       "<figcaption>./testimg/normal/20201109-101947_05YNa_0.jpg : Normal</figcaption>"
      ],
      "text/plain": [
       "<IPython.core.display.HTML object>"
      ]
     },
     "metadata": {},
     "output_type": "display_data"
    },
    {
     "name": "stdout",
     "output_type": "stream",
     "text": [
      "[7.006075975368731e-06, 0.9999929666519165]\n"
     ]
    },
    {
     "data": {
      "text/html": [
       "<figcaption>./testimg/normal/20201109-101808_27YNa_0.jpg : Normal</figcaption>"
      ],
      "text/plain": [
       "<IPython.core.display.HTML object>"
      ]
     },
     "metadata": {},
     "output_type": "display_data"
    },
    {
     "name": "stdout",
     "output_type": "stream",
     "text": [
      "[3.971987098339014e-05, 0.9999603033065796]\n"
     ]
    },
    {
     "data": {
      "text/html": [
       "<figcaption>./testimg/normal/20201109-101655_18YNa_0.jpg : Normal</figcaption>"
      ],
      "text/plain": [
       "<IPython.core.display.HTML object>"
      ]
     },
     "metadata": {},
     "output_type": "display_data"
    },
    {
     "name": "stdout",
     "output_type": "stream",
     "text": [
      "[0.003481948049739003, 0.9965180158615112]\n"
     ]
    },
    {
     "data": {
      "text/html": [
       "<figcaption>./testimg/normal/20201109-101947_27YYa_1.jpg : Normal</figcaption>"
      ],
      "text/plain": [
       "<IPython.core.display.HTML object>"
      ]
     },
     "metadata": {},
     "output_type": "display_data"
    },
    {
     "name": "stdout",
     "output_type": "stream",
     "text": [
      "[0.000493387458845973, 0.9995065927505493]\n"
     ]
    },
    {
     "data": {
      "text/html": [
       "<figcaption>./testimg/normal/20201109-101642_10YYa_1.jpg : Normal</figcaption>"
      ],
      "text/plain": [
       "<IPython.core.display.HTML object>"
      ]
     },
     "metadata": {},
     "output_type": "display_data"
    },
    {
     "name": "stdout",
     "output_type": "stream",
     "text": [
      "[1.3934650269220583e-05, 0.9999860525131226]\n"
     ]
    },
    {
     "data": {
      "text/html": [
       "<figcaption>./testimg/normal/20201109-101630_23YYa_0.jpg : Normal</figcaption>"
      ],
      "text/plain": [
       "<IPython.core.display.HTML object>"
      ]
     },
     "metadata": {},
     "output_type": "display_data"
    },
    {
     "name": "stdout",
     "output_type": "stream",
     "text": [
      "[4.825251016882248e-05, 0.9999517202377319]\n"
     ]
    },
    {
     "data": {
      "text/html": [
       "<figcaption>./testimg/normal/20201109-101616_01YYa_0.jpg : Normal</figcaption>"
      ],
      "text/plain": [
       "<IPython.core.display.HTML object>"
      ]
     },
     "metadata": {},
     "output_type": "display_data"
    },
    {
     "name": "stdout",
     "output_type": "stream",
     "text": [
      "[1.799583696993068e-05, 0.9999819993972778]\n"
     ]
    },
    {
     "data": {
      "text/html": [
       "<figcaption>./testimg/normal/20201109-101731_21YYa_0.jpg : Normal</figcaption>"
      ],
      "text/plain": [
       "<IPython.core.display.HTML object>"
      ]
     },
     "metadata": {},
     "output_type": "display_data"
    },
    {
     "name": "stdout",
     "output_type": "stream",
     "text": [
      "[2.4983854018501006e-05, 0.9999749660491943]\n"
     ]
    },
    {
     "data": {
      "text/html": [
       "<figcaption>./testimg/normal/20201109-101821_12YYa_0.jpg : Normal</figcaption>"
      ],
      "text/plain": [
       "<IPython.core.display.HTML object>"
      ]
     },
     "metadata": {},
     "output_type": "display_data"
    },
    {
     "name": "stdout",
     "output_type": "stream",
     "text": [
      "[0.0001353276165900752, 0.9998646974563599]\n"
     ]
    },
    {
     "data": {
      "text/html": [
       "<figcaption>./testimg/normal/20201109-101857_28YYa_0.jpg : Normal</figcaption>"
      ],
      "text/plain": [
       "<IPython.core.display.HTML object>"
      ]
     },
     "metadata": {},
     "output_type": "display_data"
    },
    {
     "name": "stdout",
     "output_type": "stream",
     "text": [
      "[2.829982440744061e-05, 0.9999717473983765]\n"
     ]
    },
    {
     "data": {
      "text/html": [
       "<figcaption>./testimg/normal/20201109-101947_19YYa_0.jpg : Normal</figcaption>"
      ],
      "text/plain": [
       "<IPython.core.display.HTML object>"
      ]
     },
     "metadata": {},
     "output_type": "display_data"
    },
    {
     "name": "stdout",
     "output_type": "stream",
     "text": [
      "[7.02714896760881e-05, 0.999929666519165]\n"
     ]
    },
    {
     "data": {
      "text/html": [
       "<figcaption>./testimg/normal/20201109-101630_05YYa_0.jpg : Normal</figcaption>"
      ],
      "text/plain": [
       "<IPython.core.display.HTML object>"
      ]
     },
     "metadata": {},
     "output_type": "display_data"
    },
    {
     "name": "stdout",
     "output_type": "stream",
     "text": [
      "[0.02753312885761261, 0.9724668264389038]\n"
     ]
    },
    {
     "data": {
      "text/html": [
       "<figcaption>./testimg/normal/20201109-101808_17YNa_1.jpg : Normal</figcaption>"
      ],
      "text/plain": [
       "<IPython.core.display.HTML object>"
      ]
     },
     "metadata": {},
     "output_type": "display_data"
    },
    {
     "name": "stdout",
     "output_type": "stream",
     "text": [
      "[1.6336009139195085e-05, 0.9999836683273315]\n"
     ]
    },
    {
     "data": {
      "text/html": [
       "<figcaption>./testimg/normal/20201109-101731_03YYa_0.jpg : Normal</figcaption>"
      ],
      "text/plain": [
       "<IPython.core.display.HTML object>"
      ]
     },
     "metadata": {},
     "output_type": "display_data"
    },
    {
     "name": "stdout",
     "output_type": "stream",
     "text": [
      "[0.012485760264098644, 0.987514317035675]\n"
     ]
    },
    {
     "data": {
      "text/html": [
       "<figcaption>./testimg/normal/20201109-101947_09YYa_1.jpg : Normal</figcaption>"
      ],
      "text/plain": [
       "<IPython.core.display.HTML object>"
      ]
     },
     "metadata": {},
     "output_type": "display_data"
    },
    {
     "name": "stdout",
     "output_type": "stream",
     "text": [
      "[0.005707140546292067, 0.9942928552627563]\n"
     ]
    },
    {
     "data": {
      "text/html": [
       "<figcaption>./testimg/normal/20201109-101857_18YYa_1.jpg : Normal</figcaption>"
      ],
      "text/plain": [
       "<IPython.core.display.HTML object>"
      ]
     },
     "metadata": {},
     "output_type": "display_data"
    },
    {
     "name": "stdout",
     "output_type": "stream",
     "text": [
      "[0.0011494511272758245, 0.9988505840301514]\n"
     ]
    },
    {
     "data": {
      "text/html": [
       "<figcaption>./testimg/normal/20201109-101910_21YYa_1.jpg : Normal</figcaption>"
      ],
      "text/plain": [
       "<IPython.core.display.HTML object>"
      ]
     },
     "metadata": {},
     "output_type": "display_data"
    },
    {
     "name": "stdout",
     "output_type": "stream",
     "text": [
      "[0.00026495204656384885, 0.9997350573539734]\n"
     ]
    },
    {
     "data": {
      "text/html": [
       "<figcaption>./testimg/normal/20201109-101630_13YYa_1.jpg : Normal</figcaption>"
      ],
      "text/plain": [
       "<IPython.core.display.HTML object>"
      ]
     },
     "metadata": {},
     "output_type": "display_data"
    },
    {
     "name": "stdout",
     "output_type": "stream",
     "text": [
      "[0.003909862134605646, 0.9960901141166687]\n"
     ]
    },
    {
     "data": {
      "text/html": [
       "<figcaption>./testimg/normal/20201109-101602_01YNa_0.jpg : Normal</figcaption>"
      ],
      "text/plain": [
       "<IPython.core.display.HTML object>"
      ]
     },
     "metadata": {},
     "output_type": "display_data"
    },
    {
     "name": "stdout",
     "output_type": "stream",
     "text": [
      "[0.0007648971513845026, 0.9992351531982422]\n"
     ]
    },
    {
     "data": {
      "text/html": [
       "<figcaption>./testimg/normal/20201109-101716_29YNa_0.jpg : Normal</figcaption>"
      ],
      "text/plain": [
       "<IPython.core.display.HTML object>"
      ]
     },
     "metadata": {},
     "output_type": "display_data"
    },
    {
     "name": "stdout",
     "output_type": "stream",
     "text": [
      "[0.0014830140862613916, 0.9985169768333435]\n"
     ]
    },
    {
     "data": {
      "text/html": [
       "<figcaption>./testimg/normal/20201109-101923_28YNa_1.jpg : Normal</figcaption>"
      ],
      "text/plain": [
       "<IPython.core.display.HTML object>"
      ]
     },
     "metadata": {},
     "output_type": "display_data"
    },
    {
     "name": "stdout",
     "output_type": "stream",
     "text": [
      "[0.0002778865455184132, 0.9997220635414124]\n"
     ]
    },
    {
     "data": {
      "text/html": [
       "<figcaption>./testimg/normal/20201109-101947_28YYa_0.jpg : Normal</figcaption>"
      ],
      "text/plain": [
       "<IPython.core.display.HTML object>"
      ]
     },
     "metadata": {},
     "output_type": "display_data"
    },
    {
     "name": "stdout",
     "output_type": "stream",
     "text": [
      "[0.013230189681053162, 0.9867697954177856]\n"
     ]
    },
    {
     "data": {
      "text/html": [
       "<figcaption>./testimg/normal/20201109-101630_04YYa_1.jpg : Normal</figcaption>"
      ],
      "text/plain": [
       "<IPython.core.display.HTML object>"
      ]
     },
     "metadata": {},
     "output_type": "display_data"
    },
    {
     "name": "stdout",
     "output_type": "stream",
     "text": [
      "[2.562287227192428e-05, 0.9999743700027466]\n"
     ]
    },
    {
     "data": {
      "text/html": [
       "<figcaption>./testimg/normal/20201109-101706_01YYa_0.jpg : Normal</figcaption>"
      ],
      "text/plain": [
       "<IPython.core.display.HTML object>"
      ]
     },
     "metadata": {},
     "output_type": "display_data"
    },
    {
     "name": "stdout",
     "output_type": "stream",
     "text": [
      "[0.029940802603960037, 0.9700591564178467]\n"
     ]
    },
    {
     "data": {
      "text/html": [
       "<figcaption>./testimg/normal/20201109-101935_25YNa_1.jpg : Normal</figcaption>"
      ],
      "text/plain": [
       "<IPython.core.display.HTML object>"
      ]
     },
     "metadata": {},
     "output_type": "display_data"
    },
    {
     "name": "stdout",
     "output_type": "stream",
     "text": [
      "[0.006993274204432964, 0.993006706237793]\n"
     ]
    },
    {
     "data": {
      "text/html": [
       "<figcaption>./testimg/normal/20201109-101716_19YNa_1.jpg : Normal</figcaption>"
      ],
      "text/plain": [
       "<IPython.core.display.HTML object>"
      ]
     },
     "metadata": {},
     "output_type": "display_data"
    },
    {
     "name": "stdout",
     "output_type": "stream",
     "text": [
      "[1.3282777899803477e-07, 0.9999998807907104]\n"
     ]
    },
    {
     "data": {
      "text/html": [
       "<figcaption>./testimg/normal/20201109-101630_14YYa_0.jpg : Normal</figcaption>"
      ],
      "text/plain": [
       "<IPython.core.display.HTML object>"
      ]
     },
     "metadata": {},
     "output_type": "display_data"
    },
    {
     "name": "stdout",
     "output_type": "stream",
     "text": [
      "[0.0009946555364876986, 0.9990053772926331]\n"
     ]
    },
    {
     "data": {
      "text/html": [
       "<figcaption>./testimg/normal/20201109-101857_19YYa_0.jpg : Normal</figcaption>"
      ],
      "text/plain": [
       "<IPython.core.display.HTML object>"
      ]
     },
     "metadata": {},
     "output_type": "display_data"
    },
    {
     "name": "stdout",
     "output_type": "stream",
     "text": [
      "[0.0848701149225235, 0.9151298999786377]\n"
     ]
    },
    {
     "data": {
      "text/html": [
       "<figcaption>./testimg/normal/20201109-101655_17YNa_1.jpg : Normal</figcaption>"
      ],
      "text/plain": [
       "<IPython.core.display.HTML object>"
      ]
     },
     "metadata": {},
     "output_type": "display_data"
    },
    {
     "name": "stdout",
     "output_type": "stream",
     "text": [
      "[4.922786320094019e-05, 0.9999507665634155]\n"
     ]
    },
    {
     "data": {
      "text/html": [
       "<figcaption>./testimg/normal/20201109-101910_22YYa_0.jpg : Normal</figcaption>"
      ],
      "text/plain": [
       "<IPython.core.display.HTML object>"
      ]
     },
     "metadata": {},
     "output_type": "display_data"
    },
    {
     "name": "stdout",
     "output_type": "stream",
     "text": [
      "[0.0004683367442339659, 0.999531626701355]\n"
     ]
    },
    {
     "data": {
      "text/html": [
       "<figcaption>./testimg/normal/20201109-101808_26YNa_1.jpg : Normal</figcaption>"
      ],
      "text/plain": [
       "<IPython.core.display.HTML object>"
      ]
     },
     "metadata": {},
     "output_type": "display_data"
    },
    {
     "name": "stdout",
     "output_type": "stream",
     "text": [
      "[7.349041698034853e-05, 0.9999264478683472]\n"
     ]
    },
    {
     "data": {
      "text/html": [
       "<figcaption>./testimg/normal/20201109-101757_29YYa_0.jpg : Normal</figcaption>"
      ],
      "text/plain": [
       "<IPython.core.display.HTML object>"
      ]
     },
     "metadata": {},
     "output_type": "display_data"
    },
    {
     "name": "stdout",
     "output_type": "stream",
     "text": [
      "[0.0005907315644435585, 0.9994093179702759]\n"
     ]
    },
    {
     "data": {
      "text/html": [
       "<figcaption>./testimg/normal/20201109-101642_01YYa_1.jpg : Normal</figcaption>"
      ],
      "text/plain": [
       "<IPython.core.display.HTML object>"
      ]
     },
     "metadata": {},
     "output_type": "display_data"
    },
    {
     "name": "stdout",
     "output_type": "stream",
     "text": [
      "[0.005904555320739746, 0.9940954446792603]\n"
     ]
    },
    {
     "data": {
      "text/html": [
       "<figcaption>./testimg/normal/20201109-101947_18YYa_1.jpg : Normal</figcaption>"
      ],
      "text/plain": [
       "<IPython.core.display.HTML object>"
      ]
     },
     "metadata": {},
     "output_type": "display_data"
    },
    {
     "name": "stdout",
     "output_type": "stream",
     "text": [
      "[0.016433101147413254, 0.9835668802261353]\n"
     ]
    },
    {
     "data": {
      "text/html": [
       "<figcaption>./testimg/normal/20201109-101857_27YYa_1.jpg : Normal</figcaption>"
      ],
      "text/plain": [
       "<IPython.core.display.HTML object>"
      ]
     },
     "metadata": {},
     "output_type": "display_data"
    },
    {
     "name": "stdout",
     "output_type": "stream",
     "text": [
      "[0.0009336424409411848, 0.9990664124488831]\n"
     ]
    },
    {
     "data": {
      "text/html": [
       "<figcaption>./testimg/normal/20201109-101731_20YYa_1.jpg : Normal</figcaption>"
      ],
      "text/plain": [
       "<IPython.core.display.HTML object>"
      ]
     },
     "metadata": {},
     "output_type": "display_data"
    },
    {
     "name": "stdout",
     "output_type": "stream",
     "text": [
      "[0.001107634394429624, 0.9988923668861389]\n"
     ]
    },
    {
     "data": {
      "text/html": [
       "<figcaption>./testimg/normal/20201109-101808_18YNa_0.jpg : Normal</figcaption>"
      ],
      "text/plain": [
       "<IPython.core.display.HTML object>"
      ]
     },
     "metadata": {},
     "output_type": "display_data"
    },
    {
     "name": "stdout",
     "output_type": "stream",
     "text": [
      "[3.8962014514254406e-05, 0.9999610185623169]\n"
     ]
    },
    {
     "data": {
      "text/html": [
       "<figcaption>./testimg/normal/20201109-101857_05YNa_0.jpg : Normal</figcaption>"
      ],
      "text/plain": [
       "<IPython.core.display.HTML object>"
      ]
     },
     "metadata": {},
     "output_type": "display_data"
    },
    {
     "name": "stdout",
     "output_type": "stream",
     "text": [
      "[0.00017884778208099306, 0.999821126461029]\n"
     ]
    },
    {
     "data": {
      "text/html": [
       "<figcaption>./testimg/normal/20201109-101630_22YYa_1.jpg : Normal</figcaption>"
      ],
      "text/plain": [
       "<IPython.core.display.HTML object>"
      ]
     },
     "metadata": {},
     "output_type": "display_data"
    },
    {
     "name": "stdout",
     "output_type": "stream",
     "text": [
      "[0.009928259998559952, 0.9900717735290527]\n"
     ]
    },
    {
     "data": {
      "text/html": [
       "<figcaption>./testimg/normal/20201109-101642_25YYa_1.jpg : Normal</figcaption>"
      ],
      "text/plain": [
       "<IPython.core.display.HTML object>"
      ]
     },
     "metadata": {},
     "output_type": "display_data"
    },
    {
     "name": "stdout",
     "output_type": "stream",
     "text": [
      "[3.8451886211987585e-05, 0.9999614953994751]\n"
     ]
    },
    {
     "data": {
      "text/html": [
       "<figcaption>./testimg/normal/20201109-101910_04YNa_1.jpg : Normal</figcaption>"
      ],
      "text/plain": [
       "<IPython.core.display.HTML object>"
      ]
     },
     "metadata": {},
     "output_type": "display_data"
    },
    {
     "name": "stdout",
     "output_type": "stream",
     "text": [
      "[0.001105716684833169, 0.9988942742347717]\n"
     ]
    },
    {
     "data": {
      "text/html": [
       "<figcaption>./testimg/normal/20201109-101655_04YYa_0.jpg : Normal</figcaption>"
      ],
      "text/plain": [
       "<IPython.core.display.HTML object>"
      ]
     },
     "metadata": {},
     "output_type": "display_data"
    },
    {
     "name": "stdout",
     "output_type": "stream",
     "text": [
      "[1.3624149914903683e-06, 0.9999986886978149]\n"
     ]
    },
    {
     "data": {
      "text/html": [
       "<figcaption>./testimg/normal/20201109-101630_24YNa_0.jpg : Normal</figcaption>"
      ],
      "text/plain": [
       "<IPython.core.display.HTML object>"
      ]
     },
     "metadata": {},
     "output_type": "display_data"
    },
    {
     "name": "stdout",
     "output_type": "stream",
     "text": [
      "[3.053331238334067e-05, 0.999969482421875]\n"
     ]
    },
    {
     "data": {
      "text/html": [
       "<figcaption>./testimg/normal/20201109-101602_07YNa_0.jpg : Normal</figcaption>"
      ],
      "text/plain": [
       "<IPython.core.display.HTML object>"
      ]
     },
     "metadata": {},
     "output_type": "display_data"
    },
    {
     "name": "stdout",
     "output_type": "stream",
     "text": [
      "[0.008416096679866314, 0.9915838241577148]\n"
     ]
    },
    {
     "data": {
      "text/html": [
       "<figcaption>./testimg/normal/20201109-101833_14YYa_1.jpg : Normal</figcaption>"
      ],
      "text/plain": [
       "<IPython.core.display.HTML object>"
      ]
     },
     "metadata": {},
     "output_type": "display_data"
    },
    {
     "name": "stdout",
     "output_type": "stream",
     "text": [
      "[7.02603065292351e-05, 0.9999297857284546]\n"
     ]
    },
    {
     "data": {
      "text/html": [
       "<figcaption>./testimg/normal/20201109-101642_03YNa_0.jpg : Normal</figcaption>"
      ],
      "text/plain": [
       "<IPython.core.display.HTML object>"
      ]
     },
     "metadata": {},
     "output_type": "display_data"
    },
    {
     "name": "stdout",
     "output_type": "stream",
     "text": [
      "[0.07153578847646713, 0.9284641742706299]\n"
     ]
    },
    {
     "data": {
      "text/html": [
       "<figcaption>./testimg/normal/20201109-101923_05YYa_1.jpg : Normal</figcaption>"
      ],
      "text/plain": [
       "<IPython.core.display.HTML object>"
      ]
     },
     "metadata": {},
     "output_type": "display_data"
    },
    {
     "name": "stdout",
     "output_type": "stream",
     "text": [
      "[2.4026738174143247e-05, 0.9999759197235107]\n"
     ]
    },
    {
     "data": {
      "text/html": [
       "<figcaption>./testimg/normal/20201109-101935_12YYa_0.jpg : Normal</figcaption>"
      ],
      "text/plain": [
       "<IPython.core.display.HTML object>"
      ]
     },
     "metadata": {},
     "output_type": "display_data"
    },
    {
     "name": "stdout",
     "output_type": "stream",
     "text": [
      "[9.9917142506456e-06, 0.9999899864196777]\n"
     ]
    },
    {
     "data": {
      "text/html": [
       "<figcaption>./testimg/normal/20201109-101845_21YYa_0.jpg : Normal</figcaption>"
      ],
      "text/plain": [
       "<IPython.core.display.HTML object>"
      ]
     },
     "metadata": {},
     "output_type": "display_data"
    },
    {
     "name": "stdout",
     "output_type": "stream",
     "text": [
      "[0.0011229407973587513, 0.9988771080970764]\n"
     ]
    },
    {
     "data": {
      "text/html": [
       "<figcaption>./testimg/normal/20201109-101642_11YNa_1.jpg : Normal</figcaption>"
      ],
      "text/plain": [
       "<IPython.core.display.HTML object>"
      ]
     },
     "metadata": {},
     "output_type": "display_data"
    },
    {
     "name": "stdout",
     "output_type": "stream",
     "text": [
      "[0.00027759658405557275, 0.999722421169281]\n"
     ]
    },
    {
     "data": {
      "text/html": [
       "<figcaption>./testimg/normal/20201109-101821_27YYa_0.jpg : Normal</figcaption>"
      ],
      "text/plain": [
       "<IPython.core.display.HTML object>"
      ]
     },
     "metadata": {},
     "output_type": "display_data"
    },
    {
     "name": "stdout",
     "output_type": "stream",
     "text": [
      "[0.08486530184745789, 0.9151347279548645]\n"
     ]
    },
    {
     "data": {
      "text/html": [
       "<figcaption>./testimg/normal/20201109-101616_10YNa_1.jpg : Normal</figcaption>"
      ],
      "text/plain": [
       "<IPython.core.display.HTML object>"
      ]
     },
     "metadata": {},
     "output_type": "display_data"
    },
    {
     "name": "stdout",
     "output_type": "stream",
     "text": [
      "[0.00011303577048238367, 0.9998869895935059]\n"
     ]
    },
    {
     "data": {
      "text/html": [
       "<figcaption>./testimg/normal/20201109-101821_21YNa_1.jpg : Normal</figcaption>"
      ],
      "text/plain": [
       "<IPython.core.display.HTML object>"
      ]
     },
     "metadata": {},
     "output_type": "display_data"
    },
    {
     "name": "stdout",
     "output_type": "stream",
     "text": [
      "[0.0001136519422288984, 0.9998863935470581]\n"
     ]
    },
    {
     "data": {
      "text/html": [
       "<figcaption>./testimg/normal/20201109-101535_10YNa_1.jpg : Normal</figcaption>"
      ],
      "text/plain": [
       "<IPython.core.display.HTML object>"
      ]
     },
     "metadata": {},
     "output_type": "display_data"
    },
    {
     "name": "stdout",
     "output_type": "stream",
     "text": [
      "[0.0020484807901084423, 0.9979515671730042]\n"
     ]
    },
    {
     "data": {
      "text/html": [
       "<figcaption>./testimg/normal/20201109-101602_15YNa_1.jpg : Normal</figcaption>"
      ],
      "text/plain": [
       "<IPython.core.display.HTML object>"
      ]
     },
     "metadata": {},
     "output_type": "display_data"
    },
    {
     "name": "stdout",
     "output_type": "stream",
     "text": [
      "[2.6958219677908346e-05, 0.9999730587005615]\n"
     ]
    },
    {
     "data": {
      "text/html": [
       "<figcaption>./testimg/normal/20201109-101706_07YYa_0.jpg : Normal</figcaption>"
      ],
      "text/plain": [
       "<IPython.core.display.HTML object>"
      ]
     },
     "metadata": {},
     "output_type": "display_data"
    },
    {
     "name": "stdout",
     "output_type": "stream",
     "text": [
      "[8.904401511244942e-06, 0.9999910593032837]\n"
     ]
    },
    {
     "data": {
      "text/html": [
       "<figcaption>./testimg/normal/20201109-101616_16YYa_0.jpg : Normal</figcaption>"
      ],
      "text/plain": [
       "<IPython.core.display.HTML object>"
      ]
     },
     "metadata": {},
     "output_type": "display_data"
    },
    {
     "name": "stdout",
     "output_type": "stream",
     "text": [
      "[0.0012901133159175515, 0.9987099170684814]\n"
     ]
    },
    {
     "data": {
      "text/html": [
       "<figcaption>./testimg/normal/20201109-101808_21YYa_1.jpg : Normal</figcaption>"
      ],
      "text/plain": [
       "<IPython.core.display.HTML object>"
      ]
     },
     "metadata": {},
     "output_type": "display_data"
    },
    {
     "name": "stdout",
     "output_type": "stream",
     "text": [
      "[7.399250898743048e-05, 0.999925971031189]\n"
     ]
    },
    {
     "data": {
      "text/html": [
       "<figcaption>./testimg/normal/20201109-101743_15YYa_0.jpg : Normal</figcaption>"
      ],
      "text/plain": [
       "<IPython.core.display.HTML object>"
      ]
     },
     "metadata": {},
     "output_type": "display_data"
    },
    {
     "name": "stdout",
     "output_type": "stream",
     "text": [
      "[2.8336469767964445e-05, 0.9999716281890869]\n"
     ]
    },
    {
     "data": {
      "text/html": [
       "<figcaption>./testimg/normal/20201109-101757_10YYa_0.jpg : Normal</figcaption>"
      ],
      "text/plain": [
       "<IPython.core.display.HTML object>"
      ]
     },
     "metadata": {},
     "output_type": "display_data"
    },
    {
     "name": "stdout",
     "output_type": "stream",
     "text": [
      "[0.0012970484094694257, 0.998702883720398]\n"
     ]
    },
    {
     "data": {
      "text/html": [
       "<figcaption>./testimg/normal/20201109-101655_12YYa_1.jpg : Normal</figcaption>"
      ],
      "text/plain": [
       "<IPython.core.display.HTML object>"
      ]
     },
     "metadata": {},
     "output_type": "display_data"
    },
    {
     "name": "stdout",
     "output_type": "stream",
     "text": [
      "[0.007452568970620632, 0.9925474524497986]\n"
     ]
    },
    {
     "data": {
      "text/html": [
       "<figcaption>./testimg/normal/20201109-101845_11YYa_1.jpg : Normal</figcaption>"
      ],
      "text/plain": [
       "<IPython.core.display.HTML object>"
      ]
     },
     "metadata": {},
     "output_type": "display_data"
    },
    {
     "name": "stdout",
     "output_type": "stream",
     "text": [
      "[0.0002270691329613328, 0.9997729659080505]\n"
     ]
    },
    {
     "data": {
      "text/html": [
       "<figcaption>./testimg/normal/20201109-101731_18YYa_0.jpg : Normal</figcaption>"
      ],
      "text/plain": [
       "<IPython.core.display.HTML object>"
      ]
     },
     "metadata": {},
     "output_type": "display_data"
    },
    {
     "name": "stdout",
     "output_type": "stream",
     "text": [
      "[0.0009603588259778917, 0.9990395903587341]\n"
     ]
    },
    {
     "data": {
      "text/html": [
       "<figcaption>./testimg/normal/20201109-101935_02YYa_1.jpg : Normal</figcaption>"
      ],
      "text/plain": [
       "<IPython.core.display.HTML object>"
      ]
     },
     "metadata": {},
     "output_type": "display_data"
    },
    {
     "name": "stdout",
     "output_type": "stream",
     "text": [
      "[0.0017971035558730364, 0.998202919960022]\n"
     ]
    },
    {
     "data": {
      "text/html": [
       "<figcaption>./testimg/normal/20201109-101910_28YYa_0.jpg : Normal</figcaption>"
      ],
      "text/plain": [
       "<IPython.core.display.HTML object>"
      ]
     },
     "metadata": {},
     "output_type": "display_data"
    },
    {
     "name": "stdout",
     "output_type": "stream",
     "text": [
      "[0.0006917322752997279, 0.9993082284927368]\n"
     ]
    },
    {
     "data": {
      "text/html": [
       "<figcaption>./testimg/normal/20201109-101655_22YYa_0.jpg : Normal</figcaption>"
      ],
      "text/plain": [
       "<IPython.core.display.HTML object>"
      ]
     },
     "metadata": {},
     "output_type": "display_data"
    },
    {
     "name": "stdout",
     "output_type": "stream",
     "text": [
      "[0.0002557241532485932, 0.9997442364692688]\n"
     ]
    },
    {
     "data": {
      "text/html": [
       "<figcaption>./testimg/normal/20201109-101731_12YNa_1.jpg : Normal</figcaption>"
      ],
      "text/plain": [
       "<IPython.core.display.HTML object>"
      ]
     },
     "metadata": {},
     "output_type": "display_data"
    },
    {
     "name": "stdout",
     "output_type": "stream",
     "text": [
      "[0.006325839553028345, 0.9936741590499878]\n"
     ]
    },
    {
     "data": {
      "text/html": [
       "<figcaption>./testimg/normal/20201109-101821_03YNa_1.jpg : Normal</figcaption>"
      ],
      "text/plain": [
       "<IPython.core.display.HTML object>"
      ]
     },
     "metadata": {},
     "output_type": "display_data"
    },
    {
     "name": "stdout",
     "output_type": "stream",
     "text": [
      "[0.00014536839444190264, 0.999854564666748]\n"
     ]
    },
    {
     "data": {
      "text/html": [
       "<figcaption>./testimg/normal/20201109-101602_25YNa_0.jpg : Normal</figcaption>"
      ],
      "text/plain": [
       "<IPython.core.display.HTML object>"
      ]
     },
     "metadata": {},
     "output_type": "display_data"
    },
    {
     "name": "stdout",
     "output_type": "stream",
     "text": [
      "[2.2704782622895436e-06, 0.9999977350234985]\n"
     ]
    },
    {
     "data": {
      "text/html": [
       "<figcaption>./testimg/normal/20201109-101706_11YNa_0.jpg : Normal</figcaption>"
      ],
      "text/plain": [
       "<IPython.core.display.HTML object>"
      ]
     },
     "metadata": {},
     "output_type": "display_data"
    },
    {
     "name": "stdout",
     "output_type": "stream",
     "text": [
      "[0.0002055514050880447, 0.9997944235801697]\n"
     ]
    },
    {
     "data": {
      "text/html": [
       "<figcaption>./testimg/normal/20201109-101642_21YNa_0.jpg : Normal</figcaption>"
      ],
      "text/plain": [
       "<IPython.core.display.HTML object>"
      ]
     },
     "metadata": {},
     "output_type": "display_data"
    },
    {
     "name": "stdout",
     "output_type": "stream",
     "text": [
      "[0.00777205266058445, 0.9922279715538025]\n"
     ]
    },
    {
     "data": {
      "text/html": [
       "<figcaption>./testimg/normal/20201109-101630_28YYa_1.jpg : Normal</figcaption>"
      ],
      "text/plain": [
       "<IPython.core.display.HTML object>"
      ]
     },
     "metadata": {},
     "output_type": "display_data"
    },
    {
     "name": "stdout",
     "output_type": "stream",
     "text": [
      "[8.298984175780788e-05, 0.9999170303344727]\n"
     ]
    },
    {
     "data": {
      "text/html": [
       "<figcaption>./testimg/normal/20201109-101910_14YNa_0.jpg : Normal</figcaption>"
      ],
      "text/plain": [
       "<IPython.core.display.HTML object>"
      ]
     },
     "metadata": {},
     "output_type": "display_data"
    },
    {
     "name": "stdout",
     "output_type": "stream",
     "text": [
      "[2.158208008040674e-05, 0.9999784231185913]\n"
     ]
    },
    {
     "data": {
      "text/html": [
       "<figcaption>./testimg/normal/20201109-101706_25YYa_0.jpg : Normal</figcaption>"
      ],
      "text/plain": [
       "<IPython.core.display.HTML object>"
      ]
     },
     "metadata": {},
     "output_type": "display_data"
    },
    {
     "name": "stdout",
     "output_type": "stream",
     "text": [
      "[0.00010088654380524531, 0.99989914894104]\n"
     ]
    },
    {
     "data": {
      "text/html": [
       "<figcaption>./testimg/normal/20201109-101845_03YYa_0.jpg : Normal</figcaption>"
      ],
      "text/plain": [
       "<IPython.core.display.HTML object>"
      ]
     },
     "metadata": {},
     "output_type": "display_data"
    },
    {
     "name": "stdout",
     "output_type": "stream",
     "text": [
      "[1.3034174116910435e-05, 0.999987006187439]\n"
     ]
    },
    {
     "data": {
      "text/html": [
       "<figcaption>./testimg/normal/20201109-101923_15YYa_0.jpg : Normal</figcaption>"
      ],
      "text/plain": [
       "<IPython.core.display.HTML object>"
      ]
     },
     "metadata": {},
     "output_type": "display_data"
    },
    {
     "name": "stdout",
     "output_type": "stream",
     "text": [
      "[0.0024536268319934607, 0.997546374797821]\n"
     ]
    },
    {
     "data": {
      "text/html": [
       "<figcaption>./testimg/normal/20201109-101731_26YYa_1.jpg : Normal</figcaption>"
      ],
      "text/plain": [
       "<IPython.core.display.HTML object>"
      ]
     },
     "metadata": {},
     "output_type": "display_data"
    },
    {
     "name": "stdout",
     "output_type": "stream",
     "text": [
      "[0.0014563328586518764, 0.9985437393188477]\n"
     ]
    },
    {
     "data": {
      "text/html": [
       "<figcaption>./testimg/normal/20201109-101535_06YYa_1.jpg : Normal</figcaption>"
      ],
      "text/plain": [
       "<IPython.core.display.HTML object>"
      ]
     },
     "metadata": {},
     "output_type": "display_data"
    },
    {
     "name": "stdout",
     "output_type": "stream",
     "text": [
      "[0.002226217184215784, 0.9977737069129944]\n"
     ]
    },
    {
     "data": {
      "text/html": [
       "<figcaption>./testimg/normal/20201109-101642_07YYa_1.jpg : Normal</figcaption>"
      ],
      "text/plain": [
       "<IPython.core.display.HTML object>"
      ]
     },
     "metadata": {},
     "output_type": "display_data"
    },
    {
     "name": "stdout",
     "output_type": "stream",
     "text": [
      "[0.007715641520917416, 0.99228435754776]\n"
     ]
    },
    {
     "data": {
      "text/html": [
       "<figcaption>./testimg/normal/20201109-101616_06YYa_1.jpg : Normal</figcaption>"
      ],
      "text/plain": [
       "<IPython.core.display.HTML object>"
      ]
     },
     "metadata": {},
     "output_type": "display_data"
    },
    {
     "name": "stdout",
     "output_type": "stream",
     "text": [
      "[2.257638334413059e-05, 0.9999774694442749]\n"
     ]
    },
    {
     "data": {
      "text/html": [
       "<figcaption>./testimg/normal/20201109-101743_10YNa_0.jpg : Normal</figcaption>"
      ],
      "text/plain": [
       "<IPython.core.display.HTML object>"
      ]
     },
     "metadata": {},
     "output_type": "display_data"
    },
    {
     "name": "stdout",
     "output_type": "stream",
     "text": [
      "[4.280915163690224e-05, 0.9999572038650513]\n"
     ]
    },
    {
     "data": {
      "text/html": [
       "<figcaption>./testimg/normal/20201109-101655_13YYa_0.jpg : Normal</figcaption>"
      ],
      "text/plain": [
       "<IPython.core.display.HTML object>"
      ]
     },
     "metadata": {},
     "output_type": "display_data"
    },
    {
     "name": "stdout",
     "output_type": "stream",
     "text": [
      "[0.00043087199446745217, 0.9995691180229187]\n"
     ]
    },
    {
     "data": {
      "text/html": [
       "<figcaption>./testimg/normal/20201109-101808_22YYa_0.jpg : Normal</figcaption>"
      ],
      "text/plain": [
       "<IPython.core.display.HTML object>"
      ]
     },
     "metadata": {},
     "output_type": "display_data"
    },
    {
     "name": "stdout",
     "output_type": "stream",
     "text": [
      "[1.6268770195893012e-05, 0.9999837875366211]\n"
     ]
    },
    {
     "data": {
      "text/html": [
       "<figcaption>./testimg/normal/20201109-101910_13YNa_1.jpg : Normal</figcaption>"
      ],
      "text/plain": [
       "<IPython.core.display.HTML object>"
      ]
     },
     "metadata": {},
     "output_type": "display_data"
    },
    {
     "name": "stdout",
     "output_type": "stream",
     "text": [
      "[0.016608014702796936, 0.9833920001983643]\n"
     ]
    },
    {
     "data": {
      "text/html": [
       "<figcaption>./testimg/normal/20201109-101845_02YYa_1.jpg : Normal</figcaption>"
      ],
      "text/plain": [
       "<IPython.core.display.HTML object>"
      ]
     },
     "metadata": {},
     "output_type": "display_data"
    },
    {
     "name": "stdout",
     "output_type": "stream",
     "text": [
      "[0.00048239543684758246, 0.999517560005188]\n"
     ]
    },
    {
     "data": {
      "text/html": [
       "<figcaption>./testimg/normal/20201109-101833_23YYa_1.jpg : Normal</figcaption>"
      ],
      "text/plain": [
       "<IPython.core.display.HTML object>"
      ]
     },
     "metadata": {},
     "output_type": "display_data"
    },
    {
     "name": "stdout",
     "output_type": "stream",
     "text": [
      "[2.9414304663077928e-05, 0.999970555305481]\n"
     ]
    },
    {
     "data": {
      "text/html": [
       "<figcaption>./testimg/normal/20201109-101642_12YNa_0.jpg : Normal</figcaption>"
      ],
      "text/plain": [
       "<IPython.core.display.HTML object>"
      ]
     },
     "metadata": {},
     "output_type": "display_data"
    },
    {
     "name": "stdout",
     "output_type": "stream",
     "text": [
      "[2.4627648599562235e-05, 0.999975323677063]\n"
     ]
    },
    {
     "data": {
      "text/html": [
       "<figcaption>./testimg/normal/20201109-101716_15YYa_0.jpg : Normal</figcaption>"
      ],
      "text/plain": [
       "<IPython.core.display.HTML object>"
      ]
     },
     "metadata": {},
     "output_type": "display_data"
    },
    {
     "name": "stdout",
     "output_type": "stream",
     "text": [
      "[8.720340929357917e-07, 0.9999991655349731]\n"
     ]
    },
    {
     "data": {
      "text/html": [
       "<figcaption>./testimg/normal/20201109-101602_16YNa_0.jpg : Normal</figcaption>"
      ],
      "text/plain": [
       "<IPython.core.display.HTML object>"
      ]
     },
     "metadata": {},
     "output_type": "display_data"
    },
    {
     "name": "stdout",
     "output_type": "stream",
     "text": [
      "[1.8998058294528164e-05, 0.9999810457229614]\n"
     ]
    },
    {
     "data": {
      "text/html": [
       "<figcaption>./testimg/normal/20201109-101535_11YNa_0.jpg : Normal</figcaption>"
      ],
      "text/plain": [
       "<IPython.core.display.HTML object>"
      ]
     },
     "metadata": {},
     "output_type": "display_data"
    },
    {
     "name": "stdout",
     "output_type": "stream",
     "text": [
      "[2.3236087145050988e-05, 0.9999767541885376]\n"
     ]
    },
    {
     "data": {
      "text/html": [
       "<figcaption>./testimg/normal/20201109-101821_22YNa_0.jpg : Normal</figcaption>"
      ],
      "text/plain": [
       "<IPython.core.display.HTML object>"
      ]
     },
     "metadata": {},
     "output_type": "display_data"
    },
    {
     "name": "stdout",
     "output_type": "stream",
     "text": [
      "[0.0008583548478782177, 0.9991415739059448]\n"
     ]
    },
    {
     "data": {
      "text/html": [
       "<figcaption>./testimg/normal/20201109-101630_19YYa_1.jpg : Normal</figcaption>"
      ],
      "text/plain": [
       "<IPython.core.display.HTML object>"
      ]
     },
     "metadata": {},
     "output_type": "display_data"
    },
    {
     "name": "stdout",
     "output_type": "stream",
     "text": [
      "[1.6843039702507667e-05, 0.9999831914901733]\n"
     ]
    },
    {
     "data": {
      "text/html": [
       "<figcaption>./testimg/normal/20201109-101602_24YNa_1.jpg : Normal</figcaption>"
      ],
      "text/plain": [
       "<IPython.core.display.HTML object>"
      ]
     },
     "metadata": {},
     "output_type": "display_data"
    },
    {
     "name": "stdout",
     "output_type": "stream",
     "text": [
      "[0.002455319743603468, 0.9975447058677673]\n"
     ]
    },
    {
     "data": {
      "text/html": [
       "<figcaption>./testimg/normal/20201109-101642_26YYa_0.jpg : Normal</figcaption>"
      ],
      "text/plain": [
       "<IPython.core.display.HTML object>"
      ]
     },
     "metadata": {},
     "output_type": "display_data"
    },
    {
     "name": "stdout",
     "output_type": "stream",
     "text": [
      "[6.569195829797536e-05, 0.9999343156814575]\n"
     ]
    },
    {
     "data": {
      "text/html": [
       "<figcaption>./testimg/normal/20201109-101642_20YNa_1.jpg : Normal</figcaption>"
      ],
      "text/plain": [
       "<IPython.core.display.HTML object>"
      ]
     },
     "metadata": {},
     "output_type": "display_data"
    },
    {
     "name": "stdout",
     "output_type": "stream",
     "text": [
      "[0.0001419223699485883, 0.999858021736145]\n"
     ]
    },
    {
     "data": {
      "text/html": [
       "<figcaption>./testimg/normal/20201109-101706_10YNa_1.jpg : Normal</figcaption>"
      ],
      "text/plain": [
       "<IPython.core.display.HTML object>"
      ]
     },
     "metadata": {},
     "output_type": "display_data"
    },
    {
     "name": "stdout",
     "output_type": "stream",
     "text": [
      "[0.0007075034664012492, 0.9992924928665161]\n"
     ]
    },
    {
     "data": {
      "text/html": [
       "<figcaption>./testimg/normal/20201109-101910_27YYa_1.jpg : Normal</figcaption>"
      ],
      "text/plain": [
       "<IPython.core.display.HTML object>"
      ]
     },
     "metadata": {},
     "output_type": "display_data"
    },
    {
     "name": "stdout",
     "output_type": "stream",
     "text": [
      "[0.002089469227939844, 0.9979105591773987]\n"
     ]
    },
    {
     "data": {
      "text/html": [
       "<figcaption>./testimg/normal/20201109-101731_17YYa_1.jpg : Normal</figcaption>"
      ],
      "text/plain": [
       "<IPython.core.display.HTML object>"
      ]
     },
     "metadata": {},
     "output_type": "display_data"
    },
    {
     "name": "stdout",
     "output_type": "stream",
     "text": [
      "[0.0013466759119182825, 0.9986532926559448]\n"
     ]
    },
    {
     "data": {
      "text/html": [
       "<figcaption>./testimg/normal/20201109-101923_06YYa_0.jpg : Normal</figcaption>"
      ],
      "text/plain": [
       "<IPython.core.display.HTML object>"
      ]
     },
     "metadata": {},
     "output_type": "display_data"
    },
    {
     "name": "stdout",
     "output_type": "stream",
     "text": [
      "[0.0004139497468713671, 0.9995860457420349]\n"
     ]
    },
    {
     "data": {
      "text/html": [
       "<figcaption>./testimg/normal/20201109-101833_15YYa_0.jpg : Normal</figcaption>"
      ],
      "text/plain": [
       "<IPython.core.display.HTML object>"
      ]
     },
     "metadata": {},
     "output_type": "display_data"
    },
    {
     "name": "stdout",
     "output_type": "stream",
     "text": [
      "[0.0002787608827929944, 0.9997212290763855]\n"
     ]
    },
    {
     "data": {
      "text/html": [
       "<figcaption>./testimg/normal/20201109-101642_08YYa_0.jpg : Normal</figcaption>"
      ],
      "text/plain": [
       "<IPython.core.display.HTML object>"
      ]
     },
     "metadata": {},
     "output_type": "display_data"
    },
    {
     "name": "stdout",
     "output_type": "stream",
     "text": [
      "[0.018433917313814163, 0.9815660715103149]\n"
     ]
    },
    {
     "data": {
      "text/html": [
       "<figcaption>./testimg/normal/20201109-101535_01YNa_1.jpg : Normal</figcaption>"
      ],
      "text/plain": [
       "<IPython.core.display.HTML object>"
      ]
     },
     "metadata": {},
     "output_type": "display_data"
    },
    {
     "name": "stdout",
     "output_type": "stream",
     "text": [
      "[0.004283352755010128, 0.9957166314125061]\n"
     ]
    },
    {
     "data": {
      "text/html": [
       "<figcaption>./testimg/normal/20201109-101602_06YNa_1.jpg : Normal</figcaption>"
      ],
      "text/plain": [
       "<IPython.core.display.HTML object>"
      ]
     },
     "metadata": {},
     "output_type": "display_data"
    },
    {
     "name": "stdout",
     "output_type": "stream",
     "text": [
      "[8.411530870944262e-05, 0.9999158382415771]\n"
     ]
    },
    {
     "data": {
      "text/html": [
       "<figcaption>./testimg/normal/20201109-101845_20YYa_1.jpg : Normal</figcaption>"
      ],
      "text/plain": [
       "<IPython.core.display.HTML object>"
      ]
     },
     "metadata": {},
     "output_type": "display_data"
    },
    {
     "name": "stdout",
     "output_type": "stream",
     "text": [
      "[0.034808915108442307, 0.9651910662651062]\n"
     ]
    },
    {
     "data": {
      "text/html": [
       "<figcaption>./testimg/normal/20201109-101935_11YYa_1.jpg : Normal</figcaption>"
      ],
      "text/plain": [
       "<IPython.core.display.HTML object>"
      ]
     },
     "metadata": {},
     "output_type": "display_data"
    },
    {
     "name": "stdout",
     "output_type": "stream",
     "text": [
      "[1.0171685062232427e-05, 0.9999898672103882]\n"
     ]
    },
    {
     "data": {
      "text/html": [
       "<figcaption>./testimg/normal/20201109-101535_07YYa_0.jpg : Normal</figcaption>"
      ],
      "text/plain": [
       "<IPython.core.display.HTML object>"
      ]
     },
     "metadata": {},
     "output_type": "display_data"
    },
    {
     "name": "stdout",
     "output_type": "stream",
     "text": [
      "[0.0015329315792769194, 0.9984670281410217]\n"
     ]
    },
    {
     "data": {
      "text/html": [
       "<figcaption>./testimg/normal/20201109-101642_02YNa_1.jpg : Normal</figcaption>"
      ],
      "text/plain": [
       "<IPython.core.display.HTML object>"
      ]
     },
     "metadata": {},
     "output_type": "display_data"
    },
    {
     "name": "stdout",
     "output_type": "stream",
     "text": [
      "[0.0198837760835886, 0.9801162481307983]\n"
     ]
    },
    {
     "data": {
      "text/html": [
       "<figcaption>./testimg/normal/20201109-101716_05YYa_1.jpg : Normal</figcaption>"
      ],
      "text/plain": [
       "<IPython.core.display.HTML object>"
      ]
     },
     "metadata": {},
     "output_type": "display_data"
    },
    {
     "name": "stdout",
     "output_type": "stream",
     "text": [
      "[0.003018524730578065, 0.9969814419746399]\n"
     ]
    },
    {
     "data": {
      "text/html": [
       "<figcaption>./testimg/normal/20201109-101910_09YYa_1.jpg : Normal</figcaption>"
      ],
      "text/plain": [
       "<IPython.core.display.HTML object>"
      ]
     },
     "metadata": {},
     "output_type": "display_data"
    },
    {
     "name": "stdout",
     "output_type": "stream",
     "text": [
      "[6.086769644753076e-05, 0.9999390840530396]\n"
     ]
    },
    {
     "data": {
      "text/html": [
       "<figcaption>./testimg/normal/20201109-101757_01YYa_0.jpg : Normal</figcaption>"
      ],
      "text/plain": [
       "<IPython.core.display.HTML object>"
      ]
     },
     "metadata": {},
     "output_type": "display_data"
    },
    {
     "name": "stdout",
     "output_type": "stream",
     "text": [
      "[5.577407864620909e-05, 0.9999442100524902]\n"
     ]
    },
    {
     "data": {
      "text/html": [
       "<figcaption>./testimg/normal/20201109-101630_29YYa_0.jpg : Normal</figcaption>"
      ],
      "text/plain": [
       "<IPython.core.display.HTML object>"
      ]
     },
     "metadata": {},
     "output_type": "display_data"
    },
    {
     "name": "stdout",
     "output_type": "stream",
     "text": [
      "[0.0005963339353911579, 0.999403715133667]\n"
     ]
    },
    {
     "data": {
      "text/html": [
       "<figcaption>./testimg/normal/20201109-101935_03YYa_0.jpg : Normal</figcaption>"
      ],
      "text/plain": [
       "<IPython.core.display.HTML object>"
      ]
     },
     "metadata": {},
     "output_type": "display_data"
    },
    {
     "name": "stdout",
     "output_type": "stream",
     "text": [
      "[6.258838402573019e-05, 0.9999374151229858]\n"
     ]
    },
    {
     "data": {
      "text/html": [
       "<figcaption>./testimg/normal/20201109-101821_04YNa_0.jpg : Normal</figcaption>"
      ],
      "text/plain": [
       "<IPython.core.display.HTML object>"
      ]
     },
     "metadata": {},
     "output_type": "display_data"
    },
    {
     "name": "stdout",
     "output_type": "stream",
     "text": [
      "[0.05551595240831375, 0.9444840550422668]\n"
     ]
    },
    {
     "data": {
      "text/html": [
       "<figcaption>./testimg/normal/20201109-101616_15YYa_1.jpg : Normal</figcaption>"
      ],
      "text/plain": [
       "<IPython.core.display.HTML object>"
      ]
     },
     "metadata": {},
     "output_type": "display_data"
    },
    {
     "name": "stdout",
     "output_type": "stream",
     "text": [
      "[0.014918643049895763, 0.9850813746452332]\n"
     ]
    },
    {
     "data": {
      "text/html": [
       "<figcaption>./testimg/normal/20201109-101821_26YYa_1.jpg : Normal</figcaption>"
      ],
      "text/plain": [
       "<IPython.core.display.HTML object>"
      ]
     },
     "metadata": {},
     "output_type": "display_data"
    },
    {
     "name": "stdout",
     "output_type": "stream",
     "text": [
      "[0.0003575763839762658, 0.9996423721313477]\n"
     ]
    },
    {
     "data": {
      "text/html": [
       "<figcaption>./testimg/normal/20201109-101845_29YYa_0.jpg : Normal</figcaption>"
      ],
      "text/plain": [
       "<IPython.core.display.HTML object>"
      ]
     },
     "metadata": {},
     "output_type": "display_data"
    },
    {
     "name": "stdout",
     "output_type": "stream",
     "text": [
      "[0.00030815822537988424, 0.9996918439865112]\n"
     ]
    },
    {
     "data": {
      "text/html": [
       "<figcaption>./testimg/normal/20201109-101630_03YYa_0.jpg : Normal</figcaption>"
      ],
      "text/plain": [
       "<IPython.core.display.HTML object>"
      ]
     },
     "metadata": {},
     "output_type": "display_data"
    },
    {
     "name": "stdout",
     "output_type": "stream",
     "text": [
      "[0.00011289949907222763, 0.9998871088027954]\n"
     ]
    },
    {
     "data": {
      "text/html": [
       "<figcaption>./testimg/normal/20201109-101757_26YYa_1.jpg : Normal</figcaption>"
      ],
      "text/plain": [
       "<IPython.core.display.HTML object>"
      ]
     },
     "metadata": {},
     "output_type": "display_data"
    },
    {
     "name": "stdout",
     "output_type": "stream",
     "text": [
      "[0.0006971831317059696, 0.999302864074707]\n"
     ]
    },
    {
     "data": {
      "text/html": [
       "<figcaption>./testimg/normal/20201109-101910_11YYa_0.jpg : Normal</figcaption>"
      ],
      "text/plain": [
       "<IPython.core.display.HTML object>"
      ]
     },
     "metadata": {},
     "output_type": "display_data"
    },
    {
     "name": "stdout",
     "output_type": "stream",
     "text": [
      "[0.0040237391367554665, 0.9959762692451477]\n"
     ]
    },
    {
     "data": {
      "text/html": [
       "<figcaption>./testimg/normal/20201109-101808_15YNa_1.jpg : Normal</figcaption>"
      ],
      "text/plain": [
       "<IPython.core.display.HTML object>"
      ]
     },
     "metadata": {},
     "output_type": "display_data"
    },
    {
     "name": "stdout",
     "output_type": "stream",
     "text": [
      "[1.4232429066396435e-06, 0.9999985694885254]\n"
     ]
    },
    {
     "data": {
      "text/html": [
       "<figcaption>./testimg/normal/20201109-101743_09YNa_0.jpg : Normal</figcaption>"
      ],
      "text/plain": [
       "<IPython.core.display.HTML object>"
      ]
     },
     "metadata": {},
     "output_type": "display_data"
    },
    {
     "name": "stdout",
     "output_type": "stream",
     "text": [
      "[0.00795016996562481, 0.9920498728752136]\n"
     ]
    },
    {
     "data": {
      "text/html": [
       "<figcaption>./testimg/normal/20201109-101833_08YNa_1.jpg : Normal</figcaption>"
      ],
      "text/plain": [
       "<IPython.core.display.HTML object>"
      ]
     },
     "metadata": {},
     "output_type": "display_data"
    },
    {
     "name": "stdout",
     "output_type": "stream",
     "text": [
      "[0.0005941015551798046, 0.9994058609008789]\n"
     ]
    },
    {
     "data": {
      "text/html": [
       "<figcaption>./testimg/normal/20201109-101857_16YYa_1.jpg : Normal</figcaption>"
      ],
      "text/plain": [
       "<IPython.core.display.HTML object>"
      ]
     },
     "metadata": {},
     "output_type": "display_data"
    },
    {
     "name": "stdout",
     "output_type": "stream",
     "text": [
      "[0.0006129499524831772, 0.9993870258331299]\n"
     ]
    },
    {
     "data": {
      "text/html": [
       "<figcaption>./testimg/normal/20201109-101947_07YYa_1.jpg : Normal</figcaption>"
      ],
      "text/plain": [
       "<IPython.core.display.HTML object>"
      ]
     },
     "metadata": {},
     "output_type": "display_data"
    },
    {
     "name": "stdout",
     "output_type": "stream",
     "text": [
      "[0.002412274945527315, 0.9975876808166504]\n"
     ]
    },
    {
     "data": {
      "text/html": [
       "<figcaption>./testimg/normal/20201109-101642_19YNa_1.jpg : Normal</figcaption>"
      ],
      "text/plain": [
       "<IPython.core.display.HTML object>"
      ]
     },
     "metadata": {},
     "output_type": "display_data"
    },
    {
     "name": "stdout",
     "output_type": "stream",
     "text": [
      "[0.004299880005419254, 0.9957001209259033]\n"
     ]
    },
    {
     "data": {
      "text/html": [
       "<figcaption>./testimg/normal/20201109-101616_18YNa_1.jpg : Normal</figcaption>"
      ],
      "text/plain": [
       "<IPython.core.display.HTML object>"
      ]
     },
     "metadata": {},
     "output_type": "display_data"
    },
    {
     "name": "stdout",
     "output_type": "stream",
     "text": [
      "[0.0003062862961087376, 0.999693751335144]\n"
     ]
    },
    {
     "data": {
      "text/html": [
       "<figcaption>./testimg/normal/20201109-101706_09YNa_1.jpg : Normal</figcaption>"
      ],
      "text/plain": [
       "<IPython.core.display.HTML object>"
      ]
     },
     "metadata": {},
     "output_type": "display_data"
    },
    {
     "name": "stdout",
     "output_type": "stream",
     "text": [
      "[0.0012055913684889674, 0.998794436454773]\n"
     ]
    },
    {
     "data": {
      "text/html": [
       "<figcaption>./testimg/normal/20201109-101535_18YNa_1.jpg : Normal</figcaption>"
      ],
      "text/plain": [
       "<IPython.core.display.HTML object>"
      ]
     },
     "metadata": {},
     "output_type": "display_data"
    },
    {
     "name": "stdout",
     "output_type": "stream",
     "text": [
      "[0.00035174444201402366, 0.9996482133865356]\n"
     ]
    },
    {
     "data": {
      "text/html": [
       "<figcaption>./testimg/normal/20201109-101630_11YYa_1.jpg : Normal</figcaption>"
      ],
      "text/plain": [
       "<IPython.core.display.HTML object>"
      ]
     },
     "metadata": {},
     "output_type": "display_data"
    },
    {
     "name": "stdout",
     "output_type": "stream",
     "text": [
      "[0.00022119905042927712, 0.9997788071632385]\n"
     ]
    },
    {
     "data": {
      "text/html": [
       "<figcaption>./testimg/normal/20201109-101923_27YNa_0.jpg : Normal</figcaption>"
      ],
      "text/plain": [
       "<IPython.core.display.HTML object>"
      ]
     },
     "metadata": {},
     "output_type": "display_data"
    },
    {
     "name": "stdout",
     "output_type": "stream",
     "text": [
      "[0.0017290940741077065, 0.9982708692550659]\n"
     ]
    },
    {
     "data": {
      "text/html": [
       "<figcaption>./testimg/normal/20201109-101845_19YYa_1.jpg : Normal</figcaption>"
      ],
      "text/plain": [
       "<IPython.core.display.HTML object>"
      ]
     },
     "metadata": {},
     "output_type": "display_data"
    },
    {
     "name": "stdout",
     "output_type": "stream",
     "text": [
      "[1.5220943168969825e-05, 0.9999847412109375]\n"
     ]
    },
    {
     "data": {
      "text/html": [
       "<figcaption>./testimg/normal/20201109-101857_26YYa_0.jpg : Normal</figcaption>"
      ],
      "text/plain": [
       "<IPython.core.display.HTML object>"
      ]
     },
     "metadata": {},
     "output_type": "display_data"
    },
    {
     "name": "stdout",
     "output_type": "stream",
     "text": [
      "[0.00012300338130444288, 0.9998769760131836]\n"
     ]
    },
    {
     "data": {
      "text/html": [
       "<figcaption>./testimg/normal/20201109-101602_04YYa_0.jpg : Normal</figcaption>"
      ],
      "text/plain": [
       "<IPython.core.display.HTML object>"
      ]
     },
     "metadata": {},
     "output_type": "display_data"
    },
    {
     "name": "stdout",
     "output_type": "stream",
     "text": [
      "[4.013474244857207e-05, 0.9999598264694214]\n"
     ]
    },
    {
     "data": {
      "text/html": [
       "<figcaption>./testimg/normal/20201109-101947_17YYa_0.jpg : Normal</figcaption>"
      ],
      "text/plain": [
       "<IPython.core.display.HTML object>"
      ]
     },
     "metadata": {},
     "output_type": "display_data"
    },
    {
     "name": "stdout",
     "output_type": "stream",
     "text": [
      "[0.007209473755210638, 0.9927904605865479]\n"
     ]
    },
    {
     "data": {
      "text/html": [
       "<figcaption>./testimg/normal/20201109-101947_11YNa_1.jpg : Normal</figcaption>"
      ],
      "text/plain": [
       "<IPython.core.display.HTML object>"
      ]
     },
     "metadata": {},
     "output_type": "display_data"
    },
    {
     "name": "stdout",
     "output_type": "stream",
     "text": [
      "[0.00023054760822560638, 0.9997695088386536]\n"
     ]
    },
    {
     "data": {
      "text/html": [
       "<figcaption>./testimg/normal/20201109-101716_18YNa_0.jpg : Normal</figcaption>"
      ],
      "text/plain": [
       "<IPython.core.display.HTML object>"
      ]
     },
     "metadata": {},
     "output_type": "display_data"
    },
    {
     "name": "stdout",
     "output_type": "stream",
     "text": [
      "[0.001612583757378161, 0.9983874559402466]\n"
     ]
    },
    {
     "data": {
      "text/html": [
       "<figcaption>./testimg/normal/20201109-101602_12YYa_1.jpg : Normal</figcaption>"
      ],
      "text/plain": [
       "<IPython.core.display.HTML object>"
      ]
     },
     "metadata": {},
     "output_type": "display_data"
    },
    {
     "name": "stdout",
     "output_type": "stream",
     "text": [
      "[0.005857011303305626, 0.9941429495811462]\n"
     ]
    },
    {
     "data": {
      "text/html": [
       "<figcaption>./testimg/normal/20201109-101947_25YYa_1.jpg : Normal</figcaption>"
      ],
      "text/plain": [
       "<IPython.core.display.HTML object>"
      ]
     },
     "metadata": {},
     "output_type": "display_data"
    },
    {
     "name": "stdout",
     "output_type": "stream",
     "text": [
      "[0.026561612263321877, 0.9734383821487427]\n"
     ]
    },
    {
     "data": {
      "text/html": [
       "<figcaption>./testimg/normal/20201109-101757_08YYa_1.jpg : Normal</figcaption>"
      ],
      "text/plain": [
       "<IPython.core.display.HTML object>"
      ]
     },
     "metadata": {},
     "output_type": "display_data"
    },
    {
     "name": "stdout",
     "output_type": "stream",
     "text": [
      "[0.00019319512648507953, 0.999806821346283]\n"
     ]
    },
    {
     "data": {
      "text/html": [
       "<figcaption>./testimg/normal/20201109-101655_16YNa_0.jpg : Normal</figcaption>"
      ],
      "text/plain": [
       "<IPython.core.display.HTML object>"
      ]
     },
     "metadata": {},
     "output_type": "display_data"
    },
    {
     "name": "stdout",
     "output_type": "stream",
     "text": [
      "[2.8781585115211783e-06, 0.9999971389770508]\n"
     ]
    },
    {
     "data": {
      "text/html": [
       "<figcaption>./testimg/normal/20201109-101630_12YYa_0.jpg : Normal</figcaption>"
      ],
      "text/plain": [
       "<IPython.core.display.HTML object>"
      ]
     },
     "metadata": {},
     "output_type": "display_data"
    },
    {
     "name": "stdout",
     "output_type": "stream",
     "text": [
      "[1.5417643226101063e-05, 0.999984622001648]\n"
     ]
    },
    {
     "data": {
      "text/html": [
       "<figcaption>./testimg/normal/20201109-101935_29YYa_0.jpg : Normal</figcaption>"
      ],
      "text/plain": [
       "<IPython.core.display.HTML object>"
      ]
     },
     "metadata": {},
     "output_type": "display_data"
    },
    {
     "name": "stdout",
     "output_type": "stream",
     "text": [
      "[4.94898522447329e-05, 0.9999505281448364]\n"
     ]
    },
    {
     "data": {
      "text/html": [
       "<figcaption>./testimg/normal/20201109-101616_19YNa_0.jpg : Normal</figcaption>"
      ],
      "text/plain": [
       "<IPython.core.display.HTML object>"
      ]
     },
     "metadata": {},
     "output_type": "display_data"
    },
    {
     "name": "stdout",
     "output_type": "stream",
     "text": [
      "[0.00011180565343238413, 0.9998881816864014]\n"
     ]
    },
    {
     "data": {
      "text/html": [
       "<figcaption>./testimg/normal/20201109-101857_11YNa_1.jpg : Normal</figcaption>"
      ],
      "text/plain": [
       "<IPython.core.display.HTML object>"
      ]
     },
     "metadata": {},
     "output_type": "display_data"
    },
    {
     "name": "stdout",
     "output_type": "stream",
     "text": [
      "[3.420407301746309e-05, 0.9999657869338989]\n"
     ]
    },
    {
     "data": {
      "text/html": [
       "<figcaption>./testimg/normal/20201109-101833_09YNa_0.jpg : Normal</figcaption>"
      ],
      "text/plain": [
       "<IPython.core.display.HTML object>"
      ]
     },
     "metadata": {},
     "output_type": "display_data"
    },
    {
     "name": "stdout",
     "output_type": "stream",
     "text": [
      "[6.400590064004064e-05, 0.9999359846115112]\n"
     ]
    },
    {
     "data": {
      "text/html": [
       "<figcaption>./testimg/normal/20201109-101857_17YYa_0.jpg : Normal</figcaption>"
      ],
      "text/plain": [
       "<IPython.core.display.HTML object>"
      ]
     },
     "metadata": {},
     "output_type": "display_data"
    },
    {
     "name": "stdout",
     "output_type": "stream",
     "text": [
      "[0.007926263846457005, 0.992073655128479]\n"
     ]
    },
    {
     "data": {
      "text/html": [
       "<figcaption>./testimg/normal/20201109-101857_25YYa_1.jpg : Normal</figcaption>"
      ],
      "text/plain": [
       "<IPython.core.display.HTML object>"
      ]
     },
     "metadata": {},
     "output_type": "display_data"
    },
    {
     "name": "stdout",
     "output_type": "stream",
     "text": [
      "[7.398509478662163e-05, 0.999925971031189]\n"
     ]
    },
    {
     "data": {
      "text/html": [
       "<figcaption>./testimg/normal/20201109-101757_21YNa_1.jpg : Normal</figcaption>"
      ],
      "text/plain": [
       "<IPython.core.display.HTML object>"
      ]
     },
     "metadata": {},
     "output_type": "display_data"
    },
    {
     "name": "stdout",
     "output_type": "stream",
     "text": [
      "[0.053630899637937546, 0.9463691115379333]\n"
     ]
    },
    {
     "data": {
      "text/html": [
       "<figcaption>./testimg/normal/20201109-101655_29YYa_1.jpg : Normal</figcaption>"
      ],
      "text/plain": [
       "<IPython.core.display.HTML object>"
      ]
     },
     "metadata": {},
     "output_type": "display_data"
    },
    {
     "name": "stdout",
     "output_type": "stream",
     "text": [
      "[0.0012520088348537683, 0.9987479448318481]\n"
     ]
    },
    {
     "data": {
      "text/html": [
       "<figcaption>./testimg/normal/20201109-101757_27YYa_0.jpg : Normal</figcaption>"
      ],
      "text/plain": [
       "<IPython.core.display.HTML object>"
      ]
     },
     "metadata": {},
     "output_type": "display_data"
    },
    {
     "name": "stdout",
     "output_type": "stream",
     "text": [
      "[0.0002055792574537918, 0.9997944235801697]\n"
     ]
    },
    {
     "data": {
      "text/html": [
       "<figcaption>./testimg/normal/20201109-101808_16YNa_0.jpg : Normal</figcaption>"
      ],
      "text/plain": [
       "<IPython.core.display.HTML object>"
      ]
     },
     "metadata": {},
     "output_type": "display_data"
    },
    {
     "name": "stdout",
     "output_type": "stream",
     "text": [
      "[0.26885175704956055, 0.7311482429504395]\n"
     ]
    },
    {
     "data": {
      "text/html": [
       "<figcaption>./testimg/normal/20201109-101616_27YNa_1.jpg : Normal</figcaption>"
      ],
      "text/plain": [
       "<IPython.core.display.HTML object>"
      ]
     },
     "metadata": {},
     "output_type": "display_data"
    },
    {
     "name": "stdout",
     "output_type": "stream",
     "text": [
      "[1.547340798424557e-05, 0.9999845027923584]\n"
     ]
    },
    {
     "data": {
      "text/html": [
       "<figcaption>./testimg/normal/20201109-101757_09YYa_0.jpg : Normal</figcaption>"
      ],
      "text/plain": [
       "<IPython.core.display.HTML object>"
      ]
     },
     "metadata": {},
     "output_type": "display_data"
    },
    {
     "name": "stdout",
     "output_type": "stream",
     "text": [
      "[0.0019454779103398323, 0.9980545043945312]\n"
     ]
    },
    {
     "data": {
      "text/html": [
       "<figcaption>./testimg/normal/20201109-101910_10YYa_1.jpg : Normal</figcaption>"
      ],
      "text/plain": [
       "<IPython.core.display.HTML object>"
      ]
     },
     "metadata": {},
     "output_type": "display_data"
    },
    {
     "name": "stdout",
     "output_type": "stream",
     "text": [
      "[0.002641197992488742, 0.9973587393760681]\n"
     ]
    },
    {
     "data": {
      "text/html": [
       "<figcaption>./testimg/normal/20201109-101743_08YNa_1.jpg : Normal</figcaption>"
      ],
      "text/plain": [
       "<IPython.core.display.HTML object>"
      ]
     },
     "metadata": {},
     "output_type": "display_data"
    },
    {
     "name": "stdout",
     "output_type": "stream",
     "text": [
      "[0.00020422552188392729, 0.9997957348823547]\n"
     ]
    },
    {
     "data": {
      "text/html": [
       "<figcaption>./testimg/normal/20201109-101535_09YNa_1.jpg : Normal</figcaption>"
      ],
      "text/plain": [
       "<IPython.core.display.HTML object>"
      ]
     },
     "metadata": {},
     "output_type": "display_data"
    },
    {
     "name": "stdout",
     "output_type": "stream",
     "text": [
      "[0.0013960161013528705, 0.9986039996147156]\n"
     ]
    },
    {
     "data": {
      "text/html": [
       "<figcaption>./testimg/normal/20201109-101630_02YYa_1.jpg : Normal</figcaption>"
      ],
      "text/plain": [
       "<IPython.core.display.HTML object>"
      ]
     },
     "metadata": {},
     "output_type": "display_data"
    },
    {
     "name": "stdout",
     "output_type": "stream",
     "text": [
      "[0.4194030165672302, 0.5805969834327698]\n"
     ]
    },
    {
     "data": {
      "text/html": [
       "<figcaption>./testimg/normal/20201109-101616_09YNa_1.jpg : Normal</figcaption>"
      ],
      "text/plain": [
       "<IPython.core.display.HTML object>"
      ]
     },
     "metadata": {},
     "output_type": "display_data"
    },
    {
     "name": "stdout",
     "output_type": "stream",
     "text": [
      "[0.018701516091823578, 0.981298565864563]\n"
     ]
    },
    {
     "data": {
      "text/html": [
       "<figcaption>./testimg/normal/20201109-101845_28YYa_1.jpg : Normal</figcaption>"
      ],
      "text/plain": [
       "<IPython.core.display.HTML object>"
      ]
     },
     "metadata": {},
     "output_type": "display_data"
    },
    {
     "name": "stdout",
     "output_type": "stream",
     "text": [
      "[7.220350380521268e-05, 0.9999277591705322]\n"
     ]
    },
    {
     "data": {
      "text/html": [
       "<figcaption>./testimg/normal/20201109-101947_26YYa_0.jpg : Normal</figcaption>"
      ],
      "text/plain": [
       "<IPython.core.display.HTML object>"
      ]
     },
     "metadata": {},
     "output_type": "display_data"
    },
    {
     "name": "stdout",
     "output_type": "stream",
     "text": [
      "[8.729647379368544e-05, 0.9999127388000488]\n"
     ]
    },
    {
     "data": {
      "text/html": [
       "<figcaption>./testimg/normal/20201109-101602_13YYa_0.jpg : Normal</figcaption>"
      ],
      "text/plain": [
       "<IPython.core.display.HTML object>"
      ]
     },
     "metadata": {},
     "output_type": "display_data"
    },
    {
     "name": "stdout",
     "output_type": "stream",
     "text": [
      "[3.5608914913609624e-05, 0.9999643564224243]\n"
     ]
    },
    {
     "data": {
      "text/html": [
       "<figcaption>./testimg/normal/20201109-101808_06YNa_1.jpg : Normal</figcaption>"
      ],
      "text/plain": [
       "<IPython.core.display.HTML object>"
      ]
     },
     "metadata": {},
     "output_type": "display_data"
    },
    {
     "name": "stdout",
     "output_type": "stream",
     "text": [
      "[0.0007789399824105203, 0.9992210865020752]\n"
     ]
    },
    {
     "data": {
      "text/html": [
       "<figcaption>./testimg/normal/20201109-101923_26YNa_1.jpg : Normal</figcaption>"
      ],
      "text/plain": [
       "<IPython.core.display.HTML object>"
      ]
     },
     "metadata": {},
     "output_type": "display_data"
    },
    {
     "name": "stdout",
     "output_type": "stream",
     "text": [
      "[0.0002869208110496402, 0.9997130036354065]\n"
     ]
    },
    {
     "data": {
      "text/html": [
       "<figcaption>./testimg/normal/20201109-101947_12YNa_0.jpg : Normal</figcaption>"
      ],
      "text/plain": [
       "<IPython.core.display.HTML object>"
      ]
     },
     "metadata": {},
     "output_type": "display_data"
    },
    {
     "name": "stdout",
     "output_type": "stream",
     "text": [
      "[2.8586568987520877e-06, 0.9999971389770508]\n"
     ]
    },
    {
     "data": {
      "text/html": [
       "<figcaption>./testimg/normal/20201109-101757_14YYa_0.jpg : Normal</figcaption>"
      ],
      "text/plain": [
       "<IPython.core.display.HTML object>"
      ]
     },
     "metadata": {},
     "output_type": "display_data"
    },
    {
     "name": "stdout",
     "output_type": "stream",
     "text": [
      "[0.00021822084090672433, 0.9997817873954773]\n"
     ]
    },
    {
     "data": {
      "text/html": [
       "<figcaption>./testimg/normal/20201109-101833_04YNa_1.jpg : Normal</figcaption>"
      ],
      "text/plain": [
       "<IPython.core.display.HTML object>"
      ]
     },
     "metadata": {},
     "output_type": "display_data"
    },
    {
     "name": "stdout",
     "output_type": "stream",
     "text": [
      "[0.0018366571748629212, 0.9981634020805359]\n"
     ]
    },
    {
     "data": {
      "text/html": [
       "<figcaption>./testimg/normal/20201109-101743_13YNa_1.jpg : Normal</figcaption>"
      ],
      "text/plain": [
       "<IPython.core.display.HTML object>"
      ]
     },
     "metadata": {},
     "output_type": "display_data"
    },
    {
     "name": "stdout",
     "output_type": "stream",
     "text": [
      "[0.02179642766714096, 0.978203535079956]\n"
     ]
    },
    {
     "data": {
      "text/html": [
       "<figcaption>./testimg/normal/20201109-101857_12YYa_1.jpg : Normal</figcaption>"
      ],
      "text/plain": [
       "<IPython.core.display.HTML object>"
      ]
     },
     "metadata": {},
     "output_type": "display_data"
    },
    {
     "name": "stdout",
     "output_type": "stream",
     "text": [
      "[6.017232226440683e-05, 0.9999397993087769]\n"
     ]
    },
    {
     "data": {
      "text/html": [
       "<figcaption>./testimg/normal/20201109-101743_19YYa_0.jpg : Normal</figcaption>"
      ],
      "text/plain": [
       "<IPython.core.display.HTML object>"
      ]
     },
     "metadata": {},
     "output_type": "display_data"
    },
    {
     "name": "stdout",
     "output_type": "stream",
     "text": [
      "[0.021545138210058212, 0.9784548878669739]\n"
     ]
    },
    {
     "data": {
      "text/html": [
       "<figcaption>./testimg/normal/20201109-101947_03YYa_1.jpg : Normal</figcaption>"
      ],
      "text/plain": [
       "<IPython.core.display.HTML object>"
      ]
     },
     "metadata": {},
     "output_type": "display_data"
    },
    {
     "name": "stdout",
     "output_type": "stream",
     "text": [
      "[0.0011638504220172763, 0.9988362193107605]\n"
     ]
    },
    {
     "data": {
      "text/html": [
       "<figcaption>./testimg/normal/20201109-101808_25YYa_1.jpg : Normal</figcaption>"
      ],
      "text/plain": [
       "<IPython.core.display.HTML object>"
      ]
     },
     "metadata": {},
     "output_type": "display_data"
    },
    {
     "name": "stdout",
     "output_type": "stream",
     "text": [
      "[0.004749915562570095, 0.9952501058578491]\n"
     ]
    },
    {
     "data": {
      "text/html": [
       "<figcaption>./testimg/normal/20201109-101935_24YYa_1.jpg : Normal</figcaption>"
      ],
      "text/plain": [
       "<IPython.core.display.HTML object>"
      ]
     },
     "metadata": {},
     "output_type": "display_data"
    },
    {
     "name": "stdout",
     "output_type": "stream",
     "text": [
      "[0.1514589786529541, 0.8485410213470459]\n"
     ]
    },
    {
     "data": {
      "text/html": [
       "<figcaption>./testimg/normal/20201109-101616_14YNa_1.jpg : Normal</figcaption>"
      ],
      "text/plain": [
       "<IPython.core.display.HTML object>"
      ]
     },
     "metadata": {},
     "output_type": "display_data"
    },
    {
     "name": "stdout",
     "output_type": "stream",
     "text": [
      "[2.6717534638009965e-05, 0.9999732971191406]\n"
     ]
    },
    {
     "data": {
      "text/html": [
       "<figcaption>./testimg/normal/20201109-101808_03YNa_0.jpg : Normal</figcaption>"
      ],
      "text/plain": [
       "<IPython.core.display.HTML object>"
      ]
     },
     "metadata": {},
     "output_type": "display_data"
    },
    {
     "name": "stdout",
     "output_type": "stream",
     "text": [
      "[0.0016197791555896401, 0.998380184173584]\n"
     ]
    },
    {
     "data": {
      "text/html": [
       "<figcaption>./testimg/normal/20201109-101642_15YNa_1.jpg : Normal</figcaption>"
      ],
      "text/plain": [
       "<IPython.core.display.HTML object>"
      ]
     },
     "metadata": {},
     "output_type": "display_data"
    },
    {
     "name": "stdout",
     "output_type": "stream",
     "text": [
      "[2.8988491976633668e-05, 0.9999710321426392]\n"
     ]
    },
    {
     "data": {
      "text/html": [
       "<figcaption>./testimg/normal/20201109-101923_23YNa_0.jpg : Normal</figcaption>"
      ],
      "text/plain": [
       "<IPython.core.display.HTML object>"
      ]
     },
     "metadata": {},
     "output_type": "display_data"
    },
    {
     "name": "stdout",
     "output_type": "stream",
     "text": [
      "[4.214915406919317e-06, 0.9999958276748657]\n"
     ]
    },
    {
     "data": {
      "text/html": [
       "<figcaption>./testimg/normal/20201109-101602_19YNa_1.jpg : Normal</figcaption>"
      ],
      "text/plain": [
       "<IPython.core.display.HTML object>"
      ]
     },
     "metadata": {},
     "output_type": "display_data"
    },
    {
     "name": "stdout",
     "output_type": "stream",
     "text": [
      "[0.0019036162411794066, 0.9980964064598083]\n"
     ]
    },
    {
     "data": {
      "text/html": [
       "<figcaption>./testimg/normal/20201109-101535_14YNa_1.jpg : Normal</figcaption>"
      ],
      "text/plain": [
       "<IPython.core.display.HTML object>"
      ]
     },
     "metadata": {},
     "output_type": "display_data"
    },
    {
     "name": "stdout",
     "output_type": "stream",
     "text": [
      "[0.009449544362723827, 0.9905503988265991]\n"
     ]
    },
    {
     "data": {
      "text/html": [
       "<figcaption>./testimg/normal/20201109-101706_19YYa_1.jpg : Normal</figcaption>"
      ],
      "text/plain": [
       "<IPython.core.display.HTML object>"
      ]
     },
     "metadata": {},
     "output_type": "display_data"
    },
    {
     "name": "stdout",
     "output_type": "stream",
     "text": [
      "[0.18310517072677612, 0.8168948292732239]\n"
     ]
    },
    {
     "data": {
      "text/html": [
       "<figcaption>./testimg/normal/20201109-101616_28YYa_1.jpg : Normal</figcaption>"
      ],
      "text/plain": [
       "<IPython.core.display.HTML object>"
      ]
     },
     "metadata": {},
     "output_type": "display_data"
    },
    {
     "name": "stdout",
     "output_type": "stream",
     "text": [
      "[0.00047612699563615024, 0.9995238780975342]\n"
     ]
    },
    {
     "data": {
      "text/html": [
       "<figcaption>./testimg/normal/20201109-101642_29YYa_1.jpg : Normal</figcaption>"
      ],
      "text/plain": [
       "<IPython.core.display.HTML object>"
      ]
     },
     "metadata": {},
     "output_type": "display_data"
    },
    {
     "name": "stdout",
     "output_type": "stream",
     "text": [
      "[0.0016363169997930527, 0.9983636736869812]\n"
     ]
    },
    {
     "data": {
      "text/html": [
       "<figcaption>./testimg/normal/20201109-101857_04YYa_0.jpg : Normal</figcaption>"
      ],
      "text/plain": [
       "<IPython.core.display.HTML object>"
      ]
     },
     "metadata": {},
     "output_type": "display_data"
    },
    {
     "name": "stdout",
     "output_type": "stream",
     "text": [
      "[6.0789621784351766e-05, 0.9999392032623291]\n"
     ]
    },
    {
     "data": {
      "text/html": [
       "<figcaption>./testimg/normal/20201109-101743_05YNa_0.jpg : Normal</figcaption>"
      ],
      "text/plain": [
       "<IPython.core.display.HTML object>"
      ]
     },
     "metadata": {},
     "output_type": "display_data"
    },
    {
     "name": "stdout",
     "output_type": "stream",
     "text": [
      "[0.004769963212311268, 0.9952300786972046]\n"
     ]
    },
    {
     "data": {
      "text/html": [
       "<figcaption>./testimg/normal/20201109-101535_28YYa_1.jpg : Normal</figcaption>"
      ],
      "text/plain": [
       "<IPython.core.display.HTML object>"
      ]
     },
     "metadata": {},
     "output_type": "display_data"
    },
    {
     "name": "stdout",
     "output_type": "stream",
     "text": [
      "[6.228598977031652e-06, 0.9999938011169434]\n"
     ]
    },
    {
     "data": {
      "text/html": [
       "<figcaption>./testimg/normal/20201109-101655_08YYa_0.jpg : Normal</figcaption>"
      ],
      "text/plain": [
       "<IPython.core.display.HTML object>"
      ]
     },
     "metadata": {},
     "output_type": "display_data"
    },
    {
     "name": "stdout",
     "output_type": "stream",
     "text": [
      "[7.095452474459307e-07, 0.9999992847442627]\n"
     ]
    },
    {
     "data": {
      "text/html": [
       "<figcaption>./testimg/normal/20201109-101821_17YNa_0.jpg : Normal</figcaption>"
      ],
      "text/plain": [
       "<IPython.core.display.HTML object>"
      ]
     },
     "metadata": {},
     "output_type": "display_data"
    },
    {
     "name": "stdout",
     "output_type": "stream",
     "text": [
      "[3.336158624733798e-05, 0.9999666213989258]\n"
     ]
    },
    {
     "data": {
      "text/html": [
       "<figcaption>./testimg/normal/20201109-101845_25YYa_0.jpg : Normal</figcaption>"
      ],
      "text/plain": [
       "<IPython.core.display.HTML object>"
      ]
     },
     "metadata": {},
     "output_type": "display_data"
    },
    {
     "name": "stdout",
     "output_type": "stream",
     "text": [
      "[1.759752194629982e-05, 0.9999823570251465]\n"
     ]
    },
    {
     "data": {
      "text/html": [
       "<figcaption>./testimg/normal/20201109-101935_16YYa_0.jpg : Normal</figcaption>"
      ],
      "text/plain": [
       "<IPython.core.display.HTML object>"
      ]
     },
     "metadata": {},
     "output_type": "display_data"
    },
    {
     "name": "stdout",
     "output_type": "stream",
     "text": [
      "[8.009395969565958e-05, 0.9999198913574219]\n"
     ]
    },
    {
     "data": {
      "text/html": [
       "<figcaption>./testimg/normal/20201109-101833_18YYa_1.jpg : Normal</figcaption>"
      ],
      "text/plain": [
       "<IPython.core.display.HTML object>"
      ]
     },
     "metadata": {},
     "output_type": "display_data"
    },
    {
     "name": "stdout",
     "output_type": "stream",
     "text": [
      "[0.0057284049689769745, 0.9942716360092163]\n"
     ]
    },
    {
     "data": {
      "text/html": [
       "<figcaption>./testimg/normal/20201109-101923_09YYa_1.jpg : Normal</figcaption>"
      ],
      "text/plain": [
       "<IPython.core.display.HTML object>"
      ]
     },
     "metadata": {},
     "output_type": "display_data"
    },
    {
     "name": "stdout",
     "output_type": "stream",
     "text": [
      "[0.003181536914780736, 0.9968184232711792]\n"
     ]
    },
    {
     "data": {
      "text/html": [
       "<figcaption>./testimg/normal/20201109-101743_27YYa_1.jpg : Normal</figcaption>"
      ],
      "text/plain": [
       "<IPython.core.display.HTML object>"
      ]
     },
     "metadata": {},
     "output_type": "display_data"
    },
    {
     "name": "stdout",
     "output_type": "stream",
     "text": [
      "[3.0695347959408537e-05, 0.9999693632125854]\n"
     ]
    },
    {
     "data": {
      "text/html": [
       "<figcaption>./testimg/normal/20201109-101833_28YYa_0.jpg : Normal</figcaption>"
      ],
      "text/plain": [
       "<IPython.core.display.HTML object>"
      ]
     },
     "metadata": {},
     "output_type": "display_data"
    },
    {
     "name": "stdout",
     "output_type": "stream",
     "text": [
      "[0.0014212406240403652, 0.9985787868499756]\n"
     ]
    },
    {
     "data": {
      "text/html": [
       "<figcaption>./testimg/normal/20201109-101947_21YYa_1.jpg : Normal</figcaption>"
      ],
      "text/plain": [
       "<IPython.core.display.HTML object>"
      ]
     },
     "metadata": {},
     "output_type": "display_data"
    },
    {
     "name": "stdout",
     "output_type": "stream",
     "text": [
      "[2.3078013327904046e-05, 0.9999768733978271]\n"
     ]
    },
    {
     "data": {
      "text/html": [
       "<figcaption>./testimg/normal/20201109-101923_19YYa_0.jpg : Normal</figcaption>"
      ],
      "text/plain": [
       "<IPython.core.display.HTML object>"
      ]
     },
     "metadata": {},
     "output_type": "display_data"
    },
    {
     "name": "stdout",
     "output_type": "stream",
     "text": [
      "[0.001625356264412403, 0.9983745813369751]\n"
     ]
    },
    {
     "data": {
      "text/html": [
       "<figcaption>./testimg/normal/20201109-101757_04YYa_1.jpg : Normal</figcaption>"
      ],
      "text/plain": [
       "<IPython.core.display.HTML object>"
      ]
     },
     "metadata": {},
     "output_type": "display_data"
    },
    {
     "name": "stdout",
     "output_type": "stream",
     "text": [
      "[5.417469310486922e-06, 0.9999946355819702]\n"
     ]
    },
    {
     "data": {
      "text/html": [
       "<figcaption>./testimg/normal/20201109-101731_08YNa_0.jpg : Normal</figcaption>"
      ],
      "text/plain": [
       "<IPython.core.display.HTML object>"
      ]
     },
     "metadata": {},
     "output_type": "display_data"
    },
    {
     "name": "stdout",
     "output_type": "stream",
     "text": [
      "[1.200061433337396e-05, 0.9999879598617554]\n"
     ]
    },
    {
     "data": {
      "text/html": [
       "<figcaption>./testimg/normal/20201109-101910_18YNa_0.jpg : Normal</figcaption>"
      ],
      "text/plain": [
       "<IPython.core.display.HTML object>"
      ]
     },
     "metadata": {},
     "output_type": "display_data"
    },
    {
     "name": "stdout",
     "output_type": "stream",
     "text": [
      "[0.0005262495833449066, 0.9994737505912781]\n"
     ]
    },
    {
     "data": {
      "text/html": [
       "<figcaption>./testimg/normal/20201109-101845_07YYa_0.jpg : Normal</figcaption>"
      ],
      "text/plain": [
       "<IPython.core.display.HTML object>"
      ]
     },
     "metadata": {},
     "output_type": "display_data"
    },
    {
     "name": "stdout",
     "output_type": "stream",
     "text": [
      "[1.1351661669323221e-05, 0.9999886751174927]\n"
     ]
    },
    {
     "data": {
      "text/html": [
       "<figcaption>./testimg/normal/20201109-101706_29YYa_0.jpg : Normal</figcaption>"
      ],
      "text/plain": [
       "<IPython.core.display.HTML object>"
      ]
     },
     "metadata": {},
     "output_type": "display_data"
    },
    {
     "name": "stdout",
     "output_type": "stream",
     "text": [
      "[4.790442471858114e-05, 0.9999520778656006]\n"
     ]
    },
    {
     "data": {
      "text/html": [
       "<figcaption>./testimg/normal/20201109-101857_22YYa_0.jpg : Normal</figcaption>"
      ],
      "text/plain": [
       "<IPython.core.display.HTML object>"
      ]
     },
     "metadata": {},
     "output_type": "display_data"
    },
    {
     "name": "stdout",
     "output_type": "stream",
     "text": [
      "[1.6587342543061823e-05, 0.9999834299087524]\n"
     ]
    },
    {
     "data": {
      "text/html": [
       "<figcaption>./testimg/normal/20201109-101947_13YYa_0.jpg : Normal</figcaption>"
      ],
      "text/plain": [
       "<IPython.core.display.HTML object>"
      ]
     },
     "metadata": {},
     "output_type": "display_data"
    },
    {
     "name": "stdout",
     "output_type": "stream",
     "text": [
      "[0.020472483709454536, 0.9795275330543518]\n"
     ]
    },
    {
     "data": {
      "text/html": [
       "<figcaption>./testimg/normal/20201109-101845_15YYa_1.jpg : Normal</figcaption>"
      ],
      "text/plain": [
       "<IPython.core.display.HTML object>"
      ]
     },
     "metadata": {},
     "output_type": "display_data"
    },
    {
     "name": "stdout",
     "output_type": "stream",
     "text": [
      "[0.00036103202728554606, 0.9996389150619507]\n"
     ]
    },
    {
     "data": {
      "text/html": [
       "<figcaption>./testimg/normal/20201109-101935_06YYa_1.jpg : Normal</figcaption>"
      ],
      "text/plain": [
       "<IPython.core.display.HTML object>"
      ]
     },
     "metadata": {},
     "output_type": "display_data"
    },
    {
     "name": "stdout",
     "output_type": "stream",
     "text": [
      "[3.1502091587753966e-05, 0.9999685287475586]\n"
     ]
    },
    {
     "data": {
      "text/html": [
       "<figcaption>./testimg/normal/20201109-101821_07YNa_1.jpg : Normal</figcaption>"
      ],
      "text/plain": [
       "<IPython.core.display.HTML object>"
      ]
     },
     "metadata": {},
     "output_type": "display_data"
    },
    {
     "name": "stdout",
     "output_type": "stream",
     "text": [
      "[0.0003429490025155246, 0.9996570348739624]\n"
     ]
    },
    {
     "data": {
      "text/html": [
       "<figcaption>./testimg/normal/20201109-101743_23YNa_0.jpg : Normal</figcaption>"
      ],
      "text/plain": [
       "<IPython.core.display.HTML object>"
      ]
     },
     "metadata": {},
     "output_type": "display_data"
    },
    {
     "name": "stdout",
     "output_type": "stream",
     "text": [
      "[0.0018151020631194115, 0.998184859752655]\n"
     ]
    },
    {
     "data": {
      "text/html": [
       "<figcaption>./testimg/normal/20201109-101716_22YNa_1.jpg : Normal</figcaption>"
      ],
      "text/plain": [
       "<IPython.core.display.HTML object>"
      ]
     },
     "metadata": {},
     "output_type": "display_data"
    },
    {
     "name": "stdout",
     "output_type": "stream",
     "text": [
      "[0.0004554259357973933, 0.9995445609092712]\n"
     ]
    },
    {
     "data": {
      "text/html": [
       "<figcaption>./testimg/normal/20201109-101808_07YYa_1.jpg : Normal</figcaption>"
      ],
      "text/plain": [
       "<IPython.core.display.HTML object>"
      ]
     },
     "metadata": {},
     "output_type": "display_data"
    },
    {
     "name": "stdout",
     "output_type": "stream",
     "text": [
      "[0.001851721084676683, 0.9981483221054077]\n"
     ]
    },
    {
     "data": {
      "text/html": [
       "<figcaption>./testimg/normal/20201109-101535_24YNa_0.jpg : Normal</figcaption>"
      ],
      "text/plain": [
       "<IPython.core.display.HTML object>"
      ]
     },
     "metadata": {},
     "output_type": "display_data"
    },
    {
     "name": "stdout",
     "output_type": "stream",
     "text": [
      "[0.0022960826754570007, 0.9977039694786072]\n"
     ]
    },
    {
     "data": {
      "text/html": [
       "<figcaption>./testimg/normal/20201109-101716_28YYa_0.jpg : Normal</figcaption>"
      ],
      "text/plain": [
       "<IPython.core.display.HTML object>"
      ]
     },
     "metadata": {},
     "output_type": "display_data"
    },
    {
     "name": "stdout",
     "output_type": "stream",
     "text": [
      "[3.44778868566209e-06, 0.999996542930603]\n"
     ]
    },
    {
     "data": {
      "text/html": [
       "<figcaption>./testimg/normal/20201109-101706_15YNa_0.jpg : Normal</figcaption>"
      ],
      "text/plain": [
       "<IPython.core.display.HTML object>"
      ]
     },
     "metadata": {},
     "output_type": "display_data"
    },
    {
     "name": "stdout",
     "output_type": "stream",
     "text": [
      "[0.0006767354789189994, 0.9993232488632202]\n"
     ]
    },
    {
     "data": {
      "text/html": [
       "<figcaption>./testimg/normal/20201109-101616_24YNa_0.jpg : Normal</figcaption>"
      ],
      "text/plain": [
       "<IPython.core.display.HTML object>"
      ]
     },
     "metadata": {},
     "output_type": "display_data"
    },
    {
     "name": "stdout",
     "output_type": "stream",
     "text": [
      "[2.2148511561681516e-05, 0.9999778270721436]\n"
     ]
    },
    {
     "data": {
      "text/html": [
       "<figcaption>./testimg/normal/20201109-101833_19YYa_0.jpg : Normal</figcaption>"
      ],
      "text/plain": [
       "<IPython.core.display.HTML object>"
      ]
     },
     "metadata": {},
     "output_type": "display_data"
    },
    {
     "name": "stdout",
     "output_type": "stream",
     "text": [
      "[4.485337558435276e-05, 0.9999551773071289]\n"
     ]
    },
    {
     "data": {
      "text/html": [
       "<figcaption>./testimg/normal/20201109-101743_28YYa_0.jpg : Normal</figcaption>"
      ],
      "text/plain": [
       "<IPython.core.display.HTML object>"
      ]
     },
     "metadata": {},
     "output_type": "display_data"
    },
    {
     "name": "stdout",
     "output_type": "stream",
     "text": [
      "[0.019441988319158554, 0.9805579781532288]\n"
     ]
    },
    {
     "data": {
      "text/html": [
       "<figcaption>./testimg/normal/20201109-101655_25YYa_1.jpg : Normal</figcaption>"
      ],
      "text/plain": [
       "<IPython.core.display.HTML object>"
      ]
     },
     "metadata": {},
     "output_type": "display_data"
    },
    {
     "name": "stdout",
     "output_type": "stream",
     "text": [
      "[0.06867855787277222, 0.9313214421272278]\n"
     ]
    },
    {
     "data": {
      "text/html": [
       "<figcaption>./testimg/normal/20201109-101535_23YNa_1.jpg : Normal</figcaption>"
      ],
      "text/plain": [
       "<IPython.core.display.HTML object>"
      ]
     },
     "metadata": {},
     "output_type": "display_data"
    },
    {
     "name": "stdout",
     "output_type": "stream",
     "text": [
      "[2.3493597836932167e-05, 0.9999765157699585]\n"
     ]
    },
    {
     "data": {
      "text/html": [
       "<figcaption>./testimg/normal/20201109-101616_29YYa_0.jpg : Normal</figcaption>"
      ],
      "text/plain": [
       "<IPython.core.display.HTML object>"
      ]
     },
     "metadata": {},
     "output_type": "display_data"
    },
    {
     "name": "stdout",
     "output_type": "stream",
     "text": [
      "[0.00036020626430399716, 0.9996397495269775]\n"
     ]
    },
    {
     "data": {
      "text/html": [
       "<figcaption>./testimg/normal/20201109-101535_29YYa_0.jpg : Normal</figcaption>"
      ],
      "text/plain": [
       "<IPython.core.display.HTML object>"
      ]
     },
     "metadata": {},
     "output_type": "display_data"
    },
    {
     "name": "stdout",
     "output_type": "stream",
     "text": [
      "[2.7064499590778723e-05, 0.999972939491272]\n"
     ]
    },
    {
     "data": {
      "text/html": [
       "<figcaption>./testimg/normal/20201109-101706_14YNa_1.jpg : Normal</figcaption>"
      ],
      "text/plain": [
       "<IPython.core.display.HTML object>"
      ]
     },
     "metadata": {},
     "output_type": "display_data"
    },
    {
     "name": "stdout",
     "output_type": "stream",
     "text": [
      "[0.0008236957364715636, 0.9991763234138489]\n"
     ]
    },
    {
     "data": {
      "text/html": [
       "<figcaption>./testimg/normal/20201109-101716_27YYa_1.jpg : Normal</figcaption>"
      ],
      "text/plain": [
       "<IPython.core.display.HTML object>"
      ]
     },
     "metadata": {},
     "output_type": "display_data"
    },
    {
     "name": "stdout",
     "output_type": "stream",
     "text": [
      "[0.001519715995527804, 0.9984802603721619]\n"
     ]
    },
    {
     "data": {
      "text/html": [
       "<figcaption>./testimg/normal/20201109-101731_07YNa_1.jpg : Normal</figcaption>"
      ],
      "text/plain": [
       "<IPython.core.display.HTML object>"
      ]
     },
     "metadata": {},
     "output_type": "display_data"
    },
    {
     "name": "stdout",
     "output_type": "stream",
     "text": [
      "[0.0030496250838041306, 0.9969504475593567]\n"
     ]
    },
    {
     "data": {
      "text/html": [
       "<figcaption>./testimg/normal/20201109-101808_20YNa_1.jpg : Normal</figcaption>"
      ],
      "text/plain": [
       "<IPython.core.display.HTML object>"
      ]
     },
     "metadata": {},
     "output_type": "display_data"
    },
    {
     "name": "stdout",
     "output_type": "stream",
     "text": [
      "[0.001957693137228489, 0.9980422258377075]\n"
     ]
    },
    {
     "data": {
      "text/html": [
       "<figcaption>./testimg/normal/20201109-101743_14YNa_0.jpg : Normal</figcaption>"
      ],
      "text/plain": [
       "<IPython.core.display.HTML object>"
      ]
     },
     "metadata": {},
     "output_type": "display_data"
    },
    {
     "name": "stdout",
     "output_type": "stream",
     "text": [
      "[8.056352817220613e-05, 0.9999194145202637]\n"
     ]
    },
    {
     "data": {
      "text/html": [
       "<figcaption>./testimg/normal/20201109-101833_05YNa_0.jpg : Normal</figcaption>"
      ],
      "text/plain": [
       "<IPython.core.display.HTML object>"
      ]
     },
     "metadata": {},
     "output_type": "display_data"
    },
    {
     "name": "stdout",
     "output_type": "stream",
     "text": [
      "[9.521059837425128e-05, 0.9999047517776489]\n"
     ]
    },
    {
     "data": {
      "text/html": [
       "<figcaption>./testimg/normal/20201109-101706_28YYa_1.jpg : Normal</figcaption>"
      ],
      "text/plain": [
       "<IPython.core.display.HTML object>"
      ]
     },
     "metadata": {},
     "output_type": "display_data"
    },
    {
     "name": "stdout",
     "output_type": "stream",
     "text": [
      "[0.00020386153482832015, 0.9997962117195129]\n"
     ]
    },
    {
     "data": {
      "text/html": [
       "<figcaption>./testimg/normal/20201109-101845_06YYa_1.jpg : Normal</figcaption>"
      ],
      "text/plain": [
       "<IPython.core.display.HTML object>"
      ]
     },
     "metadata": {},
     "output_type": "display_data"
    },
    {
     "name": "stdout",
     "output_type": "stream",
     "text": [
      "[0.001327146659605205, 0.9986728429794312]\n"
     ]
    },
    {
     "data": {
      "text/html": [
       "<figcaption>./testimg/normal/20201109-101910_17YNa_1.jpg : Normal</figcaption>"
      ],
      "text/plain": [
       "<IPython.core.display.HTML object>"
      ]
     },
     "metadata": {},
     "output_type": "display_data"
    },
    {
     "name": "stdout",
     "output_type": "stream",
     "text": [
      "[1.7559301340952516e-05, 0.999982476234436]\n"
     ]
    },
    {
     "data": {
      "text/html": [
       "<figcaption>./testimg/normal/20201109-101947_04YYa_0.jpg : Normal</figcaption>"
      ],
      "text/plain": [
       "<IPython.core.display.HTML object>"
      ]
     },
     "metadata": {},
     "output_type": "display_data"
    },
    {
     "name": "stdout",
     "output_type": "stream",
     "text": [
      "[2.518866676837206e-05, 0.9999748468399048]\n"
     ]
    },
    {
     "data": {
      "text/html": [
       "<figcaption>./testimg/normal/20201109-101857_13YYa_0.jpg : Normal</figcaption>"
      ],
      "text/plain": [
       "<IPython.core.display.HTML object>"
      ]
     },
     "metadata": {},
     "output_type": "display_data"
    },
    {
     "name": "stdout",
     "output_type": "stream",
     "text": [
      "[0.034972406923770905, 0.9650276303291321]\n"
     ]
    },
    {
     "data": {
      "text/html": [
       "<figcaption>./testimg/normal/20201109-101923_18YYa_1.jpg : Normal</figcaption>"
      ],
      "text/plain": [
       "<IPython.core.display.HTML object>"
      ]
     },
     "metadata": {},
     "output_type": "display_data"
    },
    {
     "name": "stdout",
     "output_type": "stream",
     "text": [
      "[0.3790847361087799, 0.6209152936935425]\n"
     ]
    },
    {
     "data": {
      "text/html": [
       "<figcaption>./testimg/normal/20201109-101833_27YYa_1.jpg : Normal</figcaption>"
      ],
      "text/plain": [
       "<IPython.core.display.HTML object>"
      ]
     },
     "metadata": {},
     "output_type": "display_data"
    },
    {
     "name": "stdout",
     "output_type": "stream",
     "text": [
      "[4.6937522711232305e-05, 0.999953031539917]\n"
     ]
    },
    {
     "data": {
      "text/html": [
       "<figcaption>./testimg/normal/20201109-101642_16YNa_0.jpg : Normal</figcaption>"
      ],
      "text/plain": [
       "<IPython.core.display.HTML object>"
      ]
     },
     "metadata": {},
     "output_type": "display_data"
    },
    {
     "name": "stdout",
     "output_type": "stream",
     "text": [
      "[0.0001332107640337199, 0.9998667240142822]\n"
     ]
    },
    {
     "data": {
      "text/html": [
       "<figcaption>./testimg/normal/20201109-101535_15YNa_0.jpg : Normal</figcaption>"
      ],
      "text/plain": [
       "<IPython.core.display.HTML object>"
      ]
     },
     "metadata": {},
     "output_type": "display_data"
    },
    {
     "name": "stdout",
     "output_type": "stream",
     "text": [
      "[0.005902022123336792, 0.9940979480743408]\n"
     ]
    },
    {
     "data": {
      "text/html": [
       "<figcaption>./testimg/normal/20201109-101808_02YNa_1.jpg : Normal</figcaption>"
      ],
      "text/plain": [
       "<IPython.core.display.HTML object>"
      ]
     },
     "metadata": {},
     "output_type": "display_data"
    },
    {
     "name": "stdout",
     "output_type": "stream",
     "text": [
      "[0.00015941243327688426, 0.9998406171798706]\n"
     ]
    },
    {
     "data": {
      "text/html": [
       "<figcaption>./testimg/normal/20201109-101535_19YYa_1.jpg : Normal</figcaption>"
      ],
      "text/plain": [
       "<IPython.core.display.HTML object>"
      ]
     },
     "metadata": {},
     "output_type": "display_data"
    },
    {
     "name": "stdout",
     "output_type": "stream",
     "text": [
      "[0.00022608360450249165, 0.9997739195823669]\n"
     ]
    },
    {
     "data": {
      "text/html": [
       "<figcaption>./testimg/normal/20201109-101808_08YYa_0.jpg : Normal</figcaption>"
      ],
      "text/plain": [
       "<IPython.core.display.HTML object>"
      ]
     },
     "metadata": {},
     "output_type": "display_data"
    },
    {
     "name": "stdout",
     "output_type": "stream",
     "text": [
      "[2.421183125989046e-05, 0.9999758005142212]\n"
     ]
    },
    {
     "data": {
      "text/html": [
       "<figcaption>./testimg/normal/20201109-101845_16YYa_0.jpg : Normal</figcaption>"
      ],
      "text/plain": [
       "<IPython.core.display.HTML object>"
      ]
     },
     "metadata": {},
     "output_type": "display_data"
    },
    {
     "name": "stdout",
     "output_type": "stream",
     "text": [
      "[0.0011684736236929893, 0.998831570148468]\n"
     ]
    },
    {
     "data": {
      "text/html": [
       "<figcaption>./testimg/normal/20201109-101935_07YYa_0.jpg : Normal</figcaption>"
      ],
      "text/plain": [
       "<IPython.core.display.HTML object>"
      ]
     },
     "metadata": {},
     "output_type": "display_data"
    },
    {
     "name": "stdout",
     "output_type": "stream",
     "text": [
      "[0.036922939121723175, 0.9630770087242126]\n"
     ]
    },
    {
     "data": {
      "text/html": [
       "<figcaption>./testimg/normal/20201109-101743_18YYa_1.jpg : Normal</figcaption>"
      ],
      "text/plain": [
       "<IPython.core.display.HTML object>"
      ]
     },
     "metadata": {},
     "output_type": "display_data"
    },
    {
     "name": "stdout",
     "output_type": "stream",
     "text": [
      "[0.012325079180300236, 0.9876749515533447]\n"
     ]
    },
    {
     "data": {
      "text/html": [
       "<figcaption>./testimg/normal/20201109-101757_13YYa_1.jpg : Normal</figcaption>"
      ],
      "text/plain": [
       "<IPython.core.display.HTML object>"
      ]
     },
     "metadata": {},
     "output_type": "display_data"
    },
    {
     "name": "stdout",
     "output_type": "stream",
     "text": [
      "[1.0287335499015171e-05, 0.9999897480010986]\n"
     ]
    },
    {
     "data": {
      "text/html": [
       "<figcaption>./testimg/normal/20201109-101821_08YNa_0.jpg : Normal</figcaption>"
      ],
      "text/plain": [
       "<IPython.core.display.HTML object>"
      ]
     },
     "metadata": {},
     "output_type": "display_data"
    },
    {
     "name": "stdout",
     "output_type": "stream",
     "text": [
      "[9.838373080128804e-05, 0.9999016523361206]\n"
     ]
    },
    {
     "data": {
      "text/html": [
       "<figcaption>./testimg/normal/20201109-101923_14YNa_0.jpg : Normal</figcaption>"
      ],
      "text/plain": [
       "<IPython.core.display.HTML object>"
      ]
     },
     "metadata": {},
     "output_type": "display_data"
    },
    {
     "name": "stdout",
     "output_type": "stream",
     "text": [
      "[0.001107411808334291, 0.998892605304718]\n"
     ]
    },
    {
     "data": {
      "text/html": [
       "<figcaption>./testimg/normal/20201109-101716_09YYa_1.jpg : Normal</figcaption>"
      ],
      "text/plain": [
       "<IPython.core.display.HTML object>"
      ]
     },
     "metadata": {},
     "output_type": "display_data"
    },
    {
     "name": "stdout",
     "output_type": "stream",
     "text": [
      "[0.0001446125825168565, 0.9998553991317749]\n"
     ]
    },
    {
     "data": {
      "text/html": [
       "<figcaption>./testimg/normal/20201109-101947_22YYa_0.jpg : Normal</figcaption>"
      ],
      "text/plain": [
       "<IPython.core.display.HTML object>"
      ]
     },
     "metadata": {},
     "output_type": "display_data"
    },
    {
     "name": "stdout",
     "output_type": "stream",
     "text": [
      "[0.008249855600297451, 0.991750180721283]\n"
     ]
    },
    {
     "data": {
      "text/html": [
       "<figcaption>./testimg/normal/20201109-101935_15YYa_1.jpg : Normal</figcaption>"
      ],
      "text/plain": [
       "<IPython.core.display.HTML object>"
      ]
     },
     "metadata": {},
     "output_type": "display_data"
    },
    {
     "name": "stdout",
     "output_type": "stream",
     "text": [
      "[0.0032389822881668806, 0.9967610239982605]\n"
     ]
    },
    {
     "data": {
      "text/html": [
       "<figcaption>./testimg/normal/20201109-101655_07YYa_1.jpg : Normal</figcaption>"
      ],
      "text/plain": [
       "<IPython.core.display.HTML object>"
      ]
     },
     "metadata": {},
     "output_type": "display_data"
    },
    {
     "name": "stdout",
     "output_type": "stream",
     "text": [
      "[0.0021381452679634094, 0.997861921787262]\n"
     ]
    },
    {
     "data": {
      "text/html": [
       "<figcaption>./testimg/normal/20201109-101743_04YNa_1.jpg : Normal</figcaption>"
      ],
      "text/plain": [
       "<IPython.core.display.HTML object>"
      ]
     },
     "metadata": {},
     "output_type": "display_data"
    },
    {
     "name": "stdout",
     "output_type": "stream",
     "text": [
      "[4.9460926675237715e-05, 0.9999505281448364]\n"
     ]
    },
    {
     "data": {
      "text/html": [
       "<figcaption>./testimg/normal/20201109-101757_05YYa_0.jpg : Normal</figcaption>"
      ],
      "text/plain": [
       "<IPython.core.display.HTML object>"
      ]
     },
     "metadata": {},
     "output_type": "display_data"
    },
    {
     "name": "stdout",
     "output_type": "stream",
     "text": [
      "[0.000110185457742773, 0.9998898506164551]\n"
     ]
    },
    {
     "data": {
      "text/html": [
       "<figcaption>./testimg/normal/20201109-101857_03YYa_1.jpg : Normal</figcaption>"
      ],
      "text/plain": [
       "<IPython.core.display.HTML object>"
      ]
     },
     "metadata": {},
     "output_type": "display_data"
    },
    {
     "name": "stdout",
     "output_type": "stream",
     "text": [
      "[8.677470759721473e-06, 0.9999912977218628]\n"
     ]
    },
    {
     "data": {
      "text/html": [
       "<figcaption>./testimg/normal/20201109-101642_22YYa_0.jpg : Normal</figcaption>"
      ],
      "text/plain": [
       "<IPython.core.display.HTML object>"
      ]
     },
     "metadata": {},
     "output_type": "display_data"
    },
    {
     "name": "stdout",
     "output_type": "stream",
     "text": [
      "[4.372072453406872e-06, 0.9999955892562866]\n"
     ]
    },
    {
     "data": {
      "text/html": [
       "<figcaption>./testimg/normal/20201109-101602_20YNa_1.jpg : Normal</figcaption>"
      ],
      "text/plain": [
       "<IPython.core.display.HTML object>"
      ]
     },
     "metadata": {},
     "output_type": "display_data"
    },
    {
     "name": "stdout",
     "output_type": "stream",
     "text": [
      "[0.8297469615936279, 0.17025303840637207]\n"
     ]
    },
    {
     "data": {
      "text/html": [
       "<figcaption>./testimg/normal/20201109-101910_01YNa_0.jpg : Anomaly</figcaption>"
      ],
      "text/plain": [
       "<IPython.core.display.HTML object>"
      ]
     },
     "metadata": {},
     "output_type": "display_data"
    },
    {
     "name": "stdout",
     "output_type": "stream",
     "text": [
      "[6.57387136016041e-05, 0.9999343156814575]\n"
     ]
    },
    {
     "data": {
      "text/html": [
       "<figcaption>./testimg/normal/20201109-101630_15YYa_1.jpg : Normal</figcaption>"
      ],
      "text/plain": [
       "<IPython.core.display.HTML object>"
      ]
     },
     "metadata": {},
     "output_type": "display_data"
    },
    {
     "name": "stdout",
     "output_type": "stream",
     "text": [
      "[0.00043967398232780397, 0.9995602965354919]\n"
     ]
    },
    {
     "data": {
      "text/html": [
       "<figcaption>./testimg/normal/20201109-101535_21YYa_0.jpg : Normal</figcaption>"
      ],
      "text/plain": [
       "<IPython.core.display.HTML object>"
      ]
     },
     "metadata": {},
     "output_type": "display_data"
    },
    {
     "name": "stdout",
     "output_type": "stream",
     "text": [
      "[3.49009242199827e-05, 0.9999650716781616]\n"
     ]
    },
    {
     "data": {
      "text/html": [
       "<figcaption>./testimg/normal/20201109-101602_26YYa_0.jpg : Normal</figcaption>"
      ],
      "text/plain": [
       "<IPython.core.display.HTML object>"
      ]
     },
     "metadata": {},
     "output_type": "display_data"
    },
    {
     "name": "stdout",
     "output_type": "stream",
     "text": [
      "[0.00010140766244148836, 0.9998985528945923]\n"
     ]
    },
    {
     "data": {
      "text/html": [
       "<figcaption>./testimg/normal/20201109-101910_23YYa_1.jpg : Normal</figcaption>"
      ],
      "text/plain": [
       "<IPython.core.display.HTML object>"
      ]
     },
     "metadata": {},
     "output_type": "display_data"
    },
    {
     "name": "stdout",
     "output_type": "stream",
     "text": [
      "[5.040073301643133e-05, 0.99994957447052]\n"
     ]
    },
    {
     "data": {
      "text/html": [
       "<figcaption>./testimg/normal/20201109-101923_02YYa_0.jpg : Normal</figcaption>"
      ],
      "text/plain": [
       "<IPython.core.display.HTML object>"
      ]
     },
     "metadata": {},
     "output_type": "display_data"
    },
    {
     "name": "stdout",
     "output_type": "stream",
     "text": [
      "[8.550866823497927e-07, 0.9999991655349731]\n"
     ]
    },
    {
     "data": {
      "text/html": [
       "<figcaption>./testimg/normal/20201109-101833_11YYa_0.jpg : Normal</figcaption>"
      ],
      "text/plain": [
       "<IPython.core.display.HTML object>"
      ]
     },
     "metadata": {},
     "output_type": "display_data"
    },
    {
     "name": "stdout",
     "output_type": "stream",
     "text": [
      "[5.18927481607534e-05, 0.9999481439590454]\n"
     ]
    },
    {
     "data": {
      "text/html": [
       "<figcaption>./testimg/normal/20201109-101731_13YYa_1.jpg : Normal</figcaption>"
      ],
      "text/plain": [
       "<IPython.core.display.HTML object>"
      ]
     },
     "metadata": {},
     "output_type": "display_data"
    },
    {
     "name": "stdout",
     "output_type": "stream",
     "text": [
      "[0.0006006291368976235, 0.9993994235992432]\n"
     ]
    },
    {
     "data": {
      "text/html": [
       "<figcaption>./testimg/normal/20201109-101923_10YYa_1.jpg : Normal</figcaption>"
      ],
      "text/plain": [
       "<IPython.core.display.HTML object>"
      ]
     },
     "metadata": {},
     "output_type": "display_data"
    },
    {
     "name": "stdout",
     "output_type": "stream",
     "text": [
      "[0.00016663562564644963, 0.999833345413208]\n"
     ]
    },
    {
     "data": {
      "text/html": [
       "<figcaption>./testimg/normal/20201109-101630_07YYa_0.jpg : Normal</figcaption>"
      ],
      "text/plain": [
       "<IPython.core.display.HTML object>"
      ]
     },
     "metadata": {},
     "output_type": "display_data"
    },
    {
     "name": "stdout",
     "output_type": "stream",
     "text": [
      "[3.446355549385771e-05, 0.9999655485153198]\n"
     ]
    },
    {
     "data": {
      "text/html": [
       "<figcaption>./testimg/normal/20201109-101731_05YYa_0.jpg : Normal</figcaption>"
      ],
      "text/plain": [
       "<IPython.core.display.HTML object>"
      ]
     },
     "metadata": {},
     "output_type": "display_data"
    },
    {
     "name": "stdout",
     "output_type": "stream",
     "text": [
      "[0.0009974370477721095, 0.9990026354789734]\n"
     ]
    },
    {
     "data": {
      "text/html": [
       "<figcaption>./testimg/normal/20201109-101706_20YYa_1.jpg : Normal</figcaption>"
      ],
      "text/plain": [
       "<IPython.core.display.HTML object>"
      ]
     },
     "metadata": {},
     "output_type": "display_data"
    },
    {
     "name": "stdout",
     "output_type": "stream",
     "text": [
      "[0.027985474094748497, 0.9720145463943481]\n"
     ]
    },
    {
     "data": {
      "text/html": [
       "<figcaption>./testimg/normal/20201109-101808_19YNa_1.jpg : Normal</figcaption>"
      ],
      "text/plain": [
       "<IPython.core.display.HTML object>"
      ]
     },
     "metadata": {},
     "output_type": "display_data"
    },
    {
     "name": "stdout",
     "output_type": "stream",
     "text": [
      "[2.2619051378569566e-05, 0.9999773502349854]\n"
     ]
    },
    {
     "data": {
      "text/html": [
       "<figcaption>./testimg/normal/20201109-101833_01YYa_1.jpg : Normal</figcaption>"
      ],
      "text/plain": [
       "<IPython.core.display.HTML object>"
      ]
     },
     "metadata": {},
     "output_type": "display_data"
    },
    {
     "name": "stdout",
     "output_type": "stream",
     "text": [
      "[0.00017037350335158408, 0.9998296499252319]\n"
     ]
    },
    {
     "data": {
      "text/html": [
       "<figcaption>./testimg/normal/20201109-101808_29YNa_0.jpg : Normal</figcaption>"
      ],
      "text/plain": [
       "<IPython.core.display.HTML object>"
      ]
     },
     "metadata": {},
     "output_type": "display_data"
    },
    {
     "name": "stdout",
     "output_type": "stream",
     "text": [
      "[0.0006491544772870839, 0.9993508458137512]\n"
     ]
    },
    {
     "data": {
      "text/html": [
       "<figcaption>./testimg/normal/20201109-101935_28YNa_0.jpg : Normal</figcaption>"
      ],
      "text/plain": [
       "<IPython.core.display.HTML object>"
      ]
     },
     "metadata": {},
     "output_type": "display_data"
    },
    {
     "name": "stdout",
     "output_type": "stream",
     "text": [
      "[0.0009152378188446164, 0.9990847110748291]\n"
     ]
    },
    {
     "data": {
      "text/html": [
       "<figcaption>./testimg/normal/20201109-101706_02YYa_1.jpg : Normal</figcaption>"
      ],
      "text/plain": [
       "<IPython.core.display.HTML object>"
      ]
     },
     "metadata": {},
     "output_type": "display_data"
    },
    {
     "name": "stdout",
     "output_type": "stream",
     "text": [
      "[1.0952036063827109e-05, 0.9999890327453613]\n"
     ]
    },
    {
     "data": {
      "text/html": [
       "<figcaption>./testimg/normal/20201109-101923_20YYa_0.jpg : Normal</figcaption>"
      ],
      "text/plain": [
       "<IPython.core.display.HTML object>"
      ]
     },
     "metadata": {},
     "output_type": "display_data"
    },
    {
     "name": "stdout",
     "output_type": "stream",
     "text": [
      "[0.13182733952999115, 0.8681726455688477]\n"
     ]
    },
    {
     "data": {
      "text/html": [
       "<figcaption>./testimg/normal/20201109-101947_29YYa_1.jpg : Normal</figcaption>"
      ],
      "text/plain": [
       "<IPython.core.display.HTML object>"
      ]
     },
     "metadata": {},
     "output_type": "display_data"
    },
    {
     "name": "stdout",
     "output_type": "stream",
     "text": [
      "[1.325907669524895e-05, 0.9999867677688599]\n"
     ]
    },
    {
     "data": {
      "text/html": [
       "<figcaption>./testimg/normal/20201109-101910_05YYa_1.jpg : Normal</figcaption>"
      ],
      "text/plain": [
       "<IPython.core.display.HTML object>"
      ]
     },
     "metadata": {},
     "output_type": "display_data"
    },
    {
     "name": "stdout",
     "output_type": "stream",
     "text": [
      "[3.453965746302856e-06, 0.999996542930603]\n"
     ]
    },
    {
     "data": {
      "text/html": [
       "<figcaption>./testimg/normal/20201109-101743_02YYa_0.jpg : Normal</figcaption>"
      ],
      "text/plain": [
       "<IPython.core.display.HTML object>"
      ]
     },
     "metadata": {},
     "output_type": "display_data"
    },
    {
     "name": "stdout",
     "output_type": "stream",
     "text": [
      "[0.017976196482777596, 0.9820237755775452]\n"
     ]
    },
    {
     "data": {
      "text/html": [
       "<figcaption>./testimg/normal/20201109-101716_01YYa_1.jpg : Normal</figcaption>"
      ],
      "text/plain": [
       "<IPython.core.display.HTML object>"
      ]
     },
     "metadata": {},
     "output_type": "display_data"
    },
    {
     "name": "stdout",
     "output_type": "stream",
     "text": [
      "[2.9390750569291413e-05, 0.999970555305481]\n"
     ]
    },
    {
     "data": {
      "text/html": [
       "<figcaption>./testimg/normal/20201109-101731_23YYa_0.jpg : Normal</figcaption>"
      ],
      "text/plain": [
       "<IPython.core.display.HTML object>"
      ]
     },
     "metadata": {},
     "output_type": "display_data"
    },
    {
     "name": "stdout",
     "output_type": "stream",
     "text": [
      "[0.0037774709053337574, 0.9962224960327148]\n"
     ]
    },
    {
     "data": {
      "text/html": [
       "<figcaption>./testimg/normal/20201109-101821_14YYa_0.jpg : Normal</figcaption>"
      ],
      "text/plain": [
       "<IPython.core.display.HTML object>"
      ]
     },
     "metadata": {},
     "output_type": "display_data"
    },
    {
     "name": "stdout",
     "output_type": "stream",
     "text": [
      "[0.0005097974790260196, 0.9994901418685913]\n"
     ]
    },
    {
     "data": {
      "text/html": [
       "<figcaption>./testimg/normal/20201109-101616_03YYa_0.jpg : Normal</figcaption>"
      ],
      "text/plain": [
       "<IPython.core.display.HTML object>"
      ]
     },
     "metadata": {},
     "output_type": "display_data"
    },
    {
     "name": "stdout",
     "output_type": "stream",
     "text": [
      "[4.984562565368833e-06, 0.9999949932098389]\n"
     ]
    },
    {
     "data": {
      "text/html": [
       "<figcaption>./testimg/normal/20201109-101857_07YNa_0.jpg : Normal</figcaption>"
      ],
      "text/plain": [
       "<IPython.core.display.HTML object>"
      ]
     },
     "metadata": {},
     "output_type": "display_data"
    },
    {
     "name": "stdout",
     "output_type": "stream",
     "text": [
      "[0.0007694121450185776, 0.9992306232452393]\n"
     ]
    },
    {
     "data": {
      "text/html": [
       "<figcaption>./testimg/normal/20201109-101743_01YYa_1.jpg : Normal</figcaption>"
      ],
      "text/plain": [
       "<IPython.core.display.HTML object>"
      ]
     },
     "metadata": {},
     "output_type": "display_data"
    },
    {
     "name": "stdout",
     "output_type": "stream",
     "text": [
      "[0.00149261683691293, 0.9985073208808899]\n"
     ]
    },
    {
     "data": {
      "text/html": [
       "<figcaption>./testimg/normal/20201109-101706_21YYa_0.jpg : Normal</figcaption>"
      ],
      "text/plain": [
       "<IPython.core.display.HTML object>"
      ]
     },
     "metadata": {},
     "output_type": "display_data"
    },
    {
     "name": "stdout",
     "output_type": "stream",
     "text": [
      "[0.0029039266519248486, 0.997096061706543]\n"
     ]
    },
    {
     "data": {
      "text/html": [
       "<figcaption>./testimg/normal/20201109-101821_13YYa_1.jpg : Normal</figcaption>"
      ],
      "text/plain": [
       "<IPython.core.display.HTML object>"
      ]
     },
     "metadata": {},
     "output_type": "display_data"
    },
    {
     "name": "stdout",
     "output_type": "stream",
     "text": [
      "[0.0006006702897138894, 0.9993993043899536]\n"
     ]
    },
    {
     "data": {
      "text/html": [
       "<figcaption>./testimg/normal/20201109-101731_22YYa_1.jpg : Normal</figcaption>"
      ],
      "text/plain": [
       "<IPython.core.display.HTML object>"
      ]
     },
     "metadata": {},
     "output_type": "display_data"
    },
    {
     "name": "stdout",
     "output_type": "stream",
     "text": [
      "[0.005532810464501381, 0.9944671392440796]\n"
     ]
    },
    {
     "data": {
      "text/html": [
       "<figcaption>./testimg/normal/20201109-101535_02YYa_1.jpg : Normal</figcaption>"
      ],
      "text/plain": [
       "<IPython.core.display.HTML object>"
      ]
     },
     "metadata": {},
     "output_type": "display_data"
    },
    {
     "name": "stdout",
     "output_type": "stream",
     "text": [
      "[0.0005664228228852153, 0.9994335770606995]\n"
     ]
    },
    {
     "data": {
      "text/html": [
       "<figcaption>./testimg/normal/20201109-101923_11YYa_0.jpg : Normal</figcaption>"
      ],
      "text/plain": [
       "<IPython.core.display.HTML object>"
      ]
     },
     "metadata": {},
     "output_type": "display_data"
    },
    {
     "name": "stdout",
     "output_type": "stream",
     "text": [
      "[0.007052943576127291, 0.9929470419883728]\n"
     ]
    },
    {
     "data": {
      "text/html": [
       "<figcaption>./testimg/normal/20201109-101833_20YYa_0.jpg : Normal</figcaption>"
      ],
      "text/plain": [
       "<IPython.core.display.HTML object>"
      ]
     },
     "metadata": {},
     "output_type": "display_data"
    },
    {
     "name": "stdout",
     "output_type": "stream",
     "text": [
      "[0.00020026136189699173, 0.9997997879981995]\n"
     ]
    },
    {
     "data": {
      "text/html": [
       "<figcaption>./testimg/normal/20201109-101857_29YYa_1.jpg : Normal</figcaption>"
      ],
      "text/plain": [
       "<IPython.core.display.HTML object>"
      ]
     },
     "metadata": {},
     "output_type": "display_data"
    },
    {
     "name": "stdout",
     "output_type": "stream",
     "text": [
      "[0.010703634470701218, 0.9892963767051697]\n"
     ]
    },
    {
     "data": {
      "text/html": [
       "<figcaption>./testimg/normal/20201109-101616_02YYa_1.jpg : Normal</figcaption>"
      ],
      "text/plain": [
       "<IPython.core.display.HTML object>"
      ]
     },
     "metadata": {},
     "output_type": "display_data"
    },
    {
     "name": "stdout",
     "output_type": "stream",
     "text": [
      "[5.094591688248329e-05, 0.9999490976333618]\n"
     ]
    },
    {
     "data": {
      "text/html": [
       "<figcaption>./testimg/normal/20201109-101935_19YNa_0.jpg : Normal</figcaption>"
      ],
      "text/plain": [
       "<IPython.core.display.HTML object>"
      ]
     },
     "metadata": {},
     "output_type": "display_data"
    },
    {
     "name": "stdout",
     "output_type": "stream",
     "text": [
      "[6.188581664900994e-07, 0.9999994039535522]\n"
     ]
    },
    {
     "data": {
      "text/html": [
       "<figcaption>./testimg/normal/20201109-101602_21YNa_0.jpg : Normal</figcaption>"
      ],
      "text/plain": [
       "<IPython.core.display.HTML object>"
      ]
     },
     "metadata": {},
     "output_type": "display_data"
    },
    {
     "name": "stdout",
     "output_type": "stream",
     "text": [
      "[9.410284292243887e-06, 0.9999905824661255]\n"
     ]
    },
    {
     "data": {
      "text/html": [
       "<figcaption>./testimg/normal/20201109-101630_16YYa_0.jpg : Normal</figcaption>"
      ],
      "text/plain": [
       "<IPython.core.display.HTML object>"
      ]
     },
     "metadata": {},
     "output_type": "display_data"
    },
    {
     "name": "stdout",
     "output_type": "stream",
     "text": [
      "[5.705195871996693e-05, 0.9999428987503052]\n"
     ]
    },
    {
     "data": {
      "text/html": [
       "<figcaption>./testimg/normal/20201109-101808_28YNa_1.jpg : Normal</figcaption>"
      ],
      "text/plain": [
       "<IPython.core.display.HTML object>"
      ]
     },
     "metadata": {},
     "output_type": "display_data"
    },
    {
     "name": "stdout",
     "output_type": "stream",
     "text": [
      "[2.351266175537603e-06, 0.999997615814209]\n"
     ]
    },
    {
     "data": {
      "text/html": [
       "<figcaption>./testimg/normal/20201109-101910_24YYa_0.jpg : Normal</figcaption>"
      ],
      "text/plain": [
       "<IPython.core.display.HTML object>"
      ]
     },
     "metadata": {},
     "output_type": "display_data"
    },
    {
     "name": "stdout",
     "output_type": "stream",
     "text": [
      "[1.4942029338271823e-05, 0.9999850988388062]\n"
     ]
    },
    {
     "data": {
      "text/html": [
       "<figcaption>./testimg/normal/20201109-101731_14YYa_0.jpg : Normal</figcaption>"
      ],
      "text/plain": [
       "<IPython.core.display.HTML object>"
      ]
     },
     "metadata": {},
     "output_type": "display_data"
    },
    {
     "name": "stdout",
     "output_type": "stream",
     "text": [
      "[1.7514195178591763e-06, 0.9999982118606567]\n"
     ]
    },
    {
     "data": {
      "text/html": [
       "<figcaption>./testimg/normal/20201109-101757_17YNa_0.jpg : Normal</figcaption>"
      ],
      "text/plain": [
       "<IPython.core.display.HTML object>"
      ]
     },
     "metadata": {},
     "output_type": "display_data"
    },
    {
     "name": "stdout",
     "output_type": "stream",
     "text": [
      "[0.009108956903219223, 0.9908910393714905]\n"
     ]
    },
    {
     "data": {
      "text/html": [
       "<figcaption>./testimg/normal/20201109-101602_03YNa_0.jpg : Normal</figcaption>"
      ],
      "text/plain": [
       "<IPython.core.display.HTML object>"
      ]
     },
     "metadata": {},
     "output_type": "display_data"
    },
    {
     "name": "stdout",
     "output_type": "stream",
     "text": [
      "[0.00016225733270402998, 0.9998377561569214]\n"
     ]
    },
    {
     "data": {
      "text/html": [
       "<figcaption>./testimg/normal/20201109-101947_16YNa_0.jpg : Normal</figcaption>"
      ],
      "text/plain": [
       "<IPython.core.display.HTML object>"
      ]
     },
     "metadata": {},
     "output_type": "display_data"
    },
    {
     "name": "stdout",
     "output_type": "stream",
     "text": [
      "[0.00130670634098351, 0.9986932873725891]\n"
     ]
    },
    {
     "data": {
      "text/html": [
       "<figcaption>./testimg/normal/20201109-101716_02YYa_0.jpg : Normal</figcaption>"
      ],
      "text/plain": [
       "<IPython.core.display.HTML object>"
      ]
     },
     "metadata": {},
     "output_type": "display_data"
    },
    {
     "name": "stdout",
     "output_type": "stream",
     "text": [
      "[0.001191715826280415, 0.9988082647323608]\n"
     ]
    },
    {
     "data": {
      "text/html": [
       "<figcaption>./testimg/normal/20201109-101923_01YYa_1.jpg : Normal</figcaption>"
      ],
      "text/plain": [
       "<IPython.core.display.HTML object>"
      ]
     },
     "metadata": {},
     "output_type": "display_data"
    },
    {
     "name": "stdout",
     "output_type": "stream",
     "text": [
      "[0.0022300558630377054, 0.9977699518203735]\n"
     ]
    },
    {
     "data": {
      "text/html": [
       "<figcaption>./testimg/normal/20201109-101833_10YYa_1.jpg : Normal</figcaption>"
      ],
      "text/plain": [
       "<IPython.core.display.HTML object>"
      ]
     },
     "metadata": {},
     "output_type": "display_data"
    },
    {
     "name": "stdout",
     "output_type": "stream",
     "text": [
      "[5.303500802256167e-05, 0.9999469518661499]\n"
     ]
    },
    {
     "data": {
      "text/html": [
       "<figcaption>./testimg/normal/20201109-101910_06YYa_0.jpg : Normal</figcaption>"
      ],
      "text/plain": [
       "<IPython.core.display.HTML object>"
      ]
     },
     "metadata": {},
     "output_type": "display_data"
    },
    {
     "name": "stdout",
     "output_type": "stream",
     "text": [
      "[6.012804442434572e-05, 0.9999399185180664]\n"
     ]
    },
    {
     "data": {
      "text/html": [
       "<figcaption>./testimg/normal/20201109-101630_20YNa_0.jpg : Normal</figcaption>"
      ],
      "text/plain": [
       "<IPython.core.display.HTML object>"
      ]
     },
     "metadata": {},
     "output_type": "display_data"
    },
    {
     "name": "stdout",
     "output_type": "stream",
     "text": [
      "[0.0024795602075755596, 0.997520387172699]\n"
     ]
    },
    {
     "data": {
      "text/html": [
       "<figcaption>./testimg/normal/20201109-101535_20YYa_1.jpg : Normal</figcaption>"
      ],
      "text/plain": [
       "<IPython.core.display.HTML object>"
      ]
     },
     "metadata": {},
     "output_type": "display_data"
    },
    {
     "name": "stdout",
     "output_type": "stream",
     "text": [
      "[0.0022885380312800407, 0.9977114200592041]\n"
     ]
    },
    {
     "data": {
      "text/html": [
       "<figcaption>./testimg/normal/20201109-101731_04YYa_1.jpg : Normal</figcaption>"
      ],
      "text/plain": [
       "<IPython.core.display.HTML object>"
      ]
     },
     "metadata": {},
     "output_type": "display_data"
    },
    {
     "name": "stdout",
     "output_type": "stream",
     "text": [
      "[0.00013355266128201038, 0.9998664855957031]\n"
     ]
    },
    {
     "data": {
      "text/html": [
       "<figcaption>./testimg/normal/20201109-101706_03YYa_0.jpg : Normal</figcaption>"
      ],
      "text/plain": [
       "<IPython.core.display.HTML object>"
      ]
     },
     "metadata": {},
     "output_type": "display_data"
    },
    {
     "name": "stdout",
     "output_type": "stream",
     "text": [
      "[0.0016096821054816246, 0.9983903169631958]\n"
     ]
    },
    {
     "data": {
      "text/html": [
       "<figcaption>./testimg/normal/20201109-101630_06YYa_1.jpg : Normal</figcaption>"
      ],
      "text/plain": [
       "<IPython.core.display.HTML object>"
      ]
     },
     "metadata": {},
     "output_type": "display_data"
    },
    {
     "name": "stdout",
     "output_type": "stream",
     "text": [
      "[0.00018036596884485334, 0.9998196959495544]\n"
     ]
    },
    {
     "data": {
      "text/html": [
       "<figcaption>./testimg/normal/20201109-101716_10YYa_1.jpg : Normal</figcaption>"
      ],
      "text/plain": [
       "<IPython.core.display.HTML object>"
      ]
     },
     "metadata": {},
     "output_type": "display_data"
    },
    {
     "name": "stdout",
     "output_type": "stream",
     "text": [
      "[0.0007360647432506084, 0.9992639422416687]\n"
     ]
    },
    {
     "data": {
      "text/html": [
       "<figcaption>./testimg/normal/20201109-101616_10YNa_0.jpg : Normal</figcaption>"
      ],
      "text/plain": [
       "<IPython.core.display.HTML object>"
      ]
     },
     "metadata": {},
     "output_type": "display_data"
    },
    {
     "name": "stdout",
     "output_type": "stream",
     "text": [
      "[7.563752433270565e-07, 0.9999992847442627]\n"
     ]
    },
    {
     "data": {
      "text/html": [
       "<figcaption>./testimg/normal/20201109-101935_20YYa_0.jpg : Normal</figcaption>"
      ],
      "text/plain": [
       "<IPython.core.display.HTML object>"
      ]
     },
     "metadata": {},
     "output_type": "display_data"
    },
    {
     "name": "stdout",
     "output_type": "stream",
     "text": [
      "[0.009452728554606438, 0.990547239780426]\n"
     ]
    },
    {
     "data": {
      "text/html": [
       "<figcaption>./testimg/normal/20201109-101923_13YYa_1.jpg : Normal</figcaption>"
      ],
      "text/plain": [
       "<IPython.core.display.HTML object>"
      ]
     },
     "metadata": {},
     "output_type": "display_data"
    },
    {
     "name": "stdout",
     "output_type": "stream",
     "text": [
      "[3.6169691156828776e-05, 0.9999638795852661]\n"
     ]
    },
    {
     "data": {
      "text/html": [
       "<figcaption>./testimg/normal/20201109-101642_11YNa_0.jpg : Normal</figcaption>"
      ],
      "text/plain": [
       "<IPython.core.display.HTML object>"
      ]
     },
     "metadata": {},
     "output_type": "display_data"
    },
    {
     "name": "stdout",
     "output_type": "stream",
     "text": [
      "[0.0009935143170878291, 0.9990065693855286]\n"
     ]
    },
    {
     "data": {
      "text/html": [
       "<figcaption>./testimg/normal/20201109-101833_22YYa_1.jpg : Normal</figcaption>"
      ],
      "text/plain": [
       "<IPython.core.display.HTML object>"
      ]
     },
     "metadata": {},
     "output_type": "display_data"
    },
    {
     "name": "stdout",
     "output_type": "stream",
     "text": [
      "[4.910285497317091e-06, 0.9999951124191284]\n"
     ]
    },
    {
     "data": {
      "text/html": [
       "<figcaption>./testimg/normal/20201109-101602_15YNa_0.jpg : Normal</figcaption>"
      ],
      "text/plain": [
       "<IPython.core.display.HTML object>"
      ]
     },
     "metadata": {},
     "output_type": "display_data"
    },
    {
     "name": "stdout",
     "output_type": "stream",
     "text": [
      "[0.00015377384261228144, 0.9998462200164795]\n"
     ]
    },
    {
     "data": {
      "text/html": [
       "<figcaption>./testimg/normal/20201109-101821_21YNa_0.jpg : Normal</figcaption>"
      ],
      "text/plain": [
       "<IPython.core.display.HTML object>"
      ]
     },
     "metadata": {},
     "output_type": "display_data"
    },
    {
     "name": "stdout",
     "output_type": "stream",
     "text": [
      "[2.6524630811763927e-06, 0.9999973773956299]\n"
     ]
    },
    {
     "data": {
      "text/html": [
       "<figcaption>./testimg/normal/20201109-101535_10YNa_0.jpg : Normal</figcaption>"
      ],
      "text/plain": [
       "<IPython.core.display.HTML object>"
      ]
     },
     "metadata": {},
     "output_type": "display_data"
    },
    {
     "name": "stdout",
     "output_type": "stream",
     "text": [
      "[0.013395856134593487, 0.9866042137145996]\n"
     ]
    },
    {
     "data": {
      "text/html": [
       "<figcaption>./testimg/normal/20201109-101808_21YYa_0.jpg : Normal</figcaption>"
      ],
      "text/plain": [
       "<IPython.core.display.HTML object>"
      ]
     },
     "metadata": {},
     "output_type": "display_data"
    },
    {
     "name": "stdout",
     "output_type": "stream",
     "text": [
      "[0.0008478694944642484, 0.9991521835327148]\n"
     ]
    },
    {
     "data": {
      "text/html": [
       "<figcaption>./testimg/normal/20201109-101910_12YNa_1.jpg : Normal</figcaption>"
      ],
      "text/plain": [
       "<IPython.core.display.HTML object>"
      ]
     },
     "metadata": {},
     "output_type": "display_data"
    },
    {
     "name": "stdout",
     "output_type": "stream",
     "text": [
      "[0.0038263991009444, 0.9961736798286438]\n"
     ]
    },
    {
     "data": {
      "text/html": [
       "<figcaption>./testimg/normal/20201109-101706_23YYa_1.jpg : Normal</figcaption>"
      ],
      "text/plain": [
       "<IPython.core.display.HTML object>"
      ]
     },
     "metadata": {},
     "output_type": "display_data"
    },
    {
     "name": "stdout",
     "output_type": "stream",
     "text": [
      "[0.001211645663715899, 0.9987884163856506]\n"
     ]
    },
    {
     "data": {
      "text/html": [
       "<figcaption>./testimg/normal/20201109-101845_01YYa_1.jpg : Normal</figcaption>"
      ],
      "text/plain": [
       "<IPython.core.display.HTML object>"
      ]
     },
     "metadata": {},
     "output_type": "display_data"
    },
    {
     "name": "stdout",
     "output_type": "stream",
     "text": [
      "[1.930330108734779e-05, 0.9999806880950928]\n"
     ]
    },
    {
     "data": {
      "text/html": [
       "<figcaption>./testimg/normal/20201109-101655_12YYa_0.jpg : Normal</figcaption>"
      ],
      "text/plain": [
       "<IPython.core.display.HTML object>"
      ]
     },
     "metadata": {},
     "output_type": "display_data"
    },
    {
     "name": "stdout",
     "output_type": "stream",
     "text": [
      "[0.0010312992380931973, 0.9989687204360962]\n"
     ]
    },
    {
     "data": {
      "text/html": [
       "<figcaption>./testimg/normal/20201109-101857_09YNa_1.jpg : Normal</figcaption>"
      ],
      "text/plain": [
       "<IPython.core.display.HTML object>"
      ]
     },
     "metadata": {},
     "output_type": "display_data"
    },
    {
     "name": "stdout",
     "output_type": "stream",
     "text": [
      "[0.003393725724890828, 0.9966062307357788]\n"
     ]
    },
    {
     "data": {
      "text/html": [
       "<figcaption>./testimg/normal/20201109-101655_20YYa_1.jpg : Normal</figcaption>"
      ],
      "text/plain": [
       "<IPython.core.display.HTML object>"
      ]
     },
     "metadata": {},
     "output_type": "display_data"
    },
    {
     "name": "stdout",
     "output_type": "stream",
     "text": [
      "[0.004045634530484676, 0.9959543943405151]\n"
     ]
    },
    {
     "data": {
      "text/html": [
       "<figcaption>./testimg/normal/20201109-101910_26YYa_1.jpg : Normal</figcaption>"
      ],
      "text/plain": [
       "<IPython.core.display.HTML object>"
      ]
     },
     "metadata": {},
     "output_type": "display_data"
    },
    {
     "name": "stdout",
     "output_type": "stream",
     "text": [
      "[0.002156555652618408, 0.9978433847427368]\n"
     ]
    },
    {
     "data": {
      "text/html": [
       "<figcaption>./testimg/normal/20201109-101757_19YNa_1.jpg : Normal</figcaption>"
      ],
      "text/plain": [
       "<IPython.core.display.HTML object>"
      ]
     },
     "metadata": {},
     "output_type": "display_data"
    },
    {
     "name": "stdout",
     "output_type": "stream",
     "text": [
      "[0.001784555264748633, 0.9982154369354248]\n"
     ]
    },
    {
     "data": {
      "text/html": [
       "<figcaption>./testimg/normal/20201109-101731_16YYa_1.jpg : Normal</figcaption>"
      ],
      "text/plain": [
       "<IPython.core.display.HTML object>"
      ]
     },
     "metadata": {},
     "output_type": "display_data"
    },
    {
     "name": "stdout",
     "output_type": "stream",
     "text": [
      "[6.140821642475203e-05, 0.9999386072158813]\n"
     ]
    },
    {
     "data": {
      "text/html": [
       "<figcaption>./testimg/normal/20201109-101833_14YYa_0.jpg : Normal</figcaption>"
      ],
      "text/plain": [
       "<IPython.core.display.HTML object>"
      ]
     },
     "metadata": {},
     "output_type": "display_data"
    },
    {
     "name": "stdout",
     "output_type": "stream",
     "text": [
      "[0.0002121117286151275, 0.9997878670692444]\n"
     ]
    },
    {
     "data": {
      "text/html": [
       "<figcaption>./testimg/normal/20201109-101923_05YYa_0.jpg : Normal</figcaption>"
      ],
      "text/plain": [
       "<IPython.core.display.HTML object>"
      ]
     },
     "metadata": {},
     "output_type": "display_data"
    },
    {
     "name": "stdout",
     "output_type": "stream",
     "text": [
      "[0.0024831860791891813, 0.9975168704986572]\n"
     ]
    },
    {
     "data": {
      "text/html": [
       "<figcaption>./testimg/normal/20201109-101642_25YYa_0.jpg : Normal</figcaption>"
      ],
      "text/plain": [
       "<IPython.core.display.HTML object>"
      ]
     },
     "metadata": {},
     "output_type": "display_data"
    },
    {
     "name": "stdout",
     "output_type": "stream",
     "text": [
      "[0.0001225222513312474, 0.9998774528503418]\n"
     ]
    },
    {
     "data": {
      "text/html": [
       "<figcaption>./testimg/normal/20201109-101630_18YYa_1.jpg : Normal</figcaption>"
      ],
      "text/plain": [
       "<IPython.core.display.HTML object>"
      ]
     },
     "metadata": {},
     "output_type": "display_data"
    },
    {
     "name": "stdout",
     "output_type": "stream",
     "text": [
      "[3.1713159387436463e-06, 0.9999967813491821]\n"
     ]
    },
    {
     "data": {
      "text/html": [
       "<figcaption>./testimg/normal/20201109-101910_04YNa_0.jpg : Normal</figcaption>"
      ],
      "text/plain": [
       "<IPython.core.display.HTML object>"
      ]
     },
     "metadata": {},
     "output_type": "display_data"
    },
    {
     "name": "stdout",
     "output_type": "stream",
     "text": [
      "[1.4273547094489913e-05, 0.9999856948852539]\n"
     ]
    },
    {
     "data": {
      "text/html": [
       "<figcaption>./testimg/normal/20201109-101602_23YNa_1.jpg : Normal</figcaption>"
      ],
      "text/plain": [
       "<IPython.core.display.HTML object>"
      ]
     },
     "metadata": {},
     "output_type": "display_data"
    },
    {
     "name": "stdout",
     "output_type": "stream",
     "text": [
      "[0.0016552244778722525, 0.9983447790145874]\n"
     ]
    },
    {
     "data": {
      "text/html": [
       "<figcaption>./testimg/normal/20201109-101910_08YYa_1.jpg : Normal</figcaption>"
      ],
      "text/plain": [
       "<IPython.core.display.HTML object>"
      ]
     },
     "metadata": {},
     "output_type": "display_data"
    },
    {
     "name": "stdout",
     "output_type": "stream",
     "text": [
      "[0.02345297858119011, 0.9765470027923584]\n"
     ]
    },
    {
     "data": {
      "text/html": [
       "<figcaption>./testimg/normal/20201109-101655_02YYa_1.jpg : Normal</figcaption>"
      ],
      "text/plain": [
       "<IPython.core.display.HTML object>"
      ]
     },
     "metadata": {},
     "output_type": "display_data"
    },
    {
     "name": "stdout",
     "output_type": "stream",
     "text": [
      "[0.0005079555558040738, 0.9994920492172241]\n"
     ]
    },
    {
     "data": {
      "text/html": [
       "<figcaption>./testimg/normal/20201109-101808_11YYa_1.jpg : Normal</figcaption>"
      ],
      "text/plain": [
       "<IPython.core.display.HTML object>"
      ]
     },
     "metadata": {},
     "output_type": "display_data"
    },
    {
     "name": "stdout",
     "output_type": "stream",
     "text": [
      "[5.973557927063666e-05, 0.9999402761459351]\n"
     ]
    },
    {
     "data": {
      "text/html": [
       "<figcaption>./testimg/normal/20201109-101630_28YYa_0.jpg : Normal</figcaption>"
      ],
      "text/plain": [
       "<IPython.core.display.HTML object>"
      ]
     },
     "metadata": {},
     "output_type": "display_data"
    },
    {
     "name": "stdout",
     "output_type": "stream",
     "text": [
      "[0.0036754761822521687, 0.9963244795799255]\n"
     ]
    },
    {
     "data": {
      "text/html": [
       "<figcaption>./testimg/normal/20201109-101935_10YYa_1.jpg : Normal</figcaption>"
      ],
      "text/plain": [
       "<IPython.core.display.HTML object>"
      ]
     },
     "metadata": {},
     "output_type": "display_data"
    },
    {
     "name": "stdout",
     "output_type": "stream",
     "text": [
      "[0.0003170118434354663, 0.9996830224990845]\n"
     ]
    },
    {
     "data": {
      "text/html": [
       "<figcaption>./testimg/normal/20201109-101535_06YYa_0.jpg : Normal</figcaption>"
      ],
      "text/plain": [
       "<IPython.core.display.HTML object>"
      ]
     },
     "metadata": {},
     "output_type": "display_data"
    },
    {
     "name": "stdout",
     "output_type": "stream",
     "text": [
      "[0.06303726881742477, 0.9369627833366394]\n"
     ]
    },
    {
     "data": {
      "text/html": [
       "<figcaption>./testimg/normal/20201109-101716_04YYa_1.jpg : Normal</figcaption>"
      ],
      "text/plain": [
       "<IPython.core.display.HTML object>"
      ]
     },
     "metadata": {},
     "output_type": "display_data"
    },
    {
     "name": "stdout",
     "output_type": "stream",
     "text": [
      "[0.007778541184961796, 0.9922214150428772]\n"
     ]
    },
    {
     "data": {
      "text/html": [
       "<figcaption>./testimg/normal/20201109-101602_05YNa_1.jpg : Normal</figcaption>"
      ],
      "text/plain": [
       "<IPython.core.display.HTML object>"
      ]
     },
     "metadata": {},
     "output_type": "display_data"
    },
    {
     "name": "stdout",
     "output_type": "stream",
     "text": [
      "[2.077219141938258e-05, 0.9999792575836182]\n"
     ]
    },
    {
     "data": {
      "text/html": [
       "<figcaption>./testimg/normal/20201109-101821_11YNa_1.jpg : Normal</figcaption>"
      ],
      "text/plain": [
       "<IPython.core.display.HTML object>"
      ]
     },
     "metadata": {},
     "output_type": "display_data"
    },
    {
     "name": "stdout",
     "output_type": "stream",
     "text": [
      "[0.0007585855200886726, 0.9992414712905884]\n"
     ]
    },
    {
     "data": {
      "text/html": [
       "<figcaption>./testimg/normal/20201109-101642_07YYa_0.jpg : Normal</figcaption>"
      ],
      "text/plain": [
       "<IPython.core.display.HTML object>"
      ]
     },
     "metadata": {},
     "output_type": "display_data"
    },
    {
     "name": "stdout",
     "output_type": "stream",
     "text": [
      "[1.5832218196010217e-05, 0.9999841451644897]\n"
     ]
    },
    {
     "data": {
      "text/html": [
       "<figcaption>./testimg/normal/20201109-101706_05YYa_1.jpg : Normal</figcaption>"
      ],
      "text/plain": [
       "<IPython.core.display.HTML object>"
      ]
     },
     "metadata": {},
     "output_type": "display_data"
    },
    {
     "name": "stdout",
     "output_type": "stream",
     "text": [
      "[1.5641728168702684e-05, 0.9999843835830688]\n"
     ]
    },
    {
     "data": {
      "text/html": [
       "<figcaption>./testimg/normal/20201109-101821_03YNa_0.jpg : Normal</figcaption>"
      ],
      "text/plain": [
       "<IPython.core.display.HTML object>"
      ]
     },
     "metadata": {},
     "output_type": "display_data"
    },
    {
     "name": "stdout",
     "output_type": "stream",
     "text": [
      "[2.9851571525796317e-06, 0.9999970197677612]\n"
     ]
    },
    {
     "data": {
      "text/html": [
       "<figcaption>./testimg/normal/20201109-101731_12YNa_0.jpg : Normal</figcaption>"
      ],
      "text/plain": [
       "<IPython.core.display.HTML object>"
      ]
     },
     "metadata": {},
     "output_type": "display_data"
    },
    {
     "name": "stdout",
     "output_type": "stream",
     "text": [
      "[6.305812712525949e-05, 0.9999369382858276]\n"
     ]
    },
    {
     "data": {
      "text/html": [
       "<figcaption>./testimg/normal/20201109-101845_11YYa_0.jpg : Normal</figcaption>"
      ],
      "text/plain": [
       "<IPython.core.display.HTML object>"
      ]
     },
     "metadata": {},
     "output_type": "display_data"
    },
    {
     "name": "stdout",
     "output_type": "stream",
     "text": [
      "[0.0002980573335662484, 0.9997019171714783]\n"
     ]
    },
    {
     "data": {
      "text/html": [
       "<figcaption>./testimg/normal/20201109-101935_02YYa_0.jpg : Normal</figcaption>"
      ],
      "text/plain": [
       "<IPython.core.display.HTML object>"
      ]
     },
     "metadata": {},
     "output_type": "display_data"
    },
    {
     "name": "stdout",
     "output_type": "stream",
     "text": [
      "[2.8058640964445658e-05, 0.9999719858169556]\n"
     ]
    },
    {
     "data": {
      "text/html": [
       "<figcaption>./testimg/normal/20201109-101630_19YYa_0.jpg : Normal</figcaption>"
      ],
      "text/plain": [
       "<IPython.core.display.HTML object>"
      ]
     },
     "metadata": {},
     "output_type": "display_data"
    },
    {
     "name": "stdout",
     "output_type": "stream",
     "text": [
      "[3.1830086300033145e-06, 0.9999967813491821]\n"
     ]
    },
    {
     "data": {
      "text/html": [
       "<figcaption>./testimg/normal/20201109-101602_24YNa_0.jpg : Normal</figcaption>"
      ],
      "text/plain": [
       "<IPython.core.display.HTML object>"
      ]
     },
     "metadata": {},
     "output_type": "display_data"
    },
    {
     "name": "stdout",
     "output_type": "stream",
     "text": [
      "[1.0841437870112713e-05, 0.9999891519546509]\n"
     ]
    },
    {
     "data": {
      "text/html": [
       "<figcaption>./testimg/normal/20201109-101706_10YNa_0.jpg : Normal</figcaption>"
      ],
      "text/plain": [
       "<IPython.core.display.HTML object>"
      ]
     },
     "metadata": {},
     "output_type": "display_data"
    },
    {
     "name": "stdout",
     "output_type": "stream",
     "text": [
      "[0.00011994829401373863, 0.9998800754547119]\n"
     ]
    },
    {
     "data": {
      "text/html": [
       "<figcaption>./testimg/normal/20201109-101642_20YNa_0.jpg : Normal</figcaption>"
      ],
      "text/plain": [
       "<IPython.core.display.HTML object>"
      ]
     },
     "metadata": {},
     "output_type": "display_data"
    },
    {
     "name": "stdout",
     "output_type": "stream",
     "text": [
      "[3.3574178814888e-05, 0.9999663829803467]\n"
     ]
    },
    {
     "data": {
      "text/html": [
       "<figcaption>./testimg/normal/20201109-101910_27YYa_0.jpg : Normal</figcaption>"
      ],
      "text/plain": [
       "<IPython.core.display.HTML object>"
      ]
     },
     "metadata": {},
     "output_type": "display_data"
    },
    {
     "name": "stdout",
     "output_type": "stream",
     "text": [
      "[0.008863484486937523, 0.9911365509033203]\n"
     ]
    },
    {
     "data": {
      "text/html": [
       "<figcaption>./testimg/normal/20201109-101821_02YNa_1.jpg : Normal</figcaption>"
      ],
      "text/plain": [
       "<IPython.core.display.HTML object>"
      ]
     },
     "metadata": {},
     "output_type": "display_data"
    },
    {
     "name": "stdout",
     "output_type": "stream",
     "text": [
      "[4.155998249188997e-05, 0.9999583959579468]\n"
     ]
    },
    {
     "data": {
      "text/html": [
       "<figcaption>./testimg/normal/20201109-101731_11YNa_1.jpg : Normal</figcaption>"
      ],
      "text/plain": [
       "<IPython.core.display.HTML object>"
      ]
     },
     "metadata": {},
     "output_type": "display_data"
    },
    {
     "name": "stdout",
     "output_type": "stream",
     "text": [
      "[0.004880771040916443, 0.9951192140579224]\n"
     ]
    },
    {
     "data": {
      "text/html": [
       "<figcaption>./testimg/normal/20201109-101845_10YYa_1.jpg : Normal</figcaption>"
      ],
      "text/plain": [
       "<IPython.core.display.HTML object>"
      ]
     },
     "metadata": {},
     "output_type": "display_data"
    },
    {
     "name": "stdout",
     "output_type": "stream",
     "text": [
      "[0.0001549204607727006, 0.999845027923584]\n"
     ]
    },
    {
     "data": {
      "text/html": [
       "<figcaption>./testimg/normal/20201109-101731_17YYa_0.jpg : Normal</figcaption>"
      ],
      "text/plain": [
       "<IPython.core.display.HTML object>"
      ]
     },
     "metadata": {},
     "output_type": "display_data"
    },
    {
     "name": "stdout",
     "output_type": "stream",
     "text": [
      "[0.005924477707594633, 0.9940755367279053]\n"
     ]
    },
    {
     "data": {
      "text/html": [
       "<figcaption>./testimg/normal/20201109-101935_01YYa_1.jpg : Normal</figcaption>"
      ],
      "text/plain": [
       "<IPython.core.display.HTML object>"
      ]
     },
     "metadata": {},
     "output_type": "display_data"
    },
    {
     "name": "stdout",
     "output_type": "stream",
     "text": [
      "[0.0016834689304232597, 0.9983165264129639]\n"
     ]
    },
    {
     "data": {
      "text/html": [
       "<figcaption>./testimg/normal/20201109-101833_23YYa_0.jpg : Normal</figcaption>"
      ],
      "text/plain": [
       "<IPython.core.display.HTML object>"
      ]
     },
     "metadata": {},
     "output_type": "display_data"
    },
    {
     "name": "stdout",
     "output_type": "stream",
     "text": [
      "[0.0005110586644150317, 0.9994889497756958]\n"
     ]
    },
    {
     "data": {
      "text/html": [
       "<figcaption>./testimg/normal/20201109-101731_25YYa_1.jpg : Normal</figcaption>"
      ],
      "text/plain": [
       "<IPython.core.display.HTML object>"
      ]
     },
     "metadata": {},
     "output_type": "display_data"
    },
    {
     "name": "stdout",
     "output_type": "stream",
     "text": [
      "[0.6295159459114075, 0.37048405408859253]\n"
     ]
    },
    {
     "data": {
      "text/html": [
       "<figcaption>./testimg/normal/20201109-101821_16YYa_1.jpg : Anomaly</figcaption>"
      ],
      "text/plain": [
       "<IPython.core.display.HTML object>"
      ]
     },
     "metadata": {},
     "output_type": "display_data"
    },
    {
     "name": "stdout",
     "output_type": "stream",
     "text": [
      "[0.010230325162410736, 0.989769697189331]\n"
     ]
    },
    {
     "data": {
      "text/html": [
       "<figcaption>./testimg/normal/20201109-101642_06YYa_1.jpg : Normal</figcaption>"
      ],
      "text/plain": [
       "<IPython.core.display.HTML object>"
      ]
     },
     "metadata": {},
     "output_type": "display_data"
    },
    {
     "name": "stdout",
     "output_type": "stream",
     "text": [
      "[0.0009691165760159492, 0.9990309476852417]\n"
     ]
    },
    {
     "data": {
      "text/html": [
       "<figcaption>./testimg/normal/20201109-101616_05YYa_1.jpg : Normal</figcaption>"
      ],
      "text/plain": [
       "<IPython.core.display.HTML object>"
      ]
     },
     "metadata": {},
     "output_type": "display_data"
    },
    {
     "name": "stdout",
     "output_type": "stream",
     "text": [
      "[0.0004077808407600969, 0.9995922446250916]\n"
     ]
    },
    {
     "data": {
      "text/html": [
       "<figcaption>./testimg/normal/20201109-101910_13YNa_0.jpg : Normal</figcaption>"
      ],
      "text/plain": [
       "<IPython.core.display.HTML object>"
      ]
     },
     "metadata": {},
     "output_type": "display_data"
    },
    {
     "name": "stdout",
     "output_type": "stream",
     "text": [
      "[0.000942156242672354, 0.9990578293800354]\n"
     ]
    },
    {
     "data": {
      "text/html": [
       "<figcaption>./testimg/normal/20201109-101706_24YYa_0.jpg : Normal</figcaption>"
      ],
      "text/plain": [
       "<IPython.core.display.HTML object>"
      ]
     },
     "metadata": {},
     "output_type": "display_data"
    },
    {
     "name": "stdout",
     "output_type": "stream",
     "text": [
      "[5.052562300988939e-06, 0.9999949932098389]\n"
     ]
    },
    {
     "data": {
      "text/html": [
       "<figcaption>./testimg/normal/20201109-101845_02YYa_0.jpg : Normal</figcaption>"
      ],
      "text/plain": [
       "<IPython.core.display.HTML object>"
      ]
     },
     "metadata": {},
     "output_type": "display_data"
    },
    {
     "name": "stdout",
     "output_type": "stream",
     "text": [
      "[0.0014055167557671666, 0.9985944628715515]\n"
     ]
    },
    {
     "data": {
      "text/html": [
       "<figcaption>./testimg/normal/20201109-101630_27YYa_1.jpg : Normal</figcaption>"
      ],
      "text/plain": [
       "<IPython.core.display.HTML object>"
      ]
     },
     "metadata": {},
     "output_type": "display_data"
    },
    {
     "name": "stdout",
     "output_type": "stream",
     "text": [
      "[0.03326226398348808, 0.9667378067970276]\n"
     ]
    },
    {
     "data": {
      "text/html": [
       "<figcaption>./testimg/normal/20201109-101655_11YYa_1.jpg : Normal</figcaption>"
      ],
      "text/plain": [
       "<IPython.core.display.HTML object>"
      ]
     },
     "metadata": {},
     "output_type": "display_data"
    },
    {
     "name": "stdout",
     "output_type": "stream",
     "text": [
      "[0.0020496167708188295, 0.9979503750801086]\n"
     ]
    },
    {
     "data": {
      "text/html": [
       "<figcaption>./testimg/normal/20201109-101821_20YNa_1.jpg : Normal</figcaption>"
      ],
      "text/plain": [
       "<IPython.core.display.HTML object>"
      ]
     },
     "metadata": {},
     "output_type": "display_data"
    },
    {
     "name": "stdout",
     "output_type": "stream",
     "text": [
      "[3.6107961932430044e-05, 0.9999638795852661]\n"
     ]
    },
    {
     "data": {
      "text/html": [
       "<figcaption>./testimg/normal/20201109-101616_15YYa_0.jpg : Normal</figcaption>"
      ],
      "text/plain": [
       "<IPython.core.display.HTML object>"
      ]
     },
     "metadata": {},
     "output_type": "display_data"
    },
    {
     "name": "stdout",
     "output_type": "stream",
     "text": [
      "[0.00042304975795559585, 0.999576985836029]\n"
     ]
    },
    {
     "data": {
      "text/html": [
       "<figcaption>./testimg/normal/20201109-101630_09YYa_1.jpg : Normal</figcaption>"
      ],
      "text/plain": [
       "<IPython.core.display.HTML object>"
      ]
     },
     "metadata": {},
     "output_type": "display_data"
    },
    {
     "name": "stdout",
     "output_type": "stream",
     "text": [
      "[6.155162554932758e-05, 0.9999384880065918]\n"
     ]
    },
    {
     "data": {
      "text/html": [
       "<figcaption>./testimg/normal/20201109-101602_14YNa_1.jpg : Normal</figcaption>"
      ],
      "text/plain": [
       "<IPython.core.display.HTML object>"
      ]
     },
     "metadata": {},
     "output_type": "display_data"
    },
    {
     "name": "stdout",
     "output_type": "stream",
     "text": [
      "[1.2592478924489114e-05, 0.9999873638153076]\n"
     ]
    },
    {
     "data": {
      "text/html": [
       "<figcaption>./testimg/normal/20201109-101821_26YYa_0.jpg : Normal</figcaption>"
      ],
      "text/plain": [
       "<IPython.core.display.HTML object>"
      ]
     },
     "metadata": {},
     "output_type": "display_data"
    },
    {
     "name": "stdout",
     "output_type": "stream",
     "text": [
      "[9.057875286089256e-05, 0.9999094009399414]\n"
     ]
    },
    {
     "data": {
      "text/html": [
       "<figcaption>./testimg/normal/20201109-101910_09YYa_0.jpg : Normal</figcaption>"
      ],
      "text/plain": [
       "<IPython.core.display.HTML object>"
      ]
     },
     "metadata": {},
     "output_type": "display_data"
    },
    {
     "name": "stdout",
     "output_type": "stream",
     "text": [
      "[0.17678743600845337, 0.8232126235961914]\n"
     ]
    },
    {
     "data": {
      "text/html": [
       "<figcaption>./testimg/normal/20201109-101616_23YYa_1.jpg : Normal</figcaption>"
      ],
      "text/plain": [
       "<IPython.core.display.HTML object>"
      ]
     },
     "metadata": {},
     "output_type": "display_data"
    },
    {
     "name": "stdout",
     "output_type": "stream",
     "text": [
      "[0.001197974430397153, 0.9988020658493042]\n"
     ]
    },
    {
     "data": {
      "text/html": [
       "<figcaption>./testimg/normal/20201109-101642_24YYa_1.jpg : Normal</figcaption>"
      ],
      "text/plain": [
       "<IPython.core.display.HTML object>"
      ]
     },
     "metadata": {},
     "output_type": "display_data"
    },
    {
     "name": "stdout",
     "output_type": "stream",
     "text": [
      "[0.009494004771113396, 0.9905059933662415]\n"
     ]
    },
    {
     "data": {
      "text/html": [
       "<figcaption>./testimg/normal/20201109-101923_04YYa_1.jpg : Normal</figcaption>"
      ],
      "text/plain": [
       "<IPython.core.display.HTML object>"
      ]
     },
     "metadata": {},
     "output_type": "display_data"
    },
    {
     "name": "stdout",
     "output_type": "stream",
     "text": [
      "[0.15440161526203156, 0.8455983400344849]\n"
     ]
    },
    {
     "data": {
      "text/html": [
       "<figcaption>./testimg/normal/20201109-101743_22YYa_1.jpg : Normal</figcaption>"
      ],
      "text/plain": [
       "<IPython.core.display.HTML object>"
      ]
     },
     "metadata": {},
     "output_type": "display_data"
    },
    {
     "name": "stdout",
     "output_type": "stream",
     "text": [
      "[9.125098586082458e-05, 0.9999086856842041]\n"
     ]
    },
    {
     "data": {
      "text/html": [
       "<figcaption>./testimg/normal/20201109-101833_13YYa_1.jpg : Normal</figcaption>"
      ],
      "text/plain": [
       "<IPython.core.display.HTML object>"
      ]
     },
     "metadata": {},
     "output_type": "display_data"
    },
    {
     "name": "stdout",
     "output_type": "stream",
     "text": [
      "[0.0005618428112939, 0.9994381070137024]\n"
     ]
    },
    {
     "data": {
      "text/html": [
       "<figcaption>./testimg/normal/20201109-101642_02YNa_0.jpg : Normal</figcaption>"
      ],
      "text/plain": [
       "<IPython.core.display.HTML object>"
      ]
     },
     "metadata": {},
     "output_type": "display_data"
    },
    {
     "name": "stdout",
     "output_type": "stream",
     "text": [
      "[0.00010379678860772401, 0.9998961687088013]\n"
     ]
    },
    {
     "data": {
      "text/html": [
       "<figcaption>./testimg/normal/20201109-101845_20YYa_0.jpg : Normal</figcaption>"
      ],
      "text/plain": [
       "<IPython.core.display.HTML object>"
      ]
     },
     "metadata": {},
     "output_type": "display_data"
    },
    {
     "name": "stdout",
     "output_type": "stream",
     "text": [
      "[0.000501854985486716, 0.9994981288909912]\n"
     ]
    },
    {
     "data": {
      "text/html": [
       "<figcaption>./testimg/normal/20201109-101935_11YYa_0.jpg : Normal</figcaption>"
      ],
      "text/plain": [
       "<IPython.core.display.HTML object>"
      ]
     },
     "metadata": {},
     "output_type": "display_data"
    },
    {
     "name": "stdout",
     "output_type": "stream",
     "text": [
      "[1.306867488892749e-05, 0.9999868869781494]\n"
     ]
    },
    {
     "data": {
      "text/html": [
       "<figcaption>./testimg/normal/20201109-101535_01YNa_0.jpg : Normal</figcaption>"
      ],
      "text/plain": [
       "<IPython.core.display.HTML object>"
      ]
     },
     "metadata": {},
     "output_type": "display_data"
    },
    {
     "name": "stdout",
     "output_type": "stream",
     "text": [
      "[0.0011921029072254896, 0.9988079071044922]\n"
     ]
    },
    {
     "data": {
      "text/html": [
       "<figcaption>./testimg/normal/20201109-101602_06YNa_0.jpg : Normal</figcaption>"
      ],
      "text/plain": [
       "<IPython.core.display.HTML object>"
      ]
     },
     "metadata": {},
     "output_type": "display_data"
    },
    {
     "name": "stdout",
     "output_type": "stream",
     "text": [
      "[1.4161620129016228e-05, 0.9999858140945435]\n"
     ]
    },
    {
     "data": {
      "text/html": [
       "<figcaption>./testimg/normal/20201109-101833_08YNa_0.jpg : Normal</figcaption>"
      ],
      "text/plain": [
       "<IPython.core.display.HTML object>"
      ]
     },
     "metadata": {},
     "output_type": "display_data"
    },
    {
     "name": "stdout",
     "output_type": "stream",
     "text": [
      "[0.00019205895659979433, 0.9998080134391785]\n"
     ]
    },
    {
     "data": {
      "text/html": [
       "<figcaption>./testimg/normal/20201109-101947_07YYa_0.jpg : Normal</figcaption>"
      ],
      "text/plain": [
       "<IPython.core.display.HTML object>"
      ]
     },
     "metadata": {},
     "output_type": "display_data"
    },
    {
     "name": "stdout",
     "output_type": "stream",
     "text": [
      "[9.325116116087884e-05, 0.9999067783355713]\n"
     ]
    },
    {
     "data": {
      "text/html": [
       "<figcaption>./testimg/normal/20201109-101857_16YYa_0.jpg : Normal</figcaption>"
      ],
      "text/plain": [
       "<IPython.core.display.HTML object>"
      ]
     },
     "metadata": {},
     "output_type": "display_data"
    },
    {
     "name": "stdout",
     "output_type": "stream",
     "text": [
      "[0.0016414383426308632, 0.9983585476875305]\n"
     ]
    },
    {
     "data": {
      "text/html": [
       "<figcaption>./testimg/normal/20201109-101845_09YYa_1.jpg : Normal</figcaption>"
      ],
      "text/plain": [
       "<IPython.core.display.HTML object>"
      ]
     },
     "metadata": {},
     "output_type": "display_data"
    },
    {
     "name": "stdout",
     "output_type": "stream",
     "text": [
      "[0.00034177140332758427, 0.9996582269668579]\n"
     ]
    },
    {
     "data": {
      "text/html": [
       "<figcaption>./testimg/normal/20201109-101706_09YNa_0.jpg : Normal</figcaption>"
      ],
      "text/plain": [
       "<IPython.core.display.HTML object>"
      ]
     },
     "metadata": {},
     "output_type": "display_data"
    },
    {
     "name": "stdout",
     "output_type": "stream",
     "text": [
      "[5.406955096987076e-06, 0.9999946355819702]\n"
     ]
    },
    {
     "data": {
      "text/html": [
       "<figcaption>./testimg/normal/20201109-101616_18YNa_0.jpg : Normal</figcaption>"
      ],
      "text/plain": [
       "<IPython.core.display.HTML object>"
      ]
     },
     "metadata": {},
     "output_type": "display_data"
    },
    {
     "name": "stdout",
     "output_type": "stream",
     "text": [
      "[0.00030381311080418527, 0.9996962547302246]\n"
     ]
    },
    {
     "data": {
      "text/html": [
       "<figcaption>./testimg/normal/20201109-101642_19YNa_0.jpg : Normal</figcaption>"
      ],
      "text/plain": [
       "<IPython.core.display.HTML object>"
      ]
     },
     "metadata": {},
     "output_type": "display_data"
    },
    {
     "name": "stdout",
     "output_type": "stream",
     "text": [
      "[6.531025519507239e-06, 0.9999934434890747]\n"
     ]
    },
    {
     "data": {
      "text/html": [
       "<figcaption>./testimg/normal/20201109-101630_11YYa_0.jpg : Normal</figcaption>"
      ],
      "text/plain": [
       "<IPython.core.display.HTML object>"
      ]
     },
     "metadata": {},
     "output_type": "display_data"
    },
    {
     "name": "stdout",
     "output_type": "stream",
     "text": [
      "[0.00021240378555376083, 0.9997876286506653]\n"
     ]
    },
    {
     "data": {
      "text/html": [
       "<figcaption>./testimg/normal/20201109-101535_18YNa_0.jpg : Normal</figcaption>"
      ],
      "text/plain": [
       "<IPython.core.display.HTML object>"
      ]
     },
     "metadata": {},
     "output_type": "display_data"
    },
    {
     "name": "stdout",
     "output_type": "stream",
     "text": [
      "[0.00029288179939612746, 0.999707043170929]\n"
     ]
    },
    {
     "data": {
      "text/html": [
       "<figcaption>./testimg/normal/20201109-101935_22YNa_1.jpg : Normal</figcaption>"
      ],
      "text/plain": [
       "<IPython.core.display.HTML object>"
      ]
     },
     "metadata": {},
     "output_type": "display_data"
    },
    {
     "name": "stdout",
     "output_type": "stream",
     "text": [
      "[0.0060595059767365456, 0.9939404726028442]\n"
     ]
    },
    {
     "data": {
      "text/html": [
       "<figcaption>./testimg/normal/20201109-101808_15YNa_0.jpg : Normal</figcaption>"
      ],
      "text/plain": [
       "<IPython.core.display.HTML object>"
      ]
     },
     "metadata": {},
     "output_type": "display_data"
    },
    {
     "name": "stdout",
     "output_type": "stream",
     "text": [
      "[0.0412728525698185, 0.9587271213531494]\n"
     ]
    },
    {
     "data": {
      "text/html": [
       "<figcaption>./testimg/normal/20201109-101616_26YNa_1.jpg : Normal</figcaption>"
      ],
      "text/plain": [
       "<IPython.core.display.HTML object>"
      ]
     },
     "metadata": {},
     "output_type": "display_data"
    },
    {
     "name": "stdout",
     "output_type": "stream",
     "text": [
      "[0.0016415453283116221, 0.998358428478241]\n"
     ]
    },
    {
     "data": {
      "text/html": [
       "<figcaption>./testimg/normal/20201109-101743_25YNa_1.jpg : Normal</figcaption>"
      ],
      "text/plain": [
       "<IPython.core.display.HTML object>"
      ]
     },
     "metadata": {},
     "output_type": "display_data"
    },
    {
     "name": "stdout",
     "output_type": "stream",
     "text": [
      "[8.93429296411341e-06, 0.9999910593032837]\n"
     ]
    },
    {
     "data": {
      "text/html": [
       "<figcaption>./testimg/normal/20201109-101757_26YYa_0.jpg : Normal</figcaption>"
      ],
      "text/plain": [
       "<IPython.core.display.HTML object>"
      ]
     },
     "metadata": {},
     "output_type": "display_data"
    },
    {
     "name": "stdout",
     "output_type": "stream",
     "text": [
      "[0.0009671527659520507, 0.9990328550338745]\n"
     ]
    },
    {
     "data": {
      "text/html": [
       "<figcaption>./testimg/normal/20201109-101757_20YNa_1.jpg : Normal</figcaption>"
      ],
      "text/plain": [
       "<IPython.core.display.HTML object>"
      ]
     },
     "metadata": {},
     "output_type": "display_data"
    },
    {
     "name": "stdout",
     "output_type": "stream",
     "text": [
      "[0.09091578423976898, 0.9090842008590698]\n"
     ]
    },
    {
     "data": {
      "text/html": [
       "<figcaption>./testimg/normal/20201109-101947_15YYa_1.jpg : Normal</figcaption>"
      ],
      "text/plain": [
       "<IPython.core.display.HTML object>"
      ]
     },
     "metadata": {},
     "output_type": "display_data"
    },
    {
     "name": "stdout",
     "output_type": "stream",
     "text": [
      "[0.00042102308361791074, 0.9995790123939514]\n"
     ]
    },
    {
     "data": {
      "text/html": [
       "<figcaption>./testimg/normal/20201109-101857_24YYa_1.jpg : Normal</figcaption>"
      ],
      "text/plain": [
       "<IPython.core.display.HTML object>"
      ]
     },
     "metadata": {},
     "output_type": "display_data"
    },
    {
     "name": "stdout",
     "output_type": "stream",
     "text": [
      "[0.0010662550339475274, 0.998933732509613]\n"
     ]
    },
    {
     "data": {
      "text/html": [
       "<figcaption>./testimg/normal/20201109-101821_19YNa_1.jpg : Normal</figcaption>"
      ],
      "text/plain": [
       "<IPython.core.display.HTML object>"
      ]
     },
     "metadata": {},
     "output_type": "display_data"
    },
    {
     "name": "stdout",
     "output_type": "stream",
     "text": [
      "[0.0007594129419885576, 0.9992406368255615]\n"
     ]
    },
    {
     "data": {
      "text/html": [
       "<figcaption>./testimg/normal/20201109-101535_08YNa_1.jpg : Normal</figcaption>"
      ],
      "text/plain": [
       "<IPython.core.display.HTML object>"
      ]
     },
     "metadata": {},
     "output_type": "display_data"
    },
    {
     "name": "stdout",
     "output_type": "stream",
     "text": [
      "[0.12066803127527237, 0.8793319463729858]\n"
     ]
    },
    {
     "data": {
      "text/html": [
       "<figcaption>./testimg/normal/20201109-101630_01YYa_1.jpg : Normal</figcaption>"
      ],
      "text/plain": [
       "<IPython.core.display.HTML object>"
      ]
     },
     "metadata": {},
     "output_type": "display_data"
    },
    {
     "name": "stdout",
     "output_type": "stream",
     "text": [
      "[0.04784011095762253, 0.9521599411964417]\n"
     ]
    },
    {
     "data": {
      "text/html": [
       "<figcaption>./testimg/normal/20201109-101845_27YYa_1.jpg : Normal</figcaption>"
      ],
      "text/plain": [
       "<IPython.core.display.HTML object>"
      ]
     },
     "metadata": {},
     "output_type": "display_data"
    },
    {
     "name": "stdout",
     "output_type": "stream",
     "text": [
      "[0.0002512778155505657, 0.9997487664222717]\n"
     ]
    },
    {
     "data": {
      "text/html": [
       "<figcaption>./testimg/normal/20201109-101935_18YYa_1.jpg : Normal</figcaption>"
      ],
      "text/plain": [
       "<IPython.core.display.HTML object>"
      ]
     },
     "metadata": {},
     "output_type": "display_data"
    },
    {
     "name": "stdout",
     "output_type": "stream",
     "text": [
      "[0.001168149639852345, 0.9988318085670471]\n"
     ]
    },
    {
     "data": {
      "text/html": [
       "<figcaption>./testimg/normal/20201109-101947_25YYa_0.jpg : Normal</figcaption>"
      ],
      "text/plain": [
       "<IPython.core.display.HTML object>"
      ]
     },
     "metadata": {},
     "output_type": "display_data"
    },
    {
     "name": "stdout",
     "output_type": "stream",
     "text": [
      "[1.6535460645172861e-06, 0.9999983310699463]\n"
     ]
    },
    {
     "data": {
      "text/html": [
       "<figcaption>./testimg/normal/20201109-101602_12YYa_0.jpg : Normal</figcaption>"
      ],
      "text/plain": [
       "<IPython.core.display.HTML object>"
      ]
     },
     "metadata": {},
     "output_type": "display_data"
    },
    {
     "name": "stdout",
     "output_type": "stream",
     "text": [
      "[0.0002153040695702657, 0.9997847676277161]\n"
     ]
    },
    {
     "data": {
      "text/html": [
       "<figcaption>./testimg/normal/20201109-101743_07YNa_1.jpg : Normal</figcaption>"
      ],
      "text/plain": [
       "<IPython.core.display.HTML object>"
      ]
     },
     "metadata": {},
     "output_type": "display_data"
    },
    {
     "name": "stdout",
     "output_type": "stream",
     "text": [
      "[2.8293645300436765e-05, 0.9999717473983765]\n"
     ]
    },
    {
     "data": {
      "text/html": [
       "<figcaption>./testimg/normal/20201109-101757_08YYa_0.jpg : Normal</figcaption>"
      ],
      "text/plain": [
       "<IPython.core.display.HTML object>"
      ]
     },
     "metadata": {},
     "output_type": "display_data"
    },
    {
     "name": "stdout",
     "output_type": "stream",
     "text": [
      "[4.347126832726644e-06, 0.9999957084655762]\n"
     ]
    },
    {
     "data": {
      "text/html": [
       "<figcaption>./testimg/normal/20201109-101845_19YYa_0.jpg : Normal</figcaption>"
      ],
      "text/plain": [
       "<IPython.core.display.HTML object>"
      ]
     },
     "metadata": {},
     "output_type": "display_data"
    },
    {
     "name": "stdout",
     "output_type": "stream",
     "text": [
      "[0.00011245704808970913, 0.9998875856399536]\n"
     ]
    },
    {
     "data": {
      "text/html": [
       "<figcaption>./testimg/normal/20201109-101947_11YNa_0.jpg : Normal</figcaption>"
      ],
      "text/plain": [
       "<IPython.core.display.HTML object>"
      ]
     },
     "metadata": {},
     "output_type": "display_data"
    },
    {
     "name": "stdout",
     "output_type": "stream",
     "text": [
      "[0.0009379257098771632, 0.9990621209144592]\n"
     ]
    },
    {
     "data": {
      "text/html": [
       "<figcaption>./testimg/normal/20201109-101757_16YYa_1.jpg : Normal</figcaption>"
      ],
      "text/plain": [
       "<IPython.core.display.HTML object>"
      ]
     },
     "metadata": {},
     "output_type": "display_data"
    },
    {
     "name": "stdout",
     "output_type": "stream",
     "text": [
      "[0.007229669019579887, 0.992770254611969]\n"
     ]
    },
    {
     "data": {
      "text/html": [
       "<figcaption>./testimg/normal/20201109-101923_25YNa_1.jpg : Normal</figcaption>"
      ],
      "text/plain": [
       "<IPython.core.display.HTML object>"
      ]
     },
     "metadata": {},
     "output_type": "display_data"
    },
    {
     "name": "stdout",
     "output_type": "stream",
     "text": [
      "[7.660304254386574e-05, 0.9999233484268188]\n"
     ]
    },
    {
     "data": {
      "text/html": [
       "<figcaption>./testimg/normal/20201109-101808_05YNa_1.jpg : Normal</figcaption>"
      ],
      "text/plain": [
       "<IPython.core.display.HTML object>"
      ]
     },
     "metadata": {},
     "output_type": "display_data"
    },
    {
     "name": "stdout",
     "output_type": "stream",
     "text": [
      "[0.006076087709516287, 0.9939238429069519]\n"
     ]
    },
    {
     "data": {
      "text/html": [
       "<figcaption>./testimg/normal/20201109-101910_29YNa_1.jpg : Normal</figcaption>"
      ],
      "text/plain": [
       "<IPython.core.display.HTML object>"
      ]
     },
     "metadata": {},
     "output_type": "display_data"
    },
    {
     "name": "stdout",
     "output_type": "stream",
     "text": [
      "[0.0007431420963257551, 0.9992567896842957]\n"
     ]
    },
    {
     "data": {
      "text/html": [
       "<figcaption>./testimg/normal/20201109-101845_18YYa_1.jpg : Normal</figcaption>"
      ],
      "text/plain": [
       "<IPython.core.display.HTML object>"
      ]
     },
     "metadata": {},
     "output_type": "display_data"
    },
    {
     "name": "stdout",
     "output_type": "stream",
     "text": [
      "[0.001369599369354546, 0.9986304044723511]\n"
     ]
    },
    {
     "data": {
      "text/html": [
       "<figcaption>./testimg/normal/20201109-101757_21YNa_0.jpg : Normal</figcaption>"
      ],
      "text/plain": [
       "<IPython.core.display.HTML object>"
      ]
     },
     "metadata": {},
     "output_type": "display_data"
    },
    {
     "name": "stdout",
     "output_type": "stream",
     "text": [
      "[0.010326982475817204, 0.9896730184555054]\n"
     ]
    },
    {
     "data": {
      "text/html": [
       "<figcaption>./testimg/normal/20201109-101935_09YYa_1.jpg : Normal</figcaption>"
      ],
      "text/plain": [
       "<IPython.core.display.HTML object>"
      ]
     },
     "metadata": {},
     "output_type": "display_data"
    },
    {
     "name": "stdout",
     "output_type": "stream",
     "text": [
      "[3.630639912444167e-05, 0.999963641166687]\n"
     ]
    },
    {
     "data": {
      "text/html": [
       "<figcaption>./testimg/normal/20201109-101857_25YYa_0.jpg : Normal</figcaption>"
      ],
      "text/plain": [
       "<IPython.core.display.HTML object>"
      ]
     },
     "metadata": {},
     "output_type": "display_data"
    },
    {
     "name": "stdout",
     "output_type": "stream",
     "text": [
      "[0.001261254888959229, 0.998738706111908]\n"
     ]
    },
    {
     "data": {
      "text/html": [
       "<figcaption>./testimg/normal/20201109-101947_10YNa_1.jpg : Normal</figcaption>"
      ],
      "text/plain": [
       "<IPython.core.display.HTML object>"
      ]
     },
     "metadata": {},
     "output_type": "display_data"
    },
    {
     "name": "stdout",
     "output_type": "stream",
     "text": [
      "[7.156948413467035e-05, 0.9999284744262695]\n"
     ]
    },
    {
     "data": {
      "text/html": [
       "<figcaption>./testimg/normal/20201109-101655_29YYa_0.jpg : Normal</figcaption>"
      ],
      "text/plain": [
       "<IPython.core.display.HTML object>"
      ]
     },
     "metadata": {},
     "output_type": "display_data"
    },
    {
     "name": "stdout",
     "output_type": "stream",
     "text": [
      "[0.0009408918558619916, 0.9990591406822205]\n"
     ]
    },
    {
     "data": {
      "text/html": [
       "<figcaption>./testimg/normal/20201109-101616_27YNa_0.jpg : Normal</figcaption>"
      ],
      "text/plain": [
       "<IPython.core.display.HTML object>"
      ]
     },
     "metadata": {},
     "output_type": "display_data"
    },
    {
     "name": "stdout",
     "output_type": "stream",
     "text": [
      "[3.537355223670602e-05, 0.9999645948410034]\n"
     ]
    },
    {
     "data": {
      "text/html": [
       "<figcaption>./testimg/normal/20201109-101857_11YNa_0.jpg : Normal</figcaption>"
      ],
      "text/plain": [
       "<IPython.core.display.HTML object>"
      ]
     },
     "metadata": {},
     "output_type": "display_data"
    },
    {
     "name": "stdout",
     "output_type": "stream",
     "text": [
      "[0.0017295248107984662, 0.9982705116271973]\n"
     ]
    },
    {
     "data": {
      "text/html": [
       "<figcaption>./testimg/normal/20201109-101757_07YYa_1.jpg : Normal</figcaption>"
      ],
      "text/plain": [
       "<IPython.core.display.HTML object>"
      ]
     },
     "metadata": {},
     "output_type": "display_data"
    },
    {
     "name": "stdout",
     "output_type": "stream",
     "text": [
      "[0.00038878186023794115, 0.9996111989021301]\n"
     ]
    },
    {
     "data": {
      "text/html": [
       "<figcaption>./testimg/normal/20201109-101655_15YNa_0.jpg : Normal</figcaption>"
      ],
      "text/plain": [
       "<IPython.core.display.HTML object>"
      ]
     },
     "metadata": {},
     "output_type": "display_data"
    },
    {
     "name": "stdout",
     "output_type": "stream",
     "text": [
      "[0.0022444692440330982, 0.9977555871009827]\n"
     ]
    },
    {
     "data": {
      "text/html": [
       "<figcaption>./testimg/normal/20201109-101947_24YYa_1.jpg : Normal</figcaption>"
      ],
      "text/plain": [
       "<IPython.core.display.HTML object>"
      ]
     },
     "metadata": {},
     "output_type": "display_data"
    },
    {
     "name": "stdout",
     "output_type": "stream",
     "text": [
      "[6.301124085439369e-05, 0.9999369382858276]\n"
     ]
    },
    {
     "data": {
      "text/html": [
       "<figcaption>./testimg/normal/20201109-101935_23YNa_0.jpg : Normal</figcaption>"
      ],
      "text/plain": [
       "<IPython.core.display.HTML object>"
      ]
     },
     "metadata": {},
     "output_type": "display_data"
    },
    {
     "name": "stdout",
     "output_type": "stream",
     "text": [
      "[0.00036400571116246283, 0.9996359348297119]\n"
     ]
    },
    {
     "data": {
      "text/html": [
       "<figcaption>./testimg/normal/20201109-101642_18YNa_1.jpg : Normal</figcaption>"
      ],
      "text/plain": [
       "<IPython.core.display.HTML object>"
      ]
     },
     "metadata": {},
     "output_type": "display_data"
    },
    {
     "name": "stdout",
     "output_type": "stream",
     "text": [
      "[2.4464867237838916e-05, 0.9999755620956421]\n"
     ]
    },
    {
     "data": {
      "text/html": [
       "<figcaption>./testimg/normal/20201109-101808_06YNa_0.jpg : Normal</figcaption>"
      ],
      "text/plain": [
       "<IPython.core.display.HTML object>"
      ]
     },
     "metadata": {},
     "output_type": "display_data"
    },
    {
     "name": "stdout",
     "output_type": "stream",
     "text": [
      "[0.04194876179099083, 0.9580512046813965]\n"
     ]
    },
    {
     "data": {
      "text/html": [
       "<figcaption>./testimg/normal/20201109-101616_17YNa_1.jpg : Normal</figcaption>"
      ],
      "text/plain": [
       "<IPython.core.display.HTML object>"
      ]
     },
     "metadata": {},
     "output_type": "display_data"
    },
    {
     "name": "stdout",
     "output_type": "stream",
     "text": [
      "[0.023004623129963875, 0.9769953489303589]\n"
     ]
    },
    {
     "data": {
      "text/html": [
       "<figcaption>./testimg/normal/20201109-101935_27YYa_1.jpg : Normal</figcaption>"
      ],
      "text/plain": [
       "<IPython.core.display.HTML object>"
      ]
     },
     "metadata": {},
     "output_type": "display_data"
    },
    {
     "name": "stdout",
     "output_type": "stream",
     "text": [
      "[6.280739034991711e-05, 0.9999371767044067]\n"
     ]
    },
    {
     "data": {
      "text/html": [
       "<figcaption>./testimg/normal/20201109-101535_17YNa_1.jpg : Normal</figcaption>"
      ],
      "text/plain": [
       "<IPython.core.display.HTML object>"
      ]
     },
     "metadata": {},
     "output_type": "display_data"
    },
    {
     "name": "stdout",
     "output_type": "stream",
     "text": [
      "[1.4649255717813503e-05, 0.9999853372573853]\n"
     ]
    },
    {
     "data": {
      "text/html": [
       "<figcaption>./testimg/normal/20201109-101923_26YNa_0.jpg : Normal</figcaption>"
      ],
      "text/plain": [
       "<IPython.core.display.HTML object>"
      ]
     },
     "metadata": {},
     "output_type": "display_data"
    },
    {
     "name": "stdout",
     "output_type": "stream",
     "text": [
      "[0.00017506068979855627, 0.9998249411582947]\n"
     ]
    },
    {
     "data": {
      "text/html": [
       "<figcaption>./testimg/normal/20201109-101630_10YYa_1.jpg : Normal</figcaption>"
      ],
      "text/plain": [
       "<IPython.core.display.HTML object>"
      ]
     },
     "metadata": {},
     "output_type": "display_data"
    },
    {
     "name": "stdout",
     "output_type": "stream",
     "text": [
      "[0.0001151685937657021, 0.999884843826294]\n"
     ]
    },
    {
     "data": {
      "text/html": [
       "<figcaption>./testimg/normal/20201109-101947_06YYa_1.jpg : Normal</figcaption>"
      ],
      "text/plain": [
       "<IPython.core.display.HTML object>"
      ]
     },
     "metadata": {},
     "output_type": "display_data"
    },
    {
     "name": "stdout",
     "output_type": "stream",
     "text": [
      "[0.07297733426094055, 0.9270226955413818]\n"
     ]
    },
    {
     "data": {
      "text/html": [
       "<figcaption>./testimg/normal/20201109-101857_15YYa_1.jpg : Normal</figcaption>"
      ],
      "text/plain": [
       "<IPython.core.display.HTML object>"
      ]
     },
     "metadata": {},
     "output_type": "display_data"
    },
    {
     "name": "stdout",
     "output_type": "stream",
     "text": [
      "[0.0002692516427487135, 0.9997307658195496]\n"
     ]
    },
    {
     "data": {
      "text/html": [
       "<figcaption>./testimg/normal/20201109-101833_07YNa_1.jpg : Normal</figcaption>"
      ],
      "text/plain": [
       "<IPython.core.display.HTML object>"
      ]
     },
     "metadata": {},
     "output_type": "display_data"
    },
    {
     "name": "stdout",
     "output_type": "stream",
     "text": [
      "[0.00505627878010273, 0.9949436783790588]\n"
     ]
    },
    {
     "data": {
      "text/html": [
       "<figcaption>./testimg/normal/20201109-101655_19YYa_1.jpg : Normal</figcaption>"
      ],
      "text/plain": [
       "<IPython.core.display.HTML object>"
      ]
     },
     "metadata": {},
     "output_type": "display_data"
    },
    {
     "name": "stdout",
     "output_type": "stream",
     "text": [
      "[0.05088850483298302, 0.9491114616394043]\n"
     ]
    },
    {
     "data": {
      "text/html": [
       "<figcaption>./testimg/normal/20201109-101757_25YYa_1.jpg : Normal</figcaption>"
      ],
      "text/plain": [
       "<IPython.core.display.HTML object>"
      ]
     },
     "metadata": {},
     "output_type": "display_data"
    },
    {
     "name": "stdout",
     "output_type": "stream",
     "text": [
      "[0.00017617845151107758, 0.9998238682746887]\n"
     ]
    },
    {
     "data": {
      "text/html": [
       "<figcaption>./testimg/normal/20201109-101630_02YYa_0.jpg : Normal</figcaption>"
      ],
      "text/plain": [
       "<IPython.core.display.HTML object>"
      ]
     },
     "metadata": {},
     "output_type": "display_data"
    },
    {
     "name": "stdout",
     "output_type": "stream",
     "text": [
      "[2.5271843696828e-05, 0.9999747276306152]\n"
     ]
    },
    {
     "data": {
      "text/html": [
       "<figcaption>./testimg/normal/20201109-101535_09YNa_0.jpg : Normal</figcaption>"
      ],
      "text/plain": [
       "<IPython.core.display.HTML object>"
      ]
     },
     "metadata": {},
     "output_type": "display_data"
    },
    {
     "name": "stdout",
     "output_type": "stream",
     "text": [
      "[0.00013179190864320844, 0.9998681545257568]\n"
     ]
    },
    {
     "data": {
      "text/html": [
       "<figcaption>./testimg/normal/20201109-101845_28YYa_0.jpg : Normal</figcaption>"
      ],
      "text/plain": [
       "<IPython.core.display.HTML object>"
      ]
     },
     "metadata": {},
     "output_type": "display_data"
    },
    {
     "name": "stdout",
     "output_type": "stream",
     "text": [
      "[0.00045111728832125664, 0.9995488524436951]\n"
     ]
    },
    {
     "data": {
      "text/html": [
       "<figcaption>./testimg/normal/20201109-101743_08YNa_0.jpg : Normal</figcaption>"
      ],
      "text/plain": [
       "<IPython.core.display.HTML object>"
      ]
     },
     "metadata": {},
     "output_type": "display_data"
    },
    {
     "name": "stdout",
     "output_type": "stream",
     "text": [
      "[0.0005004340782761574, 0.9994995594024658]\n"
     ]
    },
    {
     "data": {
      "text/html": [
       "<figcaption>./testimg/normal/20201109-101910_10YYa_0.jpg : Normal</figcaption>"
      ],
      "text/plain": [
       "<IPython.core.display.HTML object>"
      ]
     },
     "metadata": {},
     "output_type": "display_data"
    },
    {
     "name": "stdout",
     "output_type": "stream",
     "text": [
      "[0.00022913892462383956, 0.9997708201408386]\n"
     ]
    },
    {
     "data": {
      "text/html": [
       "<figcaption>./testimg/normal/20201109-101642_29YYa_0.jpg : Normal</figcaption>"
      ],
      "text/plain": [
       "<IPython.core.display.HTML object>"
      ]
     },
     "metadata": {},
     "output_type": "display_data"
    },
    {
     "name": "stdout",
     "output_type": "stream",
     "text": [
      "[0.0009034115355461836, 0.9990966320037842]\n"
     ]
    },
    {
     "data": {
      "text/html": [
       "<figcaption>./testimg/normal/20201109-101706_19YYa_0.jpg : Normal</figcaption>"
      ],
      "text/plain": [
       "<IPython.core.display.HTML object>"
      ]
     },
     "metadata": {},
     "output_type": "display_data"
    },
    {
     "name": "stdout",
     "output_type": "stream",
     "text": [
      "[5.418135515355971e-06, 0.9999946355819702]\n"
     ]
    },
    {
     "data": {
      "text/html": [
       "<figcaption>./testimg/normal/20201109-101616_28YYa_0.jpg : Normal</figcaption>"
      ],
      "text/plain": [
       "<IPython.core.display.HTML object>"
      ]
     },
     "metadata": {},
     "output_type": "display_data"
    },
    {
     "name": "stdout",
     "output_type": "stream",
     "text": [
      "[0.00019996979972347617, 0.9998000264167786]\n"
     ]
    },
    {
     "data": {
      "text/html": [
       "<figcaption>./testimg/normal/20201109-101706_13YNa_1.jpg : Normal</figcaption>"
      ],
      "text/plain": [
       "<IPython.core.display.HTML object>"
      ]
     },
     "metadata": {},
     "output_type": "display_data"
    },
    {
     "name": "stdout",
     "output_type": "stream",
     "text": [
      "[0.000668082560878247, 0.9993318915367126]\n"
     ]
    },
    {
     "data": {
      "text/html": [
       "<figcaption>./testimg/normal/20201109-101535_28YYa_0.jpg : Normal</figcaption>"
      ],
      "text/plain": [
       "<IPython.core.display.HTML object>"
      ]
     },
     "metadata": {},
     "output_type": "display_data"
    },
    {
     "name": "stdout",
     "output_type": "stream",
     "text": [
      "[0.0319317951798439, 0.9680681824684143]\n"
     ]
    },
    {
     "data": {
      "text/html": [
       "<figcaption>./testimg/normal/20201109-101616_22YNa_1.jpg : Normal</figcaption>"
      ],
      "text/plain": [
       "<IPython.core.display.HTML object>"
      ]
     },
     "metadata": {},
     "output_type": "display_data"
    },
    {
     "name": "stdout",
     "output_type": "stream",
     "text": [
      "[0.0004696636460721493, 0.9995303153991699]\n"
     ]
    },
    {
     "data": {
      "text/html": [
       "<figcaption>./testimg/normal/20201109-101716_26YYa_1.jpg : Normal</figcaption>"
      ],
      "text/plain": [
       "<IPython.core.display.HTML object>"
      ]
     },
     "metadata": {},
     "output_type": "display_data"
    },
    {
     "name": "stdout",
     "output_type": "stream",
     "text": [
      "[0.011562072671949863, 0.9884379506111145]\n"
     ]
    },
    {
     "data": {
      "text/html": [
       "<figcaption>./testimg/normal/20201109-101743_21YNa_1.jpg : Normal</figcaption>"
      ],
      "text/plain": [
       "<IPython.core.display.HTML object>"
      ]
     },
     "metadata": {},
     "output_type": "display_data"
    },
    {
     "name": "stdout",
     "output_type": "stream",
     "text": [
      "[0.01312085147947073, 0.9868791699409485]\n"
     ]
    },
    {
     "data": {
      "text/html": [
       "<figcaption>./testimg/normal/20201109-101655_24YYa_1.jpg : Normal</figcaption>"
      ],
      "text/plain": [
       "<IPython.core.display.HTML object>"
      ]
     },
     "metadata": {},
     "output_type": "display_data"
    },
    {
     "name": "stdout",
     "output_type": "stream",
     "text": [
      "[0.00022422304027713835, 0.9997758269309998]\n"
     ]
    },
    {
     "data": {
      "text/html": [
       "<figcaption>./testimg/normal/20201109-101923_09YYa_0.jpg : Normal</figcaption>"
      ],
      "text/plain": [
       "<IPython.core.display.HTML object>"
      ]
     },
     "metadata": {},
     "output_type": "display_data"
    },
    {
     "name": "stdout",
     "output_type": "stream",
     "text": [
      "[0.003777668345719576, 0.9962222576141357]\n"
     ]
    },
    {
     "data": {
      "text/html": [
       "<figcaption>./testimg/normal/20201109-101743_27YYa_0.jpg : Normal</figcaption>"
      ],
      "text/plain": [
       "<IPython.core.display.HTML object>"
      ]
     },
     "metadata": {},
     "output_type": "display_data"
    },
    {
     "name": "stdout",
     "output_type": "stream",
     "text": [
      "[0.003428909694775939, 0.9965710639953613]\n"
     ]
    },
    {
     "data": {
      "text/html": [
       "<figcaption>./testimg/normal/20201109-101857_20YYa_1.jpg : Normal</figcaption>"
      ],
      "text/plain": [
       "<IPython.core.display.HTML object>"
      ]
     },
     "metadata": {},
     "output_type": "display_data"
    },
    {
     "name": "stdout",
     "output_type": "stream",
     "text": [
      "[4.067394183948636e-05, 0.9999593496322632]\n"
     ]
    },
    {
     "data": {
      "text/html": [
       "<figcaption>./testimg/normal/20201109-101833_18YYa_0.jpg : Normal</figcaption>"
      ],
      "text/plain": [
       "<IPython.core.display.HTML object>"
      ]
     },
     "metadata": {},
     "output_type": "display_data"
    },
    {
     "name": "stdout",
     "output_type": "stream",
     "text": [
      "[3.8951944588916376e-05, 0.9999610185623169]\n"
     ]
    },
    {
     "data": {
      "text/html": [
       "<figcaption>./testimg/normal/20201109-101642_15YNa_0.jpg : Normal</figcaption>"
      ],
      "text/plain": [
       "<IPython.core.display.HTML object>"
      ]
     },
     "metadata": {},
     "output_type": "display_data"
    },
    {
     "name": "stdout",
     "output_type": "stream",
     "text": [
      "[0.0005808761925436556, 0.999419093132019]\n"
     ]
    },
    {
     "data": {
      "text/html": [
       "<figcaption>./testimg/normal/20201109-101923_17YYa_1.jpg : Normal</figcaption>"
      ],
      "text/plain": [
       "<IPython.core.display.HTML object>"
      ]
     },
     "metadata": {},
     "output_type": "display_data"
    },
    {
     "name": "stdout",
     "output_type": "stream",
     "text": [
      "[2.0689176380983554e-05, 0.9999792575836182]\n"
     ]
    },
    {
     "data": {
      "text/html": [
       "<figcaption>./testimg/normal/20201109-101616_14YNa_0.jpg : Normal</figcaption>"
      ],
      "text/plain": [
       "<IPython.core.display.HTML object>"
      ]
     },
     "metadata": {},
     "output_type": "display_data"
    },
    {
     "name": "stdout",
     "output_type": "stream",
     "text": [
      "[2.431550683468231e-06, 0.999997615814209]\n"
     ]
    },
    {
     "data": {
      "text/html": [
       "<figcaption>./testimg/normal/20201109-101935_24YYa_0.jpg : Normal</figcaption>"
      ],
      "text/plain": [
       "<IPython.core.display.HTML object>"
      ]
     },
     "metadata": {},
     "output_type": "display_data"
    },
    {
     "name": "stdout",
     "output_type": "stream",
     "text": [
      "[3.478051439742558e-05, 0.9999651908874512]\n"
     ]
    },
    {
     "data": {
      "text/html": [
       "<figcaption>./testimg/normal/20201109-101535_14YNa_0.jpg : Normal</figcaption>"
      ],
      "text/plain": [
       "<IPython.core.display.HTML object>"
      ]
     },
     "metadata": {},
     "output_type": "display_data"
    },
    {
     "name": "stdout",
     "output_type": "stream",
     "text": [
      "[2.954672936539282e-06, 0.9999970197677612]\n"
     ]
    },
    {
     "data": {
      "text/html": [
       "<figcaption>./testimg/normal/20201109-101602_19YNa_0.jpg : Normal</figcaption>"
      ],
      "text/plain": [
       "<IPython.core.display.HTML object>"
      ]
     },
     "metadata": {},
     "output_type": "display_data"
    },
    {
     "name": "stdout",
     "output_type": "stream",
     "text": [
      "[0.255667120218277, 0.7443329095840454]\n"
     ]
    },
    {
     "data": {
      "text/html": [
       "<figcaption>./testimg/normal/20201109-101910_16YNa_1.jpg : Normal</figcaption>"
      ],
      "text/plain": [
       "<IPython.core.display.HTML object>"
      ]
     },
     "metadata": {},
     "output_type": "display_data"
    },
    {
     "name": "stdout",
     "output_type": "stream",
     "text": [
      "[0.0008540387498214841, 0.9991459846496582]\n"
     ]
    },
    {
     "data": {
      "text/html": [
       "<figcaption>./testimg/normal/20201109-101845_05YYa_1.jpg : Normal</figcaption>"
      ],
      "text/plain": [
       "<IPython.core.display.HTML object>"
      ]
     },
     "metadata": {},
     "output_type": "display_data"
    },
    {
     "name": "stdout",
     "output_type": "stream",
     "text": [
      "[9.391483035869896e-05, 0.999906063079834]\n"
     ]
    },
    {
     "data": {
      "text/html": [
       "<figcaption>./testimg/normal/20201109-101706_27YYa_1.jpg : Normal</figcaption>"
      ],
      "text/plain": [
       "<IPython.core.display.HTML object>"
      ]
     },
     "metadata": {},
     "output_type": "display_data"
    },
    {
     "name": "stdout",
     "output_type": "stream",
     "text": [
      "[4.387215426504554e-07, 0.9999995231628418]\n"
     ]
    },
    {
     "data": {
      "text/html": [
       "<figcaption>./testimg/normal/20201109-101857_12YYa_0.jpg : Normal</figcaption>"
      ],
      "text/plain": [
       "<IPython.core.display.HTML object>"
      ]
     },
     "metadata": {},
     "output_type": "display_data"
    },
    {
     "name": "stdout",
     "output_type": "stream",
     "text": [
      "[5.262080594548024e-05, 0.9999474287033081]\n"
     ]
    },
    {
     "data": {
      "text/html": [
       "<figcaption>./testimg/normal/20201109-101808_25YYa_0.jpg : Normal</figcaption>"
      ],
      "text/plain": [
       "<IPython.core.display.HTML object>"
      ]
     },
     "metadata": {},
     "output_type": "display_data"
    },
    {
     "name": "stdout",
     "output_type": "stream",
     "text": [
      "[0.00010049239790532738, 0.9998995065689087]\n"
     ]
    },
    {
     "data": {
      "text/html": [
       "<figcaption>./testimg/normal/20201109-101947_03YYa_0.jpg : Normal</figcaption>"
      ],
      "text/plain": [
       "<IPython.core.display.HTML object>"
      ]
     },
     "metadata": {},
     "output_type": "display_data"
    },
    {
     "name": "stdout",
     "output_type": "stream",
     "text": [
      "[0.00014776263560634106, 0.999852180480957]\n"
     ]
    },
    {
     "data": {
      "text/html": [
       "<figcaption>./testimg/normal/20201109-101833_04YNa_0.jpg : Normal</figcaption>"
      ],
      "text/plain": [
       "<IPython.core.display.HTML object>"
      ]
     },
     "metadata": {},
     "output_type": "display_data"
    },
    {
     "name": "stdout",
     "output_type": "stream",
     "text": [
      "[0.0006567983655259013, 0.99934321641922]\n"
     ]
    },
    {
     "data": {
      "text/html": [
       "<figcaption>./testimg/normal/20201109-101731_06YNa_1.jpg : Normal</figcaption>"
      ],
      "text/plain": [
       "<IPython.core.display.HTML object>"
      ]
     },
     "metadata": {},
     "output_type": "display_data"
    },
    {
     "name": "stdout",
     "output_type": "stream",
     "text": [
      "[0.0001238149852724746, 0.9998761415481567]\n"
     ]
    },
    {
     "data": {
      "text/html": [
       "<figcaption>./testimg/normal/20201109-101935_06YYa_0.jpg : Normal</figcaption>"
      ],
      "text/plain": [
       "<IPython.core.display.HTML object>"
      ]
     },
     "metadata": {},
     "output_type": "display_data"
    },
    {
     "name": "stdout",
     "output_type": "stream",
     "text": [
      "[1.9689368855324574e-05, 0.9999803304672241]\n"
     ]
    },
    {
     "data": {
      "text/html": [
       "<figcaption>./testimg/normal/20201109-101845_15YYa_0.jpg : Normal</figcaption>"
      ],
      "text/plain": [
       "<IPython.core.display.HTML object>"
      ]
     },
     "metadata": {},
     "output_type": "display_data"
    },
    {
     "name": "stdout",
     "output_type": "stream",
     "text": [
      "[0.47309958934783936, 0.5269004106521606]\n"
     ]
    },
    {
     "data": {
      "text/html": [
       "<figcaption>./testimg/normal/20201109-101743_17YYa_1.jpg : Normal</figcaption>"
      ],
      "text/plain": [
       "<IPython.core.display.HTML object>"
      ]
     },
     "metadata": {},
     "output_type": "display_data"
    },
    {
     "name": "stdout",
     "output_type": "stream",
     "text": [
      "[0.012942798435688019, 0.9870571494102478]\n"
     ]
    },
    {
     "data": {
      "text/html": [
       "<figcaption>./testimg/normal/20201109-101757_12YYa_1.jpg : Normal</figcaption>"
      ],
      "text/plain": [
       "<IPython.core.display.HTML object>"
      ]
     },
     "metadata": {},
     "output_type": "display_data"
    },
    {
     "name": "stdout",
     "output_type": "stream",
     "text": [
      "[7.391784038190963e-06, 0.9999926090240479]\n"
     ]
    },
    {
     "data": {
      "text/html": [
       "<figcaption>./testimg/normal/20201109-101821_07YNa_0.jpg : Normal</figcaption>"
      ],
      "text/plain": [
       "<IPython.core.display.HTML object>"
      ]
     },
     "metadata": {},
     "output_type": "display_data"
    },
    {
     "name": "stdout",
     "output_type": "stream",
     "text": [
      "[0.00010225966980215162, 0.9998977184295654]\n"
     ]
    },
    {
     "data": {
      "text/html": [
       "<figcaption>./testimg/normal/20201109-101808_07YYa_0.jpg : Normal</figcaption>"
      ],
      "text/plain": [
       "<IPython.core.display.HTML object>"
      ]
     },
     "metadata": {},
     "output_type": "display_data"
    },
    {
     "name": "stdout",
     "output_type": "stream",
     "text": [
      "[0.0006387440953403711, 0.9993612170219421]\n"
     ]
    },
    {
     "data": {
      "text/html": [
       "<figcaption>./testimg/normal/20201109-101923_21YNa_1.jpg : Normal</figcaption>"
      ],
      "text/plain": [
       "<IPython.core.display.HTML object>"
      ]
     },
     "metadata": {},
     "output_type": "display_data"
    },
    {
     "name": "stdout",
     "output_type": "stream",
     "text": [
      "[0.0003939938032999635, 0.9996060729026794]\n"
     ]
    },
    {
     "data": {
      "text/html": [
       "<figcaption>./testimg/normal/20201109-101716_22YNa_0.jpg : Normal</figcaption>"
      ],
      "text/plain": [
       "<IPython.core.display.HTML object>"
      ]
     },
     "metadata": {},
     "output_type": "display_data"
    },
    {
     "name": "stdout",
     "output_type": "stream",
     "text": [
      "[0.0008610454387962818, 0.9991389513015747]\n"
     ]
    },
    {
     "data": {
      "text/html": [
       "<figcaption>./testimg/normal/20201109-101821_29YYa_1.jpg : Normal</figcaption>"
      ],
      "text/plain": [
       "<IPython.core.display.HTML object>"
      ]
     },
     "metadata": {},
     "output_type": "display_data"
    },
    {
     "name": "stdout",
     "output_type": "stream",
     "text": [
      "[7.44020362617448e-05, 0.9999256134033203]\n"
     ]
    },
    {
     "data": {
      "text/html": [
       "<figcaption>./testimg/normal/20201109-101808_01YNa_1.jpg : Normal</figcaption>"
      ],
      "text/plain": [
       "<IPython.core.display.HTML object>"
      ]
     },
     "metadata": {},
     "output_type": "display_data"
    },
    {
     "name": "stdout",
     "output_type": "stream",
     "text": [
      "[0.0071890451945364475, 0.9928109049797058]\n"
     ]
    },
    {
     "data": {
      "text/html": [
       "<figcaption>./testimg/normal/20201109-101655_06YYa_1.jpg : Normal</figcaption>"
      ],
      "text/plain": [
       "<IPython.core.display.HTML object>"
      ]
     },
     "metadata": {},
     "output_type": "display_data"
    },
    {
     "name": "stdout",
     "output_type": "stream",
     "text": [
      "[0.0008729691617190838, 0.9991270899772644]\n"
     ]
    },
    {
     "data": {
      "text/html": [
       "<figcaption>./testimg/normal/20201109-101630_26YNa_1.jpg : Normal</figcaption>"
      ],
      "text/plain": [
       "<IPython.core.display.HTML object>"
      ]
     },
     "metadata": {},
     "output_type": "display_data"
    },
    {
     "name": "stdout",
     "output_type": "stream",
     "text": [
      "[8.083980355877429e-05, 0.9999191761016846]\n"
     ]
    },
    {
     "data": {
      "text/html": [
       "<figcaption>./testimg/normal/20201109-101757_04YYa_0.jpg : Normal</figcaption>"
      ],
      "text/plain": [
       "<IPython.core.display.HTML object>"
      ]
     },
     "metadata": {},
     "output_type": "display_data"
    },
    {
     "name": "stdout",
     "output_type": "stream",
     "text": [
      "[0.0004860777116846293, 0.9995139837265015]\n"
     ]
    },
    {
     "data": {
      "text/html": [
       "<figcaption>./testimg/normal/20201109-101743_03YNa_1.jpg : Normal</figcaption>"
      ],
      "text/plain": [
       "<IPython.core.display.HTML object>"
      ]
     },
     "metadata": {},
     "output_type": "display_data"
    },
    {
     "name": "stdout",
     "output_type": "stream",
     "text": [
      "[9.510035306448117e-05, 0.9999048709869385]\n"
     ]
    },
    {
     "data": {
      "text/html": [
       "<figcaption>./testimg/normal/20201109-101857_02YYa_1.jpg : Normal</figcaption>"
      ],
      "text/plain": [
       "<IPython.core.display.HTML object>"
      ]
     },
     "metadata": {},
     "output_type": "display_data"
    },
    {
     "name": "stdout",
     "output_type": "stream",
     "text": [
      "[4.739359792438336e-05, 0.9999525547027588]\n"
     ]
    },
    {
     "data": {
      "text/html": [
       "<figcaption>./testimg/normal/20201109-101947_21YYa_0.jpg : Normal</figcaption>"
      ],
      "text/plain": [
       "<IPython.core.display.HTML object>"
      ]
     },
     "metadata": {},
     "output_type": "display_data"
    },
    {
     "name": "stdout",
     "output_type": "stream",
     "text": [
      "[0.006874548736959696, 0.9931254386901855]\n"
     ]
    },
    {
     "data": {
      "text/html": [
       "<figcaption>./testimg/normal/20201109-101935_14YYa_1.jpg : Normal</figcaption>"
      ],
      "text/plain": [
       "<IPython.core.display.HTML object>"
      ]
     },
     "metadata": {},
     "output_type": "display_data"
    },
    {
     "name": "stdout",
     "output_type": "stream",
     "text": [
      "[9.223496817867272e-06, 0.9999908208847046]\n"
     ]
    },
    {
     "data": {
      "text/html": [
       "<figcaption>./testimg/normal/20201109-101808_20YNa_0.jpg : Normal</figcaption>"
      ],
      "text/plain": [
       "<IPython.core.display.HTML object>"
      ]
     },
     "metadata": {},
     "output_type": "display_data"
    },
    {
     "name": "stdout",
     "output_type": "stream",
     "text": [
      "[0.04172247275710106, 0.9582775235176086]\n"
     ]
    },
    {
     "data": {
      "text/html": [
       "<figcaption>./testimg/normal/20201109-101757_03YYa_1.jpg : Normal</figcaption>"
      ],
      "text/plain": [
       "<IPython.core.display.HTML object>"
      ]
     },
     "metadata": {},
     "output_type": "display_data"
    },
    {
     "name": "stdout",
     "output_type": "stream",
     "text": [
      "[0.00010976230987580493, 0.9998902082443237]\n"
     ]
    },
    {
     "data": {
      "text/html": [
       "<figcaption>./testimg/normal/20201109-101731_07YNa_0.jpg : Normal</figcaption>"
      ],
      "text/plain": [
       "<IPython.core.display.HTML object>"
      ]
     },
     "metadata": {},
     "output_type": "display_data"
    },
    {
     "name": "stdout",
     "output_type": "stream",
     "text": [
      "[4.548523065750487e-05, 0.9999544620513916]\n"
     ]
    },
    {
     "data": {
      "text/html": [
       "<figcaption>./testimg/normal/20201109-101910_17YNa_0.jpg : Normal</figcaption>"
      ],
      "text/plain": [
       "<IPython.core.display.HTML object>"
      ]
     },
     "metadata": {},
     "output_type": "display_data"
    },
    {
     "name": "stdout",
     "output_type": "stream",
     "text": [
      "[6.644991663051769e-05, 0.9999336004257202]\n"
     ]
    },
    {
     "data": {
      "text/html": [
       "<figcaption>./testimg/normal/20201109-101845_06YYa_0.jpg : Normal</figcaption>"
      ],
      "text/plain": [
       "<IPython.core.display.HTML object>"
      ]
     },
     "metadata": {},
     "output_type": "display_data"
    },
    {
     "name": "stdout",
     "output_type": "stream",
     "text": [
      "[2.5836490749497898e-05, 0.9999741315841675]\n"
     ]
    },
    {
     "data": {
      "text/html": [
       "<figcaption>./testimg/normal/20201109-101706_28YYa_0.jpg : Normal</figcaption>"
      ],
      "text/plain": [
       "<IPython.core.display.HTML object>"
      ]
     },
     "metadata": {},
     "output_type": "display_data"
    },
    {
     "name": "stdout",
     "output_type": "stream",
     "text": [
      "[0.007165596820414066, 0.9928344488143921]\n"
     ]
    },
    {
     "data": {
      "text/html": [
       "<figcaption>./testimg/normal/20201109-101731_29YYa_1.jpg : Normal</figcaption>"
      ],
      "text/plain": [
       "<IPython.core.display.HTML object>"
      ]
     },
     "metadata": {},
     "output_type": "display_data"
    },
    {
     "name": "stdout",
     "output_type": "stream",
     "text": [
      "[0.00768220005556941, 0.992317795753479]\n"
     ]
    },
    {
     "data": {
      "text/html": [
       "<figcaption>./testimg/normal/20201109-101947_20YYa_1.jpg : Normal</figcaption>"
      ],
      "text/plain": [
       "<IPython.core.display.HTML object>"
      ]
     },
     "metadata": {},
     "output_type": "display_data"
    },
    {
     "name": "stdout",
     "output_type": "stream",
     "text": [
      "[0.0001889719715109095, 0.9998109936714172]\n"
     ]
    },
    {
     "data": {
      "text/html": [
       "<figcaption>./testimg/normal/20201109-101923_18YYa_0.jpg : Normal</figcaption>"
      ],
      "text/plain": [
       "<IPython.core.display.HTML object>"
      ]
     },
     "metadata": {},
     "output_type": "display_data"
    },
    {
     "name": "stdout",
     "output_type": "stream",
     "text": [
      "[0.0014236437855288386, 0.9985764026641846]\n"
     ]
    },
    {
     "data": {
      "text/html": [
       "<figcaption>./testimg/normal/20201109-101833_27YYa_0.jpg : Normal</figcaption>"
      ],
      "text/plain": [
       "<IPython.core.display.HTML object>"
      ]
     },
     "metadata": {},
     "output_type": "display_data"
    },
    {
     "name": "stdout",
     "output_type": "stream",
     "text": [
      "[0.002484256401658058, 0.9975157976150513]\n"
     ]
    },
    {
     "data": {
      "text/html": [
       "<figcaption>./testimg/normal/20201109-101923_12YNa_1.jpg : Normal</figcaption>"
      ],
      "text/plain": [
       "<IPython.core.display.HTML object>"
      ]
     },
     "metadata": {},
     "output_type": "display_data"
    },
    {
     "name": "stdout",
     "output_type": "stream",
     "text": [
      "[0.0009352244669571519, 0.9990647435188293]\n"
     ]
    },
    {
     "data": {
      "text/html": [
       "<figcaption>./testimg/normal/20201109-101716_21YNa_1.jpg : Normal</figcaption>"
      ],
      "text/plain": [
       "<IPython.core.display.HTML object>"
      ]
     },
     "metadata": {},
     "output_type": "display_data"
    },
    {
     "name": "stdout",
     "output_type": "stream",
     "text": [
      "[7.285558967851102e-05, 0.9999271631240845]\n"
     ]
    },
    {
     "data": {
      "text/html": [
       "<figcaption>./testimg/normal/20201109-101535_23YNa_0.jpg : Normal</figcaption>"
      ],
      "text/plain": [
       "<IPython.core.display.HTML object>"
      ]
     },
     "metadata": {},
     "output_type": "display_data"
    },
    {
     "name": "stdout",
     "output_type": "stream",
     "text": [
      "[4.846214869758114e-05, 0.9999514818191528]\n"
     ]
    },
    {
     "data": {
      "text/html": [
       "<figcaption>./testimg/normal/20201109-101716_27YYa_0.jpg : Normal</figcaption>"
      ],
      "text/plain": [
       "<IPython.core.display.HTML object>"
      ]
     },
     "metadata": {},
     "output_type": "display_data"
    },
    {
     "name": "stdout",
     "output_type": "stream",
     "text": [
      "[1.9993645764770918e-05, 0.9999799728393555]\n"
     ]
    },
    {
     "data": {
      "text/html": [
       "<figcaption>./testimg/normal/20201109-101706_14YNa_0.jpg : Normal</figcaption>"
      ],
      "text/plain": [
       "<IPython.core.display.HTML object>"
      ]
     },
     "metadata": {},
     "output_type": "display_data"
    },
    {
     "name": "stdout",
     "output_type": "stream",
     "text": [
      "[0.0006183688528835773, 0.9993816614151001]\n"
     ]
    },
    {
     "data": {
      "text/html": [
       "<figcaption>./testimg/normal/20201109-101821_06YNa_1.jpg : Normal</figcaption>"
      ],
      "text/plain": [
       "<IPython.core.display.HTML object>"
      ]
     },
     "metadata": {},
     "output_type": "display_data"
    },
    {
     "name": "stdout",
     "output_type": "stream",
     "text": [
      "[0.00028683574055321515, 0.999713122844696]\n"
     ]
    },
    {
     "data": {
      "text/html": [
       "<figcaption>./testimg/normal/20201109-101935_05YYa_1.jpg : Normal</figcaption>"
      ],
      "text/plain": [
       "<IPython.core.display.HTML object>"
      ]
     },
     "metadata": {},
     "output_type": "display_data"
    },
    {
     "name": "stdout",
     "output_type": "stream",
     "text": [
      "[2.2505932975036558e-06, 0.9999977350234985]\n"
     ]
    },
    {
     "data": {
      "text/html": [
       "<figcaption>./testimg/normal/20201109-101935_15YYa_0.jpg : Normal</figcaption>"
      ],
      "text/plain": [
       "<IPython.core.display.HTML object>"
      ]
     },
     "metadata": {},
     "output_type": "display_data"
    },
    {
     "name": "stdout",
     "output_type": "stream",
     "text": [
      "[5.7596480473876e-05, 0.999942421913147]\n"
     ]
    },
    {
     "data": {
      "text/html": [
       "<figcaption>./testimg/normal/20201109-101845_24YYa_0.jpg : Normal</figcaption>"
      ],
      "text/plain": [
       "<IPython.core.display.HTML object>"
      ]
     },
     "metadata": {},
     "output_type": "display_data"
    },
    {
     "name": "stdout",
     "output_type": "stream",
     "text": [
      "[0.0032580983825027943, 0.9967419505119324]\n"
     ]
    },
    {
     "data": {
      "text/html": [
       "<figcaption>./testimg/normal/20201109-101923_08YYa_1.jpg : Normal</figcaption>"
      ],
      "text/plain": [
       "<IPython.core.display.HTML object>"
      ]
     },
     "metadata": {},
     "output_type": "display_data"
    },
    {
     "name": "stdout",
     "output_type": "stream",
     "text": [
      "[1.3351030247577e-05, 0.9999866485595703]\n"
     ]
    },
    {
     "data": {
      "text/html": [
       "<figcaption>./testimg/normal/20201109-101716_09YYa_0.jpg : Normal</figcaption>"
      ],
      "text/plain": [
       "<IPython.core.display.HTML object>"
      ]
     },
     "metadata": {},
     "output_type": "display_data"
    },
    {
     "name": "stdout",
     "output_type": "stream",
     "text": [
      "[0.03814808279275894, 0.961851954460144]\n"
     ]
    },
    {
     "data": {
      "text/html": [
       "<figcaption>./testimg/normal/20201109-101743_26YYa_1.jpg : Normal</figcaption>"
      ],
      "text/plain": [
       "<IPython.core.display.HTML object>"
      ]
     },
     "metadata": {},
     "output_type": "display_data"
    },
    {
     "name": "stdout",
     "output_type": "stream",
     "text": [
      "[0.005770178511738777, 0.994229793548584]\n"
     ]
    },
    {
     "data": {
      "text/html": [
       "<figcaption>./testimg/normal/20201109-101833_17YYa_1.jpg : Normal</figcaption>"
      ],
      "text/plain": [
       "<IPython.core.display.HTML object>"
      ]
     },
     "metadata": {},
     "output_type": "display_data"
    },
    {
     "name": "stdout",
     "output_type": "stream",
     "text": [
      "[0.0001391185651300475, 0.9998608827590942]\n"
     ]
    },
    {
     "data": {
      "text/html": [
       "<figcaption>./testimg/normal/20201109-101743_04YNa_0.jpg : Normal</figcaption>"
      ],
      "text/plain": [
       "<IPython.core.display.HTML object>"
      ]
     },
     "metadata": {},
     "output_type": "display_data"
    },
    {
     "name": "stdout",
     "output_type": "stream",
     "text": [
      "[0.0012542217737063766, 0.9987457990646362]\n"
     ]
    },
    {
     "data": {
      "text/html": [
       "<figcaption>./testimg/normal/20201109-101655_07YYa_0.jpg : Normal</figcaption>"
      ],
      "text/plain": [
       "<IPython.core.display.HTML object>"
      ]
     },
     "metadata": {},
     "output_type": "display_data"
    },
    {
     "name": "stdout",
     "output_type": "stream",
     "text": [
      "[0.0005206182249821723, 0.999479353427887]\n"
     ]
    },
    {
     "data": {
      "text/html": [
       "<figcaption>./testimg/normal/20201109-101535_27YYa_1.jpg : Normal</figcaption>"
      ],
      "text/plain": [
       "<IPython.core.display.HTML object>"
      ]
     },
     "metadata": {},
     "output_type": "display_data"
    },
    {
     "name": "stdout",
     "output_type": "stream",
     "text": [
      "[4.808451876670006e-07, 0.9999995231628418]\n"
     ]
    },
    {
     "data": {
      "text/html": [
       "<figcaption>./testimg/normal/20201109-101857_03YYa_0.jpg : Normal</figcaption>"
      ],
      "text/plain": [
       "<IPython.core.display.HTML object>"
      ]
     },
     "metadata": {},
     "output_type": "display_data"
    },
    {
     "name": "stdout",
     "output_type": "stream",
     "text": [
      "[0.0006669448339380324, 0.9993330836296082]\n"
     ]
    },
    {
     "data": {
      "text/html": [
       "<figcaption>./testimg/normal/20201109-101642_28YYa_1.jpg : Normal</figcaption>"
      ],
      "text/plain": [
       "<IPython.core.display.HTML object>"
      ]
     },
     "metadata": {},
     "output_type": "display_data"
    },
    {
     "name": "stdout",
     "output_type": "stream",
     "text": [
      "[0.0012420921120792627, 0.9987579584121704]\n"
     ]
    },
    {
     "data": {
      "text/html": [
       "<figcaption>./testimg/normal/20201109-101947_02YYa_1.jpg : Normal</figcaption>"
      ],
      "text/plain": [
       "<IPython.core.display.HTML object>"
      ]
     },
     "metadata": {},
     "output_type": "display_data"
    },
    {
     "name": "stdout",
     "output_type": "stream",
     "text": [
      "[0.00016032217536121607, 0.9998396635055542]\n"
     ]
    },
    {
     "data": {
      "text/html": [
       "<figcaption>./testimg/normal/20201109-101743_18YYa_0.jpg : Normal</figcaption>"
      ],
      "text/plain": [
       "<IPython.core.display.HTML object>"
      ]
     },
     "metadata": {},
     "output_type": "display_data"
    },
    {
     "name": "stdout",
     "output_type": "stream",
     "text": [
      "[0.016436347737908363, 0.9835636615753174]\n"
     ]
    },
    {
     "data": {
      "text/html": [
       "<figcaption>./testimg/normal/20201109-101808_24YYa_1.jpg : Normal</figcaption>"
      ],
      "text/plain": [
       "<IPython.core.display.HTML object>"
      ]
     },
     "metadata": {},
     "output_type": "display_data"
    },
    {
     "name": "stdout",
     "output_type": "stream",
     "text": [
      "[0.0002641227620188147, 0.9997358918190002]\n"
     ]
    },
    {
     "data": {
      "text/html": [
       "<figcaption>./testimg/normal/20201109-101757_13YYa_0.jpg : Normal</figcaption>"
      ],
      "text/plain": [
       "<IPython.core.display.HTML object>"
      ]
     },
     "metadata": {},
     "output_type": "display_data"
    },
    {
     "name": "stdout",
     "output_type": "stream",
     "text": [
      "[0.0002529430785216391, 0.999747097492218]\n"
     ]
    },
    {
     "data": {
      "text/html": [
       "<figcaption>./testimg/normal/20201109-101743_12YNa_1.jpg : Normal</figcaption>"
      ],
      "text/plain": [
       "<IPython.core.display.HTML object>"
      ]
     },
     "metadata": {},
     "output_type": "display_data"
    },
    {
     "name": "stdout",
     "output_type": "stream",
     "text": [
      "[5.6762120948405936e-05, 0.9999432563781738]\n"
     ]
    },
    {
     "data": {
      "text/html": [
       "<figcaption>./testimg/normal/20201109-101602_18YNa_1.jpg : Normal</figcaption>"
      ],
      "text/plain": [
       "<IPython.core.display.HTML object>"
      ]
     },
     "metadata": {},
     "output_type": "display_data"
    },
    {
     "name": "stdout",
     "output_type": "stream",
     "text": [
      "[0.00021990283858031034, 0.9997801184654236]\n"
     ]
    },
    {
     "data": {
      "text/html": [
       "<figcaption>./testimg/normal/20201109-101535_13YNa_1.jpg : Normal</figcaption>"
      ],
      "text/plain": [
       "<IPython.core.display.HTML object>"
      ]
     },
     "metadata": {},
     "output_type": "display_data"
    },
    {
     "name": "stdout",
     "output_type": "stream",
     "text": [
      "[8.691285074746702e-06, 0.9999912977218628]\n"
     ]
    },
    {
     "data": {
      "text/html": [
       "<figcaption>./testimg/normal/20201109-101808_02YNa_0.jpg : Normal</figcaption>"
      ],
      "text/plain": [
       "<IPython.core.display.HTML object>"
      ]
     },
     "metadata": {},
     "output_type": "display_data"
    },
    {
     "name": "stdout",
     "output_type": "stream",
     "text": [
      "[0.0018994451966136694, 0.9981005787849426]\n"
     ]
    },
    {
     "data": {
      "text/html": [
       "<figcaption>./testimg/normal/20201109-101642_14YNa_1.jpg : Normal</figcaption>"
      ],
      "text/plain": [
       "<IPython.core.display.HTML object>"
      ]
     },
     "metadata": {},
     "output_type": "display_data"
    },
    {
     "name": "stdout",
     "output_type": "stream",
     "text": [
      "[0.02312357723712921, 0.976876437664032]\n"
     ]
    },
    {
     "data": {
      "text/html": [
       "<figcaption>./testimg/normal/20201109-101716_17YYa_1.jpg : Normal</figcaption>"
      ],
      "text/plain": [
       "<IPython.core.display.HTML object>"
      ]
     },
     "metadata": {},
     "output_type": "display_data"
    },
    {
     "name": "stdout",
     "output_type": "stream",
     "text": [
      "[0.00011430012091295794, 0.9998856782913208]\n"
     ]
    },
    {
     "data": {
      "text/html": [
       "<figcaption>./testimg/normal/20201109-101535_19YYa_0.jpg : Normal</figcaption>"
      ],
      "text/plain": [
       "<IPython.core.display.HTML object>"
      ]
     },
     "metadata": {},
     "output_type": "display_data"
    },
    {
     "name": "stdout",
     "output_type": "stream",
     "text": [
      "[0.9315823316574097, 0.06841771304607391]\n"
     ]
    },
    {
     "data": {
      "text/html": [
       "<figcaption>./testimg/normal/20201109-101616_13YNa_1.jpg : Anomaly</figcaption>"
      ],
      "text/plain": [
       "<IPython.core.display.HTML object>"
      ]
     },
     "metadata": {},
     "output_type": "display_data"
    },
    {
     "name": "stdout",
     "output_type": "stream",
     "text": [
      "[0.0007586990250274539, 0.9992413520812988]\n"
     ]
    },
    {
     "data": {
      "text/html": [
       "<figcaption>./testimg/normal/20201109-101731_21YYa_1.jpg : Normal</figcaption>"
      ],
      "text/plain": [
       "<IPython.core.display.HTML object>"
      ]
     },
     "metadata": {},
     "output_type": "display_data"
    },
    {
     "name": "stdout",
     "output_type": "stream",
     "text": [
      "[0.006388796027749777, 0.9936111569404602]\n"
     ]
    },
    {
     "data": {
      "text/html": [
       "<figcaption>./testimg/normal/20201109-101821_12YYa_1.jpg : Normal</figcaption>"
      ],
      "text/plain": [
       "<IPython.core.display.HTML object>"
      ]
     },
     "metadata": {},
     "output_type": "display_data"
    },
    {
     "name": "stdout",
     "output_type": "stream",
     "text": [
      "[0.0007902593933977187, 0.9992097616195679]\n"
     ]
    },
    {
     "data": {
      "text/html": [
       "<figcaption>./testimg/normal/20201109-101857_28YYa_1.jpg : Normal</figcaption>"
      ],
      "text/plain": [
       "<IPython.core.display.HTML object>"
      ]
     },
     "metadata": {},
     "output_type": "display_data"
    },
    {
     "name": "stdout",
     "output_type": "stream",
     "text": [
      "[9.980308823287487e-05, 0.999900221824646]\n"
     ]
    },
    {
     "data": {
      "text/html": [
       "<figcaption>./testimg/normal/20201109-101923_10YYa_0.jpg : Normal</figcaption>"
      ],
      "text/plain": [
       "<IPython.core.display.HTML object>"
      ]
     },
     "metadata": {},
     "output_type": "display_data"
    },
    {
     "name": "stdout",
     "output_type": "stream",
     "text": [
      "[0.007228868082165718, 0.9927710890769958]\n"
     ]
    },
    {
     "data": {
      "text/html": [
       "<figcaption>./testimg/normal/20201109-101947_19YYa_1.jpg : Normal</figcaption>"
      ],
      "text/plain": [
       "<IPython.core.display.HTML object>"
      ]
     },
     "metadata": {},
     "output_type": "display_data"
    },
    {
     "name": "stdout",
     "output_type": "stream",
     "text": [
      "[0.004302300047129393, 0.9956977367401123]\n"
     ]
    },
    {
     "data": {
      "text/html": [
       "<figcaption>./testimg/normal/20201109-101616_01YYa_1.jpg : Normal</figcaption>"
      ],
      "text/plain": [
       "<IPython.core.display.HTML object>"
      ]
     },
     "metadata": {},
     "output_type": "display_data"
    },
    {
     "name": "stdout",
     "output_type": "stream",
     "text": [
      "[0.0023450437001883984, 0.997654914855957]\n"
     ]
    },
    {
     "data": {
      "text/html": [
       "<figcaption>./testimg/normal/20201109-101630_23YYa_1.jpg : Normal</figcaption>"
      ],
      "text/plain": [
       "<IPython.core.display.HTML object>"
      ]
     },
     "metadata": {},
     "output_type": "display_data"
    },
    {
     "name": "stdout",
     "output_type": "stream",
     "text": [
      "[0.0022037033922970295, 0.9977962970733643]\n"
     ]
    },
    {
     "data": {
      "text/html": [
       "<figcaption>./testimg/normal/20201109-101706_20YYa_0.jpg : Normal</figcaption>"
      ],
      "text/plain": [
       "<IPython.core.display.HTML object>"
      ]
     },
     "metadata": {},
     "output_type": "display_data"
    },
    {
     "name": "stdout",
     "output_type": "stream",
     "text": [
      "[2.0558622054522857e-05, 0.9999794960021973]\n"
     ]
    },
    {
     "data": {
      "text/html": [
       "<figcaption>./testimg/normal/20201109-101808_19YNa_0.jpg : Normal</figcaption>"
      ],
      "text/plain": [
       "<IPython.core.display.HTML object>"
      ]
     },
     "metadata": {},
     "output_type": "display_data"
    },
    {
     "name": "stdout",
     "output_type": "stream",
     "text": [
      "[0.0010221627308055758, 0.9989778995513916]\n"
     ]
    },
    {
     "data": {
      "text/html": [
       "<figcaption>./testimg/normal/20201109-101808_27YNa_1.jpg : Normal</figcaption>"
      ],
      "text/plain": [
       "<IPython.core.display.HTML object>"
      ]
     },
     "metadata": {},
     "output_type": "display_data"
    },
    {
     "name": "stdout",
     "output_type": "stream",
     "text": [
      "[8.937720122048631e-05, 0.9999105930328369]\n"
     ]
    },
    {
     "data": {
      "text/html": [
       "<figcaption>./testimg/normal/20201109-101947_05YNa_1.jpg : Normal</figcaption>"
      ],
      "text/plain": [
       "<IPython.core.display.HTML object>"
      ]
     },
     "metadata": {},
     "output_type": "display_data"
    },
    {
     "name": "stdout",
     "output_type": "stream",
     "text": [
      "[2.432472501823213e-05, 0.9999756813049316]\n"
     ]
    },
    {
     "data": {
      "text/html": [
       "<figcaption>./testimg/normal/20201109-101910_23YYa_0.jpg : Normal</figcaption>"
      ],
      "text/plain": [
       "<IPython.core.display.HTML object>"
      ]
     },
     "metadata": {},
     "output_type": "display_data"
    },
    {
     "name": "stdout",
     "output_type": "stream",
     "text": [
      "[9.153552127827425e-06, 0.9999908208847046]\n"
     ]
    },
    {
     "data": {
      "text/html": [
       "<figcaption>./testimg/normal/20201109-101731_13YYa_0.jpg : Normal</figcaption>"
      ],
      "text/plain": [
       "<IPython.core.display.HTML object>"
      ]
     },
     "metadata": {},
     "output_type": "display_data"
    },
    {
     "name": "stdout",
     "output_type": "stream",
     "text": [
      "[2.667363560249214e-06, 0.9999973773956299]\n"
     ]
    },
    {
     "data": {
      "text/html": [
       "<figcaption>./testimg/normal/20201109-101602_20YNa_0.jpg : Normal</figcaption>"
      ],
      "text/plain": [
       "<IPython.core.display.HTML object>"
      ]
     },
     "metadata": {},
     "output_type": "display_data"
    },
    {
     "name": "stdout",
     "output_type": "stream",
     "text": [
      "[1.3038223869443755e-06, 0.9999986886978149]\n"
     ]
    },
    {
     "data": {
      "text/html": [
       "<figcaption>./testimg/normal/20201109-101630_15YYa_0.jpg : Normal</figcaption>"
      ],
      "text/plain": [
       "<IPython.core.display.HTML object>"
      ]
     },
     "metadata": {},
     "output_type": "display_data"
    },
    {
     "name": "stdout",
     "output_type": "stream",
     "text": [
      "[9.76793216977967e-06, 0.9999902248382568]\n"
     ]
    },
    {
     "data": {
      "text/html": [
       "<figcaption>./testimg/normal/20201109-101910_05YYa_0.jpg : Normal</figcaption>"
      ],
      "text/plain": [
       "<IPython.core.display.HTML object>"
      ]
     },
     "metadata": {},
     "output_type": "display_data"
    },
    {
     "name": "stdout",
     "output_type": "stream",
     "text": [
      "[1.3950353604741395e-05, 0.9999860525131226]\n"
     ]
    },
    {
     "data": {
      "text/html": [
       "<figcaption>./testimg/normal/20201109-101716_01YYa_0.jpg : Normal</figcaption>"
      ],
      "text/plain": [
       "<IPython.core.display.HTML object>"
      ]
     },
     "metadata": {},
     "output_type": "display_data"
    },
    {
     "name": "stdout",
     "output_type": "stream",
     "text": [
      "[0.3426395654678345, 0.6573604345321655]\n"
     ]
    },
    {
     "data": {
      "text/html": [
       "<figcaption>./testimg/normal/20201109-101630_05YYa_1.jpg : Normal</figcaption>"
      ],
      "text/plain": [
       "<IPython.core.display.HTML object>"
      ]
     },
     "metadata": {},
     "output_type": "display_data"
    },
    {
     "name": "stdout",
     "output_type": "stream",
     "text": [
      "[9.127421799348667e-05, 0.9999086856842041]\n"
     ]
    },
    {
     "data": {
      "text/html": [
       "<figcaption>./testimg/normal/20201109-101706_02YYa_0.jpg : Normal</figcaption>"
      ],
      "text/plain": [
       "<IPython.core.display.HTML object>"
      ]
     },
     "metadata": {},
     "output_type": "display_data"
    },
    {
     "name": "stdout",
     "output_type": "stream",
     "text": [
      "[2.820692134264391e-05, 0.9999717473983765]\n"
     ]
    },
    {
     "data": {
      "text/html": [
       "<figcaption>./testimg/normal/20201109-101947_29YYa_0.jpg : Normal</figcaption>"
      ],
      "text/plain": [
       "<IPython.core.display.HTML object>"
      ]
     },
     "metadata": {},
     "output_type": "display_data"
    },
    {
     "name": "stdout",
     "output_type": "stream",
     "text": [
      "[5.462098852149211e-05, 0.9999454021453857]\n"
     ]
    },
    {
     "data": {
      "text/html": [
       "<figcaption>./testimg/normal/20201109-101731_03YYa_1.jpg : Normal</figcaption>"
      ],
      "text/plain": [
       "<IPython.core.display.HTML object>"
      ]
     },
     "metadata": {},
     "output_type": "display_data"
    },
    {
     "name": "stdout",
     "output_type": "stream",
     "text": [
      "[0.0033668428659439087, 0.9966331124305725]\n"
     ]
    },
    {
     "data": {
      "text/html": [
       "<figcaption>./testimg/normal/20201109-101706_01YYa_1.jpg : Normal</figcaption>"
      ],
      "text/plain": [
       "<IPython.core.display.HTML object>"
      ]
     },
     "metadata": {},
     "output_type": "display_data"
    },
    {
     "name": "stdout",
     "output_type": "stream",
     "text": [
      "[0.003467814065515995, 0.9965322017669678]\n"
     ]
    },
    {
     "data": {
      "text/html": [
       "<figcaption>./testimg/normal/20201109-101947_28YYa_1.jpg : Normal</figcaption>"
      ],
      "text/plain": [
       "<IPython.core.display.HTML object>"
      ]
     },
     "metadata": {},
     "output_type": "display_data"
    },
    {
     "name": "stdout",
     "output_type": "stream",
     "text": [
      "[7.271108188433573e-05, 0.999927282333374]\n"
     ]
    },
    {
     "data": {
      "text/html": [
       "<figcaption>./testimg/normal/20201109-101808_28YNa_0.jpg : Normal</figcaption>"
      ],
      "text/plain": [
       "<IPython.core.display.HTML object>"
      ]
     },
     "metadata": {},
     "output_type": "display_data"
    },
    {
     "name": "stdout",
     "output_type": "stream",
     "text": [
      "[6.705296073050704e-06, 0.9999933242797852]\n"
     ]
    },
    {
     "data": {
      "text/html": [
       "<figcaption>./testimg/normal/20201109-101857_29YYa_0.jpg : Normal</figcaption>"
      ],
      "text/plain": [
       "<IPython.core.display.HTML object>"
      ]
     },
     "metadata": {},
     "output_type": "display_data"
    },
    {
     "name": "stdout",
     "output_type": "stream",
     "text": [
      "[0.00021658824698533863, 0.999783456325531]\n"
     ]
    },
    {
     "data": {
      "text/html": [
       "<figcaption>./testimg/normal/20201109-101821_13YYa_0.jpg : Normal</figcaption>"
      ],
      "text/plain": [
       "<IPython.core.display.HTML object>"
      ]
     },
     "metadata": {},
     "output_type": "display_data"
    },
    {
     "name": "stdout",
     "output_type": "stream",
     "text": [
      "[2.4139666493283585e-05, 0.9999758005142212]\n"
     ]
    },
    {
     "data": {
      "text/html": [
       "<figcaption>./testimg/normal/20201109-101731_22YYa_0.jpg : Normal</figcaption>"
      ],
      "text/plain": [
       "<IPython.core.display.HTML object>"
      ]
     },
     "metadata": {},
     "output_type": "display_data"
    },
    {
     "name": "stdout",
     "output_type": "stream",
     "text": [
      "[0.0010087192058563232, 0.9989913105964661]\n"
     ]
    },
    {
     "data": {
      "text/html": [
       "<figcaption>./testimg/normal/20201109-101616_02YYa_0.jpg : Normal</figcaption>"
      ],
      "text/plain": [
       "<IPython.core.display.HTML object>"
      ]
     },
     "metadata": {},
     "output_type": "display_data"
    },
    {
     "name": "stdout",
     "output_type": "stream",
     "text": [
      "[0.00028753530932590365, 0.9997124075889587]\n"
     ]
    },
    {
     "data": {
      "text/html": [
       "<figcaption>./testimg/normal/20201109-101743_01YYa_0.jpg : Normal</figcaption>"
      ],
      "text/plain": [
       "<IPython.core.display.HTML object>"
      ]
     },
     "metadata": {},
     "output_type": "display_data"
    },
    {
     "name": "stdout",
     "output_type": "stream",
     "text": [
      "[1.8048738638754003e-05, 0.9999819993972778]\n"
     ]
    },
    {
     "data": {
      "text/html": [
       "<figcaption>./testimg/normal/20201109-101731_04YYa_0.jpg : Normal</figcaption>"
      ],
      "text/plain": [
       "<IPython.core.display.HTML object>"
      ]
     },
     "metadata": {},
     "output_type": "display_data"
    },
    {
     "name": "stdout",
     "output_type": "stream",
     "text": [
      "[0.017972974106669426, 0.982026994228363]\n"
     ]
    },
    {
     "data": {
      "text/html": [
       "<figcaption>./testimg/normal/20201109-101808_18YNa_1.jpg : Normal</figcaption>"
      ],
      "text/plain": [
       "<IPython.core.display.HTML object>"
      ]
     },
     "metadata": {},
     "output_type": "display_data"
    },
    {
     "name": "stdout",
     "output_type": "stream",
     "text": [
      "[0.08559264987707138, 0.9144073128700256]\n"
     ]
    },
    {
     "data": {
      "text/html": [
       "<figcaption>./testimg/normal/20201109-101857_05YNa_1.jpg : Normal</figcaption>"
      ],
      "text/plain": [
       "<IPython.core.display.HTML object>"
      ]
     },
     "metadata": {},
     "output_type": "display_data"
    },
    {
     "name": "stdout",
     "output_type": "stream",
     "text": [
      "[0.0003595273301471025, 0.9996404647827148]\n"
     ]
    },
    {
     "data": {
      "text/html": [
       "<figcaption>./testimg/normal/20201109-101630_06YYa_0.jpg : Normal</figcaption>"
      ],
      "text/plain": [
       "<IPython.core.display.HTML object>"
      ]
     },
     "metadata": {},
     "output_type": "display_data"
    },
    {
     "name": "stdout",
     "output_type": "stream",
     "text": [
      "[0.0006809627520851791, 0.9993190765380859]\n"
     ]
    },
    {
     "data": {
      "text/html": [
       "<figcaption>./testimg/normal/20201109-101716_10YYa_0.jpg : Normal</figcaption>"
      ],
      "text/plain": [
       "<IPython.core.display.HTML object>"
      ]
     },
     "metadata": {},
     "output_type": "display_data"
    },
    {
     "name": "stdout",
     "output_type": "stream",
     "text": [
      "[0.00013068941188976169, 0.9998693466186523]\n"
     ]
    },
    {
     "data": {
      "text/html": [
       "<figcaption>./testimg/normal/20201109-101535_20YYa_0.jpg : Normal</figcaption>"
      ],
      "text/plain": [
       "<IPython.core.display.HTML object>"
      ]
     },
     "metadata": {},
     "output_type": "display_data"
    },
    {
     "name": "stdout",
     "output_type": "stream",
     "text": [
      "[0.0001332440588157624, 0.9998667240142822]\n"
     ]
    },
    {
     "data": {
      "text/html": [
       "<figcaption>./testimg/normal/20201109-101630_14YYa_1.jpg : Normal</figcaption>"
      ],
      "text/plain": [
       "<IPython.core.display.HTML object>"
      ]
     },
     "metadata": {},
     "output_type": "display_data"
    },
    {
     "name": "stdout",
     "output_type": "stream",
     "text": [
      "[0.004850571509450674, 0.9951494336128235]\n"
     ]
    },
    {
     "data": {
      "text/html": [
       "<figcaption>./testimg/normal/20201109-101857_19YYa_1.jpg : Normal</figcaption>"
      ],
      "text/plain": [
       "<IPython.core.display.HTML object>"
      ]
     },
     "metadata": {},
     "output_type": "display_data"
    },
    {
     "name": "stdout",
     "output_type": "stream",
     "text": [
      "[3.258258402638603e-06, 0.9999967813491821]\n"
     ]
    },
    {
     "data": {
      "text/html": [
       "<figcaption>./testimg/normal/20201109-101833_10YYa_0.jpg : Normal</figcaption>"
      ],
      "text/plain": [
       "<IPython.core.display.HTML object>"
      ]
     },
     "metadata": {},
     "output_type": "display_data"
    },
    {
     "name": "stdout",
     "output_type": "stream",
     "text": [
      "[1.303345288761193e-05, 0.999987006187439]\n"
     ]
    },
    {
     "data": {
      "text/html": [
       "<figcaption>./testimg/normal/20201109-101923_01YYa_0.jpg : Normal</figcaption>"
      ],
      "text/plain": [
       "<IPython.core.display.HTML object>"
      ]
     },
     "metadata": {},
     "output_type": "display_data"
    },
    {
     "name": "stdout",
     "output_type": "stream",
     "text": [
      "[0.0013348134234547615, 0.9986652135848999]\n"
     ]
    },
    {
     "data": {
      "text/html": [
       "<figcaption>./testimg/normal/20201109-101910_22YYa_1.jpg : Normal</figcaption>"
      ],
      "text/plain": [
       "<IPython.core.display.HTML object>"
      ]
     },
     "metadata": {},
     "output_type": "display_data"
    },
    {
     "name": "stdout",
     "output_type": "stream",
     "text": [
      "[0.002819949993863702, 0.9971801042556763]\n"
     ]
    },
    {
     "data": {
      "text/html": [
       "<figcaption>./testimg/normal/20201109-101757_10YYa_1.jpg : Normal</figcaption>"
      ],
      "text/plain": [
       "<IPython.core.display.HTML object>"
      ]
     },
     "metadata": {},
     "output_type": "display_data"
    },
    {
     "name": "stdout",
     "output_type": "stream",
     "text": [
      "[5.4870761232450604e-06, 0.9999945163726807]\n"
     ]
    },
    {
     "data": {
      "text/html": [
       "<figcaption>./testimg/normal/20201109-101821_05YNa_0.jpg : Normal</figcaption>"
      ],
      "text/plain": [
       "<IPython.core.display.HTML object>"
      ]
     },
     "metadata": {},
     "output_type": "display_data"
    },
    {
     "name": "stdout",
     "output_type": "stream",
     "text": [
      "[7.053493754938245e-05, 0.9999294281005859]\n"
     ]
    },
    {
     "data": {
      "text/html": [
       "<figcaption>./testimg/normal/20201109-101935_04YYa_0.jpg : Normal</figcaption>"
      ],
      "text/plain": [
       "<IPython.core.display.HTML object>"
      ]
     },
     "metadata": {},
     "output_type": "display_data"
    },
    {
     "name": "stdout",
     "output_type": "stream",
     "text": [
      "[0.00015351759793702513, 0.9998464584350586]\n"
     ]
    },
    {
     "data": {
      "text/html": [
       "<figcaption>./testimg/normal/20201109-101821_27YYa_1.jpg : Normal</figcaption>"
      ],
      "text/plain": [
       "<IPython.core.display.HTML object>"
      ]
     },
     "metadata": {},
     "output_type": "display_data"
    },
    {
     "name": "stdout",
     "output_type": "stream",
     "text": [
      "[1.4263396224123426e-05, 0.9999856948852539]\n"
     ]
    },
    {
     "data": {
      "text/html": [
       "<figcaption>./testimg/normal/20201109-101716_20YNa_0.jpg : Normal</figcaption>"
      ],
      "text/plain": [
       "<IPython.core.display.HTML object>"
      ]
     },
     "metadata": {},
     "output_type": "display_data"
    },
    {
     "name": "stdout",
     "output_type": "stream",
     "text": [
      "[0.0037087625823915005, 0.9962912797927856]\n"
     ]
    },
    {
     "data": {
      "text/html": [
       "<figcaption>./testimg/normal/20201109-101616_16YYa_1.jpg : Normal</figcaption>"
      ],
      "text/plain": [
       "<IPython.core.display.HTML object>"
      ]
     },
     "metadata": {},
     "output_type": "display_data"
    },
    {
     "name": "stdout",
     "output_type": "stream",
     "text": [
      "[0.009164438582956791, 0.9908355474472046]\n"
     ]
    },
    {
     "data": {
      "text/html": [
       "<figcaption>./testimg/normal/20201109-101757_02YYa_0.jpg : Normal</figcaption>"
      ],
      "text/plain": [
       "<IPython.core.display.HTML object>"
      ]
     },
     "metadata": {},
     "output_type": "display_data"
    },
    {
     "name": "stdout",
     "output_type": "stream",
     "text": [
      "[0.0007992762257345021, 0.9992007613182068]\n"
     ]
    },
    {
     "data": {
      "text/html": [
       "<figcaption>./testimg/normal/20201109-101630_24YNa_1.jpg : Normal</figcaption>"
      ],
      "text/plain": [
       "<IPython.core.display.HTML object>"
      ]
     },
     "metadata": {},
     "output_type": "display_data"
    },
    {
     "name": "stdout",
     "output_type": "stream",
     "text": [
      "[6.577367003046675e-06, 0.9999934434890747]\n"
     ]
    },
    {
     "data": {
      "text/html": [
       "<figcaption>./testimg/normal/20201109-101642_09YYa_0.jpg : Normal</figcaption>"
      ],
      "text/plain": [
       "<IPython.core.display.HTML object>"
      ]
     },
     "metadata": {},
     "output_type": "display_data"
    },
    {
     "name": "stdout",
     "output_type": "stream",
     "text": [
      "[0.01604713872075081, 0.9839528203010559]\n"
     ]
    },
    {
     "data": {
      "text/html": [
       "<figcaption>./testimg/normal/20201109-101602_07YNa_1.jpg : Normal</figcaption>"
      ],
      "text/plain": [
       "<IPython.core.display.HTML object>"
      ]
     },
     "metadata": {},
     "output_type": "display_data"
    },
    {
     "name": "stdout",
     "output_type": "stream",
     "text": [
      "[4.997687938157469e-05, 0.9999500513076782]\n"
     ]
    },
    {
     "data": {
      "text/html": [
       "<figcaption>./testimg/normal/20201109-101731_28YYa_0.jpg : Normal</figcaption>"
      ],
      "text/plain": [
       "<IPython.core.display.HTML object>"
      ]
     },
     "metadata": {},
     "output_type": "display_data"
    },
    {
     "name": "stdout",
     "output_type": "stream",
     "text": [
      "[0.0014647194184362888, 0.9985352754592896]\n"
     ]
    },
    {
     "data": {
      "text/html": [
       "<figcaption>./testimg/normal/20201109-101935_12YYa_1.jpg : Normal</figcaption>"
      ],
      "text/plain": [
       "<IPython.core.display.HTML object>"
      ]
     },
     "metadata": {},
     "output_type": "display_data"
    },
    {
     "name": "stdout",
     "output_type": "stream",
     "text": [
      "[0.0003255695919506252, 0.9996744394302368]\n"
     ]
    },
    {
     "data": {
      "text/html": [
       "<figcaption>./testimg/normal/20201109-101845_21YYa_1.jpg : Normal</figcaption>"
      ],
      "text/plain": [
       "<IPython.core.display.HTML object>"
      ]
     },
     "metadata": {},
     "output_type": "display_data"
    },
    {
     "name": "stdout",
     "output_type": "stream",
     "text": [
      "[0.000787540222518146, 0.999212384223938]\n"
     ]
    },
    {
     "data": {
      "text/html": [
       "<figcaption>./testimg/normal/20201109-101642_03YNa_1.jpg : Normal</figcaption>"
      ],
      "text/plain": [
       "<IPython.core.display.HTML object>"
      ]
     },
     "metadata": {},
     "output_type": "display_data"
    },
    {
     "name": "stdout",
     "output_type": "stream",
     "text": [
      "[0.0002988167689181864, 0.999701201915741]\n"
     ]
    },
    {
     "data": {
      "text/html": [
       "<figcaption>./testimg/normal/20201109-101535_12YNa_0.jpg : Normal</figcaption>"
      ],
      "text/plain": [
       "<IPython.core.display.HTML object>"
      ]
     },
     "metadata": {},
     "output_type": "display_data"
    },
    {
     "name": "stdout",
     "output_type": "stream",
     "text": [
      "[1.3859188584319782e-05, 0.9999861717224121]\n"
     ]
    },
    {
     "data": {
      "text/html": [
       "<figcaption>./testimg/normal/20201109-101602_17YNa_0.jpg : Normal</figcaption>"
      ],
      "text/plain": [
       "<IPython.core.display.HTML object>"
      ]
     },
     "metadata": {},
     "output_type": "display_data"
    },
    {
     "name": "stdout",
     "output_type": "stream",
     "text": [
      "[0.0015808572061359882, 0.9984191656112671]\n"
     ]
    },
    {
     "data": {
      "text/html": [
       "<figcaption>./testimg/normal/20201109-101923_15YYa_1.jpg : Normal</figcaption>"
      ],
      "text/plain": [
       "<IPython.core.display.HTML object>"
      ]
     },
     "metadata": {},
     "output_type": "display_data"
    },
    {
     "name": "stdout",
     "output_type": "stream",
     "text": [
      "[7.526733497797977e-06, 0.9999924898147583]\n"
     ]
    },
    {
     "data": {
      "text/html": [
       "<figcaption>./testimg/normal/20201109-101716_16YYa_0.jpg : Normal</figcaption>"
      ],
      "text/plain": [
       "<IPython.core.display.HTML object>"
      ]
     },
     "metadata": {},
     "output_type": "display_data"
    },
    {
     "name": "stdout",
     "output_type": "stream",
     "text": [
      "[0.0006828454206697643, 0.9993171691894531]\n"
     ]
    },
    {
     "data": {
      "text/html": [
       "<figcaption>./testimg/normal/20201109-101642_13YNa_0.jpg : Normal</figcaption>"
      ],
      "text/plain": [
       "<IPython.core.display.HTML object>"
      ]
     },
     "metadata": {},
     "output_type": "display_data"
    },
    {
     "name": "stdout",
     "output_type": "stream",
     "text": [
      "[0.01014337781816721, 0.9898566007614136]\n"
     ]
    },
    {
     "data": {
      "text/html": [
       "<figcaption>./testimg/normal/20201109-101833_24YYa_1.jpg : Normal</figcaption>"
      ],
      "text/plain": [
       "<IPython.core.display.HTML object>"
      ]
     },
     "metadata": {},
     "output_type": "display_data"
    },
    {
     "name": "stdout",
     "output_type": "stream",
     "text": [
      "[6.376943474606378e-06, 0.9999936819076538]\n"
     ]
    },
    {
     "data": {
      "text/html": [
       "<figcaption>./testimg/normal/20201109-101743_11YNa_0.jpg : Normal</figcaption>"
      ],
      "text/plain": [
       "<IPython.core.display.HTML object>"
      ]
     },
     "metadata": {},
     "output_type": "display_data"
    },
    {
     "name": "stdout",
     "output_type": "stream",
     "text": [
      "[2.5637014005042147e-06, 0.9999973773956299]\n"
     ]
    },
    {
     "data": {
      "text/html": [
       "<figcaption>./testimg/normal/20201109-101857_10YYa_0.jpg : Normal</figcaption>"
      ],
      "text/plain": [
       "<IPython.core.display.HTML object>"
      ]
     },
     "metadata": {},
     "output_type": "display_data"
    },
    {
     "name": "stdout",
     "output_type": "stream",
     "text": [
      "[0.0004869785625487566, 0.9995130300521851]\n"
     ]
    },
    {
     "data": {
      "text/html": [
       "<figcaption>./testimg/normal/20201109-101808_23YYa_0.jpg : Normal</figcaption>"
      ],
      "text/plain": [
       "<IPython.core.display.HTML object>"
      ]
     },
     "metadata": {},
     "output_type": "display_data"
    },
    {
     "name": "stdout",
     "output_type": "stream",
     "text": [
      "[7.159904271247797e-06, 0.999992847442627]\n"
     ]
    },
    {
     "data": {
      "text/html": [
       "<figcaption>./testimg/normal/20201109-101947_01YYa_0.jpg : Normal</figcaption>"
      ],
      "text/plain": [
       "<IPython.core.display.HTML object>"
      ]
     },
     "metadata": {},
     "output_type": "display_data"
    },
    {
     "name": "stdout",
     "output_type": "stream",
     "text": [
      "[0.001114115584641695, 0.9988859295845032]\n"
     ]
    },
    {
     "data": {
      "text/html": [
       "<figcaption>./testimg/normal/20201109-101845_03YYa_1.jpg : Normal</figcaption>"
      ],
      "text/plain": [
       "<IPython.core.display.HTML object>"
      ]
     },
     "metadata": {},
     "output_type": "display_data"
    },
    {
     "name": "stdout",
     "output_type": "stream",
     "text": [
      "[0.005475871730595827, 0.9945241212844849]\n"
     ]
    },
    {
     "data": {
      "text/html": [
       "<figcaption>./testimg/normal/20201109-101706_25YYa_1.jpg : Normal</figcaption>"
      ],
      "text/plain": [
       "<IPython.core.display.HTML object>"
      ]
     },
     "metadata": {},
     "output_type": "display_data"
    },
    {
     "name": "stdout",
     "output_type": "stream",
     "text": [
      "[0.0011129698250442743, 0.9988870024681091]\n"
     ]
    },
    {
     "data": {
      "text/html": [
       "<figcaption>./testimg/normal/20201109-101910_14YNa_1.jpg : Normal</figcaption>"
      ],
      "text/plain": [
       "<IPython.core.display.HTML object>"
      ]
     },
     "metadata": {},
     "output_type": "display_data"
    },
    {
     "name": "stdout",
     "output_type": "stream",
     "text": [
      "[0.0009372904896736145, 0.999062716960907]\n"
     ]
    },
    {
     "data": {
      "text/html": [
       "<figcaption>./testimg/normal/20201109-101923_07YYa_0.jpg : Normal</figcaption>"
      ],
      "text/plain": [
       "<IPython.core.display.HTML object>"
      ]
     },
     "metadata": {},
     "output_type": "display_data"
    },
    {
     "name": "stdout",
     "output_type": "stream",
     "text": [
      "[6.644262612098828e-05, 0.9999336004257202]\n"
     ]
    },
    {
     "data": {
      "text/html": [
       "<figcaption>./testimg/normal/20201109-101833_16YYa_0.jpg : Normal</figcaption>"
      ],
      "text/plain": [
       "<IPython.core.display.HTML object>"
      ]
     },
     "metadata": {},
     "output_type": "display_data"
    },
    {
     "name": "stdout",
     "output_type": "stream",
     "text": [
      "[0.006521211005747318, 0.9934787750244141]\n"
     ]
    },
    {
     "data": {
      "text/html": [
       "<figcaption>./testimg/normal/20201109-101731_18YYa_1.jpg : Normal</figcaption>"
      ],
      "text/plain": [
       "<IPython.core.display.HTML object>"
      ]
     },
     "metadata": {},
     "output_type": "display_data"
    },
    {
     "name": "stdout",
     "output_type": "stream",
     "text": [
      "[0.9958070516586304, 0.004192989785224199]\n"
     ]
    },
    {
     "data": {
      "text/html": [
       "<figcaption>./testimg/normal/20201109-101655_22YYa_1.jpg : Anomaly</figcaption>"
      ],
      "text/plain": [
       "<IPython.core.display.HTML object>"
      ]
     },
     "metadata": {},
     "output_type": "display_data"
    },
    {
     "name": "stdout",
     "output_type": "stream",
     "text": [
      "[0.0005043537239544094, 0.9994956254959106]\n"
     ]
    },
    {
     "data": {
      "text/html": [
       "<figcaption>./testimg/normal/20201109-101910_28YYa_1.jpg : Normal</figcaption>"
      ],
      "text/plain": [
       "<IPython.core.display.HTML object>"
      ]
     },
     "metadata": {},
     "output_type": "display_data"
    },
    {
     "name": "stdout",
     "output_type": "stream",
     "text": [
      "[7.245968299685046e-05, 0.9999275207519531]\n"
     ]
    },
    {
     "data": {
      "text/html": [
       "<figcaption>./testimg/normal/20201109-101602_25YNa_1.jpg : Normal</figcaption>"
      ],
      "text/plain": [
       "<IPython.core.display.HTML object>"
      ]
     },
     "metadata": {},
     "output_type": "display_data"
    },
    {
     "name": "stdout",
     "output_type": "stream",
     "text": [
      "[0.0007770516676828265, 0.999222993850708]\n"
     ]
    },
    {
     "data": {
      "text/html": [
       "<figcaption>./testimg/normal/20201109-101706_17YYa_0.jpg : Normal</figcaption>"
      ],
      "text/plain": [
       "<IPython.core.display.HTML object>"
      ]
     },
     "metadata": {},
     "output_type": "display_data"
    },
    {
     "name": "stdout",
     "output_type": "stream",
     "text": [
      "[0.0004668912442866713, 0.9995331764221191]\n"
     ]
    },
    {
     "data": {
      "text/html": [
       "<figcaption>./testimg/normal/20201109-101642_27YYa_0.jpg : Normal</figcaption>"
      ],
      "text/plain": [
       "<IPython.core.display.HTML object>"
      ]
     },
     "metadata": {},
     "output_type": "display_data"
    },
    {
     "name": "stdout",
     "output_type": "stream",
     "text": [
      "[0.0013608646113425493, 0.9986391663551331]\n"
     ]
    },
    {
     "data": {
      "text/html": [
       "<figcaption>./testimg/normal/20201109-101642_21YNa_1.jpg : Normal</figcaption>"
      ],
      "text/plain": [
       "<IPython.core.display.HTML object>"
      ]
     },
     "metadata": {},
     "output_type": "display_data"
    },
    {
     "name": "stdout",
     "output_type": "stream",
     "text": [
      "[0.0008653525146655738, 0.9991347193717957]\n"
     ]
    },
    {
     "data": {
      "text/html": [
       "<figcaption>./testimg/normal/20201109-101535_26YYa_0.jpg : Normal</figcaption>"
      ],
      "text/plain": [
       "<IPython.core.display.HTML object>"
      ]
     },
     "metadata": {},
     "output_type": "display_data"
    },
    {
     "name": "stdout",
     "output_type": "stream",
     "text": [
      "[0.004809643141925335, 0.9951903820037842]\n"
     ]
    },
    {
     "data": {
      "text/html": [
       "<figcaption>./testimg/normal/20201109-101616_20YNa_1.jpg : Normal</figcaption>"
      ],
      "text/plain": [
       "<IPython.core.display.HTML object>"
      ]
     },
     "metadata": {},
     "output_type": "display_data"
    },
    {
     "name": "stdout",
     "output_type": "stream",
     "text": [
      "[0.00012112826516386122, 0.9998788833618164]\n"
     ]
    },
    {
     "data": {
      "text/html": [
       "<figcaption>./testimg/normal/20201109-101706_11YNa_1.jpg : Normal</figcaption>"
      ],
      "text/plain": [
       "<IPython.core.display.HTML object>"
      ]
     },
     "metadata": {},
     "output_type": "display_data"
    },
    {
     "name": "stdout",
     "output_type": "stream",
     "text": [
      "[6.527899586217245e-06, 0.9999934434890747]\n"
     ]
    },
    {
     "data": {
      "text/html": [
       "<figcaption>./testimg/normal/20201109-101935_13YYa_0.jpg : Normal</figcaption>"
      ],
      "text/plain": [
       "<IPython.core.display.HTML object>"
      ]
     },
     "metadata": {},
     "output_type": "display_data"
    },
    {
     "name": "stdout",
     "output_type": "stream",
     "text": [
      "[1.9380200683372095e-05, 0.9999805688858032]\n"
     ]
    },
    {
     "data": {
      "text/html": [
       "<figcaption>./testimg/normal/20201109-101845_22YYa_0.jpg : Normal</figcaption>"
      ],
      "text/plain": [
       "<IPython.core.display.HTML object>"
      ]
     },
     "metadata": {},
     "output_type": "display_data"
    },
    {
     "name": "stdout",
     "output_type": "stream",
     "text": [
      "[0.0031526440288871527, 0.9968473315238953]\n"
     ]
    },
    {
     "data": {
      "text/html": [
       "<figcaption>./testimg/normal/20201109-101923_06YYa_1.jpg : Normal</figcaption>"
      ],
      "text/plain": [
       "<IPython.core.display.HTML object>"
      ]
     },
     "metadata": {},
     "output_type": "display_data"
    },
    {
     "name": "stdout",
     "output_type": "stream",
     "text": [
      "[0.00025623306282795966, 0.9997437596321106]\n"
     ]
    },
    {
     "data": {
      "text/html": [
       "<figcaption>./testimg/normal/20201109-101642_04YNa_0.jpg : Normal</figcaption>"
      ],
      "text/plain": [
       "<IPython.core.display.HTML object>"
      ]
     },
     "metadata": {},
     "output_type": "display_data"
    },
    {
     "name": "stdout",
     "output_type": "stream",
     "text": [
      "[0.0006490239757113159, 0.9993509650230408]\n"
     ]
    },
    {
     "data": {
      "text/html": [
       "<figcaption>./testimg/normal/20201109-101833_15YYa_1.jpg : Normal</figcaption>"
      ],
      "text/plain": [
       "<IPython.core.display.HTML object>"
      ]
     },
     "metadata": {},
     "output_type": "display_data"
    },
    {
     "name": "stdout",
     "output_type": "stream",
     "text": [
      "[2.667768785613589e-05, 0.9999732971191406]\n"
     ]
    },
    {
     "data": {
      "text/html": [
       "<figcaption>./testimg/normal/20201109-101602_08YNa_0.jpg : Normal</figcaption>"
      ],
      "text/plain": [
       "<IPython.core.display.HTML object>"
      ]
     },
     "metadata": {},
     "output_type": "display_data"
    },
    {
     "name": "stdout",
     "output_type": "stream",
     "text": [
      "[1.4983933169787633e-06, 0.9999984502792358]\n"
     ]
    },
    {
     "data": {
      "text/html": [
       "<figcaption>./testimg/normal/20201109-101857_01YYa_0.jpg : Normal</figcaption>"
      ],
      "text/plain": [
       "<IPython.core.display.HTML object>"
      ]
     },
     "metadata": {},
     "output_type": "display_data"
    },
    {
     "name": "stdout",
     "output_type": "stream",
     "text": [
      "[0.002642648061737418, 0.9973573088645935]\n"
     ]
    },
    {
     "data": {
      "text/html": [
       "<figcaption>./testimg/normal/20201109-101642_26YYa_1.jpg : Normal</figcaption>"
      ],
      "text/plain": [
       "<IPython.core.display.HTML object>"
      ]
     },
     "metadata": {},
     "output_type": "display_data"
    },
    {
     "name": "stdout",
     "output_type": "stream",
     "text": [
      "[0.0002824172261171043, 0.9997175335884094]\n"
     ]
    },
    {
     "data": {
      "text/html": [
       "<figcaption>./testimg/normal/20201109-101630_25YNa_0.jpg : Normal</figcaption>"
      ],
      "text/plain": [
       "<IPython.core.display.HTML object>"
      ]
     },
     "metadata": {},
     "output_type": "display_data"
    },
    {
     "name": "stdout",
     "output_type": "stream",
     "text": [
      "[4.4916680053574964e-05, 0.9999550580978394]\n"
     ]
    },
    {
     "data": {
      "text/html": [
       "<figcaption>./testimg/normal/20201109-101655_05YYa_0.jpg : Normal</figcaption>"
      ],
      "text/plain": [
       "<IPython.core.display.HTML object>"
      ]
     },
     "metadata": {},
     "output_type": "display_data"
    },
    {
     "name": "stdout",
     "output_type": "stream",
     "text": [
      "[0.0021285980474203825, 0.9978713989257812]\n"
     ]
    },
    {
     "data": {
      "text/html": [
       "<figcaption>./testimg/normal/20201109-101655_13YYa_1.jpg : Normal</figcaption>"
      ],
      "text/plain": [
       "<IPython.core.display.HTML object>"
      ]
     },
     "metadata": {},
     "output_type": "display_data"
    },
    {
     "name": "stdout",
     "output_type": "stream",
     "text": [
      "[4.6815035602776334e-05, 0.9999531507492065]\n"
     ]
    },
    {
     "data": {
      "text/html": [
       "<figcaption>./testimg/normal/20201109-101757_11YYa_0.jpg : Normal</figcaption>"
      ],
      "text/plain": [
       "<IPython.core.display.HTML object>"
      ]
     },
     "metadata": {},
     "output_type": "display_data"
    },
    {
     "name": "stdout",
     "output_type": "stream",
     "text": [
      "[0.00035767408553510904, 0.9996423721313477]\n"
     ]
    },
    {
     "data": {
      "text/html": [
       "<figcaption>./testimg/normal/20201109-101743_10YNa_1.jpg : Normal</figcaption>"
      ],
      "text/plain": [
       "<IPython.core.display.HTML object>"
      ]
     },
     "metadata": {},
     "output_type": "display_data"
    },
    {
     "name": "stdout",
     "output_type": "stream",
     "text": [
      "[0.013847196474671364, 0.9861527681350708]\n"
     ]
    },
    {
     "data": {
      "text/html": [
       "<figcaption>./testimg/normal/20201109-101808_22YYa_1.jpg : Normal</figcaption>"
      ],
      "text/plain": [
       "<IPython.core.display.HTML object>"
      ]
     },
     "metadata": {},
     "output_type": "display_data"
    },
    {
     "name": "stdout",
     "output_type": "stream",
     "text": [
      "[0.0033769558649510145, 0.9966230392456055]\n"
     ]
    },
    {
     "data": {
      "text/html": [
       "<figcaption>./testimg/normal/20201109-101743_16YYa_0.jpg : Normal</figcaption>"
      ],
      "text/plain": [
       "<IPython.core.display.HTML object>"
      ]
     },
     "metadata": {},
     "output_type": "display_data"
    },
    {
     "name": "stdout",
     "output_type": "stream",
     "text": [
      "[0.0011896579526364803, 0.9988104104995728]\n"
     ]
    },
    {
     "data": {
      "text/html": [
       "<figcaption>./testimg/normal/20201109-101642_12YNa_1.jpg : Normal</figcaption>"
      ],
      "text/plain": [
       "<IPython.core.display.HTML object>"
      ]
     },
     "metadata": {},
     "output_type": "display_data"
    },
    {
     "name": "stdout",
     "output_type": "stream",
     "text": [
      "[0.884896457195282, 0.11510355025529861]\n"
     ]
    },
    {
     "data": {
      "text/html": [
       "<figcaption>./testimg/normal/20201109-101616_11YNa_1.jpg : Anomaly</figcaption>"
      ],
      "text/plain": [
       "<IPython.core.display.HTML object>"
      ]
     },
     "metadata": {},
     "output_type": "display_data"
    },
    {
     "name": "stdout",
     "output_type": "stream",
     "text": [
      "[6.7627656790136825e-06, 0.9999932050704956]\n"
     ]
    },
    {
     "data": {
      "text/html": [
       "<figcaption>./testimg/normal/20201109-101821_28YYa_0.jpg : Normal</figcaption>"
      ],
      "text/plain": [
       "<IPython.core.display.HTML object>"
      ]
     },
     "metadata": {},
     "output_type": "display_data"
    },
    {
     "name": "stdout",
     "output_type": "stream",
     "text": [
      "[6.0627520724665374e-05, 0.9999393224716187]\n"
     ]
    },
    {
     "data": {
      "text/html": [
       "<figcaption>./testimg/normal/20201109-101535_11YNa_1.jpg : Normal</figcaption>"
      ],
      "text/plain": [
       "<IPython.core.display.HTML object>"
      ]
     },
     "metadata": {},
     "output_type": "display_data"
    },
    {
     "name": "stdout",
     "output_type": "stream",
     "text": [
      "[0.002206164412200451, 0.9977937936782837]\n"
     ]
    },
    {
     "data": {
      "text/html": [
       "<figcaption>./testimg/normal/20201109-101821_22YNa_1.jpg : Normal</figcaption>"
      ],
      "text/plain": [
       "<IPython.core.display.HTML object>"
      ]
     },
     "metadata": {},
     "output_type": "display_data"
    },
    {
     "name": "stdout",
     "output_type": "stream",
     "text": [
      "[5.606556078419089e-05, 0.9999439716339111]\n"
     ]
    },
    {
     "data": {
      "text/html": [
       "<figcaption>./testimg/normal/20201109-101602_16YNa_1.jpg : Normal</figcaption>"
      ],
      "text/plain": [
       "<IPython.core.display.HTML object>"
      ]
     },
     "metadata": {},
     "output_type": "display_data"
    },
    {
     "name": "stdout",
     "output_type": "stream",
     "text": [
      "[3.4837281418731436e-05, 0.9999651908874512]\n"
     ]
    },
    {
     "data": {
      "text/html": [
       "<figcaption>./testimg/normal/20201109-101706_08YYa_0.jpg : Normal</figcaption>"
      ],
      "text/plain": [
       "<IPython.core.display.HTML object>"
      ]
     },
     "metadata": {},
     "output_type": "display_data"
    },
    {
     "name": "stdout",
     "output_type": "stream",
     "text": [
      "[7.689448102610186e-05, 0.9999231100082397]\n"
     ]
    },
    {
     "data": {
      "text/html": [
       "<figcaption>./testimg/normal/20201109-101716_25YYa_0.jpg : Normal</figcaption>"
      ],
      "text/plain": [
       "<IPython.core.display.HTML object>"
      ]
     },
     "metadata": {},
     "output_type": "display_data"
    },
    {
     "name": "stdout",
     "output_type": "stream",
     "text": [
      "[0.0006836060201749206, 0.9993164539337158]\n"
     ]
    },
    {
     "data": {
      "text/html": [
       "<figcaption>./testimg/normal/20201109-101616_21YNa_0.jpg : Normal</figcaption>"
      ],
      "text/plain": [
       "<IPython.core.display.HTML object>"
      ]
     },
     "metadata": {},
     "output_type": "display_data"
    },
    {
     "name": "stdout",
     "output_type": "stream",
     "text": [
      "[2.024197965511121e-05, 0.9999797344207764]\n"
     ]
    },
    {
     "data": {
      "text/html": [
       "<figcaption>./testimg/normal/20201109-101706_12YNa_0.jpg : Normal</figcaption>"
      ],
      "text/plain": [
       "<IPython.core.display.HTML object>"
      ]
     },
     "metadata": {},
     "output_type": "display_data"
    },
    {
     "name": "stdout",
     "output_type": "stream",
     "text": [
      "[0.0003219990467187017, 0.9996780157089233]\n"
     ]
    },
    {
     "data": {
      "text/html": [
       "<figcaption>./testimg/normal/20201109-101935_03YYa_1.jpg : Normal</figcaption>"
      ],
      "text/plain": [
       "<IPython.core.display.HTML object>"
      ]
     },
     "metadata": {},
     "output_type": "display_data"
    },
    {
     "name": "stdout",
     "output_type": "stream",
     "text": [
      "[1.3817433682561386e-05, 0.9999861717224121]\n"
     ]
    },
    {
     "data": {
      "text/html": [
       "<figcaption>./testimg/normal/20201109-101731_19YYa_0.jpg : Normal</figcaption>"
      ],
      "text/plain": [
       "<IPython.core.display.HTML object>"
      ]
     },
     "metadata": {},
     "output_type": "display_data"
    },
    {
     "name": "stdout",
     "output_type": "stream",
     "text": [
      "[0.002021082676947117, 0.9979789853096008]\n"
     ]
    },
    {
     "data": {
      "text/html": [
       "<figcaption>./testimg/normal/20201109-101845_12YYa_1.jpg : Normal</figcaption>"
      ],
      "text/plain": [
       "<IPython.core.display.HTML object>"
      ]
     },
     "metadata": {},
     "output_type": "display_data"
    },
    {
     "name": "stdout",
     "output_type": "stream",
     "text": [
      "[0.00029064700356684625, 0.9997093081474304]\n"
     ]
    },
    {
     "data": {
      "text/html": [
       "<figcaption>./testimg/normal/20201109-101743_20YNa_0.jpg : Normal</figcaption>"
      ],
      "text/plain": [
       "<IPython.core.display.HTML object>"
      ]
     },
     "metadata": {},
     "output_type": "display_data"
    },
    {
     "name": "stdout",
     "output_type": "stream",
     "text": [
      "[0.0014997362159192562, 0.9985002279281616]\n"
     ]
    },
    {
     "data": {
      "text/html": [
       "<figcaption>./testimg/normal/20201109-101821_04YNa_1.jpg : Normal</figcaption>"
      ],
      "text/plain": [
       "<IPython.core.display.HTML object>"
      ]
     },
     "metadata": {},
     "output_type": "display_data"
    },
    {
     "name": "stdout",
     "output_type": "stream",
     "text": [
      "[0.0009309326997026801, 0.9990690350532532]\n"
     ]
    },
    {
     "data": {
      "text/html": [
       "<figcaption>./testimg/normal/20201109-101655_23YYa_0.jpg : Normal</figcaption>"
      ],
      "text/plain": [
       "<IPython.core.display.HTML object>"
      ]
     },
     "metadata": {},
     "output_type": "display_data"
    },
    {
     "name": "stdout",
     "output_type": "stream",
     "text": [
      "[0.0030494974926114082, 0.9969505071640015]\n"
     ]
    },
    {
     "data": {
      "text/html": [
       "<figcaption>./testimg/normal/20201109-101642_08YYa_1.jpg : Normal</figcaption>"
      ],
      "text/plain": [
       "<IPython.core.display.HTML object>"
      ]
     },
     "metadata": {},
     "output_type": "display_data"
    },
    {
     "name": "stdout",
     "output_type": "stream",
     "text": [
      "[4.833633647649549e-05, 0.9999517202377319]\n"
     ]
    },
    {
     "data": {
      "text/html": [
       "<figcaption>./testimg/normal/20201109-101923_16YYa_0.jpg : Normal</figcaption>"
      ],
      "text/plain": [
       "<IPython.core.display.HTML object>"
      ]
     },
     "metadata": {},
     "output_type": "display_data"
    },
    {
     "name": "stdout",
     "output_type": "stream",
     "text": [
      "[0.0014879098162055016, 0.9985120892524719]\n"
     ]
    },
    {
     "data": {
      "text/html": [
       "<figcaption>./testimg/normal/20201109-101535_07YYa_1.jpg : Normal</figcaption>"
      ],
      "text/plain": [
       "<IPython.core.display.HTML object>"
      ]
     },
     "metadata": {},
     "output_type": "display_data"
    },
    {
     "name": "stdout",
     "output_type": "stream",
     "text": [
      "[0.0021279500797390938, 0.997871994972229]\n"
     ]
    },
    {
     "data": {
      "text/html": [
       "<figcaption>./testimg/normal/20201109-101757_01YYa_1.jpg : Normal</figcaption>"
      ],
      "text/plain": [
       "<IPython.core.display.HTML object>"
      ]
     },
     "metadata": {},
     "output_type": "display_data"
    },
    {
     "name": "stdout",
     "output_type": "stream",
     "text": [
      "[8.959940896602347e-05, 0.9999103546142578]\n"
     ]
    },
    {
     "data": {
      "text/html": [
       "<figcaption>./testimg/normal/20201109-101845_04YYa_0.jpg : Normal</figcaption>"
      ],
      "text/plain": [
       "<IPython.core.display.HTML object>"
      ]
     },
     "metadata": {},
     "output_type": "display_data"
    },
    {
     "name": "stdout",
     "output_type": "stream",
     "text": [
      "[2.5732797439559363e-05, 0.999974250793457]\n"
     ]
    },
    {
     "data": {
      "text/html": [
       "<figcaption>./testimg/normal/20201109-101706_26YYa_0.jpg : Normal</figcaption>"
      ],
      "text/plain": [
       "<IPython.core.display.HTML object>"
      ]
     },
     "metadata": {},
     "output_type": "display_data"
    },
    {
     "name": "stdout",
     "output_type": "stream",
     "text": [
      "[0.0003099741879850626, 0.999690055847168]\n"
     ]
    },
    {
     "data": {
      "text/html": [
       "<figcaption>./testimg/normal/20201109-101910_15YNa_0.jpg : Normal</figcaption>"
      ],
      "text/plain": [
       "<IPython.core.display.HTML object>"
      ]
     },
     "metadata": {},
     "output_type": "display_data"
    },
    {
     "name": "stdout",
     "output_type": "stream",
     "text": [
      "[0.00016070112178567797, 0.9998393058776855]\n"
     ]
    },
    {
     "data": {
      "text/html": [
       "<figcaption>./testimg/normal/20201109-101630_29YYa_1.jpg : Normal</figcaption>"
      ],
      "text/plain": [
       "<IPython.core.display.HTML object>"
      ]
     },
     "metadata": {},
     "output_type": "display_data"
    },
    {
     "name": "stdout",
     "output_type": "stream",
     "text": [
      "[0.0017707456136122346, 0.9982293248176575]\n"
     ]
    },
    {
     "data": {
      "text/html": [
       "<figcaption>./testimg/normal/20201109-101923_27YNa_1.jpg : Normal</figcaption>"
      ],
      "text/plain": [
       "<IPython.core.display.HTML object>"
      ]
     },
     "metadata": {},
     "output_type": "display_data"
    },
    {
     "name": "stdout",
     "output_type": "stream",
     "text": [
      "[9.360636613564566e-05, 0.9999064207077026]\n"
     ]
    },
    {
     "data": {
      "text/html": [
       "<figcaption>./testimg/normal/20201109-101947_27YYa_0.jpg : Normal</figcaption>"
      ],
      "text/plain": [
       "<IPython.core.display.HTML object>"
      ]
     },
     "metadata": {},
     "output_type": "display_data"
    },
    {
     "name": "stdout",
     "output_type": "stream",
     "text": [
      "[0.0007470556301996112, 0.99925297498703]\n"
     ]
    },
    {
     "data": {
      "text/html": [
       "<figcaption>./testimg/normal/20201109-101845_29YYa_1.jpg : Normal</figcaption>"
      ],
      "text/plain": [
       "<IPython.core.display.HTML object>"
      ]
     },
     "metadata": {},
     "output_type": "display_data"
    },
    {
     "name": "stdout",
     "output_type": "stream",
     "text": [
      "[9.810063602344599e-06, 0.9999902248382568]\n"
     ]
    },
    {
     "data": {
      "text/html": [
       "<figcaption>./testimg/normal/20201109-101642_10YYa_0.jpg : Normal</figcaption>"
      ],
      "text/plain": [
       "<IPython.core.display.HTML object>"
      ]
     },
     "metadata": {},
     "output_type": "display_data"
    },
    {
     "name": "stdout",
     "output_type": "stream",
     "text": [
      "[0.04213523864746094, 0.9578647613525391]\n"
     ]
    },
    {
     "data": {
      "text/html": [
       "<figcaption>./testimg/normal/20201109-101630_03YYa_1.jpg : Normal</figcaption>"
      ],
      "text/plain": [
       "<IPython.core.display.HTML object>"
      ]
     },
     "metadata": {},
     "output_type": "display_data"
    },
    {
     "name": "stdout",
     "output_type": "stream",
     "text": [
      "[0.003018662566319108, 0.9969813227653503]\n"
     ]
    },
    {
     "data": {
      "text/html": [
       "<figcaption>./testimg/normal/20201109-101743_09YNa_1.jpg : Normal</figcaption>"
      ],
      "text/plain": [
       "<IPython.core.display.HTML object>"
      ]
     },
     "metadata": {},
     "output_type": "display_data"
    },
    {
     "name": "stdout",
     "output_type": "stream",
     "text": [
      "[0.00023778418835718185, 0.999762237071991]\n"
     ]
    },
    {
     "data": {
      "text/html": [
       "<figcaption>./testimg/normal/20201109-101910_11YYa_1.jpg : Normal</figcaption>"
      ],
      "text/plain": [
       "<IPython.core.display.HTML object>"
      ]
     },
     "metadata": {},
     "output_type": "display_data"
    },
    {
     "name": "stdout",
     "output_type": "stream",
     "text": [
      "[9.623871846997645e-06, 0.9999903440475464]\n"
     ]
    },
    {
     "data": {
      "text/html": [
       "<figcaption>./testimg/normal/20201109-101947_09YYa_0.jpg : Normal</figcaption>"
      ],
      "text/plain": [
       "<IPython.core.display.HTML object>"
      ]
     },
     "metadata": {},
     "output_type": "display_data"
    },
    {
     "name": "stdout",
     "output_type": "stream",
     "text": [
      "[0.11921438574790955, 0.8807856440544128]\n"
     ]
    },
    {
     "data": {
      "text/html": [
       "<figcaption>./testimg/normal/20201109-101655_16YNa_1.jpg : Normal</figcaption>"
      ],
      "text/plain": [
       "<IPython.core.display.HTML object>"
      ]
     },
     "metadata": {},
     "output_type": "display_data"
    },
    {
     "name": "stdout",
     "output_type": "stream",
     "text": [
      "[0.013496815226972103, 0.9865031242370605]\n"
     ]
    },
    {
     "data": {
      "text/html": [
       "<figcaption>./testimg/normal/20201109-101857_18YYa_0.jpg : Normal</figcaption>"
      ],
      "text/plain": [
       "<IPython.core.display.HTML object>"
      ]
     },
     "metadata": {},
     "output_type": "display_data"
    },
    {
     "name": "stdout",
     "output_type": "stream",
     "text": [
      "[0.0002335178287466988, 0.9997665286064148]\n"
     ]
    },
    {
     "data": {
      "text/html": [
       "<figcaption>./testimg/normal/20201109-101910_21YYa_0.jpg : Normal</figcaption>"
      ],
      "text/plain": [
       "<IPython.core.display.HTML object>"
      ]
     },
     "metadata": {},
     "output_type": "display_data"
    },
    {
     "name": "stdout",
     "output_type": "stream",
     "text": [
      "[0.08852063119411469, 0.9114793539047241]\n"
     ]
    },
    {
     "data": {
      "text/html": [
       "<figcaption>./testimg/normal/20201109-101716_18YNa_1.jpg : Normal</figcaption>"
      ],
      "text/plain": [
       "<IPython.core.display.HTML object>"
      ]
     },
     "metadata": {},
     "output_type": "display_data"
    },
    {
     "name": "stdout",
     "output_type": "stream",
     "text": [
      "[1.4212516816769494e-06, 0.9999985694885254]\n"
     ]
    },
    {
     "data": {
      "text/html": [
       "<figcaption>./testimg/normal/20201109-101630_13YYa_0.jpg : Normal</figcaption>"
      ],
      "text/plain": [
       "<IPython.core.display.HTML object>"
      ]
     },
     "metadata": {},
     "output_type": "display_data"
    },
    {
     "name": "stdout",
     "output_type": "stream",
     "text": [
      "[0.0010467470856383443, 0.9989532232284546]\n"
     ]
    },
    {
     "data": {
      "text/html": [
       "<figcaption>./testimg/normal/20201109-101808_17YNa_0.jpg : Normal</figcaption>"
      ],
      "text/plain": [
       "<IPython.core.display.HTML object>"
      ]
     },
     "metadata": {},
     "output_type": "display_data"
    },
    {
     "name": "stdout",
     "output_type": "stream",
     "text": [
      "[0.004175866022706032, 0.9958240985870361]\n"
     ]
    },
    {
     "data": {
      "text/html": [
       "<figcaption>./testimg/normal/20201109-101857_26YYa_1.jpg : Normal</figcaption>"
      ],
      "text/plain": [
       "<IPython.core.display.HTML object>"
      ]
     },
     "metadata": {},
     "output_type": "display_data"
    },
    {
     "name": "stdout",
     "output_type": "stream",
     "text": [
      "[0.020613035187125206, 0.9793869853019714]\n"
     ]
    },
    {
     "data": {
      "text/html": [
       "<figcaption>./testimg/normal/20201109-101947_17YYa_1.jpg : Normal</figcaption>"
      ],
      "text/plain": [
       "<IPython.core.display.HTML object>"
      ]
     },
     "metadata": {},
     "output_type": "display_data"
    },
    {
     "name": "stdout",
     "output_type": "stream",
     "text": [
      "[0.0661274790763855, 0.9338725209236145]\n"
     ]
    },
    {
     "data": {
      "text/html": [
       "<figcaption>./testimg/normal/20201109-101602_04YYa_1.jpg : Normal</figcaption>"
      ],
      "text/plain": [
       "<IPython.core.display.HTML object>"
      ]
     },
     "metadata": {},
     "output_type": "display_data"
    },
    {
     "name": "stdout",
     "output_type": "stream",
     "text": [
      "[0.00047500344226136804, 0.9995249509811401]\n"
     ]
    },
    {
     "data": {
      "text/html": [
       "<figcaption>./testimg/normal/20201109-101757_22YNa_1.jpg : Normal</figcaption>"
      ],
      "text/plain": [
       "<IPython.core.display.HTML object>"
      ]
     },
     "metadata": {},
     "output_type": "display_data"
    },
    {
     "name": "stdout",
     "output_type": "stream",
     "text": [
      "[0.011766970157623291, 0.9882330298423767]\n"
     ]
    },
    {
     "data": {
      "text/html": [
       "<figcaption>./testimg/normal/20201109-101808_16YNa_1.jpg : Normal</figcaption>"
      ],
      "text/plain": [
       "<IPython.core.display.HTML object>"
      ]
     },
     "metadata": {},
     "output_type": "display_data"
    },
    {
     "name": "stdout",
     "output_type": "stream",
     "text": [
      "[3.6580815958586754e-06, 0.9999963045120239]\n"
     ]
    },
    {
     "data": {
      "text/html": [
       "<figcaption>./testimg/normal/20201109-101731_02YYa_0.jpg : Normal</figcaption>"
      ],
      "text/plain": [
       "<IPython.core.display.HTML object>"
      ]
     },
     "metadata": {},
     "output_type": "display_data"
    },
    {
     "name": "stdout",
     "output_type": "stream",
     "text": [
      "[1.6396927094319835e-05, 0.999983549118042]\n"
     ]
    },
    {
     "data": {
      "text/html": [
       "<figcaption>./testimg/normal/20201109-101757_27YYa_1.jpg : Normal</figcaption>"
      ],
      "text/plain": [
       "<IPython.core.display.HTML object>"
      ]
     },
     "metadata": {},
     "output_type": "display_data"
    },
    {
     "name": "stdout",
     "output_type": "stream",
     "text": [
      "[0.0044245426543056965, 0.9955754280090332]\n"
     ]
    },
    {
     "data": {
      "text/html": [
       "<figcaption>./testimg/normal/20201109-101630_04YYa_0.jpg : Normal</figcaption>"
      ],
      "text/plain": [
       "<IPython.core.display.HTML object>"
      ]
     },
     "metadata": {},
     "output_type": "display_data"
    },
    {
     "name": "stdout",
     "output_type": "stream",
     "text": [
      "[0.00034174270695075393, 0.9996582269668579]\n"
     ]
    },
    {
     "data": {
      "text/html": [
       "<figcaption>./testimg/normal/20201109-101630_12YYa_1.jpg : Normal</figcaption>"
      ],
      "text/plain": [
       "<IPython.core.display.HTML object>"
      ]
     },
     "metadata": {},
     "output_type": "display_data"
    },
    {
     "name": "stdout",
     "output_type": "stream",
     "text": [
      "[0.00021657254546880722, 0.999783456325531]\n"
     ]
    },
    {
     "data": {
      "text/html": [
       "<figcaption>./testimg/normal/20201109-101923_28YNa_0.jpg : Normal</figcaption>"
      ],
      "text/plain": [
       "<IPython.core.display.HTML object>"
      ]
     },
     "metadata": {},
     "output_type": "display_data"
    },
    {
     "name": "stdout",
     "output_type": "stream",
     "text": [
      "[0.0012741903774440289, 0.9987258315086365]\n"
     ]
    },
    {
     "data": {
      "text/html": [
       "<figcaption>./testimg/normal/20201109-101935_29YYa_1.jpg : Normal</figcaption>"
      ],
      "text/plain": [
       "<IPython.core.display.HTML object>"
      ]
     },
     "metadata": {},
     "output_type": "display_data"
    },
    {
     "name": "stdout",
     "output_type": "stream",
     "text": [
      "[0.011785770766437054, 0.9882142543792725]\n"
     ]
    },
    {
     "data": {
      "text/html": [
       "<figcaption>./testimg/normal/20201109-101616_19YNa_1.jpg : Normal</figcaption>"
      ],
      "text/plain": [
       "<IPython.core.display.HTML object>"
      ]
     },
     "metadata": {},
     "output_type": "display_data"
    },
    {
     "name": "stdout",
     "output_type": "stream",
     "text": [
      "[0.0006420814897865057, 0.9993578791618347]\n"
     ]
    },
    {
     "data": {
      "text/html": [
       "<figcaption>./testimg/normal/20201109-101833_09YNa_1.jpg : Normal</figcaption>"
      ],
      "text/plain": [
       "<IPython.core.display.HTML object>"
      ]
     },
     "metadata": {},
     "output_type": "display_data"
    },
    {
     "name": "stdout",
     "output_type": "stream",
     "text": [
      "[0.0018037536647170782, 0.9981963038444519]\n"
     ]
    },
    {
     "data": {
      "text/html": [
       "<figcaption>./testimg/normal/20201109-101857_17YYa_1.jpg : Normal</figcaption>"
      ],
      "text/plain": [
       "<IPython.core.display.HTML object>"
      ]
     },
     "metadata": {},
     "output_type": "display_data"
    },
    {
     "name": "stdout",
     "output_type": "stream",
     "text": [
      "[0.013333269394934177, 0.986666738986969]\n"
     ]
    },
    {
     "data": {
      "text/html": [
       "<figcaption>./testimg/normal/20201109-101642_01YYa_0.jpg : Normal</figcaption>"
      ],
      "text/plain": [
       "<IPython.core.display.HTML object>"
      ]
     },
     "metadata": {},
     "output_type": "display_data"
    },
    {
     "name": "stdout",
     "output_type": "stream",
     "text": [
      "[0.4344958961009979, 0.5655041337013245]\n"
     ]
    },
    {
     "data": {
      "text/html": [
       "<figcaption>./testimg/normal/20201109-101947_12YNa_1.jpg : Normal</figcaption>"
      ],
      "text/plain": [
       "<IPython.core.display.HTML object>"
      ]
     },
     "metadata": {},
     "output_type": "display_data"
    },
    {
     "name": "stdout",
     "output_type": "stream",
     "text": [
      "[0.0010295831598341465, 0.9989703893661499]\n"
     ]
    },
    {
     "data": {
      "text/html": [
       "<figcaption>./testimg/normal/20201109-101757_23YNa_0.jpg : Normal</figcaption>"
      ],
      "text/plain": [
       "<IPython.core.display.HTML object>"
      ]
     },
     "metadata": {},
     "output_type": "display_data"
    },
    {
     "name": "stdout",
     "output_type": "stream",
     "text": [
      "[1.342044743068982e-05, 0.9999865293502808]\n"
     ]
    },
    {
     "data": {
      "text/html": [
       "<figcaption>./testimg/normal/20201109-101731_20YYa_0.jpg : Normal</figcaption>"
      ],
      "text/plain": [
       "<IPython.core.display.HTML object>"
      ]
     },
     "metadata": {},
     "output_type": "display_data"
    },
    {
     "name": "stdout",
     "output_type": "stream",
     "text": [
      "[1.522320781077724e-05, 0.9999847412109375]\n"
     ]
    },
    {
     "data": {
      "text/html": [
       "<figcaption>./testimg/normal/20201109-101947_18YYa_0.jpg : Normal</figcaption>"
      ],
      "text/plain": [
       "<IPython.core.display.HTML object>"
      ]
     },
     "metadata": {},
     "output_type": "display_data"
    },
    {
     "name": "stdout",
     "output_type": "stream",
     "text": [
      "[8.113931471598335e-06, 0.9999918937683105]\n"
     ]
    },
    {
     "data": {
      "text/html": [
       "<figcaption>./testimg/normal/20201109-101857_27YYa_0.jpg : Normal</figcaption>"
      ],
      "text/plain": [
       "<IPython.core.display.HTML object>"
      ]
     },
     "metadata": {},
     "output_type": "display_data"
    },
    {
     "name": "stdout",
     "output_type": "stream",
     "text": [
      "[0.0001897892652777955, 0.9998102784156799]\n"
     ]
    },
    {
     "data": {
      "text/html": [
       "<figcaption>./testimg/normal/20201109-101630_22YYa_0.jpg : Normal</figcaption>"
      ],
      "text/plain": [
       "<IPython.core.display.HTML object>"
      ]
     },
     "metadata": {},
     "output_type": "display_data"
    },
    {
     "name": "stdout",
     "output_type": "stream",
     "text": [
      "[8.473363777738996e-06, 0.9999915361404419]\n"
     ]
    },
    {
     "data": {
      "text/html": [
       "<figcaption>./testimg/normal/20201109-101655_17YNa_0.jpg : Normal</figcaption>"
      ],
      "text/plain": [
       "<IPython.core.display.HTML object>"
      ]
     },
     "metadata": {},
     "output_type": "display_data"
    },
    {
     "name": "stdout",
     "output_type": "stream",
     "text": [
      "[0.004074694123119116, 0.9959253072738647]\n"
     ]
    },
    {
     "data": {
      "text/html": [
       "<figcaption>./testimg/normal/20201109-101757_09YYa_1.jpg : Normal</figcaption>"
      ],
      "text/plain": [
       "<IPython.core.display.HTML object>"
      ]
     },
     "metadata": {},
     "output_type": "display_data"
    },
    {
     "name": "stdout",
     "output_type": "stream",
     "text": [
      "[0.00032013680902309716, 0.9996799230575562]\n"
     ]
    },
    {
     "data": {
      "text/html": [
       "<figcaption>./testimg/normal/20201109-101808_26YNa_0.jpg : Normal</figcaption>"
      ],
      "text/plain": [
       "<IPython.core.display.HTML object>"
      ]
     },
     "metadata": {},
     "output_type": "display_data"
    },
    {
     "name": "stdout",
     "output_type": "stream",
     "text": [
      "[0.00047653928049840033, 0.9995235204696655]\n"
     ]
    },
    {
     "data": {
      "text/html": [
       "<figcaption>./testimg/normal/20201109-101716_19YNa_0.jpg : Normal</figcaption>"
      ],
      "text/plain": [
       "<IPython.core.display.HTML object>"
      ]
     },
     "metadata": {},
     "output_type": "display_data"
    },
    {
     "name": "stdout",
     "output_type": "stream",
     "text": [
      "[0.0001400745677528903, 0.9998599290847778]\n"
     ]
    },
    {
     "data": {
      "text/html": [
       "<figcaption>./testimg/normal/20201109-101935_25YNa_0.jpg : Normal</figcaption>"
      ],
      "text/plain": [
       "<IPython.core.display.HTML object>"
      ]
     },
     "metadata": {},
     "output_type": "display_data"
    },
    {
     "name": "stdout",
     "output_type": "stream",
     "text": [
      "[0.0002775775210466236, 0.999722421169281]\n"
     ]
    },
    {
     "data": {
      "text/html": [
       "<figcaption>./testimg/normal/20201109-101602_13YYa_1.jpg : Normal</figcaption>"
      ],
      "text/plain": [
       "<IPython.core.display.HTML object>"
      ]
     },
     "metadata": {},
     "output_type": "display_data"
    },
    {
     "name": "stdout",
     "output_type": "stream",
     "text": [
      "[0.0015653037698939443, 0.9984347224235535]\n"
     ]
    },
    {
     "data": {
      "text/html": [
       "<figcaption>./testimg/normal/20201109-101947_26YYa_1.jpg : Normal</figcaption>"
      ],
      "text/plain": [
       "<IPython.core.display.HTML object>"
      ]
     },
     "metadata": {},
     "output_type": "display_data"
    },
    {
     "name": "stdout",
     "output_type": "stream",
     "text": [
      "[0.0013124331599101424, 0.9986875653266907]\n"
     ]
    },
    {
     "data": {
      "text/html": [
       "<figcaption>./testimg/normal/20201109-101845_25YYa_1.jpg : Normal</figcaption>"
      ],
      "text/plain": [
       "<IPython.core.display.HTML object>"
      ]
     },
     "metadata": {},
     "output_type": "display_data"
    },
    {
     "name": "stdout",
     "output_type": "stream",
     "text": [
      "[0.0014339969493448734, 0.9985659718513489]\n"
     ]
    },
    {
     "data": {
      "text/html": [
       "<figcaption>./testimg/normal/20201109-101935_16YYa_1.jpg : Normal</figcaption>"
      ],
      "text/plain": [
       "<IPython.core.display.HTML object>"
      ]
     },
     "metadata": {},
     "output_type": "display_data"
    },
    {
     "name": "stdout",
     "output_type": "stream",
     "text": [
      "[0.00224675121717155, 0.9977532029151917]\n"
     ]
    },
    {
     "data": {
      "text/html": [
       "<figcaption>./testimg/normal/20201109-101947_23YYa_0.jpg : Normal</figcaption>"
      ],
      "text/plain": [
       "<IPython.core.display.HTML object>"
      ]
     },
     "metadata": {},
     "output_type": "display_data"
    },
    {
     "name": "stdout",
     "output_type": "stream",
     "text": [
      "[0.0020035183988511562, 0.9979965090751648]\n"
     ]
    },
    {
     "data": {
      "text/html": [
       "<figcaption>./testimg/normal/20201109-101821_17YNa_1.jpg : Normal</figcaption>"
      ],
      "text/plain": [
       "<IPython.core.display.HTML object>"
      ]
     },
     "metadata": {},
     "output_type": "display_data"
    },
    {
     "name": "stdout",
     "output_type": "stream",
     "text": [
      "[0.003303376492112875, 0.9966965913772583]\n"
     ]
    },
    {
     "data": {
      "text/html": [
       "<figcaption>./testimg/normal/20201109-101857_04YYa_1.jpg : Normal</figcaption>"
      ],
      "text/plain": [
       "<IPython.core.display.HTML object>"
      ]
     },
     "metadata": {},
     "output_type": "display_data"
    },
    {
     "name": "stdout",
     "output_type": "stream",
     "text": [
      "[0.013733591884374619, 0.9862663745880127]\n"
     ]
    },
    {
     "data": {
      "text/html": [
       "<figcaption>./testimg/normal/20201109-101655_08YYa_1.jpg : Normal</figcaption>"
      ],
      "text/plain": [
       "<IPython.core.display.HTML object>"
      ]
     },
     "metadata": {},
     "output_type": "display_data"
    },
    {
     "name": "stdout",
     "output_type": "stream",
     "text": [
      "[0.0007457616738975048, 0.9992541670799255]\n"
     ]
    },
    {
     "data": {
      "text/html": [
       "<figcaption>./testimg/normal/20201109-101757_06YYa_0.jpg : Normal</figcaption>"
      ],
      "text/plain": [
       "<IPython.core.display.HTML object>"
      ]
     },
     "metadata": {},
     "output_type": "display_data"
    },
    {
     "name": "stdout",
     "output_type": "stream",
     "text": [
      "[0.018257763236761093, 0.9817422032356262]\n"
     ]
    },
    {
     "data": {
      "text/html": [
       "<figcaption>./testimg/normal/20201109-101743_05YNa_1.jpg : Normal</figcaption>"
      ],
      "text/plain": [
       "<IPython.core.display.HTML object>"
      ]
     },
     "metadata": {},
     "output_type": "display_data"
    },
    {
     "name": "stdout",
     "output_type": "stream",
     "text": [
      "[2.3909096853458323e-06, 0.999997615814209]\n"
     ]
    },
    {
     "data": {
      "text/html": [
       "<figcaption>./testimg/normal/20201109-101821_09YNa_0.jpg : Normal</figcaption>"
      ],
      "text/plain": [
       "<IPython.core.display.HTML object>"
      ]
     },
     "metadata": {},
     "output_type": "display_data"
    },
    {
     "name": "stdout",
     "output_type": "stream",
     "text": [
      "[0.043068528175354004, 0.9569315314292908]\n"
     ]
    },
    {
     "data": {
      "text/html": [
       "<figcaption>./testimg/normal/20201109-101757_14YYa_1.jpg : Normal</figcaption>"
      ],
      "text/plain": [
       "<IPython.core.display.HTML object>"
      ]
     },
     "metadata": {},
     "output_type": "display_data"
    },
    {
     "name": "stdout",
     "output_type": "stream",
     "text": [
      "[0.001343349227681756, 0.9986566305160522]\n"
     ]
    },
    {
     "data": {
      "text/html": [
       "<figcaption>./testimg/normal/20201109-101935_08YYa_0.jpg : Normal</figcaption>"
      ],
      "text/plain": [
       "<IPython.core.display.HTML object>"
      ]
     },
     "metadata": {},
     "output_type": "display_data"
    },
    {
     "name": "stdout",
     "output_type": "stream",
     "text": [
      "[2.8026281142956577e-05, 0.9999719858169556]\n"
     ]
    },
    {
     "data": {
      "text/html": [
       "<figcaption>./testimg/normal/20201109-101845_17YYa_0.jpg : Normal</figcaption>"
      ],
      "text/plain": [
       "<IPython.core.display.HTML object>"
      ]
     },
     "metadata": {},
     "output_type": "display_data"
    },
    {
     "name": "stdout",
     "output_type": "stream",
     "text": [
      "[9.826596942730248e-05, 0.9999017715454102]\n"
     ]
    },
    {
     "data": {
      "text/html": [
       "<figcaption>./testimg/normal/20201109-101743_19YYa_1.jpg : Normal</figcaption>"
      ],
      "text/plain": [
       "<IPython.core.display.HTML object>"
      ]
     },
     "metadata": {},
     "output_type": "display_data"
    },
    {
     "name": "stdout",
     "output_type": "stream",
     "text": [
      "[1.9705092199728824e-05, 0.9999803304672241]\n"
     ]
    },
    {
     "data": {
      "text/html": [
       "<figcaption>./testimg/normal/20201109-101808_03YNa_1.jpg : Normal</figcaption>"
      ],
      "text/plain": [
       "<IPython.core.display.HTML object>"
      ]
     },
     "metadata": {},
     "output_type": "display_data"
    },
    {
     "name": "stdout",
     "output_type": "stream",
     "text": [
      "[9.16110639082035e-06, 0.9999908208847046]\n"
     ]
    },
    {
     "data": {
      "text/html": [
       "<figcaption>./testimg/normal/20201109-101923_29YYa_0.jpg : Normal</figcaption>"
      ],
      "text/plain": [
       "<IPython.core.display.HTML object>"
      ]
     },
     "metadata": {},
     "output_type": "display_data"
    },
    {
     "name": "stdout",
     "output_type": "stream",
     "text": [
      "[0.007564697880297899, 0.9924352765083313]\n"
     ]
    },
    {
     "data": {
      "text/html": [
       "<figcaption>./testimg/normal/20201109-101808_09YYa_0.jpg : Normal</figcaption>"
      ],
      "text/plain": [
       "<IPython.core.display.HTML object>"
      ]
     },
     "metadata": {},
     "output_type": "display_data"
    },
    {
     "name": "stdout",
     "output_type": "stream",
     "text": [
      "[3.400185232749209e-05, 0.999966025352478]\n"
     ]
    },
    {
     "data": {
      "text/html": [
       "<figcaption>./testimg/normal/20201109-101716_28YYa_1.jpg : Normal</figcaption>"
      ],
      "text/plain": [
       "<IPython.core.display.HTML object>"
      ]
     },
     "metadata": {},
     "output_type": "display_data"
    },
    {
     "name": "stdout",
     "output_type": "stream",
     "text": [
      "[0.0008233676198869944, 0.999176561832428]\n"
     ]
    },
    {
     "data": {
      "text/html": [
       "<figcaption>./testimg/normal/20201109-101706_15YNa_1.jpg : Normal</figcaption>"
      ],
      "text/plain": [
       "<IPython.core.display.HTML object>"
      ]
     },
     "metadata": {},
     "output_type": "display_data"
    },
    {
     "name": "stdout",
     "output_type": "stream",
     "text": [
      "[0.0010641361586749554, 0.998935878276825]\n"
     ]
    },
    {
     "data": {
      "text/html": [
       "<figcaption>./testimg/normal/20201109-101616_24YNa_1.jpg : Normal</figcaption>"
      ],
      "text/plain": [
       "<IPython.core.display.HTML object>"
      ]
     },
     "metadata": {},
     "output_type": "display_data"
    },
    {
     "name": "stdout",
     "output_type": "stream",
     "text": [
      "[0.00042876703082583845, 0.9995712637901306]\n"
     ]
    },
    {
     "data": {
      "text/html": [
       "<figcaption>./testimg/normal/20201109-101535_24YNa_1.jpg : Normal</figcaption>"
      ],
      "text/plain": [
       "<IPython.core.display.HTML object>"
      ]
     },
     "metadata": {},
     "output_type": "display_data"
    },
    {
     "name": "stdout",
     "output_type": "stream",
     "text": [
      "[0.06261643767356873, 0.9373835325241089]\n"
     ]
    },
    {
     "data": {
      "text/html": [
       "<figcaption>./testimg/normal/20201109-101947_13YYa_1.jpg : Normal</figcaption>"
      ],
      "text/plain": [
       "<IPython.core.display.HTML object>"
      ]
     },
     "metadata": {},
     "output_type": "display_data"
    },
    {
     "name": "stdout",
     "output_type": "stream",
     "text": [
      "[0.00012363579298835248, 0.9998763799667358]\n"
     ]
    },
    {
     "data": {
      "text/html": [
       "<figcaption>./testimg/normal/20201109-101743_29YYa_0.jpg : Normal</figcaption>"
      ],
      "text/plain": [
       "<IPython.core.display.HTML object>"
      ]
     },
     "metadata": {},
     "output_type": "display_data"
    },
    {
     "name": "stdout",
     "output_type": "stream",
     "text": [
      "[0.008166246116161346, 0.9918338060379028]\n"
     ]
    },
    {
     "data": {
      "text/html": [
       "<figcaption>./testimg/normal/20201109-101743_23YNa_1.jpg : Normal</figcaption>"
      ],
      "text/plain": [
       "<IPython.core.display.HTML object>"
      ]
     },
     "metadata": {},
     "output_type": "display_data"
    },
    {
     "name": "stdout",
     "output_type": "stream",
     "text": [
      "[0.00106100516859442, 0.9989389777183533]\n"
     ]
    },
    {
     "data": {
      "text/html": [
       "<figcaption>./testimg/normal/20201109-101757_24YYa_0.jpg : Normal</figcaption>"
      ],
      "text/plain": [
       "<IPython.core.display.HTML object>"
      ]
     },
     "metadata": {},
     "output_type": "display_data"
    },
    {
     "name": "stdout",
     "output_type": "stream",
     "text": [
      "[0.0003612162545323372, 0.9996387958526611]\n"
     ]
    },
    {
     "data": {
      "text/html": [
       "<figcaption>./testimg/normal/20201109-101535_16YNa_0.jpg : Normal</figcaption>"
      ],
      "text/plain": [
       "<IPython.core.display.HTML object>"
      ]
     },
     "metadata": {},
     "output_type": "display_data"
    },
    {
     "name": "stdout",
     "output_type": "stream",
     "text": [
      "[0.0021073701791465282, 0.9978926777839661]\n"
     ]
    },
    {
     "data": {
      "text/html": [
       "<figcaption>./testimg/normal/20201109-101833_28YYa_1.jpg : Normal</figcaption>"
      ],
      "text/plain": [
       "<IPython.core.display.HTML object>"
      ]
     },
     "metadata": {},
     "output_type": "display_data"
    },
    {
     "name": "stdout",
     "output_type": "stream",
     "text": [
      "[0.0003710312012117356, 0.9996289014816284]\n"
     ]
    },
    {
     "data": {
      "text/html": [
       "<figcaption>./testimg/normal/20201109-101642_17YNa_0.jpg : Normal</figcaption>"
      ],
      "text/plain": [
       "<IPython.core.display.HTML object>"
      ]
     },
     "metadata": {},
     "output_type": "display_data"
    },
    {
     "name": "stdout",
     "output_type": "stream",
     "text": [
      "[0.02255439944565296, 0.9774456024169922]\n"
     ]
    },
    {
     "data": {
      "text/html": [
       "<figcaption>./testimg/normal/20201109-101923_19YYa_1.jpg : Normal</figcaption>"
      ],
      "text/plain": [
       "<IPython.core.display.HTML object>"
      ]
     },
     "metadata": {},
     "output_type": "display_data"
    },
    {
     "name": "stdout",
     "output_type": "stream",
     "text": [
      "[0.000921062717679888, 0.9990788698196411]\n"
     ]
    },
    {
     "data": {
      "text/html": [
       "<figcaption>./testimg/normal/20201109-101935_26YYa_0.jpg : Normal</figcaption>"
      ],
      "text/plain": [
       "<IPython.core.display.HTML object>"
      ]
     },
     "metadata": {},
     "output_type": "display_data"
    },
    {
     "name": "stdout",
     "output_type": "stream",
     "text": [
      "[0.0020178458653390408, 0.9979821443557739]\n"
     ]
    },
    {
     "data": {
      "text/html": [
       "<figcaption>./testimg/normal/20201109-101731_08YNa_1.jpg : Normal</figcaption>"
      ],
      "text/plain": [
       "<IPython.core.display.HTML object>"
      ]
     },
     "metadata": {},
     "output_type": "display_data"
    },
    {
     "name": "stdout",
     "output_type": "stream",
     "text": [
      "[0.0001916736800922081, 0.9998083710670471]\n"
     ]
    },
    {
     "data": {
      "text/html": [
       "<figcaption>./testimg/normal/20201109-101833_06YNa_0.jpg : Normal</figcaption>"
      ],
      "text/plain": [
       "<IPython.core.display.HTML object>"
      ]
     },
     "metadata": {},
     "output_type": "display_data"
    },
    {
     "name": "stdout",
     "output_type": "stream",
     "text": [
      "[0.00011236731370445341, 0.9998875856399536]\n"
     ]
    },
    {
     "data": {
      "text/html": [
       "<figcaption>./testimg/normal/20201109-101706_29YYa_1.jpg : Normal</figcaption>"
      ],
      "text/plain": [
       "<IPython.core.display.HTML object>"
      ]
     },
     "metadata": {},
     "output_type": "display_data"
    },
    {
     "name": "stdout",
     "output_type": "stream",
     "text": [
      "[0.019065091386437416, 0.9809349179267883]\n"
     ]
    },
    {
     "data": {
      "text/html": [
       "<figcaption>./testimg/normal/20201109-101845_07YYa_1.jpg : Normal</figcaption>"
      ],
      "text/plain": [
       "<IPython.core.display.HTML object>"
      ]
     },
     "metadata": {},
     "output_type": "display_data"
    },
    {
     "name": "stdout",
     "output_type": "stream",
     "text": [
      "[0.0005754423327744007, 0.9994245767593384]\n"
     ]
    },
    {
     "data": {
      "text/html": [
       "<figcaption>./testimg/normal/20201109-101910_18YNa_1.jpg : Normal</figcaption>"
      ],
      "text/plain": [
       "<IPython.core.display.HTML object>"
      ]
     },
     "metadata": {},
     "output_type": "display_data"
    },
    {
     "name": "stdout",
     "output_type": "stream",
     "text": [
      "[6.557966844411567e-05, 0.9999344348907471]\n"
     ]
    },
    {
     "data": {
      "text/html": [
       "<figcaption>./testimg/normal/20201109-101857_14YYa_0.jpg : Normal</figcaption>"
      ],
      "text/plain": [
       "<IPython.core.display.HTML object>"
      ]
     },
     "metadata": {},
     "output_type": "display_data"
    },
    {
     "name": "stdout",
     "output_type": "stream",
     "text": [
      "[0.0002283783833263442, 0.9997716546058655]\n"
     ]
    },
    {
     "data": {
      "text/html": [
       "<figcaption>./testimg/normal/20201109-101535_15YNa_1.jpg : Normal</figcaption>"
      ],
      "text/plain": [
       "<IPython.core.display.HTML object>"
      ]
     },
     "metadata": {},
     "output_type": "display_data"
    },
    {
     "name": "stdout",
     "output_type": "stream",
     "text": [
      "[7.405592896247981e-06, 0.9999926090240479]\n"
     ]
    },
    {
     "data": {
      "text/html": [
       "<figcaption>./testimg/normal/20201109-101923_24YNa_0.jpg : Normal</figcaption>"
      ],
      "text/plain": [
       "<IPython.core.display.HTML object>"
      ]
     },
     "metadata": {},
     "output_type": "display_data"
    },
    {
     "name": "stdout",
     "output_type": "stream",
     "text": [
      "[0.0019640959799289703, 0.9980359673500061]\n"
     ]
    },
    {
     "data": {
      "text/html": [
       "<figcaption>./testimg/normal/20201109-101706_06YNa_1.jpg : Normal</figcaption>"
      ],
      "text/plain": [
       "<IPython.core.display.HTML object>"
      ]
     },
     "metadata": {},
     "output_type": "display_data"
    },
    {
     "name": "stdout",
     "output_type": "stream",
     "text": [
      "[0.00015087869542185217, 0.9998490810394287]\n"
     ]
    },
    {
     "data": {
      "text/html": [
       "<figcaption>./testimg/normal/20201109-101642_16YNa_1.jpg : Normal</figcaption>"
      ],
      "text/plain": [
       "<IPython.core.display.HTML object>"
      ]
     },
     "metadata": {},
     "output_type": "display_data"
    },
    {
     "name": "stdout",
     "output_type": "stream",
     "text": [
      "[6.481667514890432e-05, 0.9999351501464844]\n"
     ]
    },
    {
     "data": {
      "text/html": [
       "<figcaption>./testimg/normal/20201109-101808_04YNa_0.jpg : Normal</figcaption>"
      ],
      "text/plain": [
       "<IPython.core.display.HTML object>"
      ]
     },
     "metadata": {},
     "output_type": "display_data"
    },
    {
     "name": "stdout",
     "output_type": "stream",
     "text": [
      "[7.305476174224168e-05, 0.9999269247055054]\n"
     ]
    },
    {
     "data": {
      "text/html": [
       "<figcaption>./testimg/normal/20201109-101757_15YYa_0.jpg : Normal</figcaption>"
      ],
      "text/plain": [
       "<IPython.core.display.HTML object>"
      ]
     },
     "metadata": {},
     "output_type": "display_data"
    },
    {
     "name": "stdout",
     "output_type": "stream",
     "text": [
      "[0.0002165374462492764, 0.999783456325531]\n"
     ]
    },
    {
     "data": {
      "text/html": [
       "<figcaption>./testimg/normal/20201109-101833_05YNa_1.jpg : Normal</figcaption>"
      ],
      "text/plain": [
       "<IPython.core.display.HTML object>"
      ]
     },
     "metadata": {},
     "output_type": "display_data"
    },
    {
     "name": "stdout",
     "output_type": "stream",
     "text": [
      "[0.0022750727366656065, 0.9977249503135681]\n"
     ]
    },
    {
     "data": {
      "text/html": [
       "<figcaption>./testimg/normal/20201109-101947_04YYa_1.jpg : Normal</figcaption>"
      ],
      "text/plain": [
       "<IPython.core.display.HTML object>"
      ]
     },
     "metadata": {},
     "output_type": "display_data"
    },
    {
     "name": "stdout",
     "output_type": "stream",
     "text": [
      "[0.000199327347218059, 0.9998007416725159]\n"
     ]
    },
    {
     "data": {
      "text/html": [
       "<figcaption>./testimg/normal/20201109-101857_13YYa_1.jpg : Normal</figcaption>"
      ],
      "text/plain": [
       "<IPython.core.display.HTML object>"
      ]
     },
     "metadata": {},
     "output_type": "display_data"
    },
    {
     "name": "stdout",
     "output_type": "stream",
     "text": [
      "[0.0033200758043676615, 0.9966799020767212]\n"
     ]
    },
    {
     "data": {
      "text/html": [
       "<figcaption>./testimg/normal/20201109-101833_19YYa_1.jpg : Normal</figcaption>"
      ],
      "text/plain": [
       "<IPython.core.display.HTML object>"
      ]
     },
     "metadata": {},
     "output_type": "display_data"
    },
    {
     "name": "stdout",
     "output_type": "stream",
     "text": [
      "[0.01273454912006855, 0.9872654676437378]\n"
     ]
    },
    {
     "data": {
      "text/html": [
       "<figcaption>./testimg/normal/20201109-101743_28YYa_1.jpg : Normal</figcaption>"
      ],
      "text/plain": [
       "<IPython.core.display.HTML object>"
      ]
     },
     "metadata": {},
     "output_type": "display_data"
    },
    {
     "name": "stdout",
     "output_type": "stream",
     "text": [
      "[6.804039003327489e-06, 0.9999932050704956]\n"
     ]
    },
    {
     "data": {
      "text/html": [
       "<figcaption>./testimg/normal/20201109-101935_17YYa_0.jpg : Normal</figcaption>"
      ],
      "text/plain": [
       "<IPython.core.display.HTML object>"
      ]
     },
     "metadata": {},
     "output_type": "display_data"
    },
    {
     "name": "stdout",
     "output_type": "stream",
     "text": [
      "[0.0026193447411060333, 0.9973806738853455]\n"
     ]
    },
    {
     "data": {
      "text/html": [
       "<figcaption>./testimg/normal/20201109-101845_26YYa_0.jpg : Normal</figcaption>"
      ],
      "text/plain": [
       "<IPython.core.display.HTML object>"
      ]
     },
     "metadata": {},
     "output_type": "display_data"
    },
    {
     "name": "stdout",
     "output_type": "stream",
     "text": [
      "[0.00010400782048236579, 0.9998959302902222]\n"
     ]
    },
    {
     "data": {
      "text/html": [
       "<figcaption>./testimg/normal/20201109-101821_18YNa_0.jpg : Normal</figcaption>"
      ],
      "text/plain": [
       "<IPython.core.display.HTML object>"
      ]
     },
     "metadata": {},
     "output_type": "display_data"
    },
    {
     "name": "stdout",
     "output_type": "stream",
     "text": [
      "[0.00030609365785494447, 0.9996939897537231]\n"
     ]
    },
    {
     "data": {
      "text/html": [
       "<figcaption>./testimg/normal/20201109-101616_29YYa_1.jpg : Normal</figcaption>"
      ],
      "text/plain": [
       "<IPython.core.display.HTML object>"
      ]
     },
     "metadata": {},
     "output_type": "display_data"
    },
    {
     "name": "stdout",
     "output_type": "stream",
     "text": [
      "[0.00088289356790483, 0.9991170763969421]\n"
     ]
    },
    {
     "data": {
      "text/html": [
       "<figcaption>./testimg/normal/20201109-101743_06YNa_0.jpg : Normal</figcaption>"
      ],
      "text/plain": [
       "<IPython.core.display.HTML object>"
      ]
     },
     "metadata": {},
     "output_type": "display_data"
    },
    {
     "name": "stdout",
     "output_type": "stream",
     "text": [
      "[0.015408489853143692, 0.9845914840698242]\n"
     ]
    },
    {
     "data": {
      "text/html": [
       "<figcaption>./testimg/normal/20201109-101808_12YNa_1.jpg : Normal</figcaption>"
      ],
      "text/plain": [
       "<IPython.core.display.HTML object>"
      ]
     },
     "metadata": {},
     "output_type": "display_data"
    },
    {
     "name": "stdout",
     "output_type": "stream",
     "text": [
      "[0.011922585777938366, 0.9880774021148682]\n"
     ]
    },
    {
     "data": {
      "text/html": [
       "<figcaption>./testimg/normal/20201109-101535_29YYa_1.jpg : Normal</figcaption>"
      ],
      "text/plain": [
       "<IPython.core.display.HTML object>"
      ]
     },
     "metadata": {},
     "output_type": "display_data"
    },
    {
     "name": "stdout",
     "output_type": "stream",
     "text": [
      "[1.1410531442379579e-05, 0.9999885559082031]\n"
     ]
    },
    {
     "data": {
      "text/html": [
       "<figcaption>./testimg/normal/20201109-101655_09YYa_0.jpg : Normal</figcaption>"
      ],
      "text/plain": [
       "<IPython.core.display.HTML object>"
      ]
     },
     "metadata": {},
     "output_type": "display_data"
    },
    {
     "name": "stdout",
     "output_type": "stream",
     "text": [
      "[4.3039449337811675e-06, 0.9999957084655762]\n"
     ]
    },
    {
     "data": {
      "text/html": [
       "<figcaption>./testimg/normal/20201109-101845_08YYa_0.jpg : Normal</figcaption>"
      ],
      "text/plain": [
       "<IPython.core.display.HTML object>"
      ]
     },
     "metadata": {},
     "output_type": "display_data"
    },
    {
     "name": "stdout",
     "output_type": "stream",
     "text": [
      "[6.755327376595233e-06, 0.9999932050704956]\n"
     ]
    },
    {
     "data": {
      "text/html": [
       "<figcaption>./testimg/normal/20201109-101910_19YNa_0.jpg : Normal</figcaption>"
      ],
      "text/plain": [
       "<IPython.core.display.HTML object>"
      ]
     },
     "metadata": {},
     "output_type": "display_data"
    },
    {
     "name": "stdout",
     "output_type": "stream",
     "text": [
      "[0.003310767002403736, 0.9966892600059509]\n"
     ]
    },
    {
     "data": {
      "text/html": [
       "<figcaption>./testimg/normal/20201109-101757_05YYa_1.jpg : Normal</figcaption>"
      ],
      "text/plain": [
       "<IPython.core.display.HTML object>"
      ]
     },
     "metadata": {},
     "output_type": "display_data"
    },
    {
     "name": "stdout",
     "output_type": "stream",
     "text": [
      "[7.94728402979672e-05, 0.9999204874038696]\n"
     ]
    },
    {
     "data": {
      "text/html": [
       "<figcaption>./testimg/normal/20201109-101731_09YNa_0.jpg : Normal</figcaption>"
      ],
      "text/plain": [
       "<IPython.core.display.HTML object>"
      ]
     },
     "metadata": {},
     "output_type": "display_data"
    },
    {
     "name": "stdout",
     "output_type": "stream",
     "text": [
      "[3.034517794731073e-05, 0.9999696016311646]\n"
     ]
    },
    {
     "data": {
      "text/html": [
       "<figcaption>./testimg/normal/20201109-101935_21YNa_0.jpg : Normal</figcaption>"
      ],
      "text/plain": [
       "<IPython.core.display.HTML object>"
      ]
     },
     "metadata": {},
     "output_type": "display_data"
    },
    {
     "name": "stdout",
     "output_type": "stream",
     "text": [
      "[0.0012483258033171296, 0.9987516403198242]\n"
     ]
    },
    {
     "data": {
      "text/html": [
       "<figcaption>./testimg/normal/20201109-101923_14YNa_1.jpg : Normal</figcaption>"
      ],
      "text/plain": [
       "<IPython.core.display.HTML object>"
      ]
     },
     "metadata": {},
     "output_type": "display_data"
    },
    {
     "name": "stdout",
     "output_type": "stream",
     "text": [
      "[0.00746290385723114, 0.9925370812416077]\n"
     ]
    },
    {
     "data": {
      "text/html": [
       "<figcaption>./testimg/normal/20201109-101947_22YYa_1.jpg : Normal</figcaption>"
      ],
      "text/plain": [
       "<IPython.core.display.HTML object>"
      ]
     },
     "metadata": {},
     "output_type": "display_data"
    },
    {
     "name": "stdout",
     "output_type": "stream",
     "text": [
      "[1.9349601643625647e-05, 0.9999806880950928]\n"
     ]
    },
    {
     "data": {
      "text/html": [
       "<figcaption>./testimg/normal/20201109-101833_29YYa_0.jpg : Normal</figcaption>"
      ],
      "text/plain": [
       "<IPython.core.display.HTML object>"
      ]
     },
     "metadata": {},
     "output_type": "display_data"
    },
    {
     "name": "stdout",
     "output_type": "stream",
     "text": [
      "[1.6373738617403433e-05, 0.9999836683273315]\n"
     ]
    },
    {
     "data": {
      "text/html": [
       "<figcaption>./testimg/normal/20201109-101616_25YNa_0.jpg : Normal</figcaption>"
      ],
      "text/plain": [
       "<IPython.core.display.HTML object>"
      ]
     },
     "metadata": {},
     "output_type": "display_data"
    },
    {
     "name": "stdout",
     "output_type": "stream",
     "text": [
      "[0.19791799783706665, 0.8020820021629333]\n"
     ]
    },
    {
     "data": {
      "text/html": [
       "<figcaption>./testimg/normal/20201109-101716_23YNa_1.jpg : Normal</figcaption>"
      ],
      "text/plain": [
       "<IPython.core.display.HTML object>"
      ]
     },
     "metadata": {},
     "output_type": "display_data"
    },
    {
     "name": "stdout",
     "output_type": "stream",
     "text": [
      "[0.00010209538595518097, 0.999897837638855]\n"
     ]
    },
    {
     "data": {
      "text/html": [
       "<figcaption>./testimg/normal/20201109-101535_25YNa_0.jpg : Normal</figcaption>"
      ],
      "text/plain": [
       "<IPython.core.display.HTML object>"
      ]
     },
     "metadata": {},
     "output_type": "display_data"
    },
    {
     "name": "stdout",
     "output_type": "stream",
     "text": [
      "[0.00029462718521244824, 0.9997053742408752]\n"
     ]
    },
    {
     "data": {
      "text/html": [
       "<figcaption>./testimg/normal/20201109-101808_08YYa_1.jpg : Normal</figcaption>"
      ],
      "text/plain": [
       "<IPython.core.display.HTML object>"
      ]
     },
     "metadata": {},
     "output_type": "display_data"
    },
    {
     "name": "stdout",
     "output_type": "stream",
     "text": [
      "[0.00025798598653636873, 0.9997419714927673]\n"
     ]
    },
    {
     "data": {
      "text/html": [
       "<figcaption>./testimg/normal/20201109-101947_14YYa_0.jpg : Normal</figcaption>"
      ],
      "text/plain": [
       "<IPython.core.display.HTML object>"
      ]
     },
     "metadata": {},
     "output_type": "display_data"
    },
    {
     "name": "stdout",
     "output_type": "stream",
     "text": [
      "[0.00020655695698224008, 0.9997934699058533]\n"
     ]
    },
    {
     "data": {
      "text/html": [
       "<figcaption>./testimg/normal/20201109-101857_23YYa_0.jpg : Normal</figcaption>"
      ],
      "text/plain": [
       "<IPython.core.display.HTML object>"
      ]
     },
     "metadata": {},
     "output_type": "display_data"
    },
    {
     "name": "stdout",
     "output_type": "stream",
     "text": [
      "[0.001682658214122057, 0.9983173608779907]\n"
     ]
    },
    {
     "data": {
      "text/html": [
       "<figcaption>./testimg/normal/20201109-101935_07YYa_1.jpg : Normal</figcaption>"
      ],
      "text/plain": [
       "<IPython.core.display.HTML object>"
      ]
     },
     "metadata": {},
     "output_type": "display_data"
    },
    {
     "name": "stdout",
     "output_type": "stream",
     "text": [
      "[0.0007172562764026225, 0.9992827773094177]\n"
     ]
    },
    {
     "data": {
      "text/html": [
       "<figcaption>./testimg/normal/20201109-101845_16YYa_1.jpg : Normal</figcaption>"
      ],
      "text/plain": [
       "<IPython.core.display.HTML object>"
      ]
     },
     "metadata": {},
     "output_type": "display_data"
    },
    {
     "name": "stdout",
     "output_type": "stream",
     "text": [
      "[0.00012855423847213387, 0.9998713731765747]\n"
     ]
    },
    {
     "data": {
      "text/html": [
       "<figcaption>./testimg/normal/20201109-101821_08YNa_1.jpg : Normal</figcaption>"
      ],
      "text/plain": [
       "<IPython.core.display.HTML object>"
      ]
     },
     "metadata": {},
     "output_type": "display_data"
    },
    {
     "name": "stdout",
     "output_type": "stream",
     "text": [
      "[0.002318792277947068, 0.9976811408996582]\n"
     ]
    },
    {
     "data": {
      "text/html": [
       "<figcaption>./testimg/normal/20201109-101743_24YNa_0.jpg : Normal</figcaption>"
      ],
      "text/plain": [
       "<IPython.core.display.HTML object>"
      ]
     },
     "metadata": {},
     "output_type": "display_data"
    },
    {
     "name": "stdout",
     "output_type": "stream",
     "text": [
      "[0.0013869332615286112, 0.9986129999160767]\n"
     ]
    },
    {
     "data": {
      "text/html": [
       "<figcaption>./testimg/normal/20201109-101731_05YYa_1.jpg : Normal</figcaption>"
      ],
      "text/plain": [
       "<IPython.core.display.HTML object>"
      ]
     },
     "metadata": {},
     "output_type": "display_data"
    },
    {
     "name": "stdout",
     "output_type": "stream",
     "text": [
      "[0.015106892213225365, 0.9848930835723877]\n"
     ]
    },
    {
     "data": {
      "text/html": [
       "<figcaption>./testimg/normal/20201109-101716_11YYa_1.jpg : Normal</figcaption>"
      ],
      "text/plain": [
       "<IPython.core.display.HTML object>"
      ]
     },
     "metadata": {},
     "output_type": "display_data"
    },
    {
     "name": "stdout",
     "output_type": "stream",
     "text": [
      "[0.0004118818324059248, 0.9995880722999573]\n"
     ]
    },
    {
     "data": {
      "text/html": [
       "<figcaption>./testimg/normal/20201109-101630_07YYa_1.jpg : Normal</figcaption>"
      ],
      "text/plain": [
       "<IPython.core.display.HTML object>"
      ]
     },
     "metadata": {},
     "output_type": "display_data"
    },
    {
     "name": "stdout",
     "output_type": "stream",
     "text": [
      "[0.0005276966257952154, 0.9994723200798035]\n"
     ]
    },
    {
     "data": {
      "text/html": [
       "<figcaption>./testimg/normal/20201109-101706_04YYa_0.jpg : Normal</figcaption>"
      ],
      "text/plain": [
       "<IPython.core.display.HTML object>"
      ]
     },
     "metadata": {},
     "output_type": "display_data"
    },
    {
     "name": "stdout",
     "output_type": "stream",
     "text": [
      "[0.0002893955970648676, 0.9997106194496155]\n"
     ]
    },
    {
     "data": {
      "text/html": [
       "<figcaption>./testimg/normal/20201109-101910_01YNa_1.jpg : Normal</figcaption>"
      ],
      "text/plain": [
       "<IPython.core.display.HTML object>"
      ]
     },
     "metadata": {},
     "output_type": "display_data"
    },
    {
     "name": "stdout",
     "output_type": "stream",
     "text": [
      "[0.00023846393742132932, 0.9997615218162537]\n"
     ]
    },
    {
     "data": {
      "text/html": [
       "<figcaption>./testimg/normal/20201109-101808_10YYa_0.jpg : Normal</figcaption>"
      ],
      "text/plain": [
       "<IPython.core.display.HTML object>"
      ]
     },
     "metadata": {},
     "output_type": "display_data"
    },
    {
     "name": "stdout",
     "output_type": "stream",
     "text": [
      "[0.0003777589008677751, 0.9996222257614136]\n"
     ]
    },
    {
     "data": {
      "text/html": [
       "<figcaption>./testimg/normal/20201109-101642_22YYa_1.jpg : Normal</figcaption>"
      ],
      "text/plain": [
       "<IPython.core.display.HTML object>"
      ]
     },
     "metadata": {},
     "output_type": "display_data"
    },
    {
     "name": "stdout",
     "output_type": "stream",
     "text": [
      "[0.00014748111425433308, 0.9998525381088257]\n"
     ]
    },
    {
     "data": {
      "text/html": [
       "<figcaption>./testimg/normal/20201109-101910_07YYa_0.jpg : Normal</figcaption>"
      ],
      "text/plain": [
       "<IPython.core.display.HTML object>"
      ]
     },
     "metadata": {},
     "output_type": "display_data"
    },
    {
     "name": "stdout",
     "output_type": "stream",
     "text": [
      "[0.0007373688276857138, 0.9992626309394836]\n"
     ]
    },
    {
     "data": {
      "text/html": [
       "<figcaption>./testimg/normal/20201109-101602_26YYa_1.jpg : Normal</figcaption>"
      ],
      "text/plain": [
       "<IPython.core.display.HTML object>"
      ]
     },
     "metadata": {},
     "output_type": "display_data"
    },
    {
     "name": "stdout",
     "output_type": "stream",
     "text": [
      "[0.07603375613689423, 0.9239662289619446]\n"
     ]
    },
    {
     "data": {
      "text/html": [
       "<figcaption>./testimg/normal/20201109-101535_21YYa_1.jpg : Normal</figcaption>"
      ],
      "text/plain": [
       "<IPython.core.display.HTML object>"
      ]
     },
     "metadata": {},
     "output_type": "display_data"
    },
    {
     "name": "stdout",
     "output_type": "stream",
     "text": [
      "[0.0010594114428386092, 0.998940646648407]\n"
     ]
    },
    {
     "data": {
      "text/html": [
       "<figcaption>./testimg/normal/20201109-101655_01YYa_0.jpg : Normal</figcaption>"
      ],
      "text/plain": [
       "<IPython.core.display.HTML object>"
      ]
     },
     "metadata": {},
     "output_type": "display_data"
    },
    {
     "name": "stdout",
     "output_type": "stream",
     "text": [
      "[3.1432169635081664e-05, 0.9999685287475586]\n"
     ]
    },
    {
     "data": {
      "text/html": [
       "<figcaption>./testimg/normal/20201109-101630_21YNa_0.jpg : Normal</figcaption>"
      ],
      "text/plain": [
       "<IPython.core.display.HTML object>"
      ]
     },
     "metadata": {},
     "output_type": "display_data"
    },
    {
     "name": "stdout",
     "output_type": "stream",
     "text": [
      "[2.0878085706499405e-05, 0.9999791383743286]\n"
     ]
    },
    {
     "data": {
      "text/html": [
       "<figcaption>./testimg/normal/20201109-101821_10YNa_0.jpg : Normal</figcaption>"
      ],
      "text/plain": [
       "<IPython.core.display.HTML object>"
      ]
     },
     "metadata": {},
     "output_type": "display_data"
    },
    {
     "name": "stdout",
     "output_type": "stream",
     "text": [
      "[0.0011894216295331717, 0.9988106489181519]\n"
     ]
    },
    {
     "data": {
      "text/html": [
       "<figcaption>./testimg/normal/20201109-101833_11YYa_1.jpg : Normal</figcaption>"
      ],
      "text/plain": [
       "<IPython.core.display.HTML object>"
      ]
     },
     "metadata": {},
     "output_type": "display_data"
    },
    {
     "name": "stdout",
     "output_type": "stream",
     "text": [
      "[0.012024950236082077, 0.9879750609397888]\n"
     ]
    },
    {
     "data": {
      "text/html": [
       "<figcaption>./testimg/normal/20201109-101923_02YYa_1.jpg : Normal</figcaption>"
      ],
      "text/plain": [
       "<IPython.core.display.HTML object>"
      ]
     },
     "metadata": {},
     "output_type": "display_data"
    },
    {
     "name": "stdout",
     "output_type": "stream",
     "text": [
      "[0.00015740504022687674, 0.9998425245285034]\n"
     ]
    },
    {
     "data": {
      "text/html": [
       "<figcaption>./testimg/normal/20201109-101716_03YYa_0.jpg : Normal</figcaption>"
      ],
      "text/plain": [
       "<IPython.core.display.HTML object>"
      ]
     },
     "metadata": {},
     "output_type": "display_data"
    },
    {
     "name": "stdout",
     "output_type": "stream",
     "text": [
      "[0.03858520835638046, 0.9614148736000061]\n"
     ]
    },
    {
     "data": {
      "text/html": [
       "<figcaption>./testimg/normal/20201109-101616_03YYa_1.jpg : Normal</figcaption>"
      ],
      "text/plain": [
       "<IPython.core.display.HTML object>"
      ]
     },
     "metadata": {},
     "output_type": "display_data"
    },
    {
     "name": "stdout",
     "output_type": "stream",
     "text": [
      "[0.0017580405110493302, 0.9982420206069946]\n"
     ]
    },
    {
     "data": {
      "text/html": [
       "<figcaption>./testimg/normal/20201109-101731_23YYa_1.jpg : Normal</figcaption>"
      ],
      "text/plain": [
       "<IPython.core.display.HTML object>"
      ]
     },
     "metadata": {},
     "output_type": "display_data"
    },
    {
     "name": "stdout",
     "output_type": "stream",
     "text": [
      "[0.024672536179423332, 0.9753274321556091]\n"
     ]
    },
    {
     "data": {
      "text/html": [
       "<figcaption>./testimg/normal/20201109-101821_14YYa_1.jpg : Normal</figcaption>"
      ],
      "text/plain": [
       "<IPython.core.display.HTML object>"
      ]
     },
     "metadata": {},
     "output_type": "display_data"
    },
    {
     "name": "stdout",
     "output_type": "stream",
     "text": [
      "[7.361260941252112e-05, 0.9999263286590576]\n"
     ]
    },
    {
     "data": {
      "text/html": [
       "<figcaption>./testimg/normal/20201109-101833_21YYa_0.jpg : Normal</figcaption>"
      ],
      "text/plain": [
       "<IPython.core.display.HTML object>"
      ]
     },
     "metadata": {},
     "output_type": "display_data"
    },
    {
     "name": "stdout",
     "output_type": "stream",
     "text": [
      "[4.8709935072110966e-05, 0.9999512434005737]\n"
     ]
    },
    {
     "data": {
      "text/html": [
       "<figcaption>./testimg/normal/20201109-101857_08YNa_0.jpg : Normal</figcaption>"
      ],
      "text/plain": [
       "<IPython.core.display.HTML object>"
      ]
     },
     "metadata": {},
     "output_type": "display_data"
    },
    {
     "name": "stdout",
     "output_type": "stream",
     "text": [
      "[0.00212144129909575, 0.9978785514831543]\n"
     ]
    },
    {
     "data": {
      "text/html": [
       "<figcaption>./testimg/normal/20201109-101743_02YYa_1.jpg : Normal</figcaption>"
      ],
      "text/plain": [
       "<IPython.core.display.HTML object>"
      ]
     },
     "metadata": {},
     "output_type": "display_data"
    },
    {
     "name": "stdout",
     "output_type": "stream",
     "text": [
      "[0.00020853462046943605, 0.9997914433479309]\n"
     ]
    },
    {
     "data": {
      "text/html": [
       "<figcaption>./testimg/normal/20201109-101706_22YYa_0.jpg : Normal</figcaption>"
      ],
      "text/plain": [
       "<IPython.core.display.HTML object>"
      ]
     },
     "metadata": {},
     "output_type": "display_data"
    },
    {
     "name": "stdout",
     "output_type": "stream",
     "text": [
      "[0.00013628341548610479, 0.9998637437820435]\n"
     ]
    },
    {
     "data": {
      "text/html": [
       "<figcaption>./testimg/normal/20201109-101757_18YNa_0.jpg : Normal</figcaption>"
      ],
      "text/plain": [
       "<IPython.core.display.HTML object>"
      ]
     },
     "metadata": {},
     "output_type": "display_data"
    },
    {
     "name": "stdout",
     "output_type": "stream",
     "text": [
      "[9.263386573366006e-07, 0.9999990463256836]\n"
     ]
    },
    {
     "data": {
      "text/html": [
       "<figcaption>./testimg/normal/20201109-101731_15YYa_0.jpg : Normal</figcaption>"
      ],
      "text/plain": [
       "<IPython.core.display.HTML object>"
      ]
     },
     "metadata": {},
     "output_type": "display_data"
    },
    {
     "name": "stdout",
     "output_type": "stream",
     "text": [
      "[4.671220085583627e-05, 0.9999532699584961]\n"
     ]
    },
    {
     "data": {
      "text/html": [
       "<figcaption>./testimg/normal/20201109-101910_25YYa_0.jpg : Normal</figcaption>"
      ],
      "text/plain": [
       "<IPython.core.display.HTML object>"
      ]
     },
     "metadata": {},
     "output_type": "display_data"
    },
    {
     "name": "stdout",
     "output_type": "stream",
     "text": [
      "[0.000268103729467839, 0.9997318387031555]\n"
     ]
    },
    {
     "data": {
      "text/html": [
       "<figcaption>./testimg/normal/20201109-101808_29YNa_1.jpg : Normal</figcaption>"
      ],
      "text/plain": [
       "<IPython.core.display.HTML object>"
      ]
     },
     "metadata": {},
     "output_type": "display_data"
    },
    {
     "name": "stdout",
     "output_type": "stream",
     "text": [
      "[5.7545694289729e-05, 0.999942421913147]\n"
     ]
    },
    {
     "data": {
      "text/html": [
       "<figcaption>./testimg/normal/20201109-101630_17YYa_0.jpg : Normal</figcaption>"
      ],
      "text/plain": [
       "<IPython.core.display.HTML object>"
      ]
     },
     "metadata": {},
     "output_type": "display_data"
    },
    {
     "name": "stdout",
     "output_type": "stream",
     "text": [
      "[3.629132194760132e-08, 1.0]\n"
     ]
    },
    {
     "data": {
      "text/html": [
       "<figcaption>./testimg/normal/20201109-101602_22YNa_0.jpg : Normal</figcaption>"
      ],
      "text/plain": [
       "<IPython.core.display.HTML object>"
      ]
     },
     "metadata": {},
     "output_type": "display_data"
    },
    {
     "name": "stdout",
     "output_type": "stream",
     "text": [
      "[0.0035376755986362696, 0.9964622855186462]\n"
     ]
    },
    {
     "data": {
      "text/html": [
       "<figcaption>./testimg/normal/20201109-101935_28YNa_1.jpg : Normal</figcaption>"
      ],
      "text/plain": [
       "<IPython.core.display.HTML object>"
      ]
     },
     "metadata": {},
     "output_type": "display_data"
    },
    {
     "name": "stdout",
     "output_type": "stream",
     "text": [
      "[0.0017490624450147152, 0.9982509016990662]\n"
     ]
    },
    {
     "data": {
      "text/html": [
       "<figcaption>./testimg/normal/20201109-101923_20YYa_1.jpg : Normal</figcaption>"
      ],
      "text/plain": [
       "<IPython.core.display.HTML object>"
      ]
     },
     "metadata": {},
     "output_type": "display_data"
    },
    {
     "name": "stdout",
     "output_type": "stream",
     "text": [
      "[0.0017098987009376287, 0.9982901215553284]\n"
     ]
    },
    {
     "data": {
      "text/html": [
       "<figcaption>./testimg/normal/20201109-101757_17YNa_1.jpg : Normal</figcaption>"
      ],
      "text/plain": [
       "<IPython.core.display.HTML object>"
      ]
     },
     "metadata": {},
     "output_type": "display_data"
    },
    {
     "name": "stdout",
     "output_type": "stream",
     "text": [
      "[0.00080811174120754, 0.99919193983078]\n"
     ]
    },
    {
     "data": {
      "text/html": [
       "<figcaption>./testimg/normal/20201109-101731_14YYa_1.jpg : Normal</figcaption>"
      ],
      "text/plain": [
       "<IPython.core.display.HTML object>"
      ]
     },
     "metadata": {},
     "output_type": "display_data"
    },
    {
     "name": "stdout",
     "output_type": "stream",
     "text": [
      "[7.875190931372344e-06, 0.9999921321868896]\n"
     ]
    },
    {
     "data": {
      "text/html": [
       "<figcaption>./testimg/normal/20201109-101833_12YYa_0.jpg : Normal</figcaption>"
      ],
      "text/plain": [
       "<IPython.core.display.HTML object>"
      ]
     },
     "metadata": {},
     "output_type": "display_data"
    },
    {
     "name": "stdout",
     "output_type": "stream",
     "text": [
      "[0.012275073677301407, 0.9877249598503113]\n"
     ]
    },
    {
     "data": {
      "text/html": [
       "<figcaption>./testimg/normal/20201109-101923_03YYa_0.jpg : Normal</figcaption>"
      ],
      "text/plain": [
       "<IPython.core.display.HTML object>"
      ]
     },
     "metadata": {},
     "output_type": "display_data"
    },
    {
     "name": "stdout",
     "output_type": "stream",
     "text": [
      "[0.0025212562177330256, 0.9974787831306458]\n"
     ]
    },
    {
     "data": {
      "text/html": [
       "<figcaption>./testimg/normal/20201109-101910_24YYa_1.jpg : Normal</figcaption>"
      ],
      "text/plain": [
       "<IPython.core.display.HTML object>"
      ]
     },
     "metadata": {},
     "output_type": "display_data"
    },
    {
     "name": "stdout",
     "output_type": "stream",
     "text": [
      "[7.251457282109186e-05, 0.9999275207519531]\n"
     ]
    },
    {
     "data": {
      "text/html": [
       "<figcaption>./testimg/normal/20201109-101642_23YYa_0.jpg : Normal</figcaption>"
      ],
      "text/plain": [
       "<IPython.core.display.HTML object>"
      ]
     },
     "metadata": {},
     "output_type": "display_data"
    },
    {
     "name": "stdout",
     "output_type": "stream",
     "text": [
      "[8.913611964089796e-06, 0.9999910593032837]\n"
     ]
    },
    {
     "data": {
      "text/html": [
       "<figcaption>./testimg/normal/20201109-101630_16YYa_1.jpg : Normal</figcaption>"
      ],
      "text/plain": [
       "<IPython.core.display.HTML object>"
      ]
     },
     "metadata": {},
     "output_type": "display_data"
    },
    {
     "name": "stdout",
     "output_type": "stream",
     "text": [
      "[0.0002599660074338317, 0.9997400641441345]\n"
     ]
    },
    {
     "data": {
      "text/html": [
       "<figcaption>./testimg/normal/20201109-101910_02YNa_0.jpg : Normal</figcaption>"
      ],
      "text/plain": [
       "<IPython.core.display.HTML object>"
      ]
     },
     "metadata": {},
     "output_type": "display_data"
    },
    {
     "name": "stdout",
     "output_type": "stream",
     "text": [
      "[1.3614923773275223e-05, 0.9999864101409912]\n"
     ]
    },
    {
     "data": {
      "text/html": [
       "<figcaption>./testimg/normal/20201109-101602_21YNa_1.jpg : Normal</figcaption>"
      ],
      "text/plain": [
       "<IPython.core.display.HTML object>"
      ]
     },
     "metadata": {},
     "output_type": "display_data"
    },
    {
     "name": "stdout",
     "output_type": "stream",
     "text": [
      "[0.006450424902141094, 0.993549644947052]\n"
     ]
    },
    {
     "data": {
      "text/html": [
       "<figcaption>./testimg/normal/20201109-101535_22YYa_0.jpg : Normal</figcaption>"
      ],
      "text/plain": [
       "<IPython.core.display.HTML object>"
      ]
     },
     "metadata": {},
     "output_type": "display_data"
    },
    {
     "name": "stdout",
     "output_type": "stream",
     "text": [
      "[9.817690624913666e-06, 0.9999902248382568]\n"
     ]
    },
    {
     "data": {
      "text/html": [
       "<figcaption>./testimg/normal/20201109-101655_10YYa_0.jpg : Normal</figcaption>"
      ],
      "text/plain": [
       "<IPython.core.display.HTML object>"
      ]
     },
     "metadata": {},
     "output_type": "display_data"
    },
    {
     "name": "stdout",
     "output_type": "stream",
     "text": [
      "[0.0004573143960442394, 0.9995427131652832]\n"
     ]
    },
    {
     "data": {
      "text/html": [
       "<figcaption>./testimg/normal/20201109-101857_07YNa_1.jpg : Normal</figcaption>"
      ],
      "text/plain": [
       "<IPython.core.display.HTML object>"
      ]
     },
     "metadata": {},
     "output_type": "display_data"
    },
    {
     "name": "stdout",
     "output_type": "stream",
     "text": [
      "[0.009947692044079304, 0.9900522828102112]\n"
     ]
    },
    {
     "data": {
      "text/html": [
       "<figcaption>./testimg/normal/20201109-101706_21YYa_1.jpg : Normal</figcaption>"
      ],
      "text/plain": [
       "<IPython.core.display.HTML object>"
      ]
     },
     "metadata": {},
     "output_type": "display_data"
    },
    {
     "name": "stdout",
     "output_type": "stream",
     "text": [
      "[0.0005174475372768939, 0.9994825124740601]\n"
     ]
    },
    {
     "data": {
      "text/html": [
       "<figcaption>./testimg/normal/20201109-101923_11YYa_1.jpg : Normal</figcaption>"
      ],
      "text/plain": [
       "<IPython.core.display.HTML object>"
      ]
     },
     "metadata": {},
     "output_type": "display_data"
    },
    {
     "name": "stdout",
     "output_type": "stream",
     "text": [
      "[0.0014388470444828272, 0.9985612034797668]\n"
     ]
    },
    {
     "data": {
      "text/html": [
       "<figcaption>./testimg/normal/20201109-101833_20YYa_1.jpg : Normal</figcaption>"
      ],
      "text/plain": [
       "<IPython.core.display.HTML object>"
      ]
     },
     "metadata": {},
     "output_type": "display_data"
    },
    {
     "name": "stdout",
     "output_type": "stream",
     "text": [
      "[0.0019954342860728502, 0.9980046153068542]\n"
     ]
    },
    {
     "data": {
      "text/html": [
       "<figcaption>./testimg/normal/20201109-101935_19YNa_1.jpg : Normal</figcaption>"
      ],
      "text/plain": [
       "<IPython.core.display.HTML object>"
      ]
     },
     "metadata": {},
     "output_type": "display_data"
    },
    {
     "name": "stdout",
     "output_type": "stream",
     "text": [
      "[7.949443534016609e-05, 0.9999204874038696]\n"
     ]
    },
    {
     "data": {
      "text/html": [
       "<figcaption>./testimg/normal/20201109-101630_08YYa_0.jpg : Normal</figcaption>"
      ],
      "text/plain": [
       "<IPython.core.display.HTML object>"
      ]
     },
     "metadata": {},
     "output_type": "display_data"
    },
    {
     "name": "stdout",
     "output_type": "stream",
     "text": [
      "[0.01382872462272644, 0.986171305179596]\n"
     ]
    },
    {
     "data": {
      "text/html": [
       "<figcaption>./testimg/normal/20201109-101706_03YYa_1.jpg : Normal</figcaption>"
      ],
      "text/plain": [
       "<IPython.core.display.HTML object>"
      ]
     },
     "metadata": {},
     "output_type": "display_data"
    },
    {
     "name": "stdout",
     "output_type": "stream",
     "text": [
      "[5.657696965499781e-05, 0.9999433755874634]\n"
     ]
    },
    {
     "data": {
      "text/html": [
       "<figcaption>./testimg/normal/20201109-101910_20YNa_0.jpg : Normal</figcaption>"
      ],
      "text/plain": [
       "<IPython.core.display.HTML object>"
      ]
     },
     "metadata": {},
     "output_type": "display_data"
    },
    {
     "name": "stdout",
     "output_type": "stream",
     "text": [
      "[0.005419052671641111, 0.9945809245109558]\n"
     ]
    },
    {
     "data": {
      "text/html": [
       "<figcaption>./testimg/normal/20201109-101947_08YNa_0.jpg : Normal</figcaption>"
      ],
      "text/plain": [
       "<IPython.core.display.HTML object>"
      ]
     },
     "metadata": {},
     "output_type": "display_data"
    },
    {
     "name": "stdout",
     "output_type": "stream",
     "text": [
      "[4.071918738191016e-05, 0.9999592304229736]\n"
     ]
    },
    {
     "data": {
      "text/html": [
       "<figcaption>./testimg/normal/20201109-101731_10YNa_0.jpg : Normal</figcaption>"
      ],
      "text/plain": [
       "<IPython.core.display.HTML object>"
      ]
     },
     "metadata": {},
     "output_type": "display_data"
    },
    {
     "name": "stdout",
     "output_type": "stream",
     "text": [
      "[4.459521369426511e-05, 0.999955415725708]\n"
     ]
    },
    {
     "data": {
      "text/html": [
       "<figcaption>./testimg/normal/20201109-101821_01YNa_0.jpg : Normal</figcaption>"
      ],
      "text/plain": [
       "<IPython.core.display.HTML object>"
      ]
     },
     "metadata": {},
     "output_type": "display_data"
    },
    {
     "name": "stdout",
     "output_type": "stream",
     "text": [
      "[0.000876299396622926, 0.999123752117157]\n"
     ]
    },
    {
     "data": {
      "text/html": [
       "<figcaption>./testimg/normal/20201109-101616_04YYa_0.jpg : Normal</figcaption>"
      ],
      "text/plain": [
       "<IPython.core.display.HTML object>"
      ]
     },
     "metadata": {},
     "output_type": "display_data"
    },
    {
     "name": "stdout",
     "output_type": "stream",
     "text": [
      "[0.004203142132610083, 0.9957969188690186]\n"
     ]
    },
    {
     "data": {
      "text/html": [
       "<figcaption>./testimg/normal/20201109-101602_03YNa_1.jpg : Normal</figcaption>"
      ],
      "text/plain": [
       "<IPython.core.display.HTML object>"
      ]
     },
     "metadata": {},
     "output_type": "display_data"
    },
    {
     "name": "stdout",
     "output_type": "stream",
     "text": [
      "[0.0004460068012122065, 0.9995539784431458]\n"
     ]
    },
    {
     "data": {
      "text/html": [
       "<figcaption>./testimg/normal/20201109-101642_05YYa_0.jpg : Normal</figcaption>"
      ],
      "text/plain": [
       "<IPython.core.display.HTML object>"
      ]
     },
     "metadata": {},
     "output_type": "display_data"
    },
    {
     "name": "stdout",
     "output_type": "stream",
     "text": [
      "[0.0013062858488410711, 0.9986937642097473]\n"
     ]
    },
    {
     "data": {
      "text/html": [
       "<figcaption>./testimg/normal/20201109-101716_02YYa_1.jpg : Normal</figcaption>"
      ],
      "text/plain": [
       "<IPython.core.display.HTML object>"
      ]
     },
     "metadata": {},
     "output_type": "display_data"
    },
    {
     "name": "stdout",
     "output_type": "stream",
     "text": [
      "[0.0004094919713679701, 0.9995905756950378]\n"
     ]
    },
    {
     "data": {
      "text/html": [
       "<figcaption>./testimg/normal/20201109-101602_09YYa_0.jpg : Normal</figcaption>"
      ],
      "text/plain": [
       "<IPython.core.display.HTML object>"
      ]
     },
     "metadata": {},
     "output_type": "display_data"
    },
    {
     "name": "stdout",
     "output_type": "stream",
     "text": [
      "[0.00179022247903049, 0.9982098340988159]\n"
     ]
    },
    {
     "data": {
      "text/html": [
       "<figcaption>./testimg/normal/20201109-101821_15YYa_0.jpg : Normal</figcaption>"
      ],
      "text/plain": [
       "<IPython.core.display.HTML object>"
      ]
     },
     "metadata": {},
     "output_type": "display_data"
    },
    {
     "name": "stdout",
     "output_type": "stream",
     "text": [
      "[1.3362979188968893e-05, 0.9999866485595703]\n"
     ]
    },
    {
     "data": {
      "text/html": [
       "<figcaption>./testimg/normal/20201109-101731_24YYa_0.jpg : Normal</figcaption>"
      ],
      "text/plain": [
       "<IPython.core.display.HTML object>"
      ]
     },
     "metadata": {},
     "output_type": "display_data"
    },
    {
     "name": "stdout",
     "output_type": "stream",
     "text": [
      "[0.00016623552073724568, 0.9998337030410767]\n"
     ]
    },
    {
     "data": {
      "text/html": [
       "<figcaption>./testimg/normal/20201109-101630_20YNa_1.jpg : Normal</figcaption>"
      ],
      "text/plain": [
       "<IPython.core.display.HTML object>"
      ]
     },
     "metadata": {},
     "output_type": "display_data"
    },
    {
     "name": "stdout",
     "output_type": "stream",
     "text": [
      "[6.0568465414689854e-05, 0.9999394416809082]\n"
     ]
    },
    {
     "data": {
      "text/html": [
       "<figcaption>./testimg/normal/20201109-101910_06YYa_1.jpg : Normal</figcaption>"
      ],
      "text/plain": [
       "<IPython.core.display.HTML object>"
      ]
     },
     "metadata": {},
     "output_type": "display_data"
    }
   ],
   "source": [
    "import json\n",
    "\n",
    "def query_endpoint(img):\n",
    "    client = boto3.client('runtime.sagemaker')\n",
    "    response = client.invoke_endpoint(EndpointName=endpoint_name, ContentType='application/x-image', Body=img)\n",
    "#    model_predictions = json.loads(response['Body'].read())['predictions'][0]\n",
    "    model_predictions = json.loads(response['Body'].read())\n",
    "    print(model_predictions)\n",
    "    return model_predictions\n",
    "\n",
    "for filename, img in images.items():\n",
    "    model_predictions = query_endpoint(img)  \n",
    "    top5_prediction_ids = sorted(range(len(model_predictions)), key=lambda index: model_predictions[index], reverse=True)[:5]\n",
    "    top5_class_labels = \", \".join([class_id_to_label[id] for id in top5_prediction_ids])\n",
    "    display(HTML(#f'<img src={filename} alt={filename} align=\"left\" style=\"width: 250px;\"/>' \n",
    "                 f'<figcaption>{filename} : {class_id_to_label[top5_prediction_ids[0]]}</figcaption>'))"
   ]
  },
  {
   "cell_type": "markdown",
   "metadata": {},
   "source": [
    "### Clean up\n",
    "\n",
    "When we're done with the endpoint, we can just delete it and the backing instances will be released.  Run the following cell to delete the endpoint."
   ]
  },
  {
   "cell_type": "code",
   "execution_count": 94,
   "metadata": {},
   "outputs": [
    {
     "data": {
      "text/plain": [
       "{'ResponseMetadata': {'RequestId': '470880f8-9401-439e-a124-ccd96e1a6e3a',\n",
       "  'HTTPStatusCode': 200,\n",
       "  'HTTPHeaders': {'x-amzn-requestid': '470880f8-9401-439e-a124-ccd96e1a6e3a',\n",
       "   'content-type': 'application/x-amz-json-1.1',\n",
       "   'content-length': '0',\n",
       "   'date': 'Thu, 22 Jul 2021 06:58:01 GMT'},\n",
       "  'RetryAttempts': 0}}"
      ]
     },
     "execution_count": 94,
     "metadata": {},
     "output_type": "execute_result"
    }
   ],
   "source": [
    "sage.delete_endpoint(EndpointName=endpoint_name)"
   ]
  },
  {
   "cell_type": "code",
   "execution_count": null,
   "metadata": {},
   "outputs": [],
   "source": []
  }
 ],
 "metadata": {
  "instance_type": "ml.t3.medium",
  "kernelspec": {
   "display_name": "Python 3 (Data Science)",
   "language": "python",
   "name": "python3__SAGEMAKER_INTERNAL__arn:aws:sagemaker:ap-northeast-1:102112518831:image/datascience-1.0"
  },
  "language_info": {
   "codemirror_mode": {
    "name": "ipython",
    "version": 3
   },
   "file_extension": ".py",
   "mimetype": "text/x-python",
   "name": "python",
   "nbconvert_exporter": "python",
   "pygments_lexer": "ipython3",
   "version": "3.7.10"
  }
 },
 "nbformat": 4,
 "nbformat_minor": 4
}
